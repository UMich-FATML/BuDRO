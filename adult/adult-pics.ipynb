{
 "cells": [
  {
   "cell_type": "code",
   "execution_count": 1,
   "metadata": {},
   "outputs": [],
   "source": [
    "import numpy as np\n",
    "import tensorflow as tf"
   ]
  },
  {
   "cell_type": "code",
   "execution_count": 2,
   "metadata": {},
   "outputs": [],
   "source": [
    "import os\n",
    "from os import listdir\n",
    "from os.path import isfile, join\n",
    "import sys\n",
    "from itertools import product"
   ]
  },
  {
   "cell_type": "code",
   "execution_count": 3,
   "metadata": {},
   "outputs": [],
   "source": [
    "from tensorflow.python.summary.summary_iterator import summary_iterator"
   ]
  },
  {
   "cell_type": "markdown",
   "metadata": {},
   "source": [
    "# Adult Figures\n",
    "\n",
    "In this notebook, we generate the Figures for the adult data set that are found in the appendix.  \n",
    "This involves using data from the baseline boosting methods as well as the BuDRO tensorboard data.\n",
    "\n",
    "These data files are not included with this code.  Please contact the authors if you would like access to these data."
   ]
  },
  {
   "cell_type": "code",
   "execution_count": 294,
   "metadata": {},
   "outputs": [],
   "source": [
    "cpath = 'PATH_TO_BUDRO_RESULTS'\n",
    "\n",
    "bpath = 'PATH_TO_BASELINE RESULTS'\n",
    "bspath = 'PATH_TO_BASELINE_STDDEVS'"
   ]
  },
  {
   "cell_type": "code",
   "execution_count": 6,
   "metadata": {},
   "outputs": [],
   "source": [
    "path = cpath"
   ]
  },
  {
   "cell_type": "code",
   "execution_count": 7,
   "metadata": {},
   "outputs": [],
   "source": [
    "# saving keyList in the order that I made it (for reproducibility)\n",
    "keyList = ['step',\n",
    " 'train balanced',\n",
    " 'inner training loss',\n",
    " 'test balanced',\n",
    " 'p0',\n",
    " 'p1',\n",
    " 'spouse cons',\n",
    " 'gr cons',\n",
    " 'sex-TPR-prot',\n",
    " 'sex-TNR-prot',\n",
    " 'sex-TPR-priv',\n",
    " 'sex-TNR-priv',\n",
    " 'sex-gap-RMS',\n",
    " 'sex-gap-MAX',\n",
    " 'sex-ave-odds-diff',\n",
    " 'sex-eq-opp-diff',\n",
    " 'sex-stat-parity',\n",
    " 'race-TPR-prot',\n",
    " 'race-TNR-prot',\n",
    " 'race-TPR-priv',\n",
    " 'race-TNR-priv',\n",
    " 'race-gap-RMS',\n",
    " 'race-gap-MAX',\n",
    " 'race-ave-odds-diff',\n",
    " 'race-eq-opp-diff',\n",
    " 'race-stat-parity',\n",
    " 'slack']\n",
    "\n",
    "numCols = len(keyList)\n",
    "\n",
    "# Indices of values that we will want to save in our optimial grid\n",
    "balind = keyList.index('test balanced')\n",
    "sconsi = keyList.index('spouse cons')\n",
    "grconsi = keyList.index('gr cons')\n",
    "grmsi = keyList.index('sex-gap-RMS')\n",
    "gmaxi = keyList.index('sex-gap-MAX')\n",
    "rrmsi = keyList.index('race-gap-RMS')\n",
    "rmaxi = keyList.index('race-gap-MAX')"
   ]
  },
  {
   "cell_type": "code",
   "execution_count": 62,
   "metadata": {},
   "outputs": [],
   "source": [
    "basenames = [\n",
    "    'max_depth',\n",
    "    'eta',\n",
    "    'min_child_weight',\n",
    "    'lambda',\n",
    "    'iter',\n",
    "    'acc',\n",
    "    'bl_acc',\n",
    "    'grcons',\n",
    "    'scons',\n",
    "    'RMS(G)',\n",
    "    'MAX(G)',\n",
    "    'AOD(G)',\n",
    "    'EOD(G)',\n",
    "    'SPD(G)',\n",
    "    'RMS(R)',\n",
    "    'MAX(R)',\n",
    "    'AOD(R)',\n",
    "    'EOD(R)',\n",
    "    'SPD(R)'\n",
    "]\n",
    "\n",
    "# Indices of values that we will want to save in our optimial grid\n",
    "fbalind = basenames.index('bl_acc')\n",
    "fsconsi = basenames.index('scons')\n",
    "fgrconsi = basenames.index('grcons')\n",
    "fgrmsi = basenames.index('RMS(G)')\n",
    "fgmaxi = basenames.index('MAX(G)')\n",
    "frrmsi = basenames.index('RMS(R)')\n",
    "frmaxi = basenames.index('MAX(R)')"
   ]
  },
  {
   "cell_type": "markdown",
   "metadata": {},
   "source": [
    "Create bins and related functions for processing the  BuDRO data"
   ]
  },
  {
   "cell_type": "code",
   "execution_count": null,
   "metadata": {},
   "outputs": [],
   "source": [
    "# Parameters for our graphs\n",
    "lowacc = .76\n",
    "highacc = .84\n",
    "numbins = 50\n",
    "binsize = (highacc-lowacc)/numbins\n",
    "bins = np.arange(start=lowacc, stop=highacc, step=binsize)\n",
    "bindepths = np.zeros(bins.shape[0])"
   ]
  },
  {
   "cell_type": "code",
   "execution_count": 11,
   "metadata": {},
   "outputs": [],
   "source": [
    "binned_params = []\n",
    "binned_values = []\n",
    "\n",
    "for mybin in bins:\n",
    "    binned_params.append([])\n",
    "    binned_values.append([])"
   ]
  },
  {
   "cell_type": "code",
   "execution_count": 12,
   "metadata": {},
   "outputs": [],
   "source": [
    "binned_stds = []\n",
    "\n",
    "for mybin in bins:\n",
    "    binned_stds.append([])"
   ]
  },
  {
   "cell_type": "code",
   "execution_count": 13,
   "metadata": {},
   "outputs": [],
   "source": [
    "# Save lowest and higest values to get an idea of the graph parameters are correct\n",
    "minacc = 0\n",
    "maxacc = 1\n",
    "minaccparms = []\n",
    "maxaccparms = []"
   ]
  },
  {
   "cell_type": "code",
   "execution_count": 14,
   "metadata": {},
   "outputs": [],
   "source": [
    "# optimal values that we will save in the bins\n",
    "# scons, grcons, grms, gmax, rrms, rmax, averms\n",
    "# want the first two colums to be as large as possible; the next two to be small\n",
    "ops = np.hstack((np.zeros((numbins,2)), np.ones((numbins,5))))\n",
    "opsacc = np.zeros((numbins,7))\n",
    "params = np.zeros((numbins, 7), dtype=object)"
   ]
  },
  {
   "cell_type": "code",
   "execution_count": 315,
   "metadata": {},
   "outputs": [],
   "source": [
    "# add a condition to the points that we test\n",
    "conds = [\n",
    "    ['spouse cons', '>', 0.93],\n",
    "]"
   ]
  },
  {
   "cell_type": "code",
   "execution_count": 15,
   "metadata": {},
   "outputs": [],
   "source": [
    "conds = []"
   ]
  },
  {
   "cell_type": "code",
   "execution_count": 16,
   "metadata": {},
   "outputs": [],
   "source": [
    "def testConds(row, conds, keyList=keyList):\n",
    "    success = True\n",
    "    for cond in conds:\n",
    "        ind = int(keyList.index(cond[0]))\n",
    "        \n",
    "        if cond[1] is '>':\n",
    "            success = success and row[ind] > cond[2]\n",
    "            \n",
    "        if cond[1] is '>=':\n",
    "            success = success and row[ind] >= cond[2]\n",
    "            \n",
    "        if cond[1] is '<':\n",
    "            success = success and row[ind] < cond[2]\n",
    "            \n",
    "        if cond[1] is '<=':\n",
    "            success = success and row[ind] <= cond[2]\n",
    "            \n",
    "    return success\n",
    "    "
   ]
  },
  {
   "cell_type": "code",
   "execution_count": 17,
   "metadata": {},
   "outputs": [],
   "source": [
    "# Find the bin that a certain accuracy belongs to \n",
    "# return -1 if too high and -2 if too low\n",
    "def whichBin(acc, bins, binsize):\n",
    "    possBins = np.where(bins + binsize>= acc)[0]\n",
    "    if possBins.shape[0] == 0:\n",
    "        return -1\n",
    "\n",
    "    returnBin = possBins.min()\n",
    "    if returnBin == 0:\n",
    "        if acc < bins[0]:\n",
    "            return -2\n",
    "\n",
    "    return returnBin"
   ]
  },
  {
   "cell_type": "code",
   "execution_count": 18,
   "metadata": {},
   "outputs": [],
   "source": [
    "# sgd parameters\n",
    "sd_init_grid = [0.1]\n",
    "epoch_grid = [200]\n",
    "momentum_grid = [0.9]\n",
    "lr_grid = [0.001, 0.0001]\n",
    "\n",
    "# xgboost parameters\n",
    "lambda_grid = [0.000001, 0.0001, 0.01]\n",
    "depth_grid = [6,8,10,12,14]\n",
    "eta_grid = [0.005, 0.001]\n",
    "weight_grid = [0.1, 1.] # store as fraction of default weight\n",
    "pos_grid = [0.0] # store as offset\n",
    "n_iter = 200\n",
    "\n",
    "\n",
    "# individual fairness parameters\n",
    "eps_grid = [0.1, 0.2, 0.3, 0.4, 0.6, 0.8, 1.0, 1.2, 1.4]\n",
    "gamma_grid = [0.00005]"
   ]
  },
  {
   "cell_type": "code",
   "execution_count": 20,
   "metadata": {},
   "outputs": [],
   "source": [
    "# TEST PARAMETERS\n",
    "# sgd parameters\n",
    "sd_init_grid = [0.1]\n",
    "epoch_grid = [200]\n",
    "momentum_grid = [0.9]\n",
    "lr_grid = [0.001]\n",
    "\n",
    "# xgboost parameters\n",
    "lambda_grid = [0.000001]\n",
    "depth_grid = [12]\n",
    "eta_grid = [0.001]\n",
    "weight_grid = [1.] # store as fraction of default weight\n",
    "pos_grid = [0.0] # store as offset\n",
    "n_iter = 200\n",
    "\n",
    "\n",
    "# individual fairness parameters\n",
    "eps_grid = [1.4]\n",
    "gamma_grid = [0.00005]"
   ]
  },
  {
   "cell_type": "code",
   "execution_count": 19,
   "metadata": {},
   "outputs": [],
   "source": [
    "use_dual = True\n",
    "use_sgd = True\n",
    "save_data = True"
   ]
  },
  {
   "cell_type": "code",
   "execution_count": 20,
   "metadata": {},
   "outputs": [],
   "source": [
    "hypers = [eps_grid, depth_grid, eta_grid, weight_grid, lambda_grid, pos_grid]\n",
    "names = ['eps', 'depth', 'eta', 'weight', 'lamb', 'pos']\n",
    "\n",
    "hypers += [sd_init_grid, epoch_grid, momentum_grid, lr_grid]\n",
    "names += ['init', 'epoch', 'momentum', 'lr']\n",
    "\n",
    "#names += ['seed']"
   ]
  },
  {
   "cell_type": "code",
   "execution_count": 21,
   "metadata": {},
   "outputs": [],
   "source": [
    "seeds = np.load('PATH_TO_SEEDS/adult_seeds.npz')['seeds']"
   ]
  },
  {
   "cell_type": "code",
   "execution_count": 22,
   "metadata": {},
   "outputs": [
    {
     "data": {
      "text/plain": [
       "27"
      ]
     },
     "execution_count": 22,
     "metadata": {},
     "output_type": "execute_result"
    }
   ],
   "source": [
    "len(keyList)"
   ]
  },
  {
   "cell_type": "markdown",
   "metadata": {},
   "source": [
    "Load all of the data from the tensorboard files, process it, and possibly save it (depending on the `save_data` variable). \n",
    "\n",
    "We save the averages or the standard deviations (not both).  I ran this twice, because I wasn't originally thinking about the standard deviations.  You may want to tweak it to save both.\n",
    "\n",
    "This takes about 40 minutes to process all the data from the ~10000 trials that are arranged in `submit.py`"
   ]
  },
  {
   "cell_type": "code",
   "execution_count": null,
   "metadata": {},
   "outputs": [],
   "source": [
    "#%%time\n",
    "num_files_processed = 0\n",
    "numRows = 200\n",
    "numCols = 27\n",
    "\n",
    "tseeds = seeds\n",
    "nseeds = len(tseeds)\n",
    "\n",
    "# OUTER LOOP: over hyperparameter selections\n",
    "for pack in product(*hypers):\n",
    "    values = list(pack)\n",
    "    #values.append(seed)\n",
    "    \n",
    "    currAves = np.zeros((nseeds, numRows, numCols))\n",
    "    \n",
    "    # INNER LOOP: over seeds to collect the averages\n",
    "    for iseed, seed in enumerate(tseeds):\n",
    "        \n",
    "        ## SET UP VARIABLES\n",
    "        if use_dual:\n",
    "            (\n",
    "                eps,\n",
    "                max_depth,\n",
    "                eta,\n",
    "                min_child_weight,\n",
    "                lambda_reg,\n",
    "                scale_pos_weight\n",
    "            ) = pack[:6]\n",
    "\n",
    "        else:\n",
    "            (\n",
    "                eps,\n",
    "                max_depth,\n",
    "                eta,\n",
    "                min_child_weight,\n",
    "                lambda_reg,\n",
    "                scale_pos_weight,\n",
    "                gamma_reg\n",
    "            ) = pack[:7]\n",
    "\n",
    "        if use_sgd:\n",
    "            (\n",
    "                init,\n",
    "                epoch,\n",
    "                momentum,\n",
    "                lr\n",
    "            ) = pack[-4:]\n",
    "\n",
    "        # GET DIRECTORY AND LIST OF FILEs\n",
    "        exp_descriptor = []\n",
    "        for n, v in zip(names, values):\n",
    "            exp_descriptor.append(':'.join([n,str(v)]))\n",
    "\n",
    "        exp_name = path + '_'.join(exp_descriptor) + '_result:%d/' % seed\n",
    "        print(exp_name)\n",
    "        onlyfiles = [f for f in listdir(exp_name) if isfile(join(exp_name, f))]\n",
    "        \n",
    "        # GET THE DATA FROM THE FILE\n",
    "        currStep = -1\n",
    "        currData = dict()\n",
    "        currData['step'] = np.array([])\n",
    "        for summary in summary_iterator(path=exp_name  + onlyfiles[0]):\n",
    "            if summary.step < 0: print(\"Uh oh this is not working\")\n",
    "            if summary.step < currStep: print(\"Uh oh not in order\")\n",
    "            elif summary.step > currStep: \n",
    "                currStep = summary.step\n",
    "                currData['step'] = np.hstack((currData['step'], np.array([currStep])))\n",
    "            \n",
    "\n",
    "            for v in summary.summary.value:       \n",
    "                if v.tag not in currData:\n",
    "                    currData[v.tag] = tf.make_ndarray(v.tensor)\n",
    "                else:\n",
    "                    currData[v.tag] = np.hstack((currData[v.tag], tf.make_ndarray(v.tensor)))\n",
    "        \n",
    "        num_files_processed += 1\n",
    "                    \n",
    "        ### GET THE RESULTS IN AN NP.ARRAY\n",
    "        saveRes = np.zeros((currData['step'].shape[0], numCols))      \n",
    "        saveRes[:,0] = currData['step']\n",
    "        \n",
    "        if saveRes.shape[0] != numRows:\n",
    "            print(\"ERROR: Incorrect number of steps in data file\")\n",
    "            print(\"Number of steps in data: {}\".format(saveRes.shape[0]))\n",
    "        \n",
    "        if keyList.index('step') != 0:\n",
    "            print(\"Your processing pipeline is messed up right now\")\n",
    "        for ikey, ckey in enumerate(keyList):\n",
    "            saveRes[:, ikey] = currData[ckey]\n",
    "        \n",
    "        currAves[iseed] = np.copy(saveRes)\n",
    "    \n",
    "    ## MAKE IT AN AVERAGE\n",
    "    aves = currAves.mean(axis=0)\n",
    "    devs = np.std(currAves, axis=0)\n",
    "    grmss = currAves[:,:,grmsi]\n",
    "    rrmss = currAves[:,:,rrmsi]\n",
    "    mrms = (grmss+rrmss)/2\n",
    "    avedev = np.std(mrms, axis=0)\n",
    "    fulldevs = np.zeros((numRows, numCols+1))\n",
    "    fulldevs[:,:-1] = devs\n",
    "    fulldevs[:,-1] = avedev\n",
    "    \n",
    "    # SAVE \n",
    "    if save_data:\n",
    "        savepath = path + 'txt/devs-' + '_'.join(exp_descriptor)\n",
    "        savepath += '.dat'\n",
    "        \n",
    "        np.savetxt(savepath, fulldevs, delimiter='\\t')\n",
    "\n",
    "\n",
    "    ## UPDATE OPTIMAL VALUES FROM THIS SET OF HYPERPARAMETERS USING THE AVERAGES OVER THE SEEDS\n",
    "    for irow, row in enumerate(aves):\n",
    "        if not testConds(row, conds): continue\n",
    "        acc = row[balind]\n",
    "        aggrow = whichBin(acc, bins, binsize)\n",
    "        if aggrow < 0:\n",
    "            if acc < minacc:\n",
    "                minacc = acc\n",
    "                minaccparms.append(exp_descriptor)\n",
    "            if acc > maxacc:\n",
    "                maxacc = acc\n",
    "                maxaccparms.append(exp_descriptor)\n",
    "\n",
    "        else: # aggrow >= 0:\n",
    "            bindepths[aggrow] += 1\n",
    "            comp = ops[aggrow]\n",
    "\n",
    "            binned_params[aggrow].append(np.array(values + [row[0]]))\n",
    "            binned_values[aggrow].append(np.array([\n",
    "                row[balind],\n",
    "                row[sconsi], \n",
    "                row[grconsi],\n",
    "                row[grmsi],\n",
    "                row[gmaxi],\n",
    "                row[rrmsi],\n",
    "                row[rmaxi],\n",
    "                (row[rrmsi] + row[grmsi])/2\n",
    "            ]))\n",
    "            binned_stds[aggrow].append(np.array([\n",
    "                devs[irow][balind],\n",
    "                devs[irow][sconsi], \n",
    "                devs[irow][grconsi],\n",
    "                devs[irow][grmsi],\n",
    "                devs[irow][gmaxi],\n",
    "                devs[irow][rrmsi],\n",
    "                devs[irow][rmaxi],\n",
    "                fulldevs[irow][-1]  # calculate the deviation of the mean separately\n",
    "            ]))\n",
    "\n",
    "#             #scons, grcons, grms, gmax, rrms, rmax\n",
    "#             if comp[0] < row[sconsi]:\n",
    "#                 ops[aggrow, 0] = row[sconsi]\n",
    "#                 opsacc[aggrow, 0] = acc\n",
    "#                 params[aggrow, 0] = exp_descriptor\n",
    "\n",
    "#             if comp[1] < row[grconsi]:\n",
    "#                 ops[aggrow, 1] = row[grconsi]\n",
    "#                 opsacc[aggrow, 1] = acc\n",
    "#                 params[aggrow, 1] = exp_descriptor\n",
    "\n",
    "#             if comp[2] > row[grmsi]:\n",
    "#                 ops[aggrow, 2] = row[grmsi]\n",
    "#                 opsacc[aggrow, 2] = acc\n",
    "#                 params[aggrow, 2] = exp_descriptor\n",
    "\n",
    "#             if comp[3] > row[gmaxi]:\n",
    "#                 ops[aggrow, 3] = row[gmaxi]\n",
    "#                 opsacc[aggrow, 3] = acc\n",
    "#                 params[aggrow, 3] = exp_descriptor\n",
    "\n",
    "#             if comp[4] > row[rrmsi]:\n",
    "#                 ops[aggrow, 4] = row[rrmsi]\n",
    "#                 opsacc[aggrow, 4] = acc\n",
    "#                 params[aggrow, 4] = exp_descriptor\n",
    "\n",
    "#             if comp[5] > row[rmaxi]:\n",
    "#                 ops[aggrow, 5] = row[rmaxi]\n",
    "#                 opsacc[aggrow, 5] = acc\n",
    "#                 params[aggrow, 5] = exp_descriptor\n",
    "\n",
    "#             if comp[6] > (row[rrmsi] + row[grmsi])/2:\n",
    "#                 ops[aggrow, 6] = (row[rrmsi] + row[grmsi])/2\n",
    "#                 opsacc[aggrow, 6] = acc\n",
    "#                 params[aggrow, 6] = exp_descriptor"
   ]
  },
  {
   "cell_type": "code",
   "execution_count": 25,
   "metadata": {},
   "outputs": [
    {
     "data": {
      "text/plain": [
       "10800"
      ]
     },
     "execution_count": 25,
     "metadata": {},
     "output_type": "execute_result"
    }
   ],
   "source": [
    "num_files_processed"
   ]
  },
  {
   "cell_type": "markdown",
   "metadata": {},
   "source": [
    "### Script to work with the saved data\n",
    "\n",
    "\n",
    "Load the saved averages or standard deviations without needing to process all of the tensorboard data.  This runs a lot faster, but you need to tweak it to get what you want out of it.\n"
   ]
  },
  {
   "cell_type": "code",
   "execution_count": null,
   "metadata": {},
   "outputs": [],
   "source": [
    "#%%time\n",
    "num_files_processed = 0\n",
    "looked_at = 0\n",
    "not_looked_at = 0\n",
    "stupid = 0\n",
    "exit = False\n",
    "numRows = 200\n",
    "numCols = 27\n",
    "\n",
    "tseeds = seeds\n",
    "nseeds = len(tseeds)\n",
    "\n",
    "dayta2 = []\n",
    "#stddat = []\n",
    "\n",
    "# OUTER LOOP: over hyperparameter selections\n",
    "for pack in product(*hypers):\n",
    "    values = list(pack)\n",
    "    #values.append(seed)\n",
    "    \n",
    "    # INNER LOOP: over seeds to collect the averages\n",
    "    #for seed in tseeds:\n",
    "        \n",
    "    ## SET UP VARIABLES\n",
    "    if use_dual:\n",
    "        (\n",
    "            eps,\n",
    "            max_depth,\n",
    "            eta,\n",
    "            min_child_weight,\n",
    "            lambda_reg,\n",
    "            scale_pos_weight\n",
    "        ) = pack[:6]\n",
    "\n",
    "    else:\n",
    "        (\n",
    "            eps,\n",
    "            max_depth,\n",
    "            eta,\n",
    "            min_child_weight,\n",
    "            lambda_reg,\n",
    "            scale_pos_weight,\n",
    "            gamma_reg\n",
    "        ) = pack[:7]\n",
    "\n",
    "    if use_sgd:\n",
    "        (\n",
    "            init,\n",
    "            epoch,\n",
    "            momentum,\n",
    "            lr\n",
    "        ) = pack[-4:]\n",
    "\n",
    "    # GET DIRECTORY AND LIST OF FILEs\n",
    "    exp_descriptor = []\n",
    "    for n, v in zip(names, values):\n",
    "        exp_descriptor.append(':'.join([n,str(v)]))\n",
    "\n",
    "    #exp_name = path + '_'.join(exp_descriptor) + '_result:%d/' % seed\n",
    "    #print(exp_name)\n",
    "    #onlyfiles = [f for f in listdir(exp_name) if isfile(join(exp_name, f))]\n",
    "\n",
    "    # right now: get binned standard deviations\n",
    "    savepath = path + 'txt/devs-' + '_'.join(exp_descriptor)\n",
    "    savepath += '.dat'\n",
    "    print(savepath)\n",
    "    \n",
    "    currAves = load_data_from_params(exp_descriptor, filepath = path + 'txt/aves-')\n",
    "    currDevs = load_data_from_params(exp_descriptor, filepath = path + 'txt/devs-')\n",
    "    num_files_processed += 1\n",
    "    \n",
    "    if currDevs.shape != (200,27): \n",
    "        print(\"SUM TING WONG\")\n",
    "        break\n",
    "    \n",
    "    #dayta2.append(currAves)\n",
    "    \n",
    "    if exit: break\n",
    "    \n",
    "    for irow, row in enumerate(currDevs):\n",
    "        #if currAves[irow][sconsi] > 0.93: looked_at += 1\n",
    "        if not testConds(currAves[irow], conds): \n",
    "            stupid += 1\n",
    "            continue\n",
    "        #looked_at += 1\n",
    "        acc = currAves[irow][balind]\n",
    "        if acc < 0.76: not_looked_at += 1\n",
    "        aggrow = whichBin(acc, bins, binsize)\n",
    "        if aggrow < 0:\n",
    "            not_looked_at += 0\n",
    "        else:\n",
    "            looked_at += 1\n",
    "#             binned_stds[aggrow].append(np.array([\n",
    "#                 row[balind],\n",
    "#                 row[sconsi], \n",
    "#                 row[grconsi],\n",
    "#                 row[grmsi],\n",
    "#                 row[gmaxi],\n",
    "#                 row[rrmsi],\n",
    "#                 row[rmaxi],\n",
    "#                 (row[rrmsi] + row[grmsi])/2\n",
    "#             ]))\n"
   ]
  },
  {
   "cell_type": "code",
   "execution_count": 325,
   "metadata": {},
   "outputs": [
    {
     "data": {
      "text/plain": [
       "1080"
      ]
     },
     "execution_count": 325,
     "metadata": {},
     "output_type": "execute_result"
    }
   ],
   "source": [
    "num_files_processed"
   ]
  },
  {
   "cell_type": "code",
   "execution_count": 29,
   "metadata": {},
   "outputs": [],
   "source": [
    "for i in range(len(binned_params)):\n",
    "    binned_params[i] = np.array(binned_params[i])\n",
    "    binned_values[i]= np.array(binned_values[i])\n",
    "    binned_stds[i] = np.array(binned_stds[i])"
   ]
  },
  {
   "cell_type": "code",
   "execution_count": 348,
   "metadata": {},
   "outputs": [
    {
     "data": {
      "text/plain": [
       "0"
      ]
     },
     "execution_count": 348,
     "metadata": {},
     "output_type": "execute_result"
    }
   ],
   "source": [
    "stupid + looked_at + not_looked_at - 200*1080"
   ]
  },
  {
   "cell_type": "code",
   "execution_count": 31,
   "metadata": {},
   "outputs": [],
   "source": [
    "import pickle"
   ]
  },
  {
   "cell_type": "code",
   "execution_count": 32,
   "metadata": {},
   "outputs": [],
   "source": [
    "# filename = 'binvals-adult-full.pkl'\n",
    "# outfile = open(filename, 'wb')\n",
    "# pickle.dump(binned_values, outfile)\n",
    "# outfile.close()"
   ]
  },
  {
   "cell_type": "code",
   "execution_count": 33,
   "metadata": {},
   "outputs": [],
   "source": [
    "# filename = 'binparms-adult-full.pkl'\n",
    "# outfile = open(filename, 'wb')\n",
    "# pickle.dump(binned_params, outfile)\n",
    "# outfile.close()"
   ]
  },
  {
   "cell_type": "code",
   "execution_count": 34,
   "metadata": {},
   "outputs": [],
   "source": [
    "# filename = 'binstds-adult-full.pkl'\n",
    "# outfile = open(filename, 'wb')\n",
    "# pickle.dump(binned_stds, outfile)\n",
    "# outfile.close()"
   ]
  },
  {
   "cell_type": "code",
   "execution_count": 152,
   "metadata": {},
   "outputs": [],
   "source": [
    "# binned_values = pickle.load( open('binvals-adult.pkl', 'rb') )\n",
    "# binned_params = pickle.load( open('binparms-adult.pkl', 'rb') )"
   ]
  },
  {
   "cell_type": "code",
   "execution_count": 39,
   "metadata": {},
   "outputs": [
    {
     "data": {
      "text/plain": [
       "['eps',\n",
       " 'depth',\n",
       " 'eta',\n",
       " 'weight',\n",
       " 'lamb',\n",
       " 'pos',\n",
       " 'init',\n",
       " 'epoch',\n",
       " 'momentum',\n",
       " 'lr']"
      ]
     },
     "execution_count": 39,
     "metadata": {},
     "output_type": "execute_result"
    }
   ],
   "source": [
    "names"
   ]
  },
  {
   "cell_type": "code",
   "execution_count": 40,
   "metadata": {},
   "outputs": [],
   "source": [
    "quantities = [ 'balacc', 'scons', 'grcons', 'grms', 'gmax', 'rrms', 'rmax', 'averms' ]"
   ]
  },
  {
   "cell_type": "code",
   "execution_count": 35,
   "metadata": {},
   "outputs": [],
   "source": [
    "from copy import deepcopy"
   ]
  },
  {
   "cell_type": "markdown",
   "metadata": {},
   "source": [
    "### Some scripts to restrict the binned_values and binned_params by a given condition\n",
    "\n",
    "So that we may explore things and plot certain specific regions.  E.g. we don't want to consider points with too low of a GR cons."
   ]
  },
  {
   "cell_type": "code",
   "execution_count": 41,
   "metadata": {},
   "outputs": [],
   "source": [
    "# Restrict the parameters that we are currently looking at\n",
    "\n",
    "def restrict(name, values, binned_params, binned_values, binned_stds=None, res=False):\n",
    "    ind = names.index(name)\n",
    "    #print(ind)\n",
    "    \n",
    "    no_stds = False\n",
    "    if binned_stds is None:\n",
    "        no_stds = True\n",
    "    \n",
    "    nbp = deepcopy(binned_params)\n",
    "    nbv = deepcopy(binned_values)\n",
    "    if no_stds: nbs = None\n",
    "    else: nbs = deepcopy(binned_stds)\n",
    "    \n",
    "\n",
    "    for i in range(len(binned_params)):\n",
    "        if binned_params[i].shape[0] > 0:\n",
    "            if res:\n",
    "                mask = np.logical_and(binned_values[i][:,1] >= 0.93, np.isin(binned_params[i][:,ind], values))\n",
    "            else: mask = np.isin(binned_params[i][:,ind], values)\n",
    "            \n",
    "            nbp[i] = binned_params[i][ mask ]\n",
    "            nbv[i] = binned_values[i][ mask ]\n",
    "            if not no_stds:  nbs[i] = binned_stds[i][ mask ]\n",
    "    \n",
    "    if no_stds: return nbp, nbv\n",
    "    else: return nbp, nbv, nbs"
   ]
  },
  {
   "cell_type": "code",
   "execution_count": 42,
   "metadata": {},
   "outputs": [],
   "source": [
    "# Restrict the values that we are currently looking at\n",
    "\n",
    "def restrict_values(quan, cond, binned_params, binned_values, binned_stds=None):\n",
    "    \n",
    "    ind = quantities.index(quan)\n",
    "    \n",
    "    no_stds = False\n",
    "    if binned_stds is None:\n",
    "        no_stds = True\n",
    "    \n",
    "    nbp = deepcopy(binned_params)\n",
    "    nbv = deepcopy(binned_values)\n",
    "    if no_stds: nbs = None\n",
    "    else: nbs = deepcopy(binned_stds)\n",
    "    \n",
    "    for i in range(len(binned_params)):\n",
    "        if binned_params[i].shape[0] > 0:\n",
    "            mask = np.array([cond(val) for val in binned_values[i][:,ind]])\n",
    "            \n",
    "            nbp[i] = binned_params[i][ mask ]\n",
    "            nbv[i] = binned_values[i][ mask ]\n",
    "            if not no_stds:  nbs[i] = binned_stds[i][ mask ]\n",
    "        \n",
    "    if no_stds: return nbp, nbv\n",
    "    else: return nbp, nbv, nbs"
   ]
  },
  {
   "cell_type": "code",
   "execution_count": 418,
   "metadata": {},
   "outputs": [],
   "source": [
    "nbp, nbv, nbs = restrict_values('scons', lambda x: x > 0.94, binned_params, binned_values, binned_stds)"
   ]
  },
  {
   "cell_type": "code",
   "execution_count": 44,
   "metadata": {},
   "outputs": [],
   "source": [
    "stuff = []\n",
    "nzrows = 0\n",
    "for i in range(len(nbv)):\n",
    "    if nbv[i].shape[0] > 0:\n",
    "        nzrows += 1\n",
    "#         for row in nbv[i]: \n",
    "# #             if row[1] < 0.96:\n",
    "# #                 print(\"Badness 10000\")"
   ]
  },
  {
   "cell_type": "code",
   "execution_count": 45,
   "metadata": {},
   "outputs": [
    {
     "data": {
      "text/plain": [
       "44"
      ]
     },
     "execution_count": 45,
     "metadata": {},
     "output_type": "execute_result"
    }
   ],
   "source": [
    "nzrows"
   ]
  },
  {
   "cell_type": "code",
   "execution_count": 46,
   "metadata": {},
   "outputs": [],
   "source": [
    "def calc_obj(binned_values, binned_params, binned_stds):\n",
    "    ret_val = np.zeros((len(binned_values), 7))\n",
    "    acc_val = np.zeros((len(binned_values), 7))\n",
    "    par_val = np.zeros((len(binned_values), 7, 11))\n",
    "    std_val = np.zeros((len(binned_values), 7))\n",
    "\n",
    "    for i in range(len(binned_values)):\n",
    "        if binned_values[i].shape[0] > 0:\n",
    "            \n",
    "            consinds = np.argmax(binned_values[i][:,1:3], axis=0)\n",
    "            gapinds = np.argmin(binned_values[i][:,3:], axis=0)\n",
    "            #if i == 0: print(gapinds)\n",
    "            \n",
    "            ret_val[i,:2] = binned_values[i][consinds,[1,2]]\n",
    "            ret_val[i,2:] = binned_values[i][gapinds, range(3,8)]\n",
    "            \n",
    "            acc_val[i,:2] = binned_values[i][consinds,0]\n",
    "            acc_val[i,2:] = binned_values[i][gapinds,0]\n",
    "            \n",
    "            par_val[i,:2] = binned_params[i][consinds]\n",
    "            par_val[i,2:] = binned_params[i][gapinds]\n",
    "            \n",
    "            std_val[i,:2] = binned_stds[i][consinds,[1,2]]\n",
    "            std_val[i,2:] = binned_stds[i][gapinds,range(3,8)]\n",
    "            \n",
    "    return ret_val, acc_val, par_val, std_val"
   ]
  },
  {
   "cell_type": "code",
   "execution_count": 419,
   "metadata": {},
   "outputs": [],
   "source": [
    "vals, accs, parms, stds = calc_obj(nbv, nbp, nbs)"
   ]
  },
  {
   "cell_type": "markdown",
   "metadata": {},
   "source": [
    "# Scripts for processing baselines\n",
    "\n",
    "These are similar to the scripts for processing the BuDRO data."
   ]
  },
  {
   "cell_type": "code",
   "execution_count": 363,
   "metadata": {},
   "outputs": [],
   "source": [
    "# Load the data that you would like to look at for baselines.\n",
    "vanilla = np.load(bpath + \"Rw.npy\")\n",
    "vanillastd = np.load(bspath + \"Rw_std.npy\")"
   ]
  },
  {
   "cell_type": "code",
   "execution_count": 364,
   "metadata": {},
   "outputs": [
    {
     "data": {
      "text/plain": [
       "0.8386703691999999"
      ]
     },
     "execution_count": 364,
     "metadata": {},
     "output_type": "execute_result"
    }
   ],
   "source": [
    "vanilla[:,6].max()"
   ]
  },
  {
   "cell_type": "markdown",
   "metadata": {},
   "source": [
    "Bin the vanilla parameters by index since we now have an order.  Also bin without conditions to keep things more simple (conditions are easy to enforce).\n",
    "\n",
    "We are currently ignoring the average RMS since we cannot get the std for that"
   ]
  },
  {
   "cell_type": "code",
   "execution_count": 2,
   "metadata": {
    "collapsed": true
   },
   "outputs": [
    {
     "ename": "NameError",
     "evalue": "name 'np' is not defined",
     "output_type": "error",
     "traceback": [
      "\u001b[0;31m---------------------------------------------------------------------------\u001b[0m",
      "\u001b[0;31mNameError\u001b[0m                                 Traceback (most recent call last)",
      "\u001b[0;32m<ipython-input-2-11d5f2fc7317>\u001b[0m in \u001b[0;36m<module>\u001b[0;34m\u001b[0m\n\u001b[1;32m      4\u001b[0m \u001b[0mvhighacc\u001b[0m \u001b[0;34m=\u001b[0m \u001b[0;36m.85\u001b[0m\u001b[0;34m\u001b[0m\u001b[0;34m\u001b[0m\u001b[0m\n\u001b[1;32m      5\u001b[0m \u001b[0;31m#vbinsize = (vhighacc-vlowacc)/numbins\u001b[0m\u001b[0;34m\u001b[0m\u001b[0;34m\u001b[0m\u001b[0;34m\u001b[0m\u001b[0m\n\u001b[0;32m----> 6\u001b[0;31m \u001b[0mvbins\u001b[0m \u001b[0;34m=\u001b[0m \u001b[0mnp\u001b[0m\u001b[0;34m.\u001b[0m\u001b[0marange\u001b[0m\u001b[0;34m(\u001b[0m\u001b[0mstart\u001b[0m\u001b[0;34m=\u001b[0m\u001b[0mvlowacc\u001b[0m\u001b[0;34m,\u001b[0m \u001b[0mstop\u001b[0m\u001b[0;34m=\u001b[0m\u001b[0mvhighacc\u001b[0m\u001b[0;34m,\u001b[0m \u001b[0mstep\u001b[0m\u001b[0;34m=\u001b[0m\u001b[0mbinsize\u001b[0m\u001b[0;34m)\u001b[0m\u001b[0;34m\u001b[0m\u001b[0;34m\u001b[0m\u001b[0m\n\u001b[0m",
      "\u001b[0;31mNameError\u001b[0m: name 'np' is not defined"
     ]
    }
   ],
   "source": [
    "# Parameters for our graphs - NOTE CURRENTLY USE STANDARD BINSIZE\n",
    "# This is only for the baseline - projecting and reweighing should use the bins from the original BuDRO processing.\n",
    "vlowacc = .79\n",
    "vhighacc = .85\n",
    "#vbinsize = (vhighacc-vlowacc)/numbins\n",
    "vbins = np.arange(start=vlowacc, stop=vhighacc, step=binsize)"
   ]
  },
  {
   "cell_type": "code",
   "execution_count": 365,
   "metadata": {},
   "outputs": [],
   "source": [
    "vanilla_bins = []\n",
    "\n",
    "for mybin in bins:\n",
    "    vanilla_bins.append([])"
   ]
  },
  {
   "cell_type": "code",
   "execution_count": 366,
   "metadata": {},
   "outputs": [],
   "source": [
    "seen = 0\n",
    "unseen = 0\n",
    "\n",
    "for irow, row in enumerate(vanilla):\n",
    "    \n",
    "    acc = row[fbalind]\n",
    "    aggrow = whichBin(acc, bins, binsize)\n",
    "    if aggrow < 0:\n",
    "        unseen += 1\n",
    "    else:\n",
    "        seen += 1\n",
    "        vanilla_bins[aggrow].append(irow)"
   ]
  },
  {
   "cell_type": "code",
   "execution_count": 367,
   "metadata": {},
   "outputs": [],
   "source": [
    "for irow in range(len(vanilla_bins)):\n",
    "    vanilla_bins[irow] = np.array(vanilla_bins[irow])"
   ]
  },
  {
   "cell_type": "code",
   "execution_count": 368,
   "metadata": {},
   "outputs": [
    {
     "data": {
      "text/plain": [
       "7200"
      ]
     },
     "execution_count": 368,
     "metadata": {},
     "output_type": "execute_result"
    }
   ],
   "source": [
    "seen"
   ]
  },
  {
   "cell_type": "code",
   "execution_count": 369,
   "metadata": {},
   "outputs": [],
   "source": [
    "# Restrict the values that we are currently looking at\n",
    "\n",
    "def fget_values(quan, cond, binned_inds, values, stds):\n",
    "    \n",
    "    ind = basenames.index(quan)\n",
    "    \n",
    "    nbi = deepcopy(binned_inds)\n",
    "    nbv = []\n",
    "    nbs = []\n",
    "    \n",
    "    for i in range(len(binned_inds)):\n",
    "        if binned_inds[i].shape[0] > 0:\n",
    "            currVals = values[binned_inds[i]]\n",
    "            mask = np.array([cond(val) for val in currVals[:,ind]])\n",
    "\n",
    "            nbi[i] = nbi[i][mask]\n",
    "            nbv.append(currVals[mask])\n",
    "            nbs.append(stds[binned_inds[i]][mask])\n",
    "        else:\n",
    "            nbi.append(np.array([]))\n",
    "            nbv.append(np.array([]))\n",
    "            nbs.append(np.array([]))\n",
    "     \n",
    "    return nbi, nbv, nbs"
   ]
  },
  {
   "cell_type": "code",
   "execution_count": 370,
   "metadata": {},
   "outputs": [],
   "source": [
    "fbi, fbv, fbs = fget_values('scons', lambda x: x > 0.7, vanilla_bins, vanilla, vanillastd)"
   ]
  },
  {
   "cell_type": "code",
   "execution_count": 372,
   "metadata": {},
   "outputs": [],
   "source": [
    "stuff = []\n",
    "nzrows = 0\n",
    "for i in range(len(nbv)):\n",
    "    if fbv[i].shape[0] > 0:\n",
    "        nzrows += 1\n",
    "#         for row in nbv[i]: \n",
    "# #             if row[1] < 0.96:\n",
    "# #                 print(\"Badness 10000\")"
   ]
  },
  {
   "cell_type": "code",
   "execution_count": 373,
   "metadata": {},
   "outputs": [
    {
     "data": {
      "text/plain": [
       "33"
      ]
     },
     "execution_count": 373,
     "metadata": {},
     "output_type": "execute_result"
    }
   ],
   "source": [
    "nzrows"
   ]
  },
  {
   "cell_type": "code",
   "execution_count": 374,
   "metadata": {},
   "outputs": [],
   "source": [
    "def fcalc_obj(binned_inds, binned_values, binned_stds):\n",
    "    \n",
    "    ret_inds= np.zeros((len(binned_values), 6))\n",
    "    ret_val = np.zeros((len(binned_values), 6))\n",
    "    acc_val = np.zeros((len(binned_values), 6))\n",
    "    std_val = np.zeros((len(binned_values), 6))\n",
    "\n",
    "    interest = np.array([fbalind, fsconsi, fgrconsi, fgrmsi, fgmaxi, frrmsi, frmaxi])\n",
    "    \n",
    "    for i in range(len(binned_values)):\n",
    "        if binned_values[i].shape[0] > 0:\n",
    "            \n",
    "            currVals = binned_values[i][:,interest]\n",
    "            \n",
    "            consinds = np.argmax(currVals[:,1:3], axis=0)\n",
    "            gapinds = np.argmin(currVals[:,3:], axis=0)\n",
    "            #if i == 0: print(gapinds)\n",
    "            \n",
    "            ret_inds[i,:2]= binned_inds[i][consinds]\n",
    "            ret_inds[i,2:]= binned_inds[i][gapinds]\n",
    "            \n",
    "            ret_val[i,:2] = currVals[consinds,[1,2]]\n",
    "            ret_val[i,2:] = currVals[gapinds, range(3,7)]\n",
    "            \n",
    "            acc_val[i,:2] = currVals[consinds,0]\n",
    "            acc_val[i,2:] = currVals[gapinds,0]\n",
    "            \n",
    "            std_val[i,:2] = binned_stds[i][consinds,interest[[1,2]]]\n",
    "            std_val[i,2:] = binned_stds[i][gapinds,interest[range(3,7)]]\n",
    "            \n",
    "    return ret_inds, ret_val, acc_val, std_val"
   ]
  },
  {
   "cell_type": "code",
   "execution_count": 375,
   "metadata": {},
   "outputs": [],
   "source": [
    "interest = np.array([fbalind, fsconsi, fgrconsi, fgrmsi, fgmaxi, frrmsi, frmaxi])"
   ]
  },
  {
   "cell_type": "code",
   "execution_count": 376,
   "metadata": {},
   "outputs": [],
   "source": [
    "vinds, vvals, vaccs, vstds = fcalc_obj(fbi, fbv, fbs)"
   ]
  },
  {
   "cell_type": "code",
   "execution_count": 377,
   "metadata": {},
   "outputs": [
    {
     "data": {
      "text/plain": [
       "7200"
      ]
     },
     "execution_count": 377,
     "metadata": {},
     "output_type": "execute_result"
    }
   ],
   "source": [
    "tot = 0\n",
    "for thing in fbi:\n",
    "    tot += thing.shape[0]\n",
    "    #print(thing.shape[0])\n",
    "    \n",
    "tot"
   ]
  },
  {
   "cell_type": "markdown",
   "metadata": {},
   "source": [
    "Explore some of these data"
   ]
  },
  {
   "cell_type": "code",
   "execution_count": 283,
   "metadata": {},
   "outputs": [],
   "source": [
    "mask = vaccs[:,2] != 0"
   ]
  },
  {
   "cell_type": "code",
   "execution_count": 284,
   "metadata": {},
   "outputs": [
    {
     "data": {
      "text/plain": [
       "array([   0.,  101.,  600.,  700., 1800.,  103., 1802., 1952., 3851.,\n",
       "       3601., 3602., 2056., 2157., 3450., 2401., 2801., 5550., 1157.,\n",
       "        959.,  910.,  711.,  864., 1067.,  619.,  622., 1662., 1215.,\n",
       "       1218.,  846.,  849., 1396., 1747., 4488.])"
      ]
     },
     "execution_count": 284,
     "metadata": {},
     "output_type": "execute_result"
    }
   ],
   "source": [
    "vinds[:,2][mask]"
   ]
  },
  {
   "cell_type": "code",
   "execution_count": 285,
   "metadata": {},
   "outputs": [
    {
     "data": {
      "text/plain": [
       "array([0.78321605, 0.78501378, 0.78751257, 0.78960807, 0.79135505,\n",
       "       0.79325285, 0.79442808, 0.79520238, 0.80140245, 0.80228587,\n",
       "       0.80478091, 0.80480168, 0.80733044, 0.80955955, 0.80960739,\n",
       "       0.81135191, 0.8138907 , 0.81579746, 0.81674892, 0.81864923,\n",
       "       0.81921728, 0.82211821, 0.82300158, 0.82412022, 0.82640525,\n",
       "       0.82870542, 0.82964115, 0.83068627, 0.8320844 , 0.83366053,\n",
       "       0.83522358, 0.83741737, 0.83844952])"
      ]
     },
     "execution_count": 285,
     "metadata": {},
     "output_type": "execute_result"
    }
   ],
   "source": [
    "vaccs[:,0][mask]"
   ]
  },
  {
   "cell_type": "code",
   "execution_count": 286,
   "metadata": {},
   "outputs": [
    {
     "data": {
      "text/plain": [
       "array([0.05517623, 0.03155663, 0.02485135, 0.02468848, 0.02305336,\n",
       "       0.03151132, 0.02305704, 0.02250387, 0.01910143, 0.02041007,\n",
       "       0.02040313, 0.0220585 , 0.02159554, 0.02038217, 0.0203368 ,\n",
       "       0.02028065, 0.0149806 , 0.02364736, 0.02406813, 0.02418018,\n",
       "       0.02455941, 0.02428719, 0.0238893 , 0.02474724, 0.0247515 ,\n",
       "       0.02317756, 0.0236355 , 0.02363712, 0.02440577, 0.02440647,\n",
       "       0.02350755, 0.02311765, 0.0160256 ])"
      ]
     },
     "execution_count": 286,
     "metadata": {},
     "output_type": "execute_result"
    }
   ],
   "source": [
    "vstds[:,2][mask]"
   ]
  },
  {
   "cell_type": "code",
   "execution_count": 293,
   "metadata": {},
   "outputs": [
    {
     "data": {
      "text/plain": [
       "array([1.        , 1.        , 0.89315644, 0.90775014, 0.85385296,\n",
       "       0.951089  , 0.86386954, 0.86442233, 0.8502377 , 0.84501935,\n",
       "       0.86129353, 0.89378662, 0.90323936, 0.89273632, 0.88982863,\n",
       "       0.88988391, 0.85103372, 0.80736318, 0.8019016 , 0.80348259,\n",
       "       0.80090658, 0.80077391, 0.79927032, 0.79607518, 0.79646213,\n",
       "       0.80202322, 0.80448867, 0.80689884, 0.80964069, 0.81063571,\n",
       "       0.828911  , 0.82983969, 0.87043671])"
      ]
     },
     "execution_count": 293,
     "metadata": {},
     "output_type": "execute_result"
    }
   ],
   "source": [
    "vanilla[vinds[:,2][mask].astype('int')][:,fsconsi]"
   ]
  },
  {
   "cell_type": "markdown",
   "metadata": {},
   "source": [
    "Check to make sure that we are collecting everything correctly"
   ]
  },
  {
   "cell_type": "code",
   "execution_count": 30,
   "metadata": {},
   "outputs": [],
   "source": [
    "for i in range(len(binned_params)):\n",
    "    if binned_values[i].shape[0] - binned_stds[i].shape[0] != 0:\n",
    "        print(\"Wrong stds\")"
   ]
  },
  {
   "cell_type": "markdown",
   "metadata": {},
   "source": [
    "# Plot some stuff"
   ]
  },
  {
   "cell_type": "code",
   "execution_count": 48,
   "metadata": {},
   "outputs": [
    {
     "data": {
      "text/html": [
       "        <script type=\"text/javascript\">\n",
       "        window.PlotlyConfig = {MathJaxConfig: 'local'};\n",
       "        if (window.MathJax) {MathJax.Hub.Config({SVG: {font: \"STIX-Web\"}});}\n",
       "        if (typeof require !== 'undefined') {\n",
       "        require.undef(\"plotly\");\n",
       "        requirejs.config({\n",
       "            paths: {\n",
       "                'plotly': ['https://cdn.plot.ly/plotly-latest.min']\n",
       "            }\n",
       "        });\n",
       "        require(['plotly'], function(Plotly) {\n",
       "            window._Plotly = Plotly;\n",
       "        });\n",
       "        }\n",
       "        </script>\n",
       "        "
      ]
     },
     "metadata": {},
     "output_type": "display_data"
    }
   ],
   "source": [
    "import plotly\n",
    "import plotly.graph_objs as go\n",
    "from plotly.offline import plot, iplot, init_notebook_mode\n",
    "init_notebook_mode(connected=True)"
   ]
  },
  {
   "cell_type": "code",
   "execution_count": 49,
   "metadata": {},
   "outputs": [],
   "source": [
    "import plotly.io as pio"
   ]
  },
  {
   "cell_type": "code",
   "execution_count": 50,
   "metadata": {},
   "outputs": [],
   "source": [
    "def load_data_from_params(exp_descriptor, filepath = path + 'txt/'):\n",
    "    if type(exp_descriptor[0]) is str:\n",
    "        savepath = filepath +  '_'.join(exp_descriptor)\n",
    "        savepath +='.dat'\n",
    "    else:\n",
    "        fname = []\n",
    "        for i, (n, v) in enumerate(zip(names, exp_descriptor)):\n",
    "            if i == 1 or i==7: v = int(v)\n",
    "            fname.append(':'.join([n, str(v)]))\n",
    "        \n",
    "        savepath = filepath +  '_'.join(fname)\n",
    "        savepath +='.dat'\n",
    "        \n",
    "    return np.loadtxt(savepath)"
   ]
  },
  {
   "cell_type": "code",
   "execution_count": 51,
   "metadata": {},
   "outputs": [],
   "source": [
    "# This is not used\n",
    "def running_ave(arr, num):\n",
    "    new_arr = np.zeros(arr.shape[0])\n",
    "    \n",
    "    for i in range(arr.shape[0]):\n",
    "        minspot = i-num\n",
    "        maxspot = i + num + 1\n",
    "        \n",
    "        if minspot < 0: minspot = 0\n",
    "        if maxspot >= arr.shape[0]: maxspot = arr.shape[0]\n",
    "            \n",
    "        new_arr[i] = arr[minspot:maxspot].mean()\n",
    "        \n",
    "    return new_arr"
   ]
  },
  {
   "cell_type": "markdown",
   "metadata": {},
   "source": [
    "For selecting hyperparameters to use on the test seeds.  See also `adult-params-highacc.txt` for some of the hyperparameters selected in this way."
   ]
  },
  {
   "cell_type": "code",
   "execution_count": 98,
   "metadata": {},
   "outputs": [],
   "source": [
    "nbp, nbv = restrict_values('scons', lambda x: x > 0.95, binned_params, binned_values)"
   ]
  },
  {
   "cell_type": "code",
   "execution_count": 99,
   "metadata": {},
   "outputs": [],
   "source": [
    "nbp, nbv = restrict_values('grcons', lambda x: x > 0.95, nbp, nbv)"
   ]
  },
  {
   "cell_type": "code",
   "execution_count": 100,
   "metadata": {},
   "outputs": [],
   "source": [
    "stuff = []\n",
    "nzrows = 0\n",
    "for i in range(len(nbv)):\n",
    "    if nbv[i].shape[0] > 0:\n",
    "        nzrows += 1\n",
    "#         for row in nbv[i]: \n",
    "# #             if row[1] < 0.96:\n",
    "# #                 print(\"TITS\")"
   ]
  },
  {
   "cell_type": "code",
   "execution_count": 101,
   "metadata": {},
   "outputs": [
    {
     "data": {
      "text/plain": [
       "44"
      ]
     },
     "execution_count": 101,
     "metadata": {},
     "output_type": "execute_result"
    }
   ],
   "source": [
    "nzrows"
   ]
  },
  {
   "cell_type": "code",
   "execution_count": 102,
   "metadata": {},
   "outputs": [],
   "source": [
    "vals, accs, parms = calc_obj(nbv, nbp)"
   ]
  },
  {
   "cell_type": "markdown",
   "metadata": {},
   "source": [
    "For vanilla methods - not looking at average rms here"
   ]
  },
  {
   "cell_type": "code",
   "execution_count": 378,
   "metadata": {},
   "outputs": [
    {
     "data": {
      "application/vnd.plotly.v1+json": {
       "config": {
        "linkText": "Export to plot.ly",
        "plotlyServerURL": "https://plot.ly",
        "showLink": false
       },
       "data": [
        {
         "error_y": {
          "array": [
           0.06826645569015621,
           0.03779012230296707,
           0.0342553346220219,
           0.03360814936072221,
           0.02339607202279304,
           0.03773327864721721,
           0.023395104013747,
           0.023258464037143486,
           0.02273179408808591,
           0.023452330284306485,
           0.02342374038805871,
           0.023141844181097406,
           0.023031727551479912,
           0.023383314223931317,
           0.022773174819111744,
           0.02292787022284054,
           0.02256277419558572,
           0.029852006703527785,
           0.03166361061531501,
           0.032074618988345745,
           0.03355579949953083,
           0.03242411776341388,
           0.030703865116461285,
           0.034140688344047675,
           0.034113539348739265,
           0.0250771612830123,
           0.029205158178934328,
           0.029170801609804148,
           0.03252985730198807,
           0.03251075493736932,
           0.027807123097852854,
           0.024103670355223657,
           0.021298172227751083
          ],
          "type": "data",
          "visible": true
         },
         "mode": "lines+markers",
         "name": "S-cons",
         "type": "scatter",
         "x": [
          0.7832160476000001,
          0.7850137832,
          0.7876042291000002,
          0.7896080685000002,
          0.7917015609999999,
          0.7930617163000002,
          0.7944797684,
          0.7952106125999999,
          0.8012122989999998,
          0.8016518866,
          0.8036234838,
          0.8059461990000001,
          0.8079841652,
          0.8085291523999999,
          0.8110291126,
          0.8112221657,
          0.8143519626,
          0.8152109837000001,
          0.8175895052,
          0.8185880445,
          0.8206467552,
          0.8222323858999999,
          0.8238995789999999,
          0.8252813344,
          0.8267805091,
          0.8287420687000001,
          0.8301668036999998,
          0.8317184743999999,
          0.8335584733999999,
          0.8339694078000001,
          0.8363436932999999,
          0.8370898264000001,
          0.8384495215
         ],
         "y": [
          1,
          1,
          0.8931564399000003,
          0.9077501381000002,
          0.8538529574,
          0.9510889993999999,
          0.8638695412,
          0.8644223326999999,
          0.8502377003000001,
          0.8450193475999999,
          0.8612935323,
          0.8937866226000001,
          0.9032393588,
          0.8927363184999999,
          0.8898286346000001,
          0.8898839137,
          0.8510337204,
          0.8073631841,
          0.8019016030999999,
          0.8034825871000001,
          0.8009065783,
          0.8007739082,
          0.799270315,
          0.7960751796000001,
          0.7964621338,
          0.8020232171,
          0.8044886676999999,
          0.8068988390000001,
          0.8096406853,
          0.8106357103,
          0.8289110005,
          0.8298396906000001,
          0.8704367053999998
         ]
        },
        {
         "error_y": {
          "array": [
           0.01331952425892659,
           0.027185214342491274,
           0.0259692982299795,
           0.025977209775283245,
           0.026282887285748097,
           0.027180541274690155,
           0.026273922769635725,
           0.025956904102728714,
           0.024928363788171332,
           0.025824738165260774,
           0.025815669206789967,
           0.02568798061034507,
           0.025401820783159786,
           0.025611496047106278,
           0.02456917004971861,
           0.02485554024462172,
           0.023797512220950785,
           0.0259723951529408,
           0.02596037383318748,
           0.02595532351610915,
           0.025943711825825375,
           0.025944604401021715,
           0.0259510528838281,
           0.0259296109416065,
           0.025932446157412033,
           0.026182466574950644,
           0.02598288664812774,
           0.025988283330847115,
           0.025980731099413477,
           0.025984313586990406,
           0.026074510234418376,
           0.026253208775392542,
           0.022853851644812632
          ],
          "type": "data",
          "visible": true
         },
         "mode": "lines+markers",
         "name": "GR-cons",
         "type": "scatter",
         "x": [
          0.7832160476000001,
          0.7850137832,
          0.7876042291000002,
          0.7896080685000002,
          0.7917015609999999,
          0.7930617163000002,
          0.7944797684,
          0.7952106125999999,
          0.8012122989999998,
          0.8016518866,
          0.8036234838,
          0.8059461990000001,
          0.8079841652,
          0.8085291523999999,
          0.8110291126,
          0.8112221657,
          0.8143519626,
          0.8152109837000001,
          0.8175895052,
          0.8185880445,
          0.8206467552,
          0.8222323858999999,
          0.8238995789999999,
          0.8252813344,
          0.8267805091,
          0.8287420687000001,
          0.8301668036999998,
          0.8317184743999999,
          0.8335584733999999,
          0.8339694078000001,
          0.8363436932999999,
          0.8370898264000001,
          0.8384495215
         ],
         "y": [
          1,
          1,
          1,
          1,
          1,
          1,
          1,
          0.9999778883000001,
          0.9997567717000001,
          0.9998231067000001,
          0.9992924267,
          0.997169707,
          0.9981868434999999,
          0.9950248756000001,
          0.9969817578999999,
          0.9969707020999999,
          0.9907904919,
          0.9967716969000001,
          0.9964068545999998,
          0.9949917082,
          0.9939856276000001,
          0.9880044222999999,
          0.9805527916999999,
          0.9760530679999999,
          0.967495854,
          0.9606854614,
          0.9533665008,
          0.9495411828,
          0.9424543947000001,
          0.9412935323999999,
          0.9339635156999998,
          0.9333665009000001,
          0.9357545605
         ]
        },
        {
         "error_y": {
          "array": [
           0.05517623366266396,
           0.03155663427415883,
           0.024851353268848044,
           0.024688484256379137,
           0.02305336234567563,
           0.03151131742106848,
           0.023057038721351224,
           0.022503866153444844,
           0.01910143056649058,
           0.020410067859116657,
           0.020403134774457172,
           0.022058499524937034,
           0.021595542397068134,
           0.0203821657727812,
           0.02033679789552107,
           0.020280652955904654,
           0.014980604868846635,
           0.02364736226611782,
           0.02406813317881969,
           0.024180183991118848,
           0.02455941460927842,
           0.024287194199906725,
           0.023889300766126425,
           0.024747236598236102,
           0.024751503922375427,
           0.023177555848727008,
           0.023635495834145172,
           0.023637124655544805,
           0.024405768752171375,
           0.02440647492452068,
           0.023507549073513545,
           0.023117645836491934,
           0.016025601540880247
          ],
          "type": "data",
          "visible": true
         },
         "mode": "lines+markers",
         "name": "Gender gap RMS",
         "type": "scatter",
         "x": [
          0.7832160476000001,
          0.7850137832,
          0.7876042291000002,
          0.7896080685000002,
          0.7917015609999999,
          0.7930617163000002,
          0.7944797684,
          0.7952106125999999,
          0.8012122989999998,
          0.8016518866,
          0.8036234838,
          0.8059461990000001,
          0.8079841652,
          0.8085291523999999,
          0.8110291126,
          0.8112221657,
          0.8143519626,
          0.8152109837000001,
          0.8175895052,
          0.8185880445,
          0.8206467552,
          0.8222323858999999,
          0.8238995789999999,
          0.8252813344,
          0.8267805091,
          0.8287420687000001,
          0.8301668036999998,
          0.8317184743999999,
          0.8335584733999999,
          0.8339694078000001,
          0.8363436932999999,
          0.8370898264000001,
          0.8384495215
         ],
         "y": [
          0.1425459986,
          0.1671972217,
          0.1408388949,
          0.158083832,
          0.0878989797,
          0.20785764759999997,
          0.0978749236,
          0.09797541609999999,
          0.10799953720000002,
          0.106330984,
          0.11521916619999999,
          0.12442304850000001,
          0.13184720570000003,
          0.12046951519999997,
          0.11467876070000001,
          0.11473260519999999,
          0.1203790337,
          0.0908755474,
          0.0873704198,
          0.08717927770000002,
          0.0855052377,
          0.08083261299999997,
          0.0765476335,
          0.07369649470000002,
          0.0706844692,
          0.0675396331,
          0.0655434813,
          0.0639787782,
          0.06218269179999999,
          0.061646721300000006,
          0.061272718000000004,
          0.060964405099999994,
          0.06843523050000001
         ]
        },
        {
         "error_y": {
          "array": [
           0.0649456531896882,
           0.04020899314745042,
           0.03305161180732193,
           0.03287636019465505,
           0.030860996256101975,
           0.04016961715961803,
           0.030866227611249877,
           0.030189256839552706,
           0.025831652229790534,
           0.02751848533028384,
           0.0275074849667559,
           0.02964603587446505,
           0.029079094236975068,
           0.027515047544106615,
           0.0275216313422643,
           0.027441378481443963,
           0.020352654590434276,
           0.031768836340946675,
           0.032216721167130584,
           0.032334365026059755,
           0.03273729166437696,
           0.032447803859364466,
           0.03202547353441231,
           0.03293979605779667,
           0.03294550362304756,
           0.031072552361866564,
           0.03175668786442777,
           0.03175816859447145,
           0.03257848259852018,
           0.03257826864315322,
           0.03155076620161435,
           0.03096115087340809,
           0.021831475296323958
          ],
          "type": "data",
          "visible": true
         },
         "mode": "lines+markers",
         "name": "Gender gap MAX",
         "type": "scatter",
         "x": [
          0.7832160476000001,
          0.7850137832,
          0.7876042291000002,
          0.7896080685000002,
          0.7917015609999999,
          0.7930617163000002,
          0.7944797684,
          0.7952106125999999,
          0.8012122989999998,
          0.8016518866,
          0.8036234838,
          0.8059461990000001,
          0.8079841652,
          0.8085291523999999,
          0.8110291126,
          0.8112221657,
          0.8143519626,
          0.8152109837000001,
          0.8175895052,
          0.8185880445,
          0.8206467552,
          0.8222323858999999,
          0.8238995789999999,
          0.8252813344,
          0.8267805091,
          0.8287420687000001,
          0.8301668036999998,
          0.8317184743999999,
          0.8335584733999999,
          0.8339694078000001,
          0.8363436932999999,
          0.8370898264000001,
          0.8384495215
         ],
         "y": [
          0.15788363419999996,
          0.19005406919999998,
          0.182058321,
          0.2011304378,
          0.11249550190000002,
          0.2588909623,
          0.12484460189999999,
          0.1249737639,
          0.14101655469999996,
          0.13639408760000002,
          0.1468862118,
          0.1594043888,
          0.17186160220000002,
          0.1572642629,
          0.1519681646,
          0.1520636528,
          0.1662996494,
          0.1231118672,
          0.1205446169,
          0.12029496049999999,
          0.1188781636,
          0.1125055777,
          0.1062219316,
          0.10208956629999999,
          0.09736196870000001,
          0.0923421949,
          0.0890790401,
          0.0862740211,
          0.0832757532,
          0.08246830290000001,
          0.0812920377,
          0.08064451539999999,
          0.0939710183
         ]
        },
        {
         "error_y": {
          "array": [
           0.013414481030838726,
           0.017044701719575152,
           0.01732573747437297,
           0.01733272963736767,
           0.017426338935169535,
           0.01704222188831807,
           0.017425343181108856,
           0.017515995903471592,
           0.018218150839556337,
           0.018010960195239244,
           0.018010131290347533,
           0.017579105994956365,
           0.017644018698969272,
           0.018000813949252483,
           0.017810916084588267,
           0.017902659388349635,
           0.018850788094815545,
           0.017388928796892803,
           0.01736751881734554,
           0.017363414813037135,
           0.01733831824315355,
           0.01735866265673662,
           0.017383281954052768,
           0.0173323630399633,
           0.017333093371127296,
           0.01743291804781703,
           0.017394237531640863,
           0.017394275721823033,
           0.017353682621254658,
           0.01735260861407012,
           0.017399034470848274,
           0.017431303255673172,
           0.01857262657143508
          ],
          "type": "data",
          "visible": true
         },
         "mode": "lines+markers",
         "name": "Race gap RMS",
         "type": "scatter",
         "x": [
          0.7832160476000001,
          0.7850137832,
          0.7876042291000002,
          0.7896080685000002,
          0.7917015609999999,
          0.7930617163000002,
          0.7944797684,
          0.7952106125999999,
          0.8012122989999998,
          0.8016518866,
          0.8036234838,
          0.8059461990000001,
          0.8079841652,
          0.8085291523999999,
          0.8110291126,
          0.8112221657,
          0.8143519626,
          0.8152109837000001,
          0.8175895052,
          0.8185880445,
          0.8206467552,
          0.8222323858999999,
          0.8238995789999999,
          0.8252813344,
          0.8267805091,
          0.8287420687000001,
          0.8301668036999998,
          0.8317184743999999,
          0.8335584733999999,
          0.8339694078000001,
          0.8363436932999999,
          0.8370898264000001,
          0.8384495215
         ],
         "y": [
          0.04038888,
          0.04819564380000001,
          0.045232466199999995,
          0.04854100089999999,
          0.0464186025,
          0.06256436829999999,
          0.0491552209,
          0.049096706200000007,
          0.052727073,
          0.052977916599999994,
          0.0541562545,
          0.0556587163,
          0.058013782699999995,
          0.0568656645,
          0.0567969242,
          0.05669580980000001,
          0.052955594800000005,
          0.05833350289999999,
          0.05660489310000001,
          0.055000926599999986,
          0.054642177,
          0.05476181100000001,
          0.05708374039999999,
          0.06076867500000001,
          0.0635482953,
          0.0638712625,
          0.0678067684,
          0.06849487699999998,
          0.0717933948,
          0.0709448676,
          0.0719685948,
          0.07276199840000001,
          0.07006704350000001
         ]
        },
        {
         "error_y": {
          "array": [
           0.01698779352414586,
           0.017305529724496223,
           0.017282075663935498,
           0.017296407572646475,
           0.017540394843630822,
           0.017302202335069593,
           0.017540534685274025,
           0.0175725331792939,
           0.01808228244709599,
           0.017974230041399704,
           0.01797261267185281,
           0.01759337274541955,
           0.01761734771792546,
           0.01792569214059096,
           0.017681779433840878,
           0.017780235719768105,
           0.01866250096655241,
           0.017359511101336173,
           0.017327883393010918,
           0.017320158654416846,
           0.017296121595448997,
           0.017313449601586137,
           0.017345394288790224,
           0.01728191364598782,
           0.01728289994007717,
           0.01749585096602836,
           0.017370819767258374,
           0.017372123162786163,
           0.017313463775802545,
           0.017313514808204873,
           0.017420085415507894,
           0.01752512136706139,
           0.01832606601707674
          ],
          "type": "data",
          "visible": true
         },
         "mode": "lines+markers",
         "name": "Race gap MAX",
         "type": "scatter",
         "x": [
          0.7832160476000001,
          0.7850137832,
          0.7876042291000002,
          0.7896080685000002,
          0.7917015609999999,
          0.7930617163000002,
          0.7944797684,
          0.7952106125999999,
          0.8012122989999998,
          0.8016518866,
          0.8036234838,
          0.8059461990000001,
          0.8079841652,
          0.8085291523999999,
          0.8110291126,
          0.8112221657,
          0.8143519626,
          0.8152109837000001,
          0.8175895052,
          0.8185880445,
          0.8206467552,
          0.8222323858999999,
          0.8238995789999999,
          0.8252813344,
          0.8267805091,
          0.8287420687000001,
          0.8301668036999998,
          0.8317184743999999,
          0.8335584733999999,
          0.8339694078000001,
          0.8363436932999999,
          0.8370898264000001,
          0.8384495215
         ],
         "y": [
          0.0503343497,
          0.06040528730000001,
          0.0591081643,
          0.06391321729999999,
          0.06159463590000001,
          0.0820399887,
          0.064838166,
          0.0648782971,
          0.0706812037,
          0.07113432499999998,
          0.0722484613,
          0.07518274389999999,
          0.07863351989999999,
          0.07467897400000001,
          0.0744434002,
          0.0745140965,
          0.07008734600000001,
          0.07190819690000001,
          0.0719431551,
          0.0697874575,
          0.0685347781,
          0.06775754479999999,
          0.06820084289999999,
          0.07151383509999999,
          0.0751984924,
          0.0756146033,
          0.0790284683,
          0.07985701440000001,
          0.08306325249999999,
          0.08197870099999999,
          0.0812322872,
          0.082872709,
          0.07689432830000001
         ]
        }
       ],
       "layout": {
        "font": {
         "family": "CMU Serif"
        },
        "legend": {
         "font": {
          "size": 20
         }
        },
        "margin": {
         "b": 90,
         "l": 100,
         "r": 10,
         "t": 10
        },
        "template": {
         "data": {
          "bar": [
           {
            "error_x": {
             "color": "#2a3f5f"
            },
            "error_y": {
             "color": "#2a3f5f"
            },
            "marker": {
             "line": {
              "color": "#E5ECF6",
              "width": 0.5
             }
            },
            "type": "bar"
           }
          ],
          "barpolar": [
           {
            "marker": {
             "line": {
              "color": "#E5ECF6",
              "width": 0.5
             }
            },
            "type": "barpolar"
           }
          ],
          "carpet": [
           {
            "aaxis": {
             "endlinecolor": "#2a3f5f",
             "gridcolor": "white",
             "linecolor": "white",
             "minorgridcolor": "white",
             "startlinecolor": "#2a3f5f"
            },
            "baxis": {
             "endlinecolor": "#2a3f5f",
             "gridcolor": "white",
             "linecolor": "white",
             "minorgridcolor": "white",
             "startlinecolor": "#2a3f5f"
            },
            "type": "carpet"
           }
          ],
          "choropleth": [
           {
            "colorbar": {
             "outlinewidth": 0,
             "ticks": ""
            },
            "type": "choropleth"
           }
          ],
          "contour": [
           {
            "colorbar": {
             "outlinewidth": 0,
             "ticks": ""
            },
            "colorscale": [
             [
              0,
              "#0d0887"
             ],
             [
              0.1111111111111111,
              "#46039f"
             ],
             [
              0.2222222222222222,
              "#7201a8"
             ],
             [
              0.3333333333333333,
              "#9c179e"
             ],
             [
              0.4444444444444444,
              "#bd3786"
             ],
             [
              0.5555555555555556,
              "#d8576b"
             ],
             [
              0.6666666666666666,
              "#ed7953"
             ],
             [
              0.7777777777777778,
              "#fb9f3a"
             ],
             [
              0.8888888888888888,
              "#fdca26"
             ],
             [
              1,
              "#f0f921"
             ]
            ],
            "type": "contour"
           }
          ],
          "contourcarpet": [
           {
            "colorbar": {
             "outlinewidth": 0,
             "ticks": ""
            },
            "type": "contourcarpet"
           }
          ],
          "heatmap": [
           {
            "colorbar": {
             "outlinewidth": 0,
             "ticks": ""
            },
            "colorscale": [
             [
              0,
              "#0d0887"
             ],
             [
              0.1111111111111111,
              "#46039f"
             ],
             [
              0.2222222222222222,
              "#7201a8"
             ],
             [
              0.3333333333333333,
              "#9c179e"
             ],
             [
              0.4444444444444444,
              "#bd3786"
             ],
             [
              0.5555555555555556,
              "#d8576b"
             ],
             [
              0.6666666666666666,
              "#ed7953"
             ],
             [
              0.7777777777777778,
              "#fb9f3a"
             ],
             [
              0.8888888888888888,
              "#fdca26"
             ],
             [
              1,
              "#f0f921"
             ]
            ],
            "type": "heatmap"
           }
          ],
          "heatmapgl": [
           {
            "colorbar": {
             "outlinewidth": 0,
             "ticks": ""
            },
            "colorscale": [
             [
              0,
              "#0d0887"
             ],
             [
              0.1111111111111111,
              "#46039f"
             ],
             [
              0.2222222222222222,
              "#7201a8"
             ],
             [
              0.3333333333333333,
              "#9c179e"
             ],
             [
              0.4444444444444444,
              "#bd3786"
             ],
             [
              0.5555555555555556,
              "#d8576b"
             ],
             [
              0.6666666666666666,
              "#ed7953"
             ],
             [
              0.7777777777777778,
              "#fb9f3a"
             ],
             [
              0.8888888888888888,
              "#fdca26"
             ],
             [
              1,
              "#f0f921"
             ]
            ],
            "type": "heatmapgl"
           }
          ],
          "histogram": [
           {
            "marker": {
             "colorbar": {
              "outlinewidth": 0,
              "ticks": ""
             }
            },
            "type": "histogram"
           }
          ],
          "histogram2d": [
           {
            "colorbar": {
             "outlinewidth": 0,
             "ticks": ""
            },
            "colorscale": [
             [
              0,
              "#0d0887"
             ],
             [
              0.1111111111111111,
              "#46039f"
             ],
             [
              0.2222222222222222,
              "#7201a8"
             ],
             [
              0.3333333333333333,
              "#9c179e"
             ],
             [
              0.4444444444444444,
              "#bd3786"
             ],
             [
              0.5555555555555556,
              "#d8576b"
             ],
             [
              0.6666666666666666,
              "#ed7953"
             ],
             [
              0.7777777777777778,
              "#fb9f3a"
             ],
             [
              0.8888888888888888,
              "#fdca26"
             ],
             [
              1,
              "#f0f921"
             ]
            ],
            "type": "histogram2d"
           }
          ],
          "histogram2dcontour": [
           {
            "colorbar": {
             "outlinewidth": 0,
             "ticks": ""
            },
            "colorscale": [
             [
              0,
              "#0d0887"
             ],
             [
              0.1111111111111111,
              "#46039f"
             ],
             [
              0.2222222222222222,
              "#7201a8"
             ],
             [
              0.3333333333333333,
              "#9c179e"
             ],
             [
              0.4444444444444444,
              "#bd3786"
             ],
             [
              0.5555555555555556,
              "#d8576b"
             ],
             [
              0.6666666666666666,
              "#ed7953"
             ],
             [
              0.7777777777777778,
              "#fb9f3a"
             ],
             [
              0.8888888888888888,
              "#fdca26"
             ],
             [
              1,
              "#f0f921"
             ]
            ],
            "type": "histogram2dcontour"
           }
          ],
          "mesh3d": [
           {
            "colorbar": {
             "outlinewidth": 0,
             "ticks": ""
            },
            "type": "mesh3d"
           }
          ],
          "parcoords": [
           {
            "line": {
             "colorbar": {
              "outlinewidth": 0,
              "ticks": ""
             }
            },
            "type": "parcoords"
           }
          ],
          "pie": [
           {
            "automargin": true,
            "type": "pie"
           }
          ],
          "scatter": [
           {
            "marker": {
             "colorbar": {
              "outlinewidth": 0,
              "ticks": ""
             }
            },
            "type": "scatter"
           }
          ],
          "scatter3d": [
           {
            "line": {
             "colorbar": {
              "outlinewidth": 0,
              "ticks": ""
             }
            },
            "marker": {
             "colorbar": {
              "outlinewidth": 0,
              "ticks": ""
             }
            },
            "type": "scatter3d"
           }
          ],
          "scattercarpet": [
           {
            "marker": {
             "colorbar": {
              "outlinewidth": 0,
              "ticks": ""
             }
            },
            "type": "scattercarpet"
           }
          ],
          "scattergeo": [
           {
            "marker": {
             "colorbar": {
              "outlinewidth": 0,
              "ticks": ""
             }
            },
            "type": "scattergeo"
           }
          ],
          "scattergl": [
           {
            "marker": {
             "colorbar": {
              "outlinewidth": 0,
              "ticks": ""
             }
            },
            "type": "scattergl"
           }
          ],
          "scattermapbox": [
           {
            "marker": {
             "colorbar": {
              "outlinewidth": 0,
              "ticks": ""
             }
            },
            "type": "scattermapbox"
           }
          ],
          "scatterpolar": [
           {
            "marker": {
             "colorbar": {
              "outlinewidth": 0,
              "ticks": ""
             }
            },
            "type": "scatterpolar"
           }
          ],
          "scatterpolargl": [
           {
            "marker": {
             "colorbar": {
              "outlinewidth": 0,
              "ticks": ""
             }
            },
            "type": "scatterpolargl"
           }
          ],
          "scatterternary": [
           {
            "marker": {
             "colorbar": {
              "outlinewidth": 0,
              "ticks": ""
             }
            },
            "type": "scatterternary"
           }
          ],
          "surface": [
           {
            "colorbar": {
             "outlinewidth": 0,
             "ticks": ""
            },
            "colorscale": [
             [
              0,
              "#0d0887"
             ],
             [
              0.1111111111111111,
              "#46039f"
             ],
             [
              0.2222222222222222,
              "#7201a8"
             ],
             [
              0.3333333333333333,
              "#9c179e"
             ],
             [
              0.4444444444444444,
              "#bd3786"
             ],
             [
              0.5555555555555556,
              "#d8576b"
             ],
             [
              0.6666666666666666,
              "#ed7953"
             ],
             [
              0.7777777777777778,
              "#fb9f3a"
             ],
             [
              0.8888888888888888,
              "#fdca26"
             ],
             [
              1,
              "#f0f921"
             ]
            ],
            "type": "surface"
           }
          ],
          "table": [
           {
            "cells": {
             "fill": {
              "color": "#EBF0F8"
             },
             "line": {
              "color": "white"
             }
            },
            "header": {
             "fill": {
              "color": "#C8D4E3"
             },
             "line": {
              "color": "white"
             }
            },
            "type": "table"
           }
          ]
         },
         "layout": {
          "annotationdefaults": {
           "arrowcolor": "#2a3f5f",
           "arrowhead": 0,
           "arrowwidth": 1
          },
          "coloraxis": {
           "colorbar": {
            "outlinewidth": 0,
            "ticks": ""
           }
          },
          "colorscale": {
           "diverging": [
            [
             0,
             "#8e0152"
            ],
            [
             0.1,
             "#c51b7d"
            ],
            [
             0.2,
             "#de77ae"
            ],
            [
             0.3,
             "#f1b6da"
            ],
            [
             0.4,
             "#fde0ef"
            ],
            [
             0.5,
             "#f7f7f7"
            ],
            [
             0.6,
             "#e6f5d0"
            ],
            [
             0.7,
             "#b8e186"
            ],
            [
             0.8,
             "#7fbc41"
            ],
            [
             0.9,
             "#4d9221"
            ],
            [
             1,
             "#276419"
            ]
           ],
           "sequential": [
            [
             0,
             "#0d0887"
            ],
            [
             0.1111111111111111,
             "#46039f"
            ],
            [
             0.2222222222222222,
             "#7201a8"
            ],
            [
             0.3333333333333333,
             "#9c179e"
            ],
            [
             0.4444444444444444,
             "#bd3786"
            ],
            [
             0.5555555555555556,
             "#d8576b"
            ],
            [
             0.6666666666666666,
             "#ed7953"
            ],
            [
             0.7777777777777778,
             "#fb9f3a"
            ],
            [
             0.8888888888888888,
             "#fdca26"
            ],
            [
             1,
             "#f0f921"
            ]
           ],
           "sequentialminus": [
            [
             0,
             "#0d0887"
            ],
            [
             0.1111111111111111,
             "#46039f"
            ],
            [
             0.2222222222222222,
             "#7201a8"
            ],
            [
             0.3333333333333333,
             "#9c179e"
            ],
            [
             0.4444444444444444,
             "#bd3786"
            ],
            [
             0.5555555555555556,
             "#d8576b"
            ],
            [
             0.6666666666666666,
             "#ed7953"
            ],
            [
             0.7777777777777778,
             "#fb9f3a"
            ],
            [
             0.8888888888888888,
             "#fdca26"
            ],
            [
             1,
             "#f0f921"
            ]
           ]
          },
          "colorway": [
           "#636efa",
           "#EF553B",
           "#00cc96",
           "#ab63fa",
           "#FFA15A",
           "#19d3f3",
           "#FF6692",
           "#B6E880",
           "#FF97FF",
           "#FECB52"
          ],
          "font": {
           "color": "#2a3f5f"
          },
          "geo": {
           "bgcolor": "white",
           "lakecolor": "white",
           "landcolor": "#E5ECF6",
           "showlakes": true,
           "showland": true,
           "subunitcolor": "white"
          },
          "hoverlabel": {
           "align": "left"
          },
          "hovermode": "closest",
          "mapbox": {
           "style": "light"
          },
          "paper_bgcolor": "white",
          "plot_bgcolor": "#E5ECF6",
          "polar": {
           "angularaxis": {
            "gridcolor": "white",
            "linecolor": "white",
            "ticks": ""
           },
           "bgcolor": "#E5ECF6",
           "radialaxis": {
            "gridcolor": "white",
            "linecolor": "white",
            "ticks": ""
           }
          },
          "scene": {
           "xaxis": {
            "backgroundcolor": "#E5ECF6",
            "gridcolor": "white",
            "gridwidth": 2,
            "linecolor": "white",
            "showbackground": true,
            "ticks": "",
            "zerolinecolor": "white"
           },
           "yaxis": {
            "backgroundcolor": "#E5ECF6",
            "gridcolor": "white",
            "gridwidth": 2,
            "linecolor": "white",
            "showbackground": true,
            "ticks": "",
            "zerolinecolor": "white"
           },
           "zaxis": {
            "backgroundcolor": "#E5ECF6",
            "gridcolor": "white",
            "gridwidth": 2,
            "linecolor": "white",
            "showbackground": true,
            "ticks": "",
            "zerolinecolor": "white"
           }
          },
          "shapedefaults": {
           "line": {
            "color": "#2a3f5f"
           }
          },
          "ternary": {
           "aaxis": {
            "gridcolor": "white",
            "linecolor": "white",
            "ticks": ""
           },
           "baxis": {
            "gridcolor": "white",
            "linecolor": "white",
            "ticks": ""
           },
           "bgcolor": "#E5ECF6",
           "caxis": {
            "gridcolor": "white",
            "linecolor": "white",
            "ticks": ""
           }
          },
          "title": {
           "x": 0.05
          },
          "xaxis": {
           "automargin": true,
           "gridcolor": "white",
           "linecolor": "white",
           "ticks": "",
           "title": {
            "standoff": 15
           },
           "zerolinecolor": "white",
           "zerolinewidth": 2
          },
          "yaxis": {
           "automargin": true,
           "gridcolor": "white",
           "linecolor": "white",
           "ticks": "",
           "title": {
            "standoff": 15
           },
           "zerolinecolor": "white",
           "zerolinewidth": 2
          }
         }
        },
        "xaxis": {
         "mirror": "ticks",
         "showgrid": false,
         "showline": true,
         "tickfont": {
          "color": "#000",
          "size": 24
         },
         "ticks": "inside",
         "title": {
          "font": {
           "color": "#000",
           "size": 30
          },
          "text": "Balanced accuracy"
         }
        },
        "yaxis": {
         "mirror": "ticks",
         "showgrid": false,
         "showline": true,
         "tickfont": {
          "color": "#000",
          "size": 24
         },
         "ticks": "inside",
         "title": {
          "font": {
           "color": "#000",
           "size": 30
          },
          "text": "Gap size"
         }
        }
       }
      },
      "text/html": [
       "<div>\n",
       "        \n",
       "        \n",
       "            <div id=\"52c8fe6e-f7ae-42a0-9ed8-af476a63a584\" class=\"plotly-graph-div\" style=\"height:525px; width:100%;\"></div>\n",
       "            <script type=\"text/javascript\">\n",
       "                require([\"plotly\"], function(Plotly) {\n",
       "                    window.PLOTLYENV=window.PLOTLYENV || {};\n",
       "                    \n",
       "                if (document.getElementById(\"52c8fe6e-f7ae-42a0-9ed8-af476a63a584\")) {\n",
       "                    Plotly.newPlot(\n",
       "                        '52c8fe6e-f7ae-42a0-9ed8-af476a63a584',\n",
       "                        [{\"error_y\": {\"array\": [0.06826645569015621, 0.03779012230296707, 0.0342553346220219, 0.03360814936072221, 0.02339607202279304, 0.03773327864721721, 0.023395104013747, 0.023258464037143486, 0.02273179408808591, 0.023452330284306485, 0.02342374038805871, 0.023141844181097406, 0.023031727551479912, 0.023383314223931317, 0.022773174819111744, 0.02292787022284054, 0.02256277419558572, 0.029852006703527785, 0.03166361061531501, 0.032074618988345745, 0.03355579949953083, 0.03242411776341388, 0.030703865116461285, 0.034140688344047675, 0.034113539348739265, 0.0250771612830123, 0.029205158178934328, 0.029170801609804148, 0.03252985730198807, 0.03251075493736932, 0.027807123097852854, 0.024103670355223657, 0.021298172227751083], \"type\": \"data\", \"visible\": true}, \"mode\": \"lines+markers\", \"name\": \"S-cons\", \"type\": \"scatter\", \"x\": [0.7832160476000001, 0.7850137832, 0.7876042291000002, 0.7896080685000002, 0.7917015609999999, 0.7930617163000002, 0.7944797684, 0.7952106125999999, 0.8012122989999998, 0.8016518866, 0.8036234838, 0.8059461990000001, 0.8079841652, 0.8085291523999999, 0.8110291126, 0.8112221657, 0.8143519626, 0.8152109837000001, 0.8175895052, 0.8185880445, 0.8206467552, 0.8222323858999999, 0.8238995789999999, 0.8252813344, 0.8267805091, 0.8287420687000001, 0.8301668036999998, 0.8317184743999999, 0.8335584733999999, 0.8339694078000001, 0.8363436932999999, 0.8370898264000001, 0.8384495215], \"y\": [1.0, 1.0, 0.8931564399000003, 0.9077501381000002, 0.8538529574, 0.9510889993999999, 0.8638695412, 0.8644223326999999, 0.8502377003000001, 0.8450193475999999, 0.8612935323, 0.8937866226000001, 0.9032393588, 0.8927363184999999, 0.8898286346000001, 0.8898839137, 0.8510337204, 0.8073631841, 0.8019016030999999, 0.8034825871000001, 0.8009065783, 0.8007739082, 0.799270315, 0.7960751796000001, 0.7964621338, 0.8020232171, 0.8044886676999999, 0.8068988390000001, 0.8096406853, 0.8106357103, 0.8289110005, 0.8298396906000001, 0.8704367053999998]}, {\"error_y\": {\"array\": [0.01331952425892659, 0.027185214342491274, 0.0259692982299795, 0.025977209775283245, 0.026282887285748097, 0.027180541274690155, 0.026273922769635725, 0.025956904102728714, 0.024928363788171332, 0.025824738165260774, 0.025815669206789967, 0.02568798061034507, 0.025401820783159786, 0.025611496047106278, 0.02456917004971861, 0.02485554024462172, 0.023797512220950785, 0.0259723951529408, 0.02596037383318748, 0.02595532351610915, 0.025943711825825375, 0.025944604401021715, 0.0259510528838281, 0.0259296109416065, 0.025932446157412033, 0.026182466574950644, 0.02598288664812774, 0.025988283330847115, 0.025980731099413477, 0.025984313586990406, 0.026074510234418376, 0.026253208775392542, 0.022853851644812632], \"type\": \"data\", \"visible\": true}, \"mode\": \"lines+markers\", \"name\": \"GR-cons\", \"type\": \"scatter\", \"x\": [0.7832160476000001, 0.7850137832, 0.7876042291000002, 0.7896080685000002, 0.7917015609999999, 0.7930617163000002, 0.7944797684, 0.7952106125999999, 0.8012122989999998, 0.8016518866, 0.8036234838, 0.8059461990000001, 0.8079841652, 0.8085291523999999, 0.8110291126, 0.8112221657, 0.8143519626, 0.8152109837000001, 0.8175895052, 0.8185880445, 0.8206467552, 0.8222323858999999, 0.8238995789999999, 0.8252813344, 0.8267805091, 0.8287420687000001, 0.8301668036999998, 0.8317184743999999, 0.8335584733999999, 0.8339694078000001, 0.8363436932999999, 0.8370898264000001, 0.8384495215], \"y\": [1.0, 1.0, 1.0, 1.0, 1.0, 1.0, 1.0, 0.9999778883000001, 0.9997567717000001, 0.9998231067000001, 0.9992924267, 0.997169707, 0.9981868434999999, 0.9950248756000001, 0.9969817578999999, 0.9969707020999999, 0.9907904919, 0.9967716969000001, 0.9964068545999998, 0.9949917082, 0.9939856276000001, 0.9880044222999999, 0.9805527916999999, 0.9760530679999999, 0.967495854, 0.9606854614, 0.9533665008, 0.9495411828, 0.9424543947000001, 0.9412935323999999, 0.9339635156999998, 0.9333665009000001, 0.9357545605]}, {\"error_y\": {\"array\": [0.05517623366266396, 0.03155663427415883, 0.024851353268848044, 0.024688484256379137, 0.02305336234567563, 0.03151131742106848, 0.023057038721351224, 0.022503866153444844, 0.01910143056649058, 0.020410067859116657, 0.020403134774457172, 0.022058499524937034, 0.021595542397068134, 0.0203821657727812, 0.02033679789552107, 0.020280652955904654, 0.014980604868846635, 0.02364736226611782, 0.02406813317881969, 0.024180183991118848, 0.02455941460927842, 0.024287194199906725, 0.023889300766126425, 0.024747236598236102, 0.024751503922375427, 0.023177555848727008, 0.023635495834145172, 0.023637124655544805, 0.024405768752171375, 0.02440647492452068, 0.023507549073513545, 0.023117645836491934, 0.016025601540880247], \"type\": \"data\", \"visible\": true}, \"mode\": \"lines+markers\", \"name\": \"Gender gap RMS\", \"type\": \"scatter\", \"x\": [0.7832160476000001, 0.7850137832, 0.7876042291000002, 0.7896080685000002, 0.7917015609999999, 0.7930617163000002, 0.7944797684, 0.7952106125999999, 0.8012122989999998, 0.8016518866, 0.8036234838, 0.8059461990000001, 0.8079841652, 0.8085291523999999, 0.8110291126, 0.8112221657, 0.8143519626, 0.8152109837000001, 0.8175895052, 0.8185880445, 0.8206467552, 0.8222323858999999, 0.8238995789999999, 0.8252813344, 0.8267805091, 0.8287420687000001, 0.8301668036999998, 0.8317184743999999, 0.8335584733999999, 0.8339694078000001, 0.8363436932999999, 0.8370898264000001, 0.8384495215], \"y\": [0.1425459986, 0.1671972217, 0.1408388949, 0.158083832, 0.0878989797, 0.20785764759999997, 0.0978749236, 0.09797541609999999, 0.10799953720000002, 0.106330984, 0.11521916619999999, 0.12442304850000001, 0.13184720570000003, 0.12046951519999997, 0.11467876070000001, 0.11473260519999999, 0.1203790337, 0.0908755474, 0.0873704198, 0.08717927770000002, 0.0855052377, 0.08083261299999997, 0.0765476335, 0.07369649470000002, 0.0706844692, 0.0675396331, 0.0655434813, 0.0639787782, 0.06218269179999999, 0.061646721300000006, 0.061272718000000004, 0.060964405099999994, 0.06843523050000001]}, {\"error_y\": {\"array\": [0.0649456531896882, 0.04020899314745042, 0.03305161180732193, 0.03287636019465505, 0.030860996256101975, 0.04016961715961803, 0.030866227611249877, 0.030189256839552706, 0.025831652229790534, 0.02751848533028384, 0.0275074849667559, 0.02964603587446505, 0.029079094236975068, 0.027515047544106615, 0.0275216313422643, 0.027441378481443963, 0.020352654590434276, 0.031768836340946675, 0.032216721167130584, 0.032334365026059755, 0.03273729166437696, 0.032447803859364466, 0.03202547353441231, 0.03293979605779667, 0.03294550362304756, 0.031072552361866564, 0.03175668786442777, 0.03175816859447145, 0.03257848259852018, 0.03257826864315322, 0.03155076620161435, 0.03096115087340809, 0.021831475296323958], \"type\": \"data\", \"visible\": true}, \"mode\": \"lines+markers\", \"name\": \"Gender gap MAX\", \"type\": \"scatter\", \"x\": [0.7832160476000001, 0.7850137832, 0.7876042291000002, 0.7896080685000002, 0.7917015609999999, 0.7930617163000002, 0.7944797684, 0.7952106125999999, 0.8012122989999998, 0.8016518866, 0.8036234838, 0.8059461990000001, 0.8079841652, 0.8085291523999999, 0.8110291126, 0.8112221657, 0.8143519626, 0.8152109837000001, 0.8175895052, 0.8185880445, 0.8206467552, 0.8222323858999999, 0.8238995789999999, 0.8252813344, 0.8267805091, 0.8287420687000001, 0.8301668036999998, 0.8317184743999999, 0.8335584733999999, 0.8339694078000001, 0.8363436932999999, 0.8370898264000001, 0.8384495215], \"y\": [0.15788363419999996, 0.19005406919999998, 0.182058321, 0.2011304378, 0.11249550190000002, 0.2588909623, 0.12484460189999999, 0.1249737639, 0.14101655469999996, 0.13639408760000002, 0.1468862118, 0.1594043888, 0.17186160220000002, 0.1572642629, 0.1519681646, 0.1520636528, 0.1662996494, 0.1231118672, 0.1205446169, 0.12029496049999999, 0.1188781636, 0.1125055777, 0.1062219316, 0.10208956629999999, 0.09736196870000001, 0.0923421949, 0.0890790401, 0.0862740211, 0.0832757532, 0.08246830290000001, 0.0812920377, 0.08064451539999999, 0.0939710183]}, {\"error_y\": {\"array\": [0.013414481030838726, 0.017044701719575152, 0.01732573747437297, 0.01733272963736767, 0.017426338935169535, 0.01704222188831807, 0.017425343181108856, 0.017515995903471592, 0.018218150839556337, 0.018010960195239244, 0.018010131290347533, 0.017579105994956365, 0.017644018698969272, 0.018000813949252483, 0.017810916084588267, 0.017902659388349635, 0.018850788094815545, 0.017388928796892803, 0.01736751881734554, 0.017363414813037135, 0.01733831824315355, 0.01735866265673662, 0.017383281954052768, 0.0173323630399633, 0.017333093371127296, 0.01743291804781703, 0.017394237531640863, 0.017394275721823033, 0.017353682621254658, 0.01735260861407012, 0.017399034470848274, 0.017431303255673172, 0.01857262657143508], \"type\": \"data\", \"visible\": true}, \"mode\": \"lines+markers\", \"name\": \"Race gap RMS\", \"type\": \"scatter\", \"x\": [0.7832160476000001, 0.7850137832, 0.7876042291000002, 0.7896080685000002, 0.7917015609999999, 0.7930617163000002, 0.7944797684, 0.7952106125999999, 0.8012122989999998, 0.8016518866, 0.8036234838, 0.8059461990000001, 0.8079841652, 0.8085291523999999, 0.8110291126, 0.8112221657, 0.8143519626, 0.8152109837000001, 0.8175895052, 0.8185880445, 0.8206467552, 0.8222323858999999, 0.8238995789999999, 0.8252813344, 0.8267805091, 0.8287420687000001, 0.8301668036999998, 0.8317184743999999, 0.8335584733999999, 0.8339694078000001, 0.8363436932999999, 0.8370898264000001, 0.8384495215], \"y\": [0.04038888, 0.04819564380000001, 0.045232466199999995, 0.04854100089999999, 0.0464186025, 0.06256436829999999, 0.0491552209, 0.049096706200000007, 0.052727073, 0.052977916599999994, 0.0541562545, 0.0556587163, 0.058013782699999995, 0.0568656645, 0.0567969242, 0.05669580980000001, 0.052955594800000005, 0.05833350289999999, 0.05660489310000001, 0.055000926599999986, 0.054642177, 0.05476181100000001, 0.05708374039999999, 0.06076867500000001, 0.0635482953, 0.0638712625, 0.0678067684, 0.06849487699999998, 0.0717933948, 0.0709448676, 0.0719685948, 0.07276199840000001, 0.07006704350000001]}, {\"error_y\": {\"array\": [0.01698779352414586, 0.017305529724496223, 0.017282075663935498, 0.017296407572646475, 0.017540394843630822, 0.017302202335069593, 0.017540534685274025, 0.0175725331792939, 0.01808228244709599, 0.017974230041399704, 0.01797261267185281, 0.01759337274541955, 0.01761734771792546, 0.01792569214059096, 0.017681779433840878, 0.017780235719768105, 0.01866250096655241, 0.017359511101336173, 0.017327883393010918, 0.017320158654416846, 0.017296121595448997, 0.017313449601586137, 0.017345394288790224, 0.01728191364598782, 0.01728289994007717, 0.01749585096602836, 0.017370819767258374, 0.017372123162786163, 0.017313463775802545, 0.017313514808204873, 0.017420085415507894, 0.01752512136706139, 0.01832606601707674], \"type\": \"data\", \"visible\": true}, \"mode\": \"lines+markers\", \"name\": \"Race gap MAX\", \"type\": \"scatter\", \"x\": [0.7832160476000001, 0.7850137832, 0.7876042291000002, 0.7896080685000002, 0.7917015609999999, 0.7930617163000002, 0.7944797684, 0.7952106125999999, 0.8012122989999998, 0.8016518866, 0.8036234838, 0.8059461990000001, 0.8079841652, 0.8085291523999999, 0.8110291126, 0.8112221657, 0.8143519626, 0.8152109837000001, 0.8175895052, 0.8185880445, 0.8206467552, 0.8222323858999999, 0.8238995789999999, 0.8252813344, 0.8267805091, 0.8287420687000001, 0.8301668036999998, 0.8317184743999999, 0.8335584733999999, 0.8339694078000001, 0.8363436932999999, 0.8370898264000001, 0.8384495215], \"y\": [0.0503343497, 0.06040528730000001, 0.0591081643, 0.06391321729999999, 0.06159463590000001, 0.0820399887, 0.064838166, 0.0648782971, 0.0706812037, 0.07113432499999998, 0.0722484613, 0.07518274389999999, 0.07863351989999999, 0.07467897400000001, 0.0744434002, 0.0745140965, 0.07008734600000001, 0.07190819690000001, 0.0719431551, 0.0697874575, 0.0685347781, 0.06775754479999999, 0.06820084289999999, 0.07151383509999999, 0.0751984924, 0.0756146033, 0.0790284683, 0.07985701440000001, 0.08306325249999999, 0.08197870099999999, 0.0812322872, 0.082872709, 0.07689432830000001]}],\n",
       "                        {\"font\": {\"family\": \"CMU Serif\"}, \"legend\": {\"font\": {\"size\": 20}}, \"margin\": {\"b\": 90, \"l\": 100, \"r\": 10, \"t\": 10}, \"template\": {\"data\": {\"bar\": [{\"error_x\": {\"color\": \"#2a3f5f\"}, \"error_y\": {\"color\": \"#2a3f5f\"}, \"marker\": {\"line\": {\"color\": \"#E5ECF6\", \"width\": 0.5}}, \"type\": \"bar\"}], \"barpolar\": [{\"marker\": {\"line\": {\"color\": \"#E5ECF6\", \"width\": 0.5}}, \"type\": \"barpolar\"}], \"carpet\": [{\"aaxis\": {\"endlinecolor\": \"#2a3f5f\", \"gridcolor\": \"white\", \"linecolor\": \"white\", \"minorgridcolor\": \"white\", \"startlinecolor\": \"#2a3f5f\"}, \"baxis\": {\"endlinecolor\": \"#2a3f5f\", \"gridcolor\": \"white\", \"linecolor\": \"white\", \"minorgridcolor\": \"white\", \"startlinecolor\": \"#2a3f5f\"}, \"type\": \"carpet\"}], \"choropleth\": [{\"colorbar\": {\"outlinewidth\": 0, \"ticks\": \"\"}, \"type\": \"choropleth\"}], \"contour\": [{\"colorbar\": {\"outlinewidth\": 0, \"ticks\": \"\"}, \"colorscale\": [[0.0, \"#0d0887\"], [0.1111111111111111, \"#46039f\"], [0.2222222222222222, \"#7201a8\"], [0.3333333333333333, \"#9c179e\"], [0.4444444444444444, \"#bd3786\"], [0.5555555555555556, \"#d8576b\"], [0.6666666666666666, \"#ed7953\"], [0.7777777777777778, \"#fb9f3a\"], [0.8888888888888888, \"#fdca26\"], [1.0, \"#f0f921\"]], \"type\": \"contour\"}], \"contourcarpet\": [{\"colorbar\": {\"outlinewidth\": 0, \"ticks\": \"\"}, \"type\": \"contourcarpet\"}], \"heatmap\": [{\"colorbar\": {\"outlinewidth\": 0, \"ticks\": \"\"}, \"colorscale\": [[0.0, \"#0d0887\"], [0.1111111111111111, \"#46039f\"], [0.2222222222222222, \"#7201a8\"], [0.3333333333333333, \"#9c179e\"], [0.4444444444444444, \"#bd3786\"], [0.5555555555555556, \"#d8576b\"], [0.6666666666666666, \"#ed7953\"], [0.7777777777777778, \"#fb9f3a\"], [0.8888888888888888, \"#fdca26\"], [1.0, \"#f0f921\"]], \"type\": \"heatmap\"}], \"heatmapgl\": [{\"colorbar\": {\"outlinewidth\": 0, \"ticks\": \"\"}, \"colorscale\": [[0.0, \"#0d0887\"], [0.1111111111111111, \"#46039f\"], [0.2222222222222222, \"#7201a8\"], [0.3333333333333333, \"#9c179e\"], [0.4444444444444444, \"#bd3786\"], [0.5555555555555556, \"#d8576b\"], [0.6666666666666666, \"#ed7953\"], [0.7777777777777778, \"#fb9f3a\"], [0.8888888888888888, \"#fdca26\"], [1.0, \"#f0f921\"]], \"type\": \"heatmapgl\"}], \"histogram\": [{\"marker\": {\"colorbar\": {\"outlinewidth\": 0, \"ticks\": \"\"}}, \"type\": \"histogram\"}], \"histogram2d\": [{\"colorbar\": {\"outlinewidth\": 0, \"ticks\": \"\"}, \"colorscale\": [[0.0, \"#0d0887\"], [0.1111111111111111, \"#46039f\"], [0.2222222222222222, \"#7201a8\"], [0.3333333333333333, \"#9c179e\"], [0.4444444444444444, \"#bd3786\"], [0.5555555555555556, \"#d8576b\"], [0.6666666666666666, \"#ed7953\"], [0.7777777777777778, \"#fb9f3a\"], [0.8888888888888888, \"#fdca26\"], [1.0, \"#f0f921\"]], \"type\": \"histogram2d\"}], \"histogram2dcontour\": [{\"colorbar\": {\"outlinewidth\": 0, \"ticks\": \"\"}, \"colorscale\": [[0.0, \"#0d0887\"], [0.1111111111111111, \"#46039f\"], [0.2222222222222222, \"#7201a8\"], [0.3333333333333333, \"#9c179e\"], [0.4444444444444444, \"#bd3786\"], [0.5555555555555556, \"#d8576b\"], [0.6666666666666666, \"#ed7953\"], [0.7777777777777778, \"#fb9f3a\"], [0.8888888888888888, \"#fdca26\"], [1.0, \"#f0f921\"]], \"type\": \"histogram2dcontour\"}], \"mesh3d\": [{\"colorbar\": {\"outlinewidth\": 0, \"ticks\": \"\"}, \"type\": \"mesh3d\"}], \"parcoords\": [{\"line\": {\"colorbar\": {\"outlinewidth\": 0, \"ticks\": \"\"}}, \"type\": \"parcoords\"}], \"pie\": [{\"automargin\": true, \"type\": \"pie\"}], \"scatter\": [{\"marker\": {\"colorbar\": {\"outlinewidth\": 0, \"ticks\": \"\"}}, \"type\": \"scatter\"}], \"scatter3d\": [{\"line\": {\"colorbar\": {\"outlinewidth\": 0, \"ticks\": \"\"}}, \"marker\": {\"colorbar\": {\"outlinewidth\": 0, \"ticks\": \"\"}}, \"type\": \"scatter3d\"}], \"scattercarpet\": [{\"marker\": {\"colorbar\": {\"outlinewidth\": 0, \"ticks\": \"\"}}, \"type\": \"scattercarpet\"}], \"scattergeo\": [{\"marker\": {\"colorbar\": {\"outlinewidth\": 0, \"ticks\": \"\"}}, \"type\": \"scattergeo\"}], \"scattergl\": [{\"marker\": {\"colorbar\": {\"outlinewidth\": 0, \"ticks\": \"\"}}, \"type\": \"scattergl\"}], \"scattermapbox\": [{\"marker\": {\"colorbar\": {\"outlinewidth\": 0, \"ticks\": \"\"}}, \"type\": \"scattermapbox\"}], \"scatterpolar\": [{\"marker\": {\"colorbar\": {\"outlinewidth\": 0, \"ticks\": \"\"}}, \"type\": \"scatterpolar\"}], \"scatterpolargl\": [{\"marker\": {\"colorbar\": {\"outlinewidth\": 0, \"ticks\": \"\"}}, \"type\": \"scatterpolargl\"}], \"scatterternary\": [{\"marker\": {\"colorbar\": {\"outlinewidth\": 0, \"ticks\": \"\"}}, \"type\": \"scatterternary\"}], \"surface\": [{\"colorbar\": {\"outlinewidth\": 0, \"ticks\": \"\"}, \"colorscale\": [[0.0, \"#0d0887\"], [0.1111111111111111, \"#46039f\"], [0.2222222222222222, \"#7201a8\"], [0.3333333333333333, \"#9c179e\"], [0.4444444444444444, \"#bd3786\"], [0.5555555555555556, \"#d8576b\"], [0.6666666666666666, \"#ed7953\"], [0.7777777777777778, \"#fb9f3a\"], [0.8888888888888888, \"#fdca26\"], [1.0, \"#f0f921\"]], \"type\": \"surface\"}], \"table\": [{\"cells\": {\"fill\": {\"color\": \"#EBF0F8\"}, \"line\": {\"color\": \"white\"}}, \"header\": {\"fill\": {\"color\": \"#C8D4E3\"}, \"line\": {\"color\": \"white\"}}, \"type\": \"table\"}]}, \"layout\": {\"annotationdefaults\": {\"arrowcolor\": \"#2a3f5f\", \"arrowhead\": 0, \"arrowwidth\": 1}, \"coloraxis\": {\"colorbar\": {\"outlinewidth\": 0, \"ticks\": \"\"}}, \"colorscale\": {\"diverging\": [[0, \"#8e0152\"], [0.1, \"#c51b7d\"], [0.2, \"#de77ae\"], [0.3, \"#f1b6da\"], [0.4, \"#fde0ef\"], [0.5, \"#f7f7f7\"], [0.6, \"#e6f5d0\"], [0.7, \"#b8e186\"], [0.8, \"#7fbc41\"], [0.9, \"#4d9221\"], [1, \"#276419\"]], \"sequential\": [[0.0, \"#0d0887\"], [0.1111111111111111, \"#46039f\"], [0.2222222222222222, \"#7201a8\"], [0.3333333333333333, \"#9c179e\"], [0.4444444444444444, \"#bd3786\"], [0.5555555555555556, \"#d8576b\"], [0.6666666666666666, \"#ed7953\"], [0.7777777777777778, \"#fb9f3a\"], [0.8888888888888888, \"#fdca26\"], [1.0, \"#f0f921\"]], \"sequentialminus\": [[0.0, \"#0d0887\"], [0.1111111111111111, \"#46039f\"], [0.2222222222222222, \"#7201a8\"], [0.3333333333333333, \"#9c179e\"], [0.4444444444444444, \"#bd3786\"], [0.5555555555555556, \"#d8576b\"], [0.6666666666666666, \"#ed7953\"], [0.7777777777777778, \"#fb9f3a\"], [0.8888888888888888, \"#fdca26\"], [1.0, \"#f0f921\"]]}, \"colorway\": [\"#636efa\", \"#EF553B\", \"#00cc96\", \"#ab63fa\", \"#FFA15A\", \"#19d3f3\", \"#FF6692\", \"#B6E880\", \"#FF97FF\", \"#FECB52\"], \"font\": {\"color\": \"#2a3f5f\"}, \"geo\": {\"bgcolor\": \"white\", \"lakecolor\": \"white\", \"landcolor\": \"#E5ECF6\", \"showlakes\": true, \"showland\": true, \"subunitcolor\": \"white\"}, \"hoverlabel\": {\"align\": \"left\"}, \"hovermode\": \"closest\", \"mapbox\": {\"style\": \"light\"}, \"paper_bgcolor\": \"white\", \"plot_bgcolor\": \"#E5ECF6\", \"polar\": {\"angularaxis\": {\"gridcolor\": \"white\", \"linecolor\": \"white\", \"ticks\": \"\"}, \"bgcolor\": \"#E5ECF6\", \"radialaxis\": {\"gridcolor\": \"white\", \"linecolor\": \"white\", \"ticks\": \"\"}}, \"scene\": {\"xaxis\": {\"backgroundcolor\": \"#E5ECF6\", \"gridcolor\": \"white\", \"gridwidth\": 2, \"linecolor\": \"white\", \"showbackground\": true, \"ticks\": \"\", \"zerolinecolor\": \"white\"}, \"yaxis\": {\"backgroundcolor\": \"#E5ECF6\", \"gridcolor\": \"white\", \"gridwidth\": 2, \"linecolor\": \"white\", \"showbackground\": true, \"ticks\": \"\", \"zerolinecolor\": \"white\"}, \"zaxis\": {\"backgroundcolor\": \"#E5ECF6\", \"gridcolor\": \"white\", \"gridwidth\": 2, \"linecolor\": \"white\", \"showbackground\": true, \"ticks\": \"\", \"zerolinecolor\": \"white\"}}, \"shapedefaults\": {\"line\": {\"color\": \"#2a3f5f\"}}, \"ternary\": {\"aaxis\": {\"gridcolor\": \"white\", \"linecolor\": \"white\", \"ticks\": \"\"}, \"baxis\": {\"gridcolor\": \"white\", \"linecolor\": \"white\", \"ticks\": \"\"}, \"bgcolor\": \"#E5ECF6\", \"caxis\": {\"gridcolor\": \"white\", \"linecolor\": \"white\", \"ticks\": \"\"}}, \"title\": {\"x\": 0.05}, \"xaxis\": {\"automargin\": true, \"gridcolor\": \"white\", \"linecolor\": \"white\", \"ticks\": \"\", \"title\": {\"standoff\": 15}, \"zerolinecolor\": \"white\", \"zerolinewidth\": 2}, \"yaxis\": {\"automargin\": true, \"gridcolor\": \"white\", \"linecolor\": \"white\", \"ticks\": \"\", \"title\": {\"standoff\": 15}, \"zerolinecolor\": \"white\", \"zerolinewidth\": 2}}}, \"xaxis\": {\"mirror\": \"ticks\", \"showgrid\": false, \"showline\": true, \"tickfont\": {\"color\": \"#000\", \"size\": 24}, \"ticks\": \"inside\", \"title\": {\"font\": {\"color\": \"#000\", \"size\": 30}, \"text\": \"Balanced accuracy\"}}, \"yaxis\": {\"mirror\": \"ticks\", \"showgrid\": false, \"showline\": true, \"tickfont\": {\"color\": \"#000\", \"size\": 24}, \"ticks\": \"inside\", \"title\": {\"font\": {\"color\": \"#000\", \"size\": 30}, \"text\": \"Gap size\"}}},\n",
       "                        {\"responsive\": true}\n",
       "                    ).then(function(){\n",
       "                            \n",
       "var gd = document.getElementById('52c8fe6e-f7ae-42a0-9ed8-af476a63a584');\n",
       "var x = new MutationObserver(function (mutations, observer) {{\n",
       "        var display = window.getComputedStyle(gd).display;\n",
       "        if (!display || display === 'none') {{\n",
       "            console.log([gd, 'removed!']);\n",
       "            Plotly.purge(gd);\n",
       "            observer.disconnect();\n",
       "        }}\n",
       "}});\n",
       "\n",
       "// Listen for the removal of the full notebook cells\n",
       "var notebookContainer = gd.closest('#notebook-container');\n",
       "if (notebookContainer) {{\n",
       "    x.observe(notebookContainer, {childList: true});\n",
       "}}\n",
       "\n",
       "// Listen for the clearing of the current output cell\n",
       "var outputEl = gd.closest('.output');\n",
       "if (outputEl) {{\n",
       "    x.observe(outputEl, {childList: true});\n",
       "}}\n",
       "\n",
       "                        })\n",
       "                };\n",
       "                });\n",
       "            </script>\n",
       "        </div>"
      ]
     },
     "metadata": {},
     "output_type": "display_data"
    }
   ],
   "source": [
    "plot = 'grms'\n",
    "corr = True\n",
    "plots = ['scons', 'grcons', 'grms', 'gmax', 'rrms', 'rmax']\n",
    "plotnames = ['S-cons', 'GR-cons', 'Gender gap RMS', 'Gender gap MAX', 'Race gap RMS', 'Race gap MAX']\n",
    "vcolInds = interest[1:]\n",
    "\n",
    "plotaccs = vaccs\n",
    "plotops = vvals\n",
    "plotstds = vstds\n",
    "plotinds = vinds\n",
    "\n",
    "otherInds = list(range(len(plots)))\n",
    "if plot is 'averms': \n",
    "    #plotInd = 6\n",
    "    print(\"AveRMS not implemented for baseline methods\")\n",
    "else: \n",
    "    plotInd = plots.index(plot)\n",
    "    otherInds.remove(plotInd)\n",
    "    \n",
    "# get indices that we want to plot\n",
    "inds = np.where(plotaccs[:,plotInd] > 0)[0]\n",
    "\n",
    "# this is the main plot\n",
    "xaccs = plotaccs[:,plotInd][inds]\n",
    "yfair = plotops[:,plotInd][inds]\n",
    "yerr = plotstds[:,plotInd][inds]\n",
    "\n",
    "if plotInd < 6:\n",
    "    traces0 = [\n",
    "        go.Scatter(\n",
    "            x=xaccs,\n",
    "            y=running_ave(yfair,smooth),\n",
    "            error_y = dict(\n",
    "                type='data',\n",
    "                array = yerr,\n",
    "                visible=True,\n",
    "            ),\n",
    "            mode='lines+markers', \n",
    "            name=plotnames[plotInd])\n",
    "    ]\n",
    "else: traces0 = []\n",
    "\n",
    "traces = []\n",
    "# if we want to look at other stuff, get it from the values\n",
    "if corr:\n",
    "    other = np.zeros((inds.shape[0], len(otherInds)))\n",
    "    otherstd = np.zeros((inds.shape[0], len(otherInds)))\n",
    "    \n",
    "    #for i in range(inds.shape[0]):\n",
    "        \n",
    "#         # This shouldn't happen right now...\n",
    "#         if plotInd == 6:\n",
    "#             corrInd = np.where( \n",
    "#                 np.logical_and(\n",
    "#                     res[:,balind] == xaccs[i], \n",
    "#                     np.abs((res[:, grmsi] + res[:, rrmsi])/2 - yfair[i]) <= 10**-8\n",
    "#                 ))[0][0]\n",
    "#         else: \n",
    "#             corrInd = np.where( \n",
    "#                 np.logical_and(\n",
    "#                     res[:,balind] == xaccs[i], \n",
    "#                     res[:, colInds[plotInd]] ==  yfair[i]\n",
    "#                 ))[0][0]\n",
    "            \n",
    "    stuff = vanilla[ plotinds[:,plotInd][inds].astype('int') ]\n",
    "    stuffstd = vanillastd[ plotinds[:,plotInd][inds].astype('int') ]\n",
    "        \n",
    "    other = stuff[:,vcolInds[otherInds]]\n",
    "    otherstd = stuffstd[:,vcolInds[otherInds]]\n",
    "        \n",
    "    for i, pl in enumerate(otherInds):\n",
    "        traces += [\n",
    "            go.Scatter( \n",
    "                x=xaccs, \n",
    "                y=running_ave(other[:,i],smooth),\n",
    "                error_y = dict(\n",
    "                    type='data',\n",
    "                    array = otherstd[:,i],\n",
    "                    visible=True,\n",
    "                ),\n",
    "                mode='lines+markers', \n",
    "                name=plotnames[pl]\n",
    "            )\n",
    "        ]\n",
    "\n",
    "    plotTraces = traces[:plotInd] + traces0 + traces[plotInd:]\n",
    "    \n",
    "else: plotTraces = traces0\n",
    "\n",
    "fig = go.Figure(data=plotTraces, layout=layout)\n",
    "iplot(fig)"
   ]
  },
  {
   "cell_type": "code",
   "execution_count": 315,
   "metadata": {},
   "outputs": [],
   "source": [
    "stuff = vanilla[ plotinds[:,plotInd][inds].astype('int') ]"
   ]
  },
  {
   "cell_type": "code",
   "execution_count": 317,
   "metadata": {},
   "outputs": [
    {
     "data": {
      "text/plain": [
       "(33, 19)"
      ]
     },
     "execution_count": 317,
     "metadata": {},
     "output_type": "execute_result"
    }
   ],
   "source": [
    "stuff.shape[]"
   ]
  },
  {
   "cell_type": "markdown",
   "metadata": {},
   "source": [
    "Getting the scatter objects needed for the plots used in the appendix."
   ]
  },
  {
   "cell_type": "code",
   "execution_count": 342,
   "metadata": {},
   "outputs": [],
   "source": [
    "van = deepcopy(traces0)\n",
    "allvan = deepcopy(plotTraces)"
   ]
  },
  {
   "cell_type": "code",
   "execution_count": 361,
   "metadata": {},
   "outputs": [],
   "source": [
    "proj = deepcopy(traces0)\n",
    "allproj = deepcopy(plotTraces)"
   ]
  },
  {
   "cell_type": "code",
   "execution_count": 379,
   "metadata": {},
   "outputs": [],
   "source": [
    "rw = deepcopy(traces0)\n",
    "allrw = deepcopy(plotTraces)"
   ]
  },
  {
   "cell_type": "code",
   "execution_count": 381,
   "metadata": {},
   "outputs": [],
   "source": [
    "rw[0]['name'] = \"Reweighing\""
   ]
  },
  {
   "cell_type": "markdown",
   "metadata": {},
   "source": [
    "Plotting the BuDRO data"
   ]
  },
  {
   "cell_type": "code",
   "execution_count": 436,
   "metadata": {
    "scrolled": false
   },
   "outputs": [
    {
     "data": {
      "application/vnd.plotly.v1+json": {
       "config": {
        "linkText": "Export to plot.ly",
        "plotlyServerURL": "https://plot.ly",
        "showLink": false
       },
       "data": [
        {
         "error_y": {
          "array": [
           0.004990831517007791,
           0.006265841188585715,
           0.0073232817939174275,
           0.005897903237601474,
           0.005664602358534622,
           0.007335510071920772,
           0.009500327781939386,
           0.011668509811020305,
           0.0052096346366525175,
           0.0062107482085227705,
           0.007756876881385899,
           0.015022471198162888,
           0.0074770632228831286,
           0.014042193974227554,
           0.00797352548539461,
           0.012817306503443001,
           0.012710172290598369,
           0.013850820659662075,
           0.013674221018505085,
           0.013965328541288112,
           0.011094990760671998,
           0.005761024687381319,
           0.01028491427322131,
           0.00898033807887253,
           0.006176605756990345,
           0.007769195624971646,
           0.011686284926079319,
           0.005785480939133888,
           0.004889178875565089,
           0.004494933455768149,
           0.007339643880431507,
           0.007635966219035342,
           0.007870516107915185,
           0.005827339043841791,
           0.004756692306459431,
           0.004636915404835499,
           0.006015794443804601,
           0.005209174307938576,
           0.005391853434572906,
           0.005828667956482969,
           0.008064971842691136,
           0.010089229451062153,
           0.006723630809033968,
           0.0034826624438478735
          ],
          "type": "data",
          "visible": true
         },
         "mode": "lines+markers",
         "name": "S-cons",
         "type": "scatter",
         "x": [
          0.7608732640743255,
          0.762351256608963,
          0.7644367516040802,
          0.7655078172683716,
          0.7678009033203125,
          0.7681178569793701,
          0.7701086640357971,
          0.7718574702739716,
          0.774067610502243,
          0.7745361089706421,
          0.7772468447685241,
          0.7785725116729736,
          0.7792281210422516,
          0.7809873104095459,
          0.7824390530586243,
          0.7847714185714721,
          0.7866697013378143,
          0.7881755411624909,
          0.7888583958148956,
          0.790455549955368,
          0.7920903027057647,
          0.7936543703079224,
          0.7953046977519989,
          0.7968607485294342,
          0.7987221539020538,
          0.800346851348877,
          0.8019157171249389,
          0.8032113909721375,
          0.8061273276805878,
          0.8064040184020996,
          0.8080150425434113,
          0.8100662648677825,
          0.8113751709461212,
          0.8130085408687592,
          0.8147403061389923,
          0.8161949932575225,
          0.817786055803299,
          0.8192354798316955,
          0.8208386361598968,
          0.8226621925830842,
          0.824007511138916,
          0.8256450533866883,
          0.8279809415340423,
          0.8288456916809082
         ],
         "y": [
          0.9433167517185211,
          0.9423217296600341,
          0.9415478110313416,
          0.9421227216720581,
          0.9414925396442413,
          0.9511221647262573,
          0.9421227216720581,
          0.9498618066310882,
          0.9441680550575257,
          0.9420895516872406,
          0.9577888309955597,
          0.9405085623264313,
          0.9496185719966889,
          0.9400994956493378,
          0.9451409697532653,
          0.9427086710929871,
          0.9496959626674653,
          0.9466445565223693,
          0.9451851963996887,
          0.9423327744007111,
          0.9418242156505585,
          0.9504588186740875,
          0.9401437282562256,
          0.9416915476322174,
          0.9467330038547516,
          0.9449087858200074,
          0.9407407343387604,
          0.9535655081272125,
          0.9420232236385345,
          0.941757881641388,
          0.9418020963668823,
          0.9400663375854492,
          0.9400331616401673,
          0.9474626898765564,
          0.9472747385501862,
          0.9458927512168884,
          0.9446987330913543,
          0.9446434378623962,
          0.9419126689434052,
          0.949297958612442,
          0.9571254789829254,
          0.9674405753612518,
          0.9758872330188751,
          0.9775456011295318
         ]
        },
        {
         "error_y": {
          "array": [
           0.010644092817998496,
           0.01182689199159648,
           0.012299065910267432,
           0.013332241547521002,
           0.014857018707129147,
           0.009727529224282645,
           0.017792694618084512,
           0.0071008184374774545,
           0.009308588835865833,
           0.0060577826497382,
           0.00422379044658677,
           0.017520855264975092,
           0.005167996475823356,
           0.01808512506193678,
           0.007057538124326519,
           0.005202399425131949,
           0.008051824377846134,
           0.00828088052862993,
           0.008778920595347824,
           0.008932322033276874,
           0.005464179644692302,
           0.009868241918189875,
           0.00822406114359198,
           0.004443301265064602,
           0.004125019065138611,
           0.004509586666781814,
           0.015583311335186091,
           0.0032354286166107046,
           0.00405688812794804,
           0.0038340197285987284,
           0.005332776960442791,
           0.0038768603432285938,
           0.0028877496877327104,
           0.0034779390590416745,
           0.0034635722919254147,
           0.004096562074039545,
           0.0034336475370391234,
           0.003739497213389906,
           0.006678675104503923,
           0.00668987026625896,
           0.008339947719376248,
           0.01278002474561386,
           0.010878394175056393,
           0.00625413418878386
          ],
          "type": "data",
          "visible": true
         },
         "mode": "lines+markers",
         "name": "GR-cons",
         "type": "scatter",
         "x": [
          0.7608732640743255,
          0.762351256608963,
          0.7644367516040802,
          0.7655078172683716,
          0.7678009033203125,
          0.7681178569793701,
          0.7701086640357971,
          0.7718574702739716,
          0.774067610502243,
          0.7745361089706421,
          0.7772468447685241,
          0.7785725116729736,
          0.7792281210422516,
          0.7809873104095459,
          0.7824390530586243,
          0.7847714185714721,
          0.7866697013378143,
          0.7881755411624909,
          0.7888583958148956,
          0.790455549955368,
          0.7920903027057647,
          0.7936543703079224,
          0.7953046977519989,
          0.7968607485294342,
          0.7987221539020538,
          0.800346851348877,
          0.8019157171249389,
          0.8032113909721375,
          0.8061273276805878,
          0.8064040184020996,
          0.8080150425434113,
          0.8100662648677825,
          0.8113751709461212,
          0.8130085408687592,
          0.8147403061389923,
          0.8161949932575225,
          0.817786055803299,
          0.8192354798316955,
          0.8208386361598968,
          0.8226621925830842,
          0.824007511138916,
          0.8256450533866883,
          0.8279809415340423,
          0.8288456916809082
         ],
         "y": [
          0.8970259904861451,
          0.897744607925415,
          0.8981315612792968,
          0.8973797678947448,
          0.896583753824234,
          0.9068656802177429,
          0.9154671132564545,
          0.9230403542518616,
          0.896992814540863,
          0.8939082324504852,
          0.9615035891532898,
          0.9144168019294738,
          0.9548369228839875,
          0.9129132211208344,
          0.9060475409030915,
          0.9548479795455933,
          0.9602653384208679,
          0.960431170463562,
          0.9597899317741394,
          0.9591929256916046,
          0.9614261984825134,
          0.9227860689163208,
          0.9098728477954865,
          0.9625981211662292,
          0.9441569924354554,
          0.930149257183075,
          0.9229408442974091,
          0.944311773777008,
          0.9492426753044129,
          0.9495080173015594,
          0.9514980614185333,
          0.944897735118866,
          0.9456716418266297,
          0.9640353858470917,
          0.967772263288498,
          0.9682918727397919,
          0.9627639532089234,
          0.9640132665634156,
          0.9639911472797393,
          0.9619015991687775,
          0.9639911651611328,
          0.9535544574260711,
          0.9599778831005097,
          0.9682366013526916
         ]
        },
        {
         "error_y": {
          "array": [
           0.008943265306519108,
           0.012676085988145932,
           0.010499231600738344,
           0.009945503246874576,
           0.011618502841208621,
           0.00820518508859425,
           0.009519146738863442,
           0.012462821399635067,
           0.01037212294004327,
           0.009752446038205577,
           0.010266823718143617,
           0.013649072601225857,
           0.0089886512895157,
           0.011311208778446989,
           0.009752390954063805,
           0.008901356541596761,
           0.007696285185659114,
           0.010061537457696182,
           0.010875265381717614,
           0.011597044732338883,
           0.010125231784006922,
           0.011150284646253594,
           0.009670129736098865,
           0.011191310140652293,
           0.009419252873365461,
           0.009433834576372506,
           0.01151074804801535,
           0.009323136353011451,
           0.008125136345503362,
           0.008416740454695548,
           0.009347105400209206,
           0.009441642893398407,
           0.011189080444976997,
           0.011543533507321235,
           0.009756112005591405,
           0.010557766189955815,
           0.010912506482611438,
           0.009035331909115943,
           0.007709198348763197,
           0.01679178960343867,
           0.015409135992622594,
           0.012950745516160723,
           0.01368612539255005,
           0.00832288100505879
          ],
          "type": "data",
          "visible": true
         },
         "mode": "lines+markers",
         "name": "Gender gap RMS",
         "type": "scatter",
         "x": [
          0.7608732640743255,
          0.762351256608963,
          0.7644367516040802,
          0.7655078172683716,
          0.7678009033203125,
          0.7681178569793701,
          0.7701086640357971,
          0.7718574702739716,
          0.774067610502243,
          0.7745361089706421,
          0.7772468447685241,
          0.7785725116729736,
          0.7792281210422516,
          0.7809873104095459,
          0.7824390530586243,
          0.7847714185714721,
          0.7866697013378143,
          0.7881755411624909,
          0.7888583958148956,
          0.790455549955368,
          0.7920903027057647,
          0.7936543703079224,
          0.7953046977519989,
          0.7968607485294342,
          0.7987221539020538,
          0.800346851348877,
          0.8019157171249389,
          0.8032113909721375,
          0.8061273276805878,
          0.8064040184020996,
          0.8080150425434113,
          0.8100662648677825,
          0.8113751709461212,
          0.8130085408687592,
          0.8147403061389923,
          0.8161949932575225,
          0.817786055803299,
          0.8192354798316955,
          0.8208386361598968,
          0.8226621925830842,
          0.824007511138916,
          0.8256450533866883,
          0.8279809415340423,
          0.8288456916809082
         ],
         "y": [
          0.057661764696240424,
          0.05604253485798836,
          0.05975995250046253,
          0.06029562093317509,
          0.060642636939883234,
          0.06278397366404534,
          0.06090052723884583,
          0.06437451243400574,
          0.06664201505482197,
          0.06763355098664761,
          0.06400510147213936,
          0.06946577429771424,
          0.06380180083215237,
          0.0695277214050293,
          0.07193973660469055,
          0.06622619032859803,
          0.06611154489219188,
          0.06790657453238964,
          0.06891381964087487,
          0.07009011693298817,
          0.07422278970479965,
          0.07642946392297745,
          0.08298461213707924,
          0.0780530370771885,
          0.08319567367434502,
          0.08470851555466652,
          0.08533016741275787,
          0.08620249778032303,
          0.08785933181643486,
          0.0884746752679348,
          0.09746995866298676,
          0.10097420439124108,
          0.10418234914541244,
          0.10804197490215302,
          0.11059235483407974,
          0.11345393881201744,
          0.11974772959947586,
          0.12737628519535066,
          0.12872766256332396,
          0.14789975732564925,
          0.15941797494888305,
          0.1704741507768631,
          0.17060625106096267,
          0.17191074639558793
         ]
        },
        {
         "error_y": {
          "array": [
           0.008550012005731753,
           0.008202676241404647,
           0.008890202722016176,
           0.0064656826334828004,
           0.009219404403291798,
           0.00966611619796464,
           0.010181892509205748,
           0.013985272433265684,
           0.008805133180556259,
           0.008480582185699357,
           0.009525779149997197,
           0.011549122169089503,
           0.007624322239354449,
           0.011998171120222405,
           0.008885278077286672,
           0.007483968573405139,
           0.007557341759952328,
           0.008771141250047777,
           0.009746869190370202,
           0.010858627412694102,
           0.009808089991423663,
           0.012525794796012275,
           0.011970897591397817,
           0.01053772095303413,
           0.008443441633636908,
           0.007725873685837552,
           0.012366319540368768,
           0.010990110319539073,
           0.009911069190151892,
           0.01000412225380828,
           0.01115765529281527,
           0.009699663592383773,
           0.010018082831363614,
           0.00942929151761874,
           0.009262439332127474,
           0.009036907606717963,
           0.009480991355585272,
           0.0069788892493757,
           0.008407069848732285,
           0.013979360279148551,
           0.014428981531091902,
           0.01095257877575348,
           0.010949880526703957,
           0.008139326939044294
          ],
          "type": "data",
          "visible": true
         },
         "mode": "lines+markers",
         "name": "Gender gap MAX",
         "type": "scatter",
         "x": [
          0.7608732640743255,
          0.762351256608963,
          0.7644367516040802,
          0.7655078172683716,
          0.7678009033203125,
          0.7681178569793701,
          0.7701086640357971,
          0.7718574702739716,
          0.774067610502243,
          0.7745361089706421,
          0.7772468447685241,
          0.7785725116729736,
          0.7792281210422516,
          0.7809873104095459,
          0.7824390530586243,
          0.7847714185714721,
          0.7866697013378143,
          0.7881755411624909,
          0.7888583958148956,
          0.790455549955368,
          0.7920903027057647,
          0.7936543703079224,
          0.7953046977519989,
          0.7968607485294342,
          0.7987221539020538,
          0.800346851348877,
          0.8019157171249389,
          0.8032113909721375,
          0.8061273276805878,
          0.8064040184020996,
          0.8080150425434113,
          0.8100662648677825,
          0.8113751709461212,
          0.8130085408687592,
          0.8147403061389923,
          0.8161949932575225,
          0.817786055803299,
          0.8192354798316955,
          0.8208386361598968,
          0.8226621925830842,
          0.824007511138916,
          0.8256450533866883,
          0.8279809415340423,
          0.8288456916809082
         ],
         "y": [
          0.07208207659423352,
          0.07095477692782878,
          0.07473720423877239,
          0.07662535458803177,
          0.07695958986878396,
          0.08321712240576744,
          0.08187358230352401,
          0.08572383411228657,
          0.08420926257967949,
          0.08591239005327225,
          0.08434407785534859,
          0.09082666039466858,
          0.08384834975004196,
          0.09196763038635254,
          0.09011670276522636,
          0.08734274953603745,
          0.0901034876704216,
          0.0917545884847641,
          0.09276492893695831,
          0.09478686824440956,
          0.09836064502596856,
          0.10189941972494125,
          0.11197256371378898,
          0.10389432460069656,
          0.10997925102710723,
          0.11112323179841041,
          0.11499839276075363,
          0.1143566720187664,
          0.11939106285572051,
          0.11976206004619598,
          0.12968742474913597,
          0.1317142903804779,
          0.13475790992379189,
          0.13538517206907272,
          0.1451093390583992,
          0.14804611951112748,
          0.14985550493001937,
          0.15770017653703688,
          0.16617302298545839,
          0.18162302672863007,
          0.19272075295448304,
          0.2083740159869194,
          0.20392399281263351,
          0.20698475390672683
         ]
        },
        {
         "error_y": {
          "array": [
           0.011847622107316392,
           0.01212490218360215,
           0.013015443776866783,
           0.01341335328722136,
           0.012545683386298767,
           0.014026468028412264,
           0.016835928108023337,
           0.014904705211322715,
           0.01626951552587295,
           0.013046495242873974,
           0.01516348129272417,
           0.01689556525906473,
           0.017815278070932423,
           0.01522883820376929,
           0.015798361677412165,
           0.01557625803767884,
           0.015018131304287996,
           0.014094437860298627,
           0.014719127670404538,
           0.015334284571994122,
           0.014593458830450245,
           0.013703968052849165,
           0.01627056692810095,
           0.013350109912013207,
           0.012605281288958683,
           0.010608649945196759,
           0.013111127382779164,
           0.01211285282365825,
           0.012719044498775199,
           0.012277581665410112,
           0.01215620949717885,
           0.015105076433570458,
           0.013709009492033191,
           0.01466426452455974,
           0.013286882957661866,
           0.012040382188066186,
           0.010677596960949193,
           0.010332022693700772,
           0.012876669462835007,
           0.013539966434913047,
           0.014812820525225952,
           0.01323457321033167,
           0.015917289595626032,
           0.01687007513092957
          ],
          "type": "data",
          "visible": true
         },
         "mode": "lines+markers",
         "name": "Race gap RMS",
         "type": "scatter",
         "x": [
          0.7608732640743255,
          0.762351256608963,
          0.7644367516040802,
          0.7655078172683716,
          0.7678009033203125,
          0.7681178569793701,
          0.7701086640357971,
          0.7718574702739716,
          0.774067610502243,
          0.7745361089706421,
          0.7772468447685241,
          0.7785725116729736,
          0.7792281210422516,
          0.7809873104095459,
          0.7824390530586243,
          0.7847714185714721,
          0.7866697013378143,
          0.7881755411624909,
          0.7888583958148956,
          0.790455549955368,
          0.7920903027057647,
          0.7936543703079224,
          0.7953046977519989,
          0.7968607485294342,
          0.7987221539020538,
          0.800346851348877,
          0.8019157171249389,
          0.8032113909721375,
          0.8061273276805878,
          0.8064040184020996,
          0.8080150425434113,
          0.8100662648677825,
          0.8113751709461212,
          0.8130085408687592,
          0.8147403061389923,
          0.8161949932575225,
          0.817786055803299,
          0.8192354798316955,
          0.8208386361598968,
          0.8226621925830842,
          0.824007511138916,
          0.8256450533866883,
          0.8279809415340423,
          0.8288456916809082
         ],
         "y": [
          0.04092370886355638,
          0.04132098201662302,
          0.041132389940321444,
          0.04152342546731234,
          0.04288476053625345,
          0.04514168202877045,
          0.047569549083709715,
          0.047466670349240306,
          0.04410161599516869,
          0.043284556828439236,
          0.05361213553696871,
          0.04871312882751226,
          0.05399314239621163,
          0.04734237566590309,
          0.04685569256544113,
          0.05354399736970663,
          0.05624121967703104,
          0.054216633550822735,
          0.05471659749746323,
          0.05571879521012306,
          0.054426658898591995,
          0.055465057492256165,
          0.051463020592927934,
          0.056852087005972864,
          0.05614399500191212,
          0.05518934838473797,
          0.05576931685209274,
          0.05955077819526196,
          0.061113913916051386,
          0.06028107199817896,
          0.06458421796560287,
          0.06597513891756535,
          0.0678459096699953,
          0.06552151590585709,
          0.06462637633085251,
          0.06327754072844982,
          0.06241270340979099,
          0.06198129653930664,
          0.06821367368102074,
          0.06050477847456932,
          0.06116689071059227,
          0.060112175345420835,
          0.05918722786009312,
          0.06308306530117988
         ]
        },
        {
         "error_y": {
          "array": [
           0.015209234594520107,
           0.01559750456891848,
           0.01653254583439284,
           0.01581425993972931,
           0.015889090822439413,
           0.014508088140045191,
           0.01948537593833193,
           0.01688639495325371,
           0.019527549922875115,
           0.01661814004348357,
           0.01796047343027132,
           0.020671355515920153,
           0.0225061179767099,
           0.017455210353652457,
           0.01801350848247071,
           0.018317599504285544,
           0.017666516657773017,
           0.01504824402618372,
           0.016044755578026048,
           0.01698769238942442,
           0.015711788882586984,
           0.014734286250200387,
           0.014712508151949128,
           0.01477364473394625,
           0.011238156677977493,
           0.009571926625593648,
           0.011523752911927683,
           0.01225127926403765,
           0.01195656518738351,
           0.010768931137564896,
           0.01151477391472728,
           0.01846843405026291,
           0.015837214382676934,
           0.015908624770080693,
           0.013968565885368506,
           0.011850570007011596,
           0.00962452112901652,
           0.01025100758234193,
           0.011687193708439724,
           0.015989314555953524,
           0.016890779384302047,
           0.01571840726480177,
           0.018151350158830994,
           0.01760070774171509
          ],
          "type": "data",
          "visible": true
         },
         "mode": "lines+markers",
         "name": "Race gap MAX",
         "type": "scatter",
         "x": [
          0.7608732640743255,
          0.762351256608963,
          0.7644367516040802,
          0.7655078172683716,
          0.7678009033203125,
          0.7681178569793701,
          0.7701086640357971,
          0.7718574702739716,
          0.774067610502243,
          0.7745361089706421,
          0.7772468447685241,
          0.7785725116729736,
          0.7792281210422516,
          0.7809873104095459,
          0.7824390530586243,
          0.7847714185714721,
          0.7866697013378143,
          0.7881755411624909,
          0.7888583958148956,
          0.790455549955368,
          0.7920903027057647,
          0.7936543703079224,
          0.7953046977519989,
          0.7968607485294342,
          0.7987221539020538,
          0.800346851348877,
          0.8019157171249389,
          0.8032113909721375,
          0.8061273276805878,
          0.8064040184020996,
          0.8080150425434113,
          0.8100662648677825,
          0.8113751709461212,
          0.8130085408687592,
          0.8147403061389923,
          0.8161949932575225,
          0.817786055803299,
          0.8192354798316955,
          0.8208386361598968,
          0.8226621925830842,
          0.824007511138916,
          0.8256450533866883,
          0.8279809415340423,
          0.8288456916809082
         ],
         "y": [
          0.047665453888475894,
          0.04911530911922455,
          0.048068889416754246,
          0.04926252607256174,
          0.05135627686977386,
          0.05277520138770342,
          0.05531069952994585,
          0.05526233017444611,
          0.054631704837083815,
          0.051145825535058975,
          0.06306793615221977,
          0.0575827432796359,
          0.06443411707878113,
          0.054857232980430125,
          0.05582667402923107,
          0.06298110969364643,
          0.06673706583678722,
          0.06356933526694775,
          0.06403135843575,
          0.0651878196746111,
          0.06373191140592098,
          0.06397727131843567,
          0.05894984938204288,
          0.06614425517618656,
          0.06427488066256046,
          0.06140588857233524,
          0.06325350627303124,
          0.07052085995674133,
          0.06851160824298859,
          0.06748206540942192,
          0.07273165546357632,
          0.0741869281977415,
          0.07502152882516384,
          0.07493426837027073,
          0.07141772434115409,
          0.07208030074834823,
          0.07137431539595127,
          0.07339659482240676,
          0.07971663698554039,
          0.07275143302977086,
          0.0761926881968975,
          0.07789279446005822,
          0.07490933015942573,
          0.07899769693613053
         ]
        }
       ],
       "layout": {
        "font": {
         "family": "CMU Serif"
        },
        "legend": {
         "font": {
          "color": "#000",
          "size": 20
         }
        },
        "margin": {
         "b": 90,
         "l": 100,
         "r": 10,
         "t": 10
        },
        "plot_bgcolor": "rgba(0,0,0,0)",
        "showlegend": false,
        "template": {
         "data": {
          "bar": [
           {
            "error_x": {
             "color": "#2a3f5f"
            },
            "error_y": {
             "color": "#2a3f5f"
            },
            "marker": {
             "line": {
              "color": "#E5ECF6",
              "width": 0.5
             }
            },
            "type": "bar"
           }
          ],
          "barpolar": [
           {
            "marker": {
             "line": {
              "color": "#E5ECF6",
              "width": 0.5
             }
            },
            "type": "barpolar"
           }
          ],
          "carpet": [
           {
            "aaxis": {
             "endlinecolor": "#2a3f5f",
             "gridcolor": "white",
             "linecolor": "white",
             "minorgridcolor": "white",
             "startlinecolor": "#2a3f5f"
            },
            "baxis": {
             "endlinecolor": "#2a3f5f",
             "gridcolor": "white",
             "linecolor": "white",
             "minorgridcolor": "white",
             "startlinecolor": "#2a3f5f"
            },
            "type": "carpet"
           }
          ],
          "choropleth": [
           {
            "colorbar": {
             "outlinewidth": 0,
             "ticks": ""
            },
            "type": "choropleth"
           }
          ],
          "contour": [
           {
            "colorbar": {
             "outlinewidth": 0,
             "ticks": ""
            },
            "colorscale": [
             [
              0,
              "#0d0887"
             ],
             [
              0.1111111111111111,
              "#46039f"
             ],
             [
              0.2222222222222222,
              "#7201a8"
             ],
             [
              0.3333333333333333,
              "#9c179e"
             ],
             [
              0.4444444444444444,
              "#bd3786"
             ],
             [
              0.5555555555555556,
              "#d8576b"
             ],
             [
              0.6666666666666666,
              "#ed7953"
             ],
             [
              0.7777777777777778,
              "#fb9f3a"
             ],
             [
              0.8888888888888888,
              "#fdca26"
             ],
             [
              1,
              "#f0f921"
             ]
            ],
            "type": "contour"
           }
          ],
          "contourcarpet": [
           {
            "colorbar": {
             "outlinewidth": 0,
             "ticks": ""
            },
            "type": "contourcarpet"
           }
          ],
          "heatmap": [
           {
            "colorbar": {
             "outlinewidth": 0,
             "ticks": ""
            },
            "colorscale": [
             [
              0,
              "#0d0887"
             ],
             [
              0.1111111111111111,
              "#46039f"
             ],
             [
              0.2222222222222222,
              "#7201a8"
             ],
             [
              0.3333333333333333,
              "#9c179e"
             ],
             [
              0.4444444444444444,
              "#bd3786"
             ],
             [
              0.5555555555555556,
              "#d8576b"
             ],
             [
              0.6666666666666666,
              "#ed7953"
             ],
             [
              0.7777777777777778,
              "#fb9f3a"
             ],
             [
              0.8888888888888888,
              "#fdca26"
             ],
             [
              1,
              "#f0f921"
             ]
            ],
            "type": "heatmap"
           }
          ],
          "heatmapgl": [
           {
            "colorbar": {
             "outlinewidth": 0,
             "ticks": ""
            },
            "colorscale": [
             [
              0,
              "#0d0887"
             ],
             [
              0.1111111111111111,
              "#46039f"
             ],
             [
              0.2222222222222222,
              "#7201a8"
             ],
             [
              0.3333333333333333,
              "#9c179e"
             ],
             [
              0.4444444444444444,
              "#bd3786"
             ],
             [
              0.5555555555555556,
              "#d8576b"
             ],
             [
              0.6666666666666666,
              "#ed7953"
             ],
             [
              0.7777777777777778,
              "#fb9f3a"
             ],
             [
              0.8888888888888888,
              "#fdca26"
             ],
             [
              1,
              "#f0f921"
             ]
            ],
            "type": "heatmapgl"
           }
          ],
          "histogram": [
           {
            "marker": {
             "colorbar": {
              "outlinewidth": 0,
              "ticks": ""
             }
            },
            "type": "histogram"
           }
          ],
          "histogram2d": [
           {
            "colorbar": {
             "outlinewidth": 0,
             "ticks": ""
            },
            "colorscale": [
             [
              0,
              "#0d0887"
             ],
             [
              0.1111111111111111,
              "#46039f"
             ],
             [
              0.2222222222222222,
              "#7201a8"
             ],
             [
              0.3333333333333333,
              "#9c179e"
             ],
             [
              0.4444444444444444,
              "#bd3786"
             ],
             [
              0.5555555555555556,
              "#d8576b"
             ],
             [
              0.6666666666666666,
              "#ed7953"
             ],
             [
              0.7777777777777778,
              "#fb9f3a"
             ],
             [
              0.8888888888888888,
              "#fdca26"
             ],
             [
              1,
              "#f0f921"
             ]
            ],
            "type": "histogram2d"
           }
          ],
          "histogram2dcontour": [
           {
            "colorbar": {
             "outlinewidth": 0,
             "ticks": ""
            },
            "colorscale": [
             [
              0,
              "#0d0887"
             ],
             [
              0.1111111111111111,
              "#46039f"
             ],
             [
              0.2222222222222222,
              "#7201a8"
             ],
             [
              0.3333333333333333,
              "#9c179e"
             ],
             [
              0.4444444444444444,
              "#bd3786"
             ],
             [
              0.5555555555555556,
              "#d8576b"
             ],
             [
              0.6666666666666666,
              "#ed7953"
             ],
             [
              0.7777777777777778,
              "#fb9f3a"
             ],
             [
              0.8888888888888888,
              "#fdca26"
             ],
             [
              1,
              "#f0f921"
             ]
            ],
            "type": "histogram2dcontour"
           }
          ],
          "mesh3d": [
           {
            "colorbar": {
             "outlinewidth": 0,
             "ticks": ""
            },
            "type": "mesh3d"
           }
          ],
          "parcoords": [
           {
            "line": {
             "colorbar": {
              "outlinewidth": 0,
              "ticks": ""
             }
            },
            "type": "parcoords"
           }
          ],
          "pie": [
           {
            "automargin": true,
            "type": "pie"
           }
          ],
          "scatter": [
           {
            "marker": {
             "colorbar": {
              "outlinewidth": 0,
              "ticks": ""
             }
            },
            "type": "scatter"
           }
          ],
          "scatter3d": [
           {
            "line": {
             "colorbar": {
              "outlinewidth": 0,
              "ticks": ""
             }
            },
            "marker": {
             "colorbar": {
              "outlinewidth": 0,
              "ticks": ""
             }
            },
            "type": "scatter3d"
           }
          ],
          "scattercarpet": [
           {
            "marker": {
             "colorbar": {
              "outlinewidth": 0,
              "ticks": ""
             }
            },
            "type": "scattercarpet"
           }
          ],
          "scattergeo": [
           {
            "marker": {
             "colorbar": {
              "outlinewidth": 0,
              "ticks": ""
             }
            },
            "type": "scattergeo"
           }
          ],
          "scattergl": [
           {
            "marker": {
             "colorbar": {
              "outlinewidth": 0,
              "ticks": ""
             }
            },
            "type": "scattergl"
           }
          ],
          "scattermapbox": [
           {
            "marker": {
             "colorbar": {
              "outlinewidth": 0,
              "ticks": ""
             }
            },
            "type": "scattermapbox"
           }
          ],
          "scatterpolar": [
           {
            "marker": {
             "colorbar": {
              "outlinewidth": 0,
              "ticks": ""
             }
            },
            "type": "scatterpolar"
           }
          ],
          "scatterpolargl": [
           {
            "marker": {
             "colorbar": {
              "outlinewidth": 0,
              "ticks": ""
             }
            },
            "type": "scatterpolargl"
           }
          ],
          "scatterternary": [
           {
            "marker": {
             "colorbar": {
              "outlinewidth": 0,
              "ticks": ""
             }
            },
            "type": "scatterternary"
           }
          ],
          "surface": [
           {
            "colorbar": {
             "outlinewidth": 0,
             "ticks": ""
            },
            "colorscale": [
             [
              0,
              "#0d0887"
             ],
             [
              0.1111111111111111,
              "#46039f"
             ],
             [
              0.2222222222222222,
              "#7201a8"
             ],
             [
              0.3333333333333333,
              "#9c179e"
             ],
             [
              0.4444444444444444,
              "#bd3786"
             ],
             [
              0.5555555555555556,
              "#d8576b"
             ],
             [
              0.6666666666666666,
              "#ed7953"
             ],
             [
              0.7777777777777778,
              "#fb9f3a"
             ],
             [
              0.8888888888888888,
              "#fdca26"
             ],
             [
              1,
              "#f0f921"
             ]
            ],
            "type": "surface"
           }
          ],
          "table": [
           {
            "cells": {
             "fill": {
              "color": "#EBF0F8"
             },
             "line": {
              "color": "white"
             }
            },
            "header": {
             "fill": {
              "color": "#C8D4E3"
             },
             "line": {
              "color": "white"
             }
            },
            "type": "table"
           }
          ]
         },
         "layout": {
          "annotationdefaults": {
           "arrowcolor": "#2a3f5f",
           "arrowhead": 0,
           "arrowwidth": 1
          },
          "coloraxis": {
           "colorbar": {
            "outlinewidth": 0,
            "ticks": ""
           }
          },
          "colorscale": {
           "diverging": [
            [
             0,
             "#8e0152"
            ],
            [
             0.1,
             "#c51b7d"
            ],
            [
             0.2,
             "#de77ae"
            ],
            [
             0.3,
             "#f1b6da"
            ],
            [
             0.4,
             "#fde0ef"
            ],
            [
             0.5,
             "#f7f7f7"
            ],
            [
             0.6,
             "#e6f5d0"
            ],
            [
             0.7,
             "#b8e186"
            ],
            [
             0.8,
             "#7fbc41"
            ],
            [
             0.9,
             "#4d9221"
            ],
            [
             1,
             "#276419"
            ]
           ],
           "sequential": [
            [
             0,
             "#0d0887"
            ],
            [
             0.1111111111111111,
             "#46039f"
            ],
            [
             0.2222222222222222,
             "#7201a8"
            ],
            [
             0.3333333333333333,
             "#9c179e"
            ],
            [
             0.4444444444444444,
             "#bd3786"
            ],
            [
             0.5555555555555556,
             "#d8576b"
            ],
            [
             0.6666666666666666,
             "#ed7953"
            ],
            [
             0.7777777777777778,
             "#fb9f3a"
            ],
            [
             0.8888888888888888,
             "#fdca26"
            ],
            [
             1,
             "#f0f921"
            ]
           ],
           "sequentialminus": [
            [
             0,
             "#0d0887"
            ],
            [
             0.1111111111111111,
             "#46039f"
            ],
            [
             0.2222222222222222,
             "#7201a8"
            ],
            [
             0.3333333333333333,
             "#9c179e"
            ],
            [
             0.4444444444444444,
             "#bd3786"
            ],
            [
             0.5555555555555556,
             "#d8576b"
            ],
            [
             0.6666666666666666,
             "#ed7953"
            ],
            [
             0.7777777777777778,
             "#fb9f3a"
            ],
            [
             0.8888888888888888,
             "#fdca26"
            ],
            [
             1,
             "#f0f921"
            ]
           ]
          },
          "colorway": [
           "#636efa",
           "#EF553B",
           "#00cc96",
           "#ab63fa",
           "#FFA15A",
           "#19d3f3",
           "#FF6692",
           "#B6E880",
           "#FF97FF",
           "#FECB52"
          ],
          "font": {
           "color": "#2a3f5f"
          },
          "geo": {
           "bgcolor": "white",
           "lakecolor": "white",
           "landcolor": "#E5ECF6",
           "showlakes": true,
           "showland": true,
           "subunitcolor": "white"
          },
          "hoverlabel": {
           "align": "left"
          },
          "hovermode": "closest",
          "mapbox": {
           "style": "light"
          },
          "paper_bgcolor": "white",
          "plot_bgcolor": "#E5ECF6",
          "polar": {
           "angularaxis": {
            "gridcolor": "white",
            "linecolor": "white",
            "ticks": ""
           },
           "bgcolor": "#E5ECF6",
           "radialaxis": {
            "gridcolor": "white",
            "linecolor": "white",
            "ticks": ""
           }
          },
          "scene": {
           "xaxis": {
            "backgroundcolor": "#E5ECF6",
            "gridcolor": "white",
            "gridwidth": 2,
            "linecolor": "white",
            "showbackground": true,
            "ticks": "",
            "zerolinecolor": "white"
           },
           "yaxis": {
            "backgroundcolor": "#E5ECF6",
            "gridcolor": "white",
            "gridwidth": 2,
            "linecolor": "white",
            "showbackground": true,
            "ticks": "",
            "zerolinecolor": "white"
           },
           "zaxis": {
            "backgroundcolor": "#E5ECF6",
            "gridcolor": "white",
            "gridwidth": 2,
            "linecolor": "white",
            "showbackground": true,
            "ticks": "",
            "zerolinecolor": "white"
           }
          },
          "shapedefaults": {
           "line": {
            "color": "#2a3f5f"
           }
          },
          "ternary": {
           "aaxis": {
            "gridcolor": "white",
            "linecolor": "white",
            "ticks": ""
           },
           "baxis": {
            "gridcolor": "white",
            "linecolor": "white",
            "ticks": ""
           },
           "bgcolor": "#E5ECF6",
           "caxis": {
            "gridcolor": "white",
            "linecolor": "white",
            "ticks": ""
           }
          },
          "title": {
           "x": 0.05
          },
          "xaxis": {
           "automargin": true,
           "gridcolor": "white",
           "linecolor": "white",
           "ticks": "",
           "title": {
            "standoff": 15
           },
           "zerolinecolor": "white",
           "zerolinewidth": 2
          },
          "yaxis": {
           "automargin": true,
           "gridcolor": "white",
           "linecolor": "white",
           "ticks": "",
           "title": {
            "standoff": 15
           },
           "zerolinecolor": "white",
           "zerolinewidth": 2
          }
         }
        },
        "xaxis": {
         "linecolor": "black",
         "mirror": "ticks",
         "showgrid": false,
         "showline": true,
         "tickfont": {
          "color": "#000",
          "size": 24
         },
         "ticks": "inside",
         "title": {
          "font": {
           "color": "#000",
           "size": 30
          },
          "text": "Balanced accuracy"
         }
        },
        "yaxis": {
         "linecolor": "black",
         "mirror": "ticks",
         "showgrid": false,
         "showline": true,
         "tickfont": {
          "color": "#000",
          "size": 24
         },
         "ticks": "inside",
         "title": {
          "font": {
           "color": "#000",
           "size": 30
          },
          "text": "Gap size"
         }
        }
       }
      },
      "text/html": [
       "<div>\n",
       "        \n",
       "        \n",
       "            <div id=\"a4ff9016-e49c-4901-bdc1-3894c6a6bbf7\" class=\"plotly-graph-div\" style=\"height:525px; width:100%;\"></div>\n",
       "            <script type=\"text/javascript\">\n",
       "                require([\"plotly\"], function(Plotly) {\n",
       "                    window.PLOTLYENV=window.PLOTLYENV || {};\n",
       "                    \n",
       "                if (document.getElementById(\"a4ff9016-e49c-4901-bdc1-3894c6a6bbf7\")) {\n",
       "                    Plotly.newPlot(\n",
       "                        'a4ff9016-e49c-4901-bdc1-3894c6a6bbf7',\n",
       "                        [{\"error_y\": {\"array\": [0.004990831517007791, 0.006265841188585715, 0.0073232817939174275, 0.005897903237601474, 0.005664602358534622, 0.007335510071920772, 0.009500327781939386, 0.011668509811020305, 0.0052096346366525175, 0.0062107482085227705, 0.007756876881385899, 0.015022471198162888, 0.0074770632228831286, 0.014042193974227554, 0.00797352548539461, 0.012817306503443001, 0.012710172290598369, 0.013850820659662075, 0.013674221018505085, 0.013965328541288112, 0.011094990760671998, 0.005761024687381319, 0.01028491427322131, 0.00898033807887253, 0.006176605756990345, 0.007769195624971646, 0.011686284926079319, 0.005785480939133888, 0.004889178875565089, 0.004494933455768149, 0.007339643880431507, 0.007635966219035342, 0.007870516107915185, 0.005827339043841791, 0.004756692306459431, 0.004636915404835499, 0.006015794443804601, 0.005209174307938576, 0.005391853434572906, 0.005828667956482969, 0.008064971842691136, 0.010089229451062153, 0.006723630809033968, 0.0034826624438478735], \"type\": \"data\", \"visible\": true}, \"mode\": \"lines+markers\", \"name\": \"S-cons\", \"type\": \"scatter\", \"x\": [0.7608732640743255, 0.762351256608963, 0.7644367516040802, 0.7655078172683716, 0.7678009033203125, 0.7681178569793701, 0.7701086640357971, 0.7718574702739716, 0.774067610502243, 0.7745361089706421, 0.7772468447685241, 0.7785725116729736, 0.7792281210422516, 0.7809873104095459, 0.7824390530586243, 0.7847714185714721, 0.7866697013378143, 0.7881755411624909, 0.7888583958148956, 0.790455549955368, 0.7920903027057647, 0.7936543703079224, 0.7953046977519989, 0.7968607485294342, 0.7987221539020538, 0.800346851348877, 0.8019157171249389, 0.8032113909721375, 0.8061273276805878, 0.8064040184020996, 0.8080150425434113, 0.8100662648677825, 0.8113751709461212, 0.8130085408687592, 0.8147403061389923, 0.8161949932575225, 0.817786055803299, 0.8192354798316955, 0.8208386361598968, 0.8226621925830842, 0.824007511138916, 0.8256450533866883, 0.8279809415340423, 0.8288456916809082], \"y\": [0.9433167517185211, 0.9423217296600341, 0.9415478110313416, 0.9421227216720581, 0.9414925396442413, 0.9511221647262573, 0.9421227216720581, 0.9498618066310882, 0.9441680550575257, 0.9420895516872406, 0.9577888309955597, 0.9405085623264313, 0.9496185719966889, 0.9400994956493378, 0.9451409697532653, 0.9427086710929871, 0.9496959626674653, 0.9466445565223693, 0.9451851963996887, 0.9423327744007111, 0.9418242156505585, 0.9504588186740875, 0.9401437282562256, 0.9416915476322174, 0.9467330038547516, 0.9449087858200074, 0.9407407343387604, 0.9535655081272125, 0.9420232236385345, 0.941757881641388, 0.9418020963668823, 0.9400663375854492, 0.9400331616401673, 0.9474626898765564, 0.9472747385501862, 0.9458927512168884, 0.9446987330913543, 0.9446434378623962, 0.9419126689434052, 0.949297958612442, 0.9571254789829254, 0.9674405753612518, 0.9758872330188751, 0.9775456011295318]}, {\"error_y\": {\"array\": [0.010644092817998496, 0.01182689199159648, 0.012299065910267432, 0.013332241547521002, 0.014857018707129147, 0.009727529224282645, 0.017792694618084512, 0.0071008184374774545, 0.009308588835865833, 0.0060577826497382, 0.00422379044658677, 0.017520855264975092, 0.005167996475823356, 0.01808512506193678, 0.007057538124326519, 0.005202399425131949, 0.008051824377846134, 0.00828088052862993, 0.008778920595347824, 0.008932322033276874, 0.005464179644692302, 0.009868241918189875, 0.00822406114359198, 0.004443301265064602, 0.004125019065138611, 0.004509586666781814, 0.015583311335186091, 0.0032354286166107046, 0.00405688812794804, 0.0038340197285987284, 0.005332776960442791, 0.0038768603432285938, 0.0028877496877327104, 0.0034779390590416745, 0.0034635722919254147, 0.004096562074039545, 0.0034336475370391234, 0.003739497213389906, 0.006678675104503923, 0.00668987026625896, 0.008339947719376248, 0.01278002474561386, 0.010878394175056393, 0.00625413418878386], \"type\": \"data\", \"visible\": true}, \"mode\": \"lines+markers\", \"name\": \"GR-cons\", \"type\": \"scatter\", \"x\": [0.7608732640743255, 0.762351256608963, 0.7644367516040802, 0.7655078172683716, 0.7678009033203125, 0.7681178569793701, 0.7701086640357971, 0.7718574702739716, 0.774067610502243, 0.7745361089706421, 0.7772468447685241, 0.7785725116729736, 0.7792281210422516, 0.7809873104095459, 0.7824390530586243, 0.7847714185714721, 0.7866697013378143, 0.7881755411624909, 0.7888583958148956, 0.790455549955368, 0.7920903027057647, 0.7936543703079224, 0.7953046977519989, 0.7968607485294342, 0.7987221539020538, 0.800346851348877, 0.8019157171249389, 0.8032113909721375, 0.8061273276805878, 0.8064040184020996, 0.8080150425434113, 0.8100662648677825, 0.8113751709461212, 0.8130085408687592, 0.8147403061389923, 0.8161949932575225, 0.817786055803299, 0.8192354798316955, 0.8208386361598968, 0.8226621925830842, 0.824007511138916, 0.8256450533866883, 0.8279809415340423, 0.8288456916809082], \"y\": [0.8970259904861451, 0.897744607925415, 0.8981315612792968, 0.8973797678947448, 0.896583753824234, 0.9068656802177429, 0.9154671132564545, 0.9230403542518616, 0.896992814540863, 0.8939082324504852, 0.9615035891532898, 0.9144168019294738, 0.9548369228839875, 0.9129132211208344, 0.9060475409030915, 0.9548479795455933, 0.9602653384208679, 0.960431170463562, 0.9597899317741394, 0.9591929256916046, 0.9614261984825134, 0.9227860689163208, 0.9098728477954865, 0.9625981211662292, 0.9441569924354554, 0.930149257183075, 0.9229408442974091, 0.944311773777008, 0.9492426753044129, 0.9495080173015594, 0.9514980614185333, 0.944897735118866, 0.9456716418266297, 0.9640353858470917, 0.967772263288498, 0.9682918727397919, 0.9627639532089234, 0.9640132665634156, 0.9639911472797393, 0.9619015991687775, 0.9639911651611328, 0.9535544574260711, 0.9599778831005097, 0.9682366013526916]}, {\"error_y\": {\"array\": [0.008943265306519108, 0.012676085988145932, 0.010499231600738344, 0.009945503246874576, 0.011618502841208621, 0.00820518508859425, 0.009519146738863442, 0.012462821399635067, 0.01037212294004327, 0.009752446038205577, 0.010266823718143617, 0.013649072601225857, 0.0089886512895157, 0.011311208778446989, 0.009752390954063805, 0.008901356541596761, 0.007696285185659114, 0.010061537457696182, 0.010875265381717614, 0.011597044732338883, 0.010125231784006922, 0.011150284646253594, 0.009670129736098865, 0.011191310140652293, 0.009419252873365461, 0.009433834576372506, 0.01151074804801535, 0.009323136353011451, 0.008125136345503362, 0.008416740454695548, 0.009347105400209206, 0.009441642893398407, 0.011189080444976997, 0.011543533507321235, 0.009756112005591405, 0.010557766189955815, 0.010912506482611438, 0.009035331909115943, 0.007709198348763197, 0.01679178960343867, 0.015409135992622594, 0.012950745516160723, 0.01368612539255005, 0.00832288100505879], \"type\": \"data\", \"visible\": true}, \"mode\": \"lines+markers\", \"name\": \"Gender gap RMS\", \"type\": \"scatter\", \"x\": [0.7608732640743255, 0.762351256608963, 0.7644367516040802, 0.7655078172683716, 0.7678009033203125, 0.7681178569793701, 0.7701086640357971, 0.7718574702739716, 0.774067610502243, 0.7745361089706421, 0.7772468447685241, 0.7785725116729736, 0.7792281210422516, 0.7809873104095459, 0.7824390530586243, 0.7847714185714721, 0.7866697013378143, 0.7881755411624909, 0.7888583958148956, 0.790455549955368, 0.7920903027057647, 0.7936543703079224, 0.7953046977519989, 0.7968607485294342, 0.7987221539020538, 0.800346851348877, 0.8019157171249389, 0.8032113909721375, 0.8061273276805878, 0.8064040184020996, 0.8080150425434113, 0.8100662648677825, 0.8113751709461212, 0.8130085408687592, 0.8147403061389923, 0.8161949932575225, 0.817786055803299, 0.8192354798316955, 0.8208386361598968, 0.8226621925830842, 0.824007511138916, 0.8256450533866883, 0.8279809415340423, 0.8288456916809082], \"y\": [0.057661764696240424, 0.05604253485798836, 0.05975995250046253, 0.06029562093317509, 0.060642636939883234, 0.06278397366404534, 0.06090052723884583, 0.06437451243400574, 0.06664201505482197, 0.06763355098664761, 0.06400510147213936, 0.06946577429771424, 0.06380180083215237, 0.0695277214050293, 0.07193973660469055, 0.06622619032859803, 0.06611154489219188, 0.06790657453238964, 0.06891381964087487, 0.07009011693298817, 0.07422278970479965, 0.07642946392297745, 0.08298461213707924, 0.0780530370771885, 0.08319567367434502, 0.08470851555466652, 0.08533016741275787, 0.08620249778032303, 0.08785933181643486, 0.0884746752679348, 0.09746995866298676, 0.10097420439124108, 0.10418234914541244, 0.10804197490215302, 0.11059235483407974, 0.11345393881201744, 0.11974772959947586, 0.12737628519535066, 0.12872766256332396, 0.14789975732564925, 0.15941797494888305, 0.1704741507768631, 0.17060625106096267, 0.17191074639558793]}, {\"error_y\": {\"array\": [0.008550012005731753, 0.008202676241404647, 0.008890202722016176, 0.0064656826334828004, 0.009219404403291798, 0.00966611619796464, 0.010181892509205748, 0.013985272433265684, 0.008805133180556259, 0.008480582185699357, 0.009525779149997197, 0.011549122169089503, 0.007624322239354449, 0.011998171120222405, 0.008885278077286672, 0.007483968573405139, 0.007557341759952328, 0.008771141250047777, 0.009746869190370202, 0.010858627412694102, 0.009808089991423663, 0.012525794796012275, 0.011970897591397817, 0.01053772095303413, 0.008443441633636908, 0.007725873685837552, 0.012366319540368768, 0.010990110319539073, 0.009911069190151892, 0.01000412225380828, 0.01115765529281527, 0.009699663592383773, 0.010018082831363614, 0.00942929151761874, 0.009262439332127474, 0.009036907606717963, 0.009480991355585272, 0.0069788892493757, 0.008407069848732285, 0.013979360279148551, 0.014428981531091902, 0.01095257877575348, 0.010949880526703957, 0.008139326939044294], \"type\": \"data\", \"visible\": true}, \"mode\": \"lines+markers\", \"name\": \"Gender gap MAX\", \"type\": \"scatter\", \"x\": [0.7608732640743255, 0.762351256608963, 0.7644367516040802, 0.7655078172683716, 0.7678009033203125, 0.7681178569793701, 0.7701086640357971, 0.7718574702739716, 0.774067610502243, 0.7745361089706421, 0.7772468447685241, 0.7785725116729736, 0.7792281210422516, 0.7809873104095459, 0.7824390530586243, 0.7847714185714721, 0.7866697013378143, 0.7881755411624909, 0.7888583958148956, 0.790455549955368, 0.7920903027057647, 0.7936543703079224, 0.7953046977519989, 0.7968607485294342, 0.7987221539020538, 0.800346851348877, 0.8019157171249389, 0.8032113909721375, 0.8061273276805878, 0.8064040184020996, 0.8080150425434113, 0.8100662648677825, 0.8113751709461212, 0.8130085408687592, 0.8147403061389923, 0.8161949932575225, 0.817786055803299, 0.8192354798316955, 0.8208386361598968, 0.8226621925830842, 0.824007511138916, 0.8256450533866883, 0.8279809415340423, 0.8288456916809082], \"y\": [0.07208207659423352, 0.07095477692782878, 0.07473720423877239, 0.07662535458803177, 0.07695958986878396, 0.08321712240576744, 0.08187358230352401, 0.08572383411228657, 0.08420926257967949, 0.08591239005327225, 0.08434407785534859, 0.09082666039466858, 0.08384834975004196, 0.09196763038635254, 0.09011670276522636, 0.08734274953603745, 0.0901034876704216, 0.0917545884847641, 0.09276492893695831, 0.09478686824440956, 0.09836064502596856, 0.10189941972494125, 0.11197256371378898, 0.10389432460069656, 0.10997925102710723, 0.11112323179841041, 0.11499839276075363, 0.1143566720187664, 0.11939106285572051, 0.11976206004619598, 0.12968742474913597, 0.1317142903804779, 0.13475790992379189, 0.13538517206907272, 0.1451093390583992, 0.14804611951112748, 0.14985550493001937, 0.15770017653703688, 0.16617302298545839, 0.18162302672863007, 0.19272075295448304, 0.2083740159869194, 0.20392399281263351, 0.20698475390672683]}, {\"error_y\": {\"array\": [0.011847622107316392, 0.01212490218360215, 0.013015443776866783, 0.01341335328722136, 0.012545683386298767, 0.014026468028412264, 0.016835928108023337, 0.014904705211322715, 0.01626951552587295, 0.013046495242873974, 0.01516348129272417, 0.01689556525906473, 0.017815278070932423, 0.01522883820376929, 0.015798361677412165, 0.01557625803767884, 0.015018131304287996, 0.014094437860298627, 0.014719127670404538, 0.015334284571994122, 0.014593458830450245, 0.013703968052849165, 0.01627056692810095, 0.013350109912013207, 0.012605281288958683, 0.010608649945196759, 0.013111127382779164, 0.01211285282365825, 0.012719044498775199, 0.012277581665410112, 0.01215620949717885, 0.015105076433570458, 0.013709009492033191, 0.01466426452455974, 0.013286882957661866, 0.012040382188066186, 0.010677596960949193, 0.010332022693700772, 0.012876669462835007, 0.013539966434913047, 0.014812820525225952, 0.01323457321033167, 0.015917289595626032, 0.01687007513092957], \"type\": \"data\", \"visible\": true}, \"mode\": \"lines+markers\", \"name\": \"Race gap RMS\", \"type\": \"scatter\", \"x\": [0.7608732640743255, 0.762351256608963, 0.7644367516040802, 0.7655078172683716, 0.7678009033203125, 0.7681178569793701, 0.7701086640357971, 0.7718574702739716, 0.774067610502243, 0.7745361089706421, 0.7772468447685241, 0.7785725116729736, 0.7792281210422516, 0.7809873104095459, 0.7824390530586243, 0.7847714185714721, 0.7866697013378143, 0.7881755411624909, 0.7888583958148956, 0.790455549955368, 0.7920903027057647, 0.7936543703079224, 0.7953046977519989, 0.7968607485294342, 0.7987221539020538, 0.800346851348877, 0.8019157171249389, 0.8032113909721375, 0.8061273276805878, 0.8064040184020996, 0.8080150425434113, 0.8100662648677825, 0.8113751709461212, 0.8130085408687592, 0.8147403061389923, 0.8161949932575225, 0.817786055803299, 0.8192354798316955, 0.8208386361598968, 0.8226621925830842, 0.824007511138916, 0.8256450533866883, 0.8279809415340423, 0.8288456916809082], \"y\": [0.04092370886355638, 0.04132098201662302, 0.041132389940321444, 0.04152342546731234, 0.04288476053625345, 0.04514168202877045, 0.047569549083709715, 0.047466670349240306, 0.04410161599516869, 0.043284556828439236, 0.05361213553696871, 0.04871312882751226, 0.05399314239621163, 0.04734237566590309, 0.04685569256544113, 0.05354399736970663, 0.05624121967703104, 0.054216633550822735, 0.05471659749746323, 0.05571879521012306, 0.054426658898591995, 0.055465057492256165, 0.051463020592927934, 0.056852087005972864, 0.05614399500191212, 0.05518934838473797, 0.05576931685209274, 0.05955077819526196, 0.061113913916051386, 0.06028107199817896, 0.06458421796560287, 0.06597513891756535, 0.0678459096699953, 0.06552151590585709, 0.06462637633085251, 0.06327754072844982, 0.06241270340979099, 0.06198129653930664, 0.06821367368102074, 0.06050477847456932, 0.06116689071059227, 0.060112175345420835, 0.05918722786009312, 0.06308306530117988]}, {\"error_y\": {\"array\": [0.015209234594520107, 0.01559750456891848, 0.01653254583439284, 0.01581425993972931, 0.015889090822439413, 0.014508088140045191, 0.01948537593833193, 0.01688639495325371, 0.019527549922875115, 0.01661814004348357, 0.01796047343027132, 0.020671355515920153, 0.0225061179767099, 0.017455210353652457, 0.01801350848247071, 0.018317599504285544, 0.017666516657773017, 0.01504824402618372, 0.016044755578026048, 0.01698769238942442, 0.015711788882586984, 0.014734286250200387, 0.014712508151949128, 0.01477364473394625, 0.011238156677977493, 0.009571926625593648, 0.011523752911927683, 0.01225127926403765, 0.01195656518738351, 0.010768931137564896, 0.01151477391472728, 0.01846843405026291, 0.015837214382676934, 0.015908624770080693, 0.013968565885368506, 0.011850570007011596, 0.00962452112901652, 0.01025100758234193, 0.011687193708439724, 0.015989314555953524, 0.016890779384302047, 0.01571840726480177, 0.018151350158830994, 0.01760070774171509], \"type\": \"data\", \"visible\": true}, \"mode\": \"lines+markers\", \"name\": \"Race gap MAX\", \"type\": \"scatter\", \"x\": [0.7608732640743255, 0.762351256608963, 0.7644367516040802, 0.7655078172683716, 0.7678009033203125, 0.7681178569793701, 0.7701086640357971, 0.7718574702739716, 0.774067610502243, 0.7745361089706421, 0.7772468447685241, 0.7785725116729736, 0.7792281210422516, 0.7809873104095459, 0.7824390530586243, 0.7847714185714721, 0.7866697013378143, 0.7881755411624909, 0.7888583958148956, 0.790455549955368, 0.7920903027057647, 0.7936543703079224, 0.7953046977519989, 0.7968607485294342, 0.7987221539020538, 0.800346851348877, 0.8019157171249389, 0.8032113909721375, 0.8061273276805878, 0.8064040184020996, 0.8080150425434113, 0.8100662648677825, 0.8113751709461212, 0.8130085408687592, 0.8147403061389923, 0.8161949932575225, 0.817786055803299, 0.8192354798316955, 0.8208386361598968, 0.8226621925830842, 0.824007511138916, 0.8256450533866883, 0.8279809415340423, 0.8288456916809082], \"y\": [0.047665453888475894, 0.04911530911922455, 0.048068889416754246, 0.04926252607256174, 0.05135627686977386, 0.05277520138770342, 0.05531069952994585, 0.05526233017444611, 0.054631704837083815, 0.051145825535058975, 0.06306793615221977, 0.0575827432796359, 0.06443411707878113, 0.054857232980430125, 0.05582667402923107, 0.06298110969364643, 0.06673706583678722, 0.06356933526694775, 0.06403135843575, 0.0651878196746111, 0.06373191140592098, 0.06397727131843567, 0.05894984938204288, 0.06614425517618656, 0.06427488066256046, 0.06140588857233524, 0.06325350627303124, 0.07052085995674133, 0.06851160824298859, 0.06748206540942192, 0.07273165546357632, 0.0741869281977415, 0.07502152882516384, 0.07493426837027073, 0.07141772434115409, 0.07208030074834823, 0.07137431539595127, 0.07339659482240676, 0.07971663698554039, 0.07275143302977086, 0.0761926881968975, 0.07789279446005822, 0.07490933015942573, 0.07899769693613053]}],\n",
       "                        {\"font\": {\"family\": \"CMU Serif\"}, \"legend\": {\"font\": {\"color\": \"#000\", \"size\": 20}}, \"margin\": {\"b\": 90, \"l\": 100, \"r\": 10, \"t\": 10}, \"plot_bgcolor\": \"rgba(0,0,0,0)\", \"showlegend\": false, \"template\": {\"data\": {\"bar\": [{\"error_x\": {\"color\": \"#2a3f5f\"}, \"error_y\": {\"color\": \"#2a3f5f\"}, \"marker\": {\"line\": {\"color\": \"#E5ECF6\", \"width\": 0.5}}, \"type\": \"bar\"}], \"barpolar\": [{\"marker\": {\"line\": {\"color\": \"#E5ECF6\", \"width\": 0.5}}, \"type\": \"barpolar\"}], \"carpet\": [{\"aaxis\": {\"endlinecolor\": \"#2a3f5f\", \"gridcolor\": \"white\", \"linecolor\": \"white\", \"minorgridcolor\": \"white\", \"startlinecolor\": \"#2a3f5f\"}, \"baxis\": {\"endlinecolor\": \"#2a3f5f\", \"gridcolor\": \"white\", \"linecolor\": \"white\", \"minorgridcolor\": \"white\", \"startlinecolor\": \"#2a3f5f\"}, \"type\": \"carpet\"}], \"choropleth\": [{\"colorbar\": {\"outlinewidth\": 0, \"ticks\": \"\"}, \"type\": \"choropleth\"}], \"contour\": [{\"colorbar\": {\"outlinewidth\": 0, \"ticks\": \"\"}, \"colorscale\": [[0.0, \"#0d0887\"], [0.1111111111111111, \"#46039f\"], [0.2222222222222222, \"#7201a8\"], [0.3333333333333333, \"#9c179e\"], [0.4444444444444444, \"#bd3786\"], [0.5555555555555556, \"#d8576b\"], [0.6666666666666666, \"#ed7953\"], [0.7777777777777778, \"#fb9f3a\"], [0.8888888888888888, \"#fdca26\"], [1.0, \"#f0f921\"]], \"type\": \"contour\"}], \"contourcarpet\": [{\"colorbar\": {\"outlinewidth\": 0, \"ticks\": \"\"}, \"type\": \"contourcarpet\"}], \"heatmap\": [{\"colorbar\": {\"outlinewidth\": 0, \"ticks\": \"\"}, \"colorscale\": [[0.0, \"#0d0887\"], [0.1111111111111111, \"#46039f\"], [0.2222222222222222, \"#7201a8\"], [0.3333333333333333, \"#9c179e\"], [0.4444444444444444, \"#bd3786\"], [0.5555555555555556, \"#d8576b\"], [0.6666666666666666, \"#ed7953\"], [0.7777777777777778, \"#fb9f3a\"], [0.8888888888888888, \"#fdca26\"], [1.0, \"#f0f921\"]], \"type\": \"heatmap\"}], \"heatmapgl\": [{\"colorbar\": {\"outlinewidth\": 0, \"ticks\": \"\"}, \"colorscale\": [[0.0, \"#0d0887\"], [0.1111111111111111, \"#46039f\"], [0.2222222222222222, \"#7201a8\"], [0.3333333333333333, \"#9c179e\"], [0.4444444444444444, \"#bd3786\"], [0.5555555555555556, \"#d8576b\"], [0.6666666666666666, \"#ed7953\"], [0.7777777777777778, \"#fb9f3a\"], [0.8888888888888888, \"#fdca26\"], [1.0, \"#f0f921\"]], \"type\": \"heatmapgl\"}], \"histogram\": [{\"marker\": {\"colorbar\": {\"outlinewidth\": 0, \"ticks\": \"\"}}, \"type\": \"histogram\"}], \"histogram2d\": [{\"colorbar\": {\"outlinewidth\": 0, \"ticks\": \"\"}, \"colorscale\": [[0.0, \"#0d0887\"], [0.1111111111111111, \"#46039f\"], [0.2222222222222222, \"#7201a8\"], [0.3333333333333333, \"#9c179e\"], [0.4444444444444444, \"#bd3786\"], [0.5555555555555556, \"#d8576b\"], [0.6666666666666666, \"#ed7953\"], [0.7777777777777778, \"#fb9f3a\"], [0.8888888888888888, \"#fdca26\"], [1.0, \"#f0f921\"]], \"type\": \"histogram2d\"}], \"histogram2dcontour\": [{\"colorbar\": {\"outlinewidth\": 0, \"ticks\": \"\"}, \"colorscale\": [[0.0, \"#0d0887\"], [0.1111111111111111, \"#46039f\"], [0.2222222222222222, \"#7201a8\"], [0.3333333333333333, \"#9c179e\"], [0.4444444444444444, \"#bd3786\"], [0.5555555555555556, \"#d8576b\"], [0.6666666666666666, \"#ed7953\"], [0.7777777777777778, \"#fb9f3a\"], [0.8888888888888888, \"#fdca26\"], [1.0, \"#f0f921\"]], \"type\": \"histogram2dcontour\"}], \"mesh3d\": [{\"colorbar\": {\"outlinewidth\": 0, \"ticks\": \"\"}, \"type\": \"mesh3d\"}], \"parcoords\": [{\"line\": {\"colorbar\": {\"outlinewidth\": 0, \"ticks\": \"\"}}, \"type\": \"parcoords\"}], \"pie\": [{\"automargin\": true, \"type\": \"pie\"}], \"scatter\": [{\"marker\": {\"colorbar\": {\"outlinewidth\": 0, \"ticks\": \"\"}}, \"type\": \"scatter\"}], \"scatter3d\": [{\"line\": {\"colorbar\": {\"outlinewidth\": 0, \"ticks\": \"\"}}, \"marker\": {\"colorbar\": {\"outlinewidth\": 0, \"ticks\": \"\"}}, \"type\": \"scatter3d\"}], \"scattercarpet\": [{\"marker\": {\"colorbar\": {\"outlinewidth\": 0, \"ticks\": \"\"}}, \"type\": \"scattercarpet\"}], \"scattergeo\": [{\"marker\": {\"colorbar\": {\"outlinewidth\": 0, \"ticks\": \"\"}}, \"type\": \"scattergeo\"}], \"scattergl\": [{\"marker\": {\"colorbar\": {\"outlinewidth\": 0, \"ticks\": \"\"}}, \"type\": \"scattergl\"}], \"scattermapbox\": [{\"marker\": {\"colorbar\": {\"outlinewidth\": 0, \"ticks\": \"\"}}, \"type\": \"scattermapbox\"}], \"scatterpolar\": [{\"marker\": {\"colorbar\": {\"outlinewidth\": 0, \"ticks\": \"\"}}, \"type\": \"scatterpolar\"}], \"scatterpolargl\": [{\"marker\": {\"colorbar\": {\"outlinewidth\": 0, \"ticks\": \"\"}}, \"type\": \"scatterpolargl\"}], \"scatterternary\": [{\"marker\": {\"colorbar\": {\"outlinewidth\": 0, \"ticks\": \"\"}}, \"type\": \"scatterternary\"}], \"surface\": [{\"colorbar\": {\"outlinewidth\": 0, \"ticks\": \"\"}, \"colorscale\": [[0.0, \"#0d0887\"], [0.1111111111111111, \"#46039f\"], [0.2222222222222222, \"#7201a8\"], [0.3333333333333333, \"#9c179e\"], [0.4444444444444444, \"#bd3786\"], [0.5555555555555556, \"#d8576b\"], [0.6666666666666666, \"#ed7953\"], [0.7777777777777778, \"#fb9f3a\"], [0.8888888888888888, \"#fdca26\"], [1.0, \"#f0f921\"]], \"type\": \"surface\"}], \"table\": [{\"cells\": {\"fill\": {\"color\": \"#EBF0F8\"}, \"line\": {\"color\": \"white\"}}, \"header\": {\"fill\": {\"color\": \"#C8D4E3\"}, \"line\": {\"color\": \"white\"}}, \"type\": \"table\"}]}, \"layout\": {\"annotationdefaults\": {\"arrowcolor\": \"#2a3f5f\", \"arrowhead\": 0, \"arrowwidth\": 1}, \"coloraxis\": {\"colorbar\": {\"outlinewidth\": 0, \"ticks\": \"\"}}, \"colorscale\": {\"diverging\": [[0, \"#8e0152\"], [0.1, \"#c51b7d\"], [0.2, \"#de77ae\"], [0.3, \"#f1b6da\"], [0.4, \"#fde0ef\"], [0.5, \"#f7f7f7\"], [0.6, \"#e6f5d0\"], [0.7, \"#b8e186\"], [0.8, \"#7fbc41\"], [0.9, \"#4d9221\"], [1, \"#276419\"]], \"sequential\": [[0.0, \"#0d0887\"], [0.1111111111111111, \"#46039f\"], [0.2222222222222222, \"#7201a8\"], [0.3333333333333333, \"#9c179e\"], [0.4444444444444444, \"#bd3786\"], [0.5555555555555556, \"#d8576b\"], [0.6666666666666666, \"#ed7953\"], [0.7777777777777778, \"#fb9f3a\"], [0.8888888888888888, \"#fdca26\"], [1.0, \"#f0f921\"]], \"sequentialminus\": [[0.0, \"#0d0887\"], [0.1111111111111111, \"#46039f\"], [0.2222222222222222, \"#7201a8\"], [0.3333333333333333, \"#9c179e\"], [0.4444444444444444, \"#bd3786\"], [0.5555555555555556, \"#d8576b\"], [0.6666666666666666, \"#ed7953\"], [0.7777777777777778, \"#fb9f3a\"], [0.8888888888888888, \"#fdca26\"], [1.0, \"#f0f921\"]]}, \"colorway\": [\"#636efa\", \"#EF553B\", \"#00cc96\", \"#ab63fa\", \"#FFA15A\", \"#19d3f3\", \"#FF6692\", \"#B6E880\", \"#FF97FF\", \"#FECB52\"], \"font\": {\"color\": \"#2a3f5f\"}, \"geo\": {\"bgcolor\": \"white\", \"lakecolor\": \"white\", \"landcolor\": \"#E5ECF6\", \"showlakes\": true, \"showland\": true, \"subunitcolor\": \"white\"}, \"hoverlabel\": {\"align\": \"left\"}, \"hovermode\": \"closest\", \"mapbox\": {\"style\": \"light\"}, \"paper_bgcolor\": \"white\", \"plot_bgcolor\": \"#E5ECF6\", \"polar\": {\"angularaxis\": {\"gridcolor\": \"white\", \"linecolor\": \"white\", \"ticks\": \"\"}, \"bgcolor\": \"#E5ECF6\", \"radialaxis\": {\"gridcolor\": \"white\", \"linecolor\": \"white\", \"ticks\": \"\"}}, \"scene\": {\"xaxis\": {\"backgroundcolor\": \"#E5ECF6\", \"gridcolor\": \"white\", \"gridwidth\": 2, \"linecolor\": \"white\", \"showbackground\": true, \"ticks\": \"\", \"zerolinecolor\": \"white\"}, \"yaxis\": {\"backgroundcolor\": \"#E5ECF6\", \"gridcolor\": \"white\", \"gridwidth\": 2, \"linecolor\": \"white\", \"showbackground\": true, \"ticks\": \"\", \"zerolinecolor\": \"white\"}, \"zaxis\": {\"backgroundcolor\": \"#E5ECF6\", \"gridcolor\": \"white\", \"gridwidth\": 2, \"linecolor\": \"white\", \"showbackground\": true, \"ticks\": \"\", \"zerolinecolor\": \"white\"}}, \"shapedefaults\": {\"line\": {\"color\": \"#2a3f5f\"}}, \"ternary\": {\"aaxis\": {\"gridcolor\": \"white\", \"linecolor\": \"white\", \"ticks\": \"\"}, \"baxis\": {\"gridcolor\": \"white\", \"linecolor\": \"white\", \"ticks\": \"\"}, \"bgcolor\": \"#E5ECF6\", \"caxis\": {\"gridcolor\": \"white\", \"linecolor\": \"white\", \"ticks\": \"\"}}, \"title\": {\"x\": 0.05}, \"xaxis\": {\"automargin\": true, \"gridcolor\": \"white\", \"linecolor\": \"white\", \"ticks\": \"\", \"title\": {\"standoff\": 15}, \"zerolinecolor\": \"white\", \"zerolinewidth\": 2}, \"yaxis\": {\"automargin\": true, \"gridcolor\": \"white\", \"linecolor\": \"white\", \"ticks\": \"\", \"title\": {\"standoff\": 15}, \"zerolinecolor\": \"white\", \"zerolinewidth\": 2}}}, \"xaxis\": {\"linecolor\": \"black\", \"mirror\": \"ticks\", \"showgrid\": false, \"showline\": true, \"tickfont\": {\"color\": \"#000\", \"size\": 24}, \"ticks\": \"inside\", \"title\": {\"font\": {\"color\": \"#000\", \"size\": 30}, \"text\": \"Balanced accuracy\"}}, \"yaxis\": {\"linecolor\": \"black\", \"mirror\": \"ticks\", \"showgrid\": false, \"showline\": true, \"tickfont\": {\"color\": \"#000\", \"size\": 24}, \"ticks\": \"inside\", \"title\": {\"font\": {\"color\": \"#000\", \"size\": 30}, \"text\": \"Gap size\"}}},\n",
       "                        {\"responsive\": true}\n",
       "                    ).then(function(){\n",
       "                            \n",
       "var gd = document.getElementById('a4ff9016-e49c-4901-bdc1-3894c6a6bbf7');\n",
       "var x = new MutationObserver(function (mutations, observer) {{\n",
       "        var display = window.getComputedStyle(gd).display;\n",
       "        if (!display || display === 'none') {{\n",
       "            console.log([gd, 'removed!']);\n",
       "            Plotly.purge(gd);\n",
       "            observer.disconnect();\n",
       "        }}\n",
       "}});\n",
       "\n",
       "// Listen for the removal of the full notebook cells\n",
       "var notebookContainer = gd.closest('#notebook-container');\n",
       "if (notebookContainer) {{\n",
       "    x.observe(notebookContainer, {childList: true});\n",
       "}}\n",
       "\n",
       "// Listen for the clearing of the current output cell\n",
       "var outputEl = gd.closest('.output');\n",
       "if (outputEl) {{\n",
       "    x.observe(outputEl, {childList: true});\n",
       "}}\n",
       "\n",
       "                        })\n",
       "                };\n",
       "                });\n",
       "            </script>\n",
       "        </div>"
      ]
     },
     "metadata": {},
     "output_type": "display_data"
    }
   ],
   "source": [
    "plot = 'averms'\n",
    "corr = True\n",
    "plots = ['scons', 'grcons', 'grms', 'gmax', 'rrms', 'rmax']\n",
    "plotnames = ['S-cons', 'GR-cons', 'Gender gap RMS', 'Gender gap MAX', 'Race gap RMS', 'Race gap MAX']\n",
    "colInds = np.array([sconsi, grconsi, grmsi, gmaxi, rrmsi, rmaxi])\n",
    "\n",
    "smooth = 0\n",
    "\n",
    "plotaccs = accs\n",
    "plotops = vals\n",
    "plotstds = stds\n",
    "plotparms = parms\n",
    "# plotaccs = opsacc\n",
    "# plotops = ops\n",
    "# plotparms = params\n",
    "\n",
    "# Get index of fair metric we want to plot, plus other indices\n",
    "otherInds = list(range(len(plots)))\n",
    "if plot is 'averms': \n",
    "    plotInd = 6\n",
    "else: \n",
    "    plotInd = plots.index(plot)\n",
    "    otherInds.remove(plotInd)\n",
    "\n",
    "\n",
    "# get indices that we want to plot\n",
    "inds = np.where(plotaccs[:,plotInd] > 0)[0]\n",
    "\n",
    "# this is the main plot\n",
    "xaccs = plotaccs[:,plotInd][inds]\n",
    "yfair = plotops[:,plotInd][inds]\n",
    "yerr = plotstds[:,plotInd][inds]\n",
    "\n",
    "if plotInd < 6:\n",
    "    traces0 = [\n",
    "        go.Scatter(\n",
    "            x=xaccs,\n",
    "            y=running_ave(yfair,smooth),\n",
    "            error_y = dict(\n",
    "                type='data',\n",
    "                array = yerr,\n",
    "                visible=True,\n",
    "            ),\n",
    "            mode='lines+markers', \n",
    "            name=plotnames[plotInd])\n",
    "    ]\n",
    "else: traces0 = []\n",
    "\n",
    "traces = []\n",
    "# if we want to look at other stuff, get it from the files\n",
    "if corr:\n",
    "    other = np.zeros((inds.shape[0], len(otherInds)))\n",
    "    otherstd = np.zeros((inds.shape[0], len(otherInds)))\n",
    "    \n",
    "    currParams = plotparms[:,plotInd][inds]\n",
    "    \n",
    "    \n",
    "    for i in range(inds.shape[0]):\n",
    "        if len(np.array(currParams[i])) == 0:\n",
    "            print(i)\n",
    "        \n",
    "        res = load_data_from_params(currParams[i], filepath = path + 'txt/aves-')\n",
    "        restd = load_data_from_params(currParams[i], filepath = path + 'txt/devs-')\n",
    "        if plotInd == 6:\n",
    "            corrInd = np.where( \n",
    "                np.logical_and(\n",
    "                    res[:,balind] == xaccs[i], \n",
    "                    np.abs((res[:, grmsi] + res[:, rrmsi])/2 - yfair[i]) <= 10**-8\n",
    "                ))[0][0]\n",
    "        else: \n",
    "            corrInd = np.where( \n",
    "                np.logical_and(\n",
    "                    res[:,balind] == xaccs[i], \n",
    "                    res[:, colInds[plotInd]] ==  yfair[i]\n",
    "                ))[0][0]\n",
    "        \n",
    "        stuff = res[corrInd]\n",
    "        other[i] = stuff[colInds[otherInds]]\n",
    "        \n",
    "        stuffstd = restd[corrInd]\n",
    "        otherstd[i] = stuffstd[colInds[otherInds]]\n",
    "        \n",
    "    for i, pl in enumerate(otherInds):\n",
    "        traces += [\n",
    "            go.Scatter( \n",
    "                x=xaccs, \n",
    "                y=running_ave(other[:,i],smooth),\n",
    "                error_y = dict(\n",
    "                    type='data',\n",
    "                    array = otherstd[:,i],\n",
    "                    visible=True,\n",
    "                ),\n",
    "                mode='lines+markers', \n",
    "                name=plotnames[pl]\n",
    "            )\n",
    "        ]\n",
    "\n",
    "    plotTraces = traces[:plotInd] + traces0 + traces[plotInd:]\n",
    "    \n",
    "else: plotTraces = traces0\n",
    "\n",
    "fig = go.Figure(data=plotTraces, layout=layout)\n",
    "iplot(fig)"
   ]
  },
  {
   "cell_type": "code",
   "execution_count": 422,
   "metadata": {},
   "outputs": [
    {
     "data": {
      "text/plain": [
       "Scatter({\n",
       "    'error_y': {'array': array([0.00833282, 0.00820268, 0.0088902 , 0.00854202, 0.01256412, 0.00634418,\n",
       "                                0.00816836, 0.00841868, 0.00839925, 0.00884791, 0.00945526, 0.00938507,\n",
       "                                0.00762432, 0.00821873, 0.00763702, 0.00748397, 0.00755734, 0.0083481 ,\n",
       "                                0.00974687, 0.01085863, 0.00884463, 0.01114555, 0.0092872 , 0.01053772,\n",
       "                                0.01002463, 0.01313935, 0.00889693, 0.01099011, 0.00991107, 0.01000412,\n",
       "                                0.01040106, 0.00969966, 0.01001808, 0.00942929, 0.00926244, 0.0091891 ,\n",
       "                                0.00818733, 0.00697889, 0.00823393, 0.01620153, 0.01077284, 0.00692526,\n",
       "                                0.01006103, 0.00813933]),\n",
       "                'type': 'data',\n",
       "                'visible': True},\n",
       "    'mode': 'lines+markers',\n",
       "    'name': 'Gender gap MAX',\n",
       "    'x': array([0.76113645, 0.76235126, 0.76443675, 0.76533298, 0.76677662, 0.76818683,\n",
       "                0.76986197, 0.77138332, 0.77389786, 0.77452745, 0.77700725, 0.7779231 ,\n",
       "                0.77922812, 0.78176565, 0.78264951, 0.78477142, 0.7866697 , 0.78732566,\n",
       "                0.7888584 , 0.79045555, 0.79223557, 0.79370162, 0.795714  , 0.79686075,\n",
       "                0.79856856, 0.80012579, 0.80178542, 0.80321139, 0.80612733, 0.80640402,\n",
       "                0.80835012, 0.81006626, 0.81137517, 0.81300854, 0.81474031, 0.81612794,\n",
       "                0.81764478, 0.81923548, 0.82083557, 0.82265348, 0.82437437, 0.82612559,\n",
       "                0.82771087, 0.82884569]),\n",
       "    'y': array([0.074419  , 0.07095478, 0.0747372 , 0.07563459, 0.07894321, 0.07797592,\n",
       "                0.078048  , 0.07988842, 0.08119013, 0.08183245, 0.08380026, 0.0848171 ,\n",
       "                0.08384835, 0.08649573, 0.08598849, 0.08734275, 0.09010349, 0.09152397,\n",
       "                0.09276493, 0.09478687, 0.09607372, 0.09879312, 0.10418241, 0.10389432,\n",
       "                0.10802525, 0.11174875, 0.11264163, 0.11435667, 0.11939106, 0.11976206,\n",
       "                0.12695456, 0.13171429, 0.13475791, 0.13538517, 0.14510934, 0.14765051,\n",
       "                0.14994239, 0.15770018, 0.1649248 , 0.1867579 , 0.20182984, 0.20620548,\n",
       "                0.21108167, 0.20698475])\n",
       "})"
      ]
     },
     "execution_count": 422,
     "metadata": {},
     "output_type": "execute_result"
    }
   ],
   "source": [
    "plotTraces[3]"
   ]
  },
  {
   "cell_type": "code",
   "execution_count": 401,
   "metadata": {},
   "outputs": [],
   "source": [
    "traces0[0]['name'] = \"BuDRO\""
   ]
  },
  {
   "cell_type": "code",
   "execution_count": 410,
   "metadata": {},
   "outputs": [],
   "source": [
    "plotTraces[0]['name'] = \"BuDRO\""
   ]
  },
  {
   "cell_type": "code",
   "execution_count": 413,
   "metadata": {},
   "outputs": [],
   "source": [
    "allrw[0]['name'] = \"Reweighing\""
   ]
  },
  {
   "cell_type": "markdown",
   "metadata": {},
   "source": [
    "The figure from the appendix"
   ]
  },
  {
   "cell_type": "code",
   "execution_count": 405,
   "metadata": {},
   "outputs": [
    {
     "data": {
      "application/vnd.plotly.v1+json": {
       "config": {
        "linkText": "Export to plot.ly",
        "plotlyServerURL": "https://plot.ly",
        "showLink": false
       },
       "data": [
        {
         "error_y": {
          "array": [
           0.007138348897360668,
           0.012676085988145932,
           0.010499231600738344,
           0.010277515951402595,
           0.011120453829999224,
           0.010053267996068632,
           0.009659038188020889,
           0.009027603576025398,
           0.009310280892942096,
           0.009394614283073421,
           0.00978268213804924,
           0.010522127260471942,
           0.0089886512895157,
           0.008999850550085035,
           0.008530297773804114,
           0.008901356541596761,
           0.007696285185659114,
           0.008393241149206622,
           0.010875265381717614,
           0.011597044732338883,
           0.009469718677224574,
           0.010961171364056074,
           0.009352672276296234,
           0.011191310140652293,
           0.008690733852717365,
           0.009807009020279811,
           0.009373058111265242,
           0.009323136353011451,
           0.008125136345503362,
           0.008416740454695548,
           0.008509554980213361,
           0.009441642893398407,
           0.011189080444976997,
           0.011543533507321235,
           0.009756112005591405,
           0.010455635093778882,
           0.009144278315139072,
           0.009035331909115943,
           0.007340618260146522,
           0.017415667858744863,
           0.007469571917631945,
           0.007758784273474605,
           0.007872656021695002,
           0.00832288100505879
          ],
          "type": "data",
          "visible": true
         },
         "mode": "lines+markers",
         "name": "BuDRO",
         "type": "scatter",
         "x": [
          0.7611364543437957,
          0.762351256608963,
          0.7644367516040802,
          0.7653329849243165,
          0.7667766213417053,
          0.7681868314743042,
          0.7698619663715363,
          0.7713833212852478,
          0.7738978624343872,
          0.7745274484157563,
          0.7770072519779205,
          0.7779230952262879,
          0.7792281210422516,
          0.7817656457424164,
          0.7826495051383973,
          0.7847714185714721,
          0.7866697013378143,
          0.787325656414032,
          0.7888583958148956,
          0.790455549955368,
          0.7922355711460114,
          0.7937016189098358,
          0.795713996887207,
          0.7968607485294342,
          0.7985685586929321,
          0.8001257896423339,
          0.8017854213714599,
          0.8032113909721375,
          0.8061273276805878,
          0.8064040184020996,
          0.8083501160144806,
          0.8100662648677825,
          0.8113751709461212,
          0.8130085408687592,
          0.8147403061389923,
          0.8161279380321502,
          0.8176447808742523,
          0.8192354798316955,
          0.8208355724811554,
          0.8226534843444824,
          0.8243743658065796,
          0.8261255919933319,
          0.827710872888565,
          0.8288456916809082
         ],
         "y": [
          0.057052694261074066,
          0.05604253485798836,
          0.05975995250046253,
          0.059901874884963034,
          0.059464390575885775,
          0.06231145299971104,
          0.06045412681996822,
          0.06170952096581459,
          0.06126449145376682,
          0.06195123195648193,
          0.06319168657064438,
          0.06443841829895973,
          0.06380180083215237,
          0.06480895057320595,
          0.06559393107891083,
          0.06622619032859803,
          0.06611154489219188,
          0.067375298589468,
          0.06891381964087487,
          0.07009011693298817,
          0.07341345883905888,
          0.0754568986594677,
          0.07669460102915764,
          0.0780530370771885,
          0.07947824597358703,
          0.08228616937994956,
          0.08525204360485077,
          0.08620249778032303,
          0.08785933181643486,
          0.0884746752679348,
          0.09463275969028473,
          0.10097420439124108,
          0.10418234914541244,
          0.10804197490215302,
          0.11059235483407974,
          0.11304418072104454,
          0.11455548703670501,
          0.12737628519535066,
          0.12789735421538354,
          0.14494346976280212,
          0.15911015272140502,
          0.16880222409963608,
          0.16975340247154236,
          0.17191074639558793
         ]
        },
        {
         "error_y": {
          "array": [
           0.019684838204606175,
           0.019280958852032796,
           0.018984062724177842,
           0.02083989889999851,
           0.021193090083887277,
           0.019635052052954752,
           0.02154060222475427,
           0.022915015157462006,
           0.017797468897498017,
           0.018076633217791297,
           0.01803655646163792,
           0.016709349020889348,
           0.016987932567673853,
           0.016827964863229232,
           0.01909718406802941,
           0.01949585648878074,
           0.019442291871710832,
           0.019652706868645484,
           0.019098304285765876,
           0.019656133224863735,
           0.015045321534483055,
           0.015045185639153587,
           0.014153133448274114,
           0.014943424616180496,
           0.01471339504945577,
           0.017139003120919413,
           0.017049372014576993,
           0.017763390856992453,
           0.019000746576690694,
           0.019000336312648355
          ],
          "type": "data",
          "visible": true
         },
         "mode": "lines+markers",
         "name": "Vanilla GBDT",
         "type": "scatter",
         "x": [
          0.797566896,
          0.7994596380999999,
          0.8010738324,
          0.8037213142999999,
          0.8059358986000001,
          0.8074886347,
          0.8091486205,
          0.8105828105999999,
          0.8123785230999999,
          0.8124602025999998,
          0.8150330020999998,
          0.8171851734999999,
          0.8185743258000002,
          0.818993807,
          0.821889731,
          0.8235649788,
          0.8244117634,
          0.8266876499999999,
          0.8281859630999999,
          0.8299560288000001,
          0.8313515633999999,
          0.8320700253,
          0.8333528726000001,
          0.8350011985999999,
          0.8372322041,
          0.8388698495,
          0.8397796664999999,
          0.8416392355,
          0.8443436371,
          0.8445372686999999
         ],
         "y": [
          0.2620863852,
          0.25945369120000006,
          0.2547639631,
          0.2501105304,
          0.24381472620000003,
          0.24056119680000002,
          0.23435412709999995,
          0.23128715550000006,
          0.20202323360000002,
          0.20200764890000006,
          0.21153910459999997,
          0.2031848605,
          0.20078502110000002,
          0.20072549180000002,
          0.19903196949999996,
          0.1970171143,
          0.19422714400000002,
          0.1878485696,
          0.18433966200000002,
          0.1814077403,
          0.1555012453,
          0.156117387,
          0.15571015309999997,
          0.1557886031,
          0.15767583540000002,
          0.1587563638,
          0.15890742070000002,
          0.1600202899,
          0.16168059429999998,
          0.161523245
         ]
        },
        {
         "error_y": {
          "array": [
           0.01696499064005975,
           0.01653507205734879,
           0.01680947343164804,
           0.016961507807580815,
           0.01695602596922347,
           0.014748795498362543,
           0.016110650396009087,
           0.015554587422236366,
           0.016454911875414317,
           0.014969853802295235,
           0.017480531644868458,
           0.015535559457848513,
           0.01552875271883561,
           0.015516982358219031,
           0.015511625548313717,
           0.015618085338179745,
           0.015617179481251776,
           0.01561574919031261,
           0.015085144012317309
          ],
          "type": "data",
          "visible": true
         },
         "mode": "lines+markers",
         "name": "Projecting",
         "type": "scatter",
         "x": [
          0.7612301985,
          0.7621558270000002,
          0.7636780234,
          0.7651866627,
          0.7673841468000001,
          0.7689329,
          0.7699407501,
          0.7721319864,
          0.7743612084000001,
          0.7747893194,
          0.7771706326000001,
          0.7786179526000001,
          0.779698557,
          0.7823692026,
          0.7835992648,
          0.7854861035,
          0.7858121262,
          0.7880026021,
          0.7900230656
         ],
         "y": [
          0.0669466894,
          0.0668539914,
          0.0680748199,
          0.06867873179999999,
          0.0690273188,
          0.06783025670000001,
          0.0705255388,
          0.0700079538,
          0.0692396899,
          0.06810660469999999,
          0.0669620701,
          0.0660923957,
          0.0657657549,
          0.0645872059,
          0.0634528903,
          0.0597234407,
          0.05916661989999998,
          0.060388736,
          0.060773596500000006
         ]
        },
        {
         "error_y": {
          "array": [
           0.05517623366266396,
           0.03155663427415883,
           0.024851353268848044,
           0.024688484256379137,
           0.02305336234567563,
           0.03151131742106848,
           0.023057038721351224,
           0.022503866153444844,
           0.01910143056649058,
           0.020410067859116657,
           0.020403134774457172,
           0.022058499524937034,
           0.021595542397068134,
           0.0203821657727812,
           0.02033679789552107,
           0.020280652955904654,
           0.014980604868846635,
           0.02364736226611782,
           0.02406813317881969,
           0.024180183991118848,
           0.02455941460927842,
           0.024287194199906725,
           0.023889300766126425,
           0.024747236598236102,
           0.024751503922375427,
           0.023177555848727008,
           0.023635495834145172,
           0.023637124655544805,
           0.024405768752171375,
           0.02440647492452068,
           0.023507549073513545,
           0.023117645836491934,
           0.016025601540880247
          ],
          "type": "data",
          "visible": true
         },
         "mode": "lines+markers",
         "name": "Reweighing",
         "type": "scatter",
         "x": [
          0.7832160476000001,
          0.7850137832,
          0.7876042291000002,
          0.7896080685000002,
          0.7917015609999999,
          0.7930617163000002,
          0.7944797684,
          0.7952106125999999,
          0.8012122989999998,
          0.8016518866,
          0.8036234838,
          0.8059461990000001,
          0.8079841652,
          0.8085291523999999,
          0.8110291126,
          0.8112221657,
          0.8143519626,
          0.8152109837000001,
          0.8175895052,
          0.8185880445,
          0.8206467552,
          0.8222323858999999,
          0.8238995789999999,
          0.8252813344,
          0.8267805091,
          0.8287420687000001,
          0.8301668036999998,
          0.8317184743999999,
          0.8335584733999999,
          0.8339694078000001,
          0.8363436932999999,
          0.8370898264000001,
          0.8384495215
         ],
         "y": [
          0.1425459986,
          0.1671972217,
          0.1408388949,
          0.158083832,
          0.0878989797,
          0.20785764759999997,
          0.0978749236,
          0.09797541609999999,
          0.10799953720000002,
          0.106330984,
          0.11521916619999999,
          0.12442304850000001,
          0.13184720570000003,
          0.12046951519999997,
          0.11467876070000001,
          0.11473260519999999,
          0.1203790337,
          0.0908755474,
          0.0873704198,
          0.08717927770000002,
          0.0855052377,
          0.08083261299999997,
          0.0765476335,
          0.07369649470000002,
          0.0706844692,
          0.0675396331,
          0.0655434813,
          0.0639787782,
          0.06218269179999999,
          0.061646721300000006,
          0.061272718000000004,
          0.060964405099999994,
          0.06843523050000001
         ]
        }
       ],
       "layout": {
        "font": {
         "family": "CMU Serif"
        },
        "legend": {
         "font": {
          "size": 20
         }
        },
        "margin": {
         "b": 90,
         "l": 100,
         "r": 10,
         "t": 10
        },
        "plot_bgcolor": "rgba(0,0,0,0)",
        "template": {
         "data": {
          "bar": [
           {
            "error_x": {
             "color": "#2a3f5f"
            },
            "error_y": {
             "color": "#2a3f5f"
            },
            "marker": {
             "line": {
              "color": "#E5ECF6",
              "width": 0.5
             }
            },
            "type": "bar"
           }
          ],
          "barpolar": [
           {
            "marker": {
             "line": {
              "color": "#E5ECF6",
              "width": 0.5
             }
            },
            "type": "barpolar"
           }
          ],
          "carpet": [
           {
            "aaxis": {
             "endlinecolor": "#2a3f5f",
             "gridcolor": "white",
             "linecolor": "white",
             "minorgridcolor": "white",
             "startlinecolor": "#2a3f5f"
            },
            "baxis": {
             "endlinecolor": "#2a3f5f",
             "gridcolor": "white",
             "linecolor": "white",
             "minorgridcolor": "white",
             "startlinecolor": "#2a3f5f"
            },
            "type": "carpet"
           }
          ],
          "choropleth": [
           {
            "colorbar": {
             "outlinewidth": 0,
             "ticks": ""
            },
            "type": "choropleth"
           }
          ],
          "contour": [
           {
            "colorbar": {
             "outlinewidth": 0,
             "ticks": ""
            },
            "colorscale": [
             [
              0,
              "#0d0887"
             ],
             [
              0.1111111111111111,
              "#46039f"
             ],
             [
              0.2222222222222222,
              "#7201a8"
             ],
             [
              0.3333333333333333,
              "#9c179e"
             ],
             [
              0.4444444444444444,
              "#bd3786"
             ],
             [
              0.5555555555555556,
              "#d8576b"
             ],
             [
              0.6666666666666666,
              "#ed7953"
             ],
             [
              0.7777777777777778,
              "#fb9f3a"
             ],
             [
              0.8888888888888888,
              "#fdca26"
             ],
             [
              1,
              "#f0f921"
             ]
            ],
            "type": "contour"
           }
          ],
          "contourcarpet": [
           {
            "colorbar": {
             "outlinewidth": 0,
             "ticks": ""
            },
            "type": "contourcarpet"
           }
          ],
          "heatmap": [
           {
            "colorbar": {
             "outlinewidth": 0,
             "ticks": ""
            },
            "colorscale": [
             [
              0,
              "#0d0887"
             ],
             [
              0.1111111111111111,
              "#46039f"
             ],
             [
              0.2222222222222222,
              "#7201a8"
             ],
             [
              0.3333333333333333,
              "#9c179e"
             ],
             [
              0.4444444444444444,
              "#bd3786"
             ],
             [
              0.5555555555555556,
              "#d8576b"
             ],
             [
              0.6666666666666666,
              "#ed7953"
             ],
             [
              0.7777777777777778,
              "#fb9f3a"
             ],
             [
              0.8888888888888888,
              "#fdca26"
             ],
             [
              1,
              "#f0f921"
             ]
            ],
            "type": "heatmap"
           }
          ],
          "heatmapgl": [
           {
            "colorbar": {
             "outlinewidth": 0,
             "ticks": ""
            },
            "colorscale": [
             [
              0,
              "#0d0887"
             ],
             [
              0.1111111111111111,
              "#46039f"
             ],
             [
              0.2222222222222222,
              "#7201a8"
             ],
             [
              0.3333333333333333,
              "#9c179e"
             ],
             [
              0.4444444444444444,
              "#bd3786"
             ],
             [
              0.5555555555555556,
              "#d8576b"
             ],
             [
              0.6666666666666666,
              "#ed7953"
             ],
             [
              0.7777777777777778,
              "#fb9f3a"
             ],
             [
              0.8888888888888888,
              "#fdca26"
             ],
             [
              1,
              "#f0f921"
             ]
            ],
            "type": "heatmapgl"
           }
          ],
          "histogram": [
           {
            "marker": {
             "colorbar": {
              "outlinewidth": 0,
              "ticks": ""
             }
            },
            "type": "histogram"
           }
          ],
          "histogram2d": [
           {
            "colorbar": {
             "outlinewidth": 0,
             "ticks": ""
            },
            "colorscale": [
             [
              0,
              "#0d0887"
             ],
             [
              0.1111111111111111,
              "#46039f"
             ],
             [
              0.2222222222222222,
              "#7201a8"
             ],
             [
              0.3333333333333333,
              "#9c179e"
             ],
             [
              0.4444444444444444,
              "#bd3786"
             ],
             [
              0.5555555555555556,
              "#d8576b"
             ],
             [
              0.6666666666666666,
              "#ed7953"
             ],
             [
              0.7777777777777778,
              "#fb9f3a"
             ],
             [
              0.8888888888888888,
              "#fdca26"
             ],
             [
              1,
              "#f0f921"
             ]
            ],
            "type": "histogram2d"
           }
          ],
          "histogram2dcontour": [
           {
            "colorbar": {
             "outlinewidth": 0,
             "ticks": ""
            },
            "colorscale": [
             [
              0,
              "#0d0887"
             ],
             [
              0.1111111111111111,
              "#46039f"
             ],
             [
              0.2222222222222222,
              "#7201a8"
             ],
             [
              0.3333333333333333,
              "#9c179e"
             ],
             [
              0.4444444444444444,
              "#bd3786"
             ],
             [
              0.5555555555555556,
              "#d8576b"
             ],
             [
              0.6666666666666666,
              "#ed7953"
             ],
             [
              0.7777777777777778,
              "#fb9f3a"
             ],
             [
              0.8888888888888888,
              "#fdca26"
             ],
             [
              1,
              "#f0f921"
             ]
            ],
            "type": "histogram2dcontour"
           }
          ],
          "mesh3d": [
           {
            "colorbar": {
             "outlinewidth": 0,
             "ticks": ""
            },
            "type": "mesh3d"
           }
          ],
          "parcoords": [
           {
            "line": {
             "colorbar": {
              "outlinewidth": 0,
              "ticks": ""
             }
            },
            "type": "parcoords"
           }
          ],
          "pie": [
           {
            "automargin": true,
            "type": "pie"
           }
          ],
          "scatter": [
           {
            "marker": {
             "colorbar": {
              "outlinewidth": 0,
              "ticks": ""
             }
            },
            "type": "scatter"
           }
          ],
          "scatter3d": [
           {
            "line": {
             "colorbar": {
              "outlinewidth": 0,
              "ticks": ""
             }
            },
            "marker": {
             "colorbar": {
              "outlinewidth": 0,
              "ticks": ""
             }
            },
            "type": "scatter3d"
           }
          ],
          "scattercarpet": [
           {
            "marker": {
             "colorbar": {
              "outlinewidth": 0,
              "ticks": ""
             }
            },
            "type": "scattercarpet"
           }
          ],
          "scattergeo": [
           {
            "marker": {
             "colorbar": {
              "outlinewidth": 0,
              "ticks": ""
             }
            },
            "type": "scattergeo"
           }
          ],
          "scattergl": [
           {
            "marker": {
             "colorbar": {
              "outlinewidth": 0,
              "ticks": ""
             }
            },
            "type": "scattergl"
           }
          ],
          "scattermapbox": [
           {
            "marker": {
             "colorbar": {
              "outlinewidth": 0,
              "ticks": ""
             }
            },
            "type": "scattermapbox"
           }
          ],
          "scatterpolar": [
           {
            "marker": {
             "colorbar": {
              "outlinewidth": 0,
              "ticks": ""
             }
            },
            "type": "scatterpolar"
           }
          ],
          "scatterpolargl": [
           {
            "marker": {
             "colorbar": {
              "outlinewidth": 0,
              "ticks": ""
             }
            },
            "type": "scatterpolargl"
           }
          ],
          "scatterternary": [
           {
            "marker": {
             "colorbar": {
              "outlinewidth": 0,
              "ticks": ""
             }
            },
            "type": "scatterternary"
           }
          ],
          "surface": [
           {
            "colorbar": {
             "outlinewidth": 0,
             "ticks": ""
            },
            "colorscale": [
             [
              0,
              "#0d0887"
             ],
             [
              0.1111111111111111,
              "#46039f"
             ],
             [
              0.2222222222222222,
              "#7201a8"
             ],
             [
              0.3333333333333333,
              "#9c179e"
             ],
             [
              0.4444444444444444,
              "#bd3786"
             ],
             [
              0.5555555555555556,
              "#d8576b"
             ],
             [
              0.6666666666666666,
              "#ed7953"
             ],
             [
              0.7777777777777778,
              "#fb9f3a"
             ],
             [
              0.8888888888888888,
              "#fdca26"
             ],
             [
              1,
              "#f0f921"
             ]
            ],
            "type": "surface"
           }
          ],
          "table": [
           {
            "cells": {
             "fill": {
              "color": "#EBF0F8"
             },
             "line": {
              "color": "white"
             }
            },
            "header": {
             "fill": {
              "color": "#C8D4E3"
             },
             "line": {
              "color": "white"
             }
            },
            "type": "table"
           }
          ]
         },
         "layout": {
          "annotationdefaults": {
           "arrowcolor": "#2a3f5f",
           "arrowhead": 0,
           "arrowwidth": 1
          },
          "coloraxis": {
           "colorbar": {
            "outlinewidth": 0,
            "ticks": ""
           }
          },
          "colorscale": {
           "diverging": [
            [
             0,
             "#8e0152"
            ],
            [
             0.1,
             "#c51b7d"
            ],
            [
             0.2,
             "#de77ae"
            ],
            [
             0.3,
             "#f1b6da"
            ],
            [
             0.4,
             "#fde0ef"
            ],
            [
             0.5,
             "#f7f7f7"
            ],
            [
             0.6,
             "#e6f5d0"
            ],
            [
             0.7,
             "#b8e186"
            ],
            [
             0.8,
             "#7fbc41"
            ],
            [
             0.9,
             "#4d9221"
            ],
            [
             1,
             "#276419"
            ]
           ],
           "sequential": [
            [
             0,
             "#0d0887"
            ],
            [
             0.1111111111111111,
             "#46039f"
            ],
            [
             0.2222222222222222,
             "#7201a8"
            ],
            [
             0.3333333333333333,
             "#9c179e"
            ],
            [
             0.4444444444444444,
             "#bd3786"
            ],
            [
             0.5555555555555556,
             "#d8576b"
            ],
            [
             0.6666666666666666,
             "#ed7953"
            ],
            [
             0.7777777777777778,
             "#fb9f3a"
            ],
            [
             0.8888888888888888,
             "#fdca26"
            ],
            [
             1,
             "#f0f921"
            ]
           ],
           "sequentialminus": [
            [
             0,
             "#0d0887"
            ],
            [
             0.1111111111111111,
             "#46039f"
            ],
            [
             0.2222222222222222,
             "#7201a8"
            ],
            [
             0.3333333333333333,
             "#9c179e"
            ],
            [
             0.4444444444444444,
             "#bd3786"
            ],
            [
             0.5555555555555556,
             "#d8576b"
            ],
            [
             0.6666666666666666,
             "#ed7953"
            ],
            [
             0.7777777777777778,
             "#fb9f3a"
            ],
            [
             0.8888888888888888,
             "#fdca26"
            ],
            [
             1,
             "#f0f921"
            ]
           ]
          },
          "colorway": [
           "#636efa",
           "#EF553B",
           "#00cc96",
           "#ab63fa",
           "#FFA15A",
           "#19d3f3",
           "#FF6692",
           "#B6E880",
           "#FF97FF",
           "#FECB52"
          ],
          "font": {
           "color": "#2a3f5f"
          },
          "geo": {
           "bgcolor": "white",
           "lakecolor": "white",
           "landcolor": "#E5ECF6",
           "showlakes": true,
           "showland": true,
           "subunitcolor": "white"
          },
          "hoverlabel": {
           "align": "left"
          },
          "hovermode": "closest",
          "mapbox": {
           "style": "light"
          },
          "paper_bgcolor": "white",
          "plot_bgcolor": "#E5ECF6",
          "polar": {
           "angularaxis": {
            "gridcolor": "white",
            "linecolor": "white",
            "ticks": ""
           },
           "bgcolor": "#E5ECF6",
           "radialaxis": {
            "gridcolor": "white",
            "linecolor": "white",
            "ticks": ""
           }
          },
          "scene": {
           "xaxis": {
            "backgroundcolor": "#E5ECF6",
            "gridcolor": "white",
            "gridwidth": 2,
            "linecolor": "white",
            "showbackground": true,
            "ticks": "",
            "zerolinecolor": "white"
           },
           "yaxis": {
            "backgroundcolor": "#E5ECF6",
            "gridcolor": "white",
            "gridwidth": 2,
            "linecolor": "white",
            "showbackground": true,
            "ticks": "",
            "zerolinecolor": "white"
           },
           "zaxis": {
            "backgroundcolor": "#E5ECF6",
            "gridcolor": "white",
            "gridwidth": 2,
            "linecolor": "white",
            "showbackground": true,
            "ticks": "",
            "zerolinecolor": "white"
           }
          },
          "shapedefaults": {
           "line": {
            "color": "#2a3f5f"
           }
          },
          "ternary": {
           "aaxis": {
            "gridcolor": "white",
            "linecolor": "white",
            "ticks": ""
           },
           "baxis": {
            "gridcolor": "white",
            "linecolor": "white",
            "ticks": ""
           },
           "bgcolor": "#E5ECF6",
           "caxis": {
            "gridcolor": "white",
            "linecolor": "white",
            "ticks": ""
           }
          },
          "title": {
           "x": 0.05
          },
          "xaxis": {
           "automargin": true,
           "gridcolor": "white",
           "linecolor": "white",
           "ticks": "",
           "title": {
            "standoff": 15
           },
           "zerolinecolor": "white",
           "zerolinewidth": 2
          },
          "yaxis": {
           "automargin": true,
           "gridcolor": "white",
           "linecolor": "white",
           "ticks": "",
           "title": {
            "standoff": 15
           },
           "zerolinecolor": "white",
           "zerolinewidth": 2
          }
         }
        },
        "xaxis": {
         "linecolor": "black",
         "mirror": "ticks",
         "showgrid": false,
         "showline": true,
         "tickfont": {
          "color": "#000",
          "size": 24
         },
         "ticks": "inside",
         "title": {
          "font": {
           "color": "#000",
           "size": 30
          },
          "text": "Balanced accuracy"
         }
        },
        "yaxis": {
         "linecolor": "black",
         "mirror": "ticks",
         "showgrid": false,
         "showline": true,
         "tickfont": {
          "color": "#000",
          "size": 24
         },
         "ticks": "inside",
         "title": {
          "font": {
           "color": "#000",
           "size": 30
          },
          "text": "Gender gap RMS"
         }
        }
       }
      },
      "text/html": [
       "<div>\n",
       "        \n",
       "        \n",
       "            <div id=\"740a3ead-e7db-4c2b-9fd5-5c4f8deb5c53\" class=\"plotly-graph-div\" style=\"height:525px; width:100%;\"></div>\n",
       "            <script type=\"text/javascript\">\n",
       "                require([\"plotly\"], function(Plotly) {\n",
       "                    window.PLOTLYENV=window.PLOTLYENV || {};\n",
       "                    \n",
       "                if (document.getElementById(\"740a3ead-e7db-4c2b-9fd5-5c4f8deb5c53\")) {\n",
       "                    Plotly.newPlot(\n",
       "                        '740a3ead-e7db-4c2b-9fd5-5c4f8deb5c53',\n",
       "                        [{\"error_y\": {\"array\": [0.007138348897360668, 0.012676085988145932, 0.010499231600738344, 0.010277515951402595, 0.011120453829999224, 0.010053267996068632, 0.009659038188020889, 0.009027603576025398, 0.009310280892942096, 0.009394614283073421, 0.00978268213804924, 0.010522127260471942, 0.0089886512895157, 0.008999850550085035, 0.008530297773804114, 0.008901356541596761, 0.007696285185659114, 0.008393241149206622, 0.010875265381717614, 0.011597044732338883, 0.009469718677224574, 0.010961171364056074, 0.009352672276296234, 0.011191310140652293, 0.008690733852717365, 0.009807009020279811, 0.009373058111265242, 0.009323136353011451, 0.008125136345503362, 0.008416740454695548, 0.008509554980213361, 0.009441642893398407, 0.011189080444976997, 0.011543533507321235, 0.009756112005591405, 0.010455635093778882, 0.009144278315139072, 0.009035331909115943, 0.007340618260146522, 0.017415667858744863, 0.007469571917631945, 0.007758784273474605, 0.007872656021695002, 0.00832288100505879], \"type\": \"data\", \"visible\": true}, \"mode\": \"lines+markers\", \"name\": \"BuDRO\", \"type\": \"scatter\", \"x\": [0.7611364543437957, 0.762351256608963, 0.7644367516040802, 0.7653329849243165, 0.7667766213417053, 0.7681868314743042, 0.7698619663715363, 0.7713833212852478, 0.7738978624343872, 0.7745274484157563, 0.7770072519779205, 0.7779230952262879, 0.7792281210422516, 0.7817656457424164, 0.7826495051383973, 0.7847714185714721, 0.7866697013378143, 0.787325656414032, 0.7888583958148956, 0.790455549955368, 0.7922355711460114, 0.7937016189098358, 0.795713996887207, 0.7968607485294342, 0.7985685586929321, 0.8001257896423339, 0.8017854213714599, 0.8032113909721375, 0.8061273276805878, 0.8064040184020996, 0.8083501160144806, 0.8100662648677825, 0.8113751709461212, 0.8130085408687592, 0.8147403061389923, 0.8161279380321502, 0.8176447808742523, 0.8192354798316955, 0.8208355724811554, 0.8226534843444824, 0.8243743658065796, 0.8261255919933319, 0.827710872888565, 0.8288456916809082], \"y\": [0.057052694261074066, 0.05604253485798836, 0.05975995250046253, 0.059901874884963034, 0.059464390575885775, 0.06231145299971104, 0.06045412681996822, 0.06170952096581459, 0.06126449145376682, 0.06195123195648193, 0.06319168657064438, 0.06443841829895973, 0.06380180083215237, 0.06480895057320595, 0.06559393107891083, 0.06622619032859803, 0.06611154489219188, 0.067375298589468, 0.06891381964087487, 0.07009011693298817, 0.07341345883905888, 0.0754568986594677, 0.07669460102915764, 0.0780530370771885, 0.07947824597358703, 0.08228616937994956, 0.08525204360485077, 0.08620249778032303, 0.08785933181643486, 0.0884746752679348, 0.09463275969028473, 0.10097420439124108, 0.10418234914541244, 0.10804197490215302, 0.11059235483407974, 0.11304418072104454, 0.11455548703670501, 0.12737628519535066, 0.12789735421538354, 0.14494346976280212, 0.15911015272140502, 0.16880222409963608, 0.16975340247154236, 0.17191074639558793]}, {\"error_y\": {\"array\": [0.019684838204606175, 0.019280958852032796, 0.018984062724177842, 0.02083989889999851, 0.021193090083887277, 0.019635052052954752, 0.02154060222475427, 0.022915015157462006, 0.017797468897498017, 0.018076633217791297, 0.01803655646163792, 0.016709349020889348, 0.016987932567673853, 0.016827964863229232, 0.01909718406802941, 0.01949585648878074, 0.019442291871710832, 0.019652706868645484, 0.019098304285765876, 0.019656133224863735, 0.015045321534483055, 0.015045185639153587, 0.014153133448274114, 0.014943424616180496, 0.01471339504945577, 0.017139003120919413, 0.017049372014576993, 0.017763390856992453, 0.019000746576690694, 0.019000336312648355], \"type\": \"data\", \"visible\": true}, \"mode\": \"lines+markers\", \"name\": \"Vanilla GBDT\", \"type\": \"scatter\", \"x\": [0.797566896, 0.7994596380999999, 0.8010738324, 0.8037213142999999, 0.8059358986000001, 0.8074886347, 0.8091486205, 0.8105828105999999, 0.8123785230999999, 0.8124602025999998, 0.8150330020999998, 0.8171851734999999, 0.8185743258000002, 0.818993807, 0.821889731, 0.8235649788, 0.8244117634, 0.8266876499999999, 0.8281859630999999, 0.8299560288000001, 0.8313515633999999, 0.8320700253, 0.8333528726000001, 0.8350011985999999, 0.8372322041, 0.8388698495, 0.8397796664999999, 0.8416392355, 0.8443436371, 0.8445372686999999], \"y\": [0.2620863852, 0.25945369120000006, 0.2547639631, 0.2501105304, 0.24381472620000003, 0.24056119680000002, 0.23435412709999995, 0.23128715550000006, 0.20202323360000002, 0.20200764890000006, 0.21153910459999997, 0.2031848605, 0.20078502110000002, 0.20072549180000002, 0.19903196949999996, 0.1970171143, 0.19422714400000002, 0.1878485696, 0.18433966200000002, 0.1814077403, 0.1555012453, 0.156117387, 0.15571015309999997, 0.1557886031, 0.15767583540000002, 0.1587563638, 0.15890742070000002, 0.1600202899, 0.16168059429999998, 0.161523245]}, {\"error_y\": {\"array\": [0.01696499064005975, 0.01653507205734879, 0.01680947343164804, 0.016961507807580815, 0.01695602596922347, 0.014748795498362543, 0.016110650396009087, 0.015554587422236366, 0.016454911875414317, 0.014969853802295235, 0.017480531644868458, 0.015535559457848513, 0.01552875271883561, 0.015516982358219031, 0.015511625548313717, 0.015618085338179745, 0.015617179481251776, 0.01561574919031261, 0.015085144012317309], \"type\": \"data\", \"visible\": true}, \"mode\": \"lines+markers\", \"name\": \"Projecting\", \"type\": \"scatter\", \"x\": [0.7612301985, 0.7621558270000002, 0.7636780234, 0.7651866627, 0.7673841468000001, 0.7689329, 0.7699407501, 0.7721319864, 0.7743612084000001, 0.7747893194, 0.7771706326000001, 0.7786179526000001, 0.779698557, 0.7823692026, 0.7835992648, 0.7854861035, 0.7858121262, 0.7880026021, 0.7900230656], \"y\": [0.0669466894, 0.0668539914, 0.0680748199, 0.06867873179999999, 0.0690273188, 0.06783025670000001, 0.0705255388, 0.0700079538, 0.0692396899, 0.06810660469999999, 0.0669620701, 0.0660923957, 0.0657657549, 0.0645872059, 0.0634528903, 0.0597234407, 0.05916661989999998, 0.060388736, 0.060773596500000006]}, {\"error_y\": {\"array\": [0.05517623366266396, 0.03155663427415883, 0.024851353268848044, 0.024688484256379137, 0.02305336234567563, 0.03151131742106848, 0.023057038721351224, 0.022503866153444844, 0.01910143056649058, 0.020410067859116657, 0.020403134774457172, 0.022058499524937034, 0.021595542397068134, 0.0203821657727812, 0.02033679789552107, 0.020280652955904654, 0.014980604868846635, 0.02364736226611782, 0.02406813317881969, 0.024180183991118848, 0.02455941460927842, 0.024287194199906725, 0.023889300766126425, 0.024747236598236102, 0.024751503922375427, 0.023177555848727008, 0.023635495834145172, 0.023637124655544805, 0.024405768752171375, 0.02440647492452068, 0.023507549073513545, 0.023117645836491934, 0.016025601540880247], \"type\": \"data\", \"visible\": true}, \"mode\": \"lines+markers\", \"name\": \"Reweighing\", \"type\": \"scatter\", \"x\": [0.7832160476000001, 0.7850137832, 0.7876042291000002, 0.7896080685000002, 0.7917015609999999, 0.7930617163000002, 0.7944797684, 0.7952106125999999, 0.8012122989999998, 0.8016518866, 0.8036234838, 0.8059461990000001, 0.8079841652, 0.8085291523999999, 0.8110291126, 0.8112221657, 0.8143519626, 0.8152109837000001, 0.8175895052, 0.8185880445, 0.8206467552, 0.8222323858999999, 0.8238995789999999, 0.8252813344, 0.8267805091, 0.8287420687000001, 0.8301668036999998, 0.8317184743999999, 0.8335584733999999, 0.8339694078000001, 0.8363436932999999, 0.8370898264000001, 0.8384495215], \"y\": [0.1425459986, 0.1671972217, 0.1408388949, 0.158083832, 0.0878989797, 0.20785764759999997, 0.0978749236, 0.09797541609999999, 0.10799953720000002, 0.106330984, 0.11521916619999999, 0.12442304850000001, 0.13184720570000003, 0.12046951519999997, 0.11467876070000001, 0.11473260519999999, 0.1203790337, 0.0908755474, 0.0873704198, 0.08717927770000002, 0.0855052377, 0.08083261299999997, 0.0765476335, 0.07369649470000002, 0.0706844692, 0.0675396331, 0.0655434813, 0.0639787782, 0.06218269179999999, 0.061646721300000006, 0.061272718000000004, 0.060964405099999994, 0.06843523050000001]}],\n",
       "                        {\"font\": {\"family\": \"CMU Serif\"}, \"legend\": {\"font\": {\"size\": 20}}, \"margin\": {\"b\": 90, \"l\": 100, \"r\": 10, \"t\": 10}, \"plot_bgcolor\": \"rgba(0,0,0,0)\", \"template\": {\"data\": {\"bar\": [{\"error_x\": {\"color\": \"#2a3f5f\"}, \"error_y\": {\"color\": \"#2a3f5f\"}, \"marker\": {\"line\": {\"color\": \"#E5ECF6\", \"width\": 0.5}}, \"type\": \"bar\"}], \"barpolar\": [{\"marker\": {\"line\": {\"color\": \"#E5ECF6\", \"width\": 0.5}}, \"type\": \"barpolar\"}], \"carpet\": [{\"aaxis\": {\"endlinecolor\": \"#2a3f5f\", \"gridcolor\": \"white\", \"linecolor\": \"white\", \"minorgridcolor\": \"white\", \"startlinecolor\": \"#2a3f5f\"}, \"baxis\": {\"endlinecolor\": \"#2a3f5f\", \"gridcolor\": \"white\", \"linecolor\": \"white\", \"minorgridcolor\": \"white\", \"startlinecolor\": \"#2a3f5f\"}, \"type\": \"carpet\"}], \"choropleth\": [{\"colorbar\": {\"outlinewidth\": 0, \"ticks\": \"\"}, \"type\": \"choropleth\"}], \"contour\": [{\"colorbar\": {\"outlinewidth\": 0, \"ticks\": \"\"}, \"colorscale\": [[0.0, \"#0d0887\"], [0.1111111111111111, \"#46039f\"], [0.2222222222222222, \"#7201a8\"], [0.3333333333333333, \"#9c179e\"], [0.4444444444444444, \"#bd3786\"], [0.5555555555555556, \"#d8576b\"], [0.6666666666666666, \"#ed7953\"], [0.7777777777777778, \"#fb9f3a\"], [0.8888888888888888, \"#fdca26\"], [1.0, \"#f0f921\"]], \"type\": \"contour\"}], \"contourcarpet\": [{\"colorbar\": {\"outlinewidth\": 0, \"ticks\": \"\"}, \"type\": \"contourcarpet\"}], \"heatmap\": [{\"colorbar\": {\"outlinewidth\": 0, \"ticks\": \"\"}, \"colorscale\": [[0.0, \"#0d0887\"], [0.1111111111111111, \"#46039f\"], [0.2222222222222222, \"#7201a8\"], [0.3333333333333333, \"#9c179e\"], [0.4444444444444444, \"#bd3786\"], [0.5555555555555556, \"#d8576b\"], [0.6666666666666666, \"#ed7953\"], [0.7777777777777778, \"#fb9f3a\"], [0.8888888888888888, \"#fdca26\"], [1.0, \"#f0f921\"]], \"type\": \"heatmap\"}], \"heatmapgl\": [{\"colorbar\": {\"outlinewidth\": 0, \"ticks\": \"\"}, \"colorscale\": [[0.0, \"#0d0887\"], [0.1111111111111111, \"#46039f\"], [0.2222222222222222, \"#7201a8\"], [0.3333333333333333, \"#9c179e\"], [0.4444444444444444, \"#bd3786\"], [0.5555555555555556, \"#d8576b\"], [0.6666666666666666, \"#ed7953\"], [0.7777777777777778, \"#fb9f3a\"], [0.8888888888888888, \"#fdca26\"], [1.0, \"#f0f921\"]], \"type\": \"heatmapgl\"}], \"histogram\": [{\"marker\": {\"colorbar\": {\"outlinewidth\": 0, \"ticks\": \"\"}}, \"type\": \"histogram\"}], \"histogram2d\": [{\"colorbar\": {\"outlinewidth\": 0, \"ticks\": \"\"}, \"colorscale\": [[0.0, \"#0d0887\"], [0.1111111111111111, \"#46039f\"], [0.2222222222222222, \"#7201a8\"], [0.3333333333333333, \"#9c179e\"], [0.4444444444444444, \"#bd3786\"], [0.5555555555555556, \"#d8576b\"], [0.6666666666666666, \"#ed7953\"], [0.7777777777777778, \"#fb9f3a\"], [0.8888888888888888, \"#fdca26\"], [1.0, \"#f0f921\"]], \"type\": \"histogram2d\"}], \"histogram2dcontour\": [{\"colorbar\": {\"outlinewidth\": 0, \"ticks\": \"\"}, \"colorscale\": [[0.0, \"#0d0887\"], [0.1111111111111111, \"#46039f\"], [0.2222222222222222, \"#7201a8\"], [0.3333333333333333, \"#9c179e\"], [0.4444444444444444, \"#bd3786\"], [0.5555555555555556, \"#d8576b\"], [0.6666666666666666, \"#ed7953\"], [0.7777777777777778, \"#fb9f3a\"], [0.8888888888888888, \"#fdca26\"], [1.0, \"#f0f921\"]], \"type\": \"histogram2dcontour\"}], \"mesh3d\": [{\"colorbar\": {\"outlinewidth\": 0, \"ticks\": \"\"}, \"type\": \"mesh3d\"}], \"parcoords\": [{\"line\": {\"colorbar\": {\"outlinewidth\": 0, \"ticks\": \"\"}}, \"type\": \"parcoords\"}], \"pie\": [{\"automargin\": true, \"type\": \"pie\"}], \"scatter\": [{\"marker\": {\"colorbar\": {\"outlinewidth\": 0, \"ticks\": \"\"}}, \"type\": \"scatter\"}], \"scatter3d\": [{\"line\": {\"colorbar\": {\"outlinewidth\": 0, \"ticks\": \"\"}}, \"marker\": {\"colorbar\": {\"outlinewidth\": 0, \"ticks\": \"\"}}, \"type\": \"scatter3d\"}], \"scattercarpet\": [{\"marker\": {\"colorbar\": {\"outlinewidth\": 0, \"ticks\": \"\"}}, \"type\": \"scattercarpet\"}], \"scattergeo\": [{\"marker\": {\"colorbar\": {\"outlinewidth\": 0, \"ticks\": \"\"}}, \"type\": \"scattergeo\"}], \"scattergl\": [{\"marker\": {\"colorbar\": {\"outlinewidth\": 0, \"ticks\": \"\"}}, \"type\": \"scattergl\"}], \"scattermapbox\": [{\"marker\": {\"colorbar\": {\"outlinewidth\": 0, \"ticks\": \"\"}}, \"type\": \"scattermapbox\"}], \"scatterpolar\": [{\"marker\": {\"colorbar\": {\"outlinewidth\": 0, \"ticks\": \"\"}}, \"type\": \"scatterpolar\"}], \"scatterpolargl\": [{\"marker\": {\"colorbar\": {\"outlinewidth\": 0, \"ticks\": \"\"}}, \"type\": \"scatterpolargl\"}], \"scatterternary\": [{\"marker\": {\"colorbar\": {\"outlinewidth\": 0, \"ticks\": \"\"}}, \"type\": \"scatterternary\"}], \"surface\": [{\"colorbar\": {\"outlinewidth\": 0, \"ticks\": \"\"}, \"colorscale\": [[0.0, \"#0d0887\"], [0.1111111111111111, \"#46039f\"], [0.2222222222222222, \"#7201a8\"], [0.3333333333333333, \"#9c179e\"], [0.4444444444444444, \"#bd3786\"], [0.5555555555555556, \"#d8576b\"], [0.6666666666666666, \"#ed7953\"], [0.7777777777777778, \"#fb9f3a\"], [0.8888888888888888, \"#fdca26\"], [1.0, \"#f0f921\"]], \"type\": \"surface\"}], \"table\": [{\"cells\": {\"fill\": {\"color\": \"#EBF0F8\"}, \"line\": {\"color\": \"white\"}}, \"header\": {\"fill\": {\"color\": \"#C8D4E3\"}, \"line\": {\"color\": \"white\"}}, \"type\": \"table\"}]}, \"layout\": {\"annotationdefaults\": {\"arrowcolor\": \"#2a3f5f\", \"arrowhead\": 0, \"arrowwidth\": 1}, \"coloraxis\": {\"colorbar\": {\"outlinewidth\": 0, \"ticks\": \"\"}}, \"colorscale\": {\"diverging\": [[0, \"#8e0152\"], [0.1, \"#c51b7d\"], [0.2, \"#de77ae\"], [0.3, \"#f1b6da\"], [0.4, \"#fde0ef\"], [0.5, \"#f7f7f7\"], [0.6, \"#e6f5d0\"], [0.7, \"#b8e186\"], [0.8, \"#7fbc41\"], [0.9, \"#4d9221\"], [1, \"#276419\"]], \"sequential\": [[0.0, \"#0d0887\"], [0.1111111111111111, \"#46039f\"], [0.2222222222222222, \"#7201a8\"], [0.3333333333333333, \"#9c179e\"], [0.4444444444444444, \"#bd3786\"], [0.5555555555555556, \"#d8576b\"], [0.6666666666666666, \"#ed7953\"], [0.7777777777777778, \"#fb9f3a\"], [0.8888888888888888, \"#fdca26\"], [1.0, \"#f0f921\"]], \"sequentialminus\": [[0.0, \"#0d0887\"], [0.1111111111111111, \"#46039f\"], [0.2222222222222222, \"#7201a8\"], [0.3333333333333333, \"#9c179e\"], [0.4444444444444444, \"#bd3786\"], [0.5555555555555556, \"#d8576b\"], [0.6666666666666666, \"#ed7953\"], [0.7777777777777778, \"#fb9f3a\"], [0.8888888888888888, \"#fdca26\"], [1.0, \"#f0f921\"]]}, \"colorway\": [\"#636efa\", \"#EF553B\", \"#00cc96\", \"#ab63fa\", \"#FFA15A\", \"#19d3f3\", \"#FF6692\", \"#B6E880\", \"#FF97FF\", \"#FECB52\"], \"font\": {\"color\": \"#2a3f5f\"}, \"geo\": {\"bgcolor\": \"white\", \"lakecolor\": \"white\", \"landcolor\": \"#E5ECF6\", \"showlakes\": true, \"showland\": true, \"subunitcolor\": \"white\"}, \"hoverlabel\": {\"align\": \"left\"}, \"hovermode\": \"closest\", \"mapbox\": {\"style\": \"light\"}, \"paper_bgcolor\": \"white\", \"plot_bgcolor\": \"#E5ECF6\", \"polar\": {\"angularaxis\": {\"gridcolor\": \"white\", \"linecolor\": \"white\", \"ticks\": \"\"}, \"bgcolor\": \"#E5ECF6\", \"radialaxis\": {\"gridcolor\": \"white\", \"linecolor\": \"white\", \"ticks\": \"\"}}, \"scene\": {\"xaxis\": {\"backgroundcolor\": \"#E5ECF6\", \"gridcolor\": \"white\", \"gridwidth\": 2, \"linecolor\": \"white\", \"showbackground\": true, \"ticks\": \"\", \"zerolinecolor\": \"white\"}, \"yaxis\": {\"backgroundcolor\": \"#E5ECF6\", \"gridcolor\": \"white\", \"gridwidth\": 2, \"linecolor\": \"white\", \"showbackground\": true, \"ticks\": \"\", \"zerolinecolor\": \"white\"}, \"zaxis\": {\"backgroundcolor\": \"#E5ECF6\", \"gridcolor\": \"white\", \"gridwidth\": 2, \"linecolor\": \"white\", \"showbackground\": true, \"ticks\": \"\", \"zerolinecolor\": \"white\"}}, \"shapedefaults\": {\"line\": {\"color\": \"#2a3f5f\"}}, \"ternary\": {\"aaxis\": {\"gridcolor\": \"white\", \"linecolor\": \"white\", \"ticks\": \"\"}, \"baxis\": {\"gridcolor\": \"white\", \"linecolor\": \"white\", \"ticks\": \"\"}, \"bgcolor\": \"#E5ECF6\", \"caxis\": {\"gridcolor\": \"white\", \"linecolor\": \"white\", \"ticks\": \"\"}}, \"title\": {\"x\": 0.05}, \"xaxis\": {\"automargin\": true, \"gridcolor\": \"white\", \"linecolor\": \"white\", \"ticks\": \"\", \"title\": {\"standoff\": 15}, \"zerolinecolor\": \"white\", \"zerolinewidth\": 2}, \"yaxis\": {\"automargin\": true, \"gridcolor\": \"white\", \"linecolor\": \"white\", \"ticks\": \"\", \"title\": {\"standoff\": 15}, \"zerolinecolor\": \"white\", \"zerolinewidth\": 2}}}, \"xaxis\": {\"linecolor\": \"black\", \"mirror\": \"ticks\", \"showgrid\": false, \"showline\": true, \"tickfont\": {\"color\": \"#000\", \"size\": 24}, \"ticks\": \"inside\", \"title\": {\"font\": {\"color\": \"#000\", \"size\": 30}, \"text\": \"Balanced accuracy\"}}, \"yaxis\": {\"linecolor\": \"black\", \"mirror\": \"ticks\", \"showgrid\": false, \"showline\": true, \"tickfont\": {\"color\": \"#000\", \"size\": 24}, \"ticks\": \"inside\", \"title\": {\"font\": {\"color\": \"#000\", \"size\": 30}, \"text\": \"Gender gap RMS\"}}},\n",
       "                        {\"responsive\": true}\n",
       "                    ).then(function(){\n",
       "                            \n",
       "var gd = document.getElementById('740a3ead-e7db-4c2b-9fd5-5c4f8deb5c53');\n",
       "var x = new MutationObserver(function (mutations, observer) {{\n",
       "        var display = window.getComputedStyle(gd).display;\n",
       "        if (!display || display === 'none') {{\n",
       "            console.log([gd, 'removed!']);\n",
       "            Plotly.purge(gd);\n",
       "            observer.disconnect();\n",
       "        }}\n",
       "}});\n",
       "\n",
       "// Listen for the removal of the full notebook cells\n",
       "var notebookContainer = gd.closest('#notebook-container');\n",
       "if (notebookContainer) {{\n",
       "    x.observe(notebookContainer, {childList: true});\n",
       "}}\n",
       "\n",
       "// Listen for the clearing of the current output cell\n",
       "var outputEl = gd.closest('.output');\n",
       "if (outputEl) {{\n",
       "    x.observe(outputEl, {childList: true});\n",
       "}}\n",
       "\n",
       "                        })\n",
       "                };\n",
       "                });\n",
       "            </script>\n",
       "        </div>"
      ]
     },
     "metadata": {},
     "output_type": "display_data"
    }
   ],
   "source": [
    "iplot(go.Figure(data=traces0+van+proj+rw, layout=layout))"
   ]
  },
  {
   "cell_type": "code",
   "execution_count": 416,
   "metadata": {},
   "outputs": [
    {
     "data": {
      "application/vnd.plotly.v1+json": {
       "config": {
        "linkText": "Export to plot.ly",
        "plotlyServerURL": "https://plot.ly",
        "showLink": false
       },
       "data": [
        {
         "error_y": {
          "array": [
           0.008723476622081812,
           0.006265841188585715,
           0.0073232817939174275,
           0.005983931996624972,
           0.008116341209574364,
           0.0058603135183639505,
           0.005399242621269694,
           0.006496543528227337,
           0.0063391591168269,
           0.006404570746859667,
           0.007473781800467804,
           0.008312952630701406,
           0.0074770632228831286,
           0.011423713175961171,
           0.009833876982367653,
           0.012817306503443001,
           0.012710172290598369,
           0.012777508570982409,
           0.013674221018505085,
           0.013965328541288112,
           0.012100533623533123,
           0.007452479471568742,
           0.008258213217576383,
           0.00898033807887253,
           0.008205632264675715,
           0.00764516689762756,
           0.004598003953073793,
           0.005785480939133888,
           0.004889178875565089,
           0.004494933455768149,
           0.005464360403231364,
           0.007635966219035342,
           0.007870516107915185,
           0.005827339043841791,
           0.004756692306459431,
           0.004353877210728613,
           0.005442363990668633,
           0.005209174307938576,
           0.005568073397212454,
           0.01650637598217938,
           0.020717171110085503,
           0.09804943270505594,
           0.003160591583721481,
           0.0034826624438478735
          ],
          "type": "data",
          "visible": true
         },
         "mode": "lines+markers",
         "name": "BuDRO",
         "type": "scatter",
         "x": [
          0.7611364543437957,
          0.762351256608963,
          0.7644367516040802,
          0.7653329849243165,
          0.7667766213417053,
          0.7681868314743042,
          0.7698619663715363,
          0.7713833212852478,
          0.7738978624343872,
          0.7745274484157563,
          0.7770072519779205,
          0.7779230952262879,
          0.7792281210422516,
          0.7817656457424164,
          0.7826495051383973,
          0.7847714185714721,
          0.7866697013378143,
          0.787325656414032,
          0.7888583958148956,
          0.790455549955368,
          0.7922355711460114,
          0.7937016189098358,
          0.795713996887207,
          0.7968607485294342,
          0.7985685586929321,
          0.8001257896423339,
          0.8017854213714599,
          0.8032113909721375,
          0.8061273276805878,
          0.8064040184020996,
          0.8083501160144806,
          0.8100662648677825,
          0.8113751709461212,
          0.8130085408687592,
          0.8147403061389923,
          0.8161279380321502,
          0.8176447808742523,
          0.8192354798316955,
          0.8208355724811554,
          0.8226534843444824,
          0.8243743658065796,
          0.8261255919933319,
          0.827710872888565,
          0.8288456916809082
         ],
         "y": [
          0.9452404737472534,
          0.9423217296600341,
          0.9415478110313416,
          0.9417468249797821,
          0.9418684363365173,
          0.9553233921527863,
          0.9599999964237214,
          0.9600995004177093,
          0.9584632456302643,
          0.9586843550205231,
          0.9579104423522949,
          0.9570370376110077,
          0.9496185719966889,
          0.9540298521518707,
          0.9469762325286866,
          0.9427086710929871,
          0.9496959626674653,
          0.9488888919353485,
          0.9451851963996887,
          0.9423327744007111,
          0.9421558797359466,
          0.9431730151176453,
          0.9455389738082886,
          0.9416915476322174,
          0.9409618556499482,
          0.9401879489421845,
          0.9508568286895752,
          0.9535655081272125,
          0.9420232236385345,
          0.941757881641388,
          0.9415809810161591,
          0.9400663375854492,
          0.9400331616401673,
          0.9474626898765564,
          0.9472747385501862,
          0.9463128864765167,
          0.9407739102840423,
          0.9446434378623962,
          0.9421227216720581,
          0.9421558916568756,
          0.9459812045097351,
          0.9504919707775116,
          0.9842454314231872,
          0.9775456011295318
         ]
        },
        {
         "error_y": {
          "array": [
           0.026226285091937328,
           0.026523524355156095,
           0.027228145698020196,
           0.02639146248069649,
           0.026465320599407077,
           0.02622041202266541,
           0.026536752409408126,
           0.026816675407845797,
           0.02685731895827654,
           0.026971174694628272,
           0.02693837818953281,
           0.027257895380665937,
           0.02754906751437687,
           0.02738220204989244,
           0.026650811946479308,
           0.026292024893198956,
           0.026334143576110688,
           0.026165198641610078,
           0.02659162890966457,
           0.026169620943277922,
           0.023550124346406884,
           0.023579657539086942,
           0.023503117119108623,
           0.024023516407921656,
           0.023170156221253964,
           0.02943886407495588,
           0.029079550908951,
           0.028184245517319923,
           0.027176914702858764,
           0.02718009095006737
          ],
          "type": "data",
          "visible": true
         },
         "mode": "lines+markers",
         "name": "Vanilla GBDT",
         "type": "scatter",
         "x": [
          0.797566896,
          0.7994596380999999,
          0.8010738324,
          0.8037213142999999,
          0.8059358986000001,
          0.8074886347,
          0.8091486205,
          0.8105828105999999,
          0.8123785230999999,
          0.8124602025999998,
          0.8150330020999998,
          0.8171851734999999,
          0.8185743258000002,
          0.818993807,
          0.821889731,
          0.8235649788,
          0.8244117634,
          0.8266876499999999,
          0.8281859630999999,
          0.8299560288000001,
          0.8313515633999999,
          0.8320700253,
          0.8333528726000001,
          0.8350011985999999,
          0.8372322041,
          0.8388698495,
          0.8397796664999999,
          0.8416392355,
          0.8443436371,
          0.8445372686999999
         ],
         "y": [
          1,
          1,
          1,
          1,
          1,
          1,
          1,
          0.9999778884000001,
          1,
          1,
          0.9981094527,
          1,
          1,
          0.9999557766999999,
          0.9907462686999999,
          0.9899613043999999,
          0.9881370924999999,
          0.9785295744000001,
          0.9764400221999999,
          0.9685461581,
          0.9113764509000001,
          0.9127363183999998,
          0.9141072416000002,
          0.9231066887999999,
          0.9283692649999999,
          0.9271641790999998,
          0.9234604754,
          0.9291873964,
          0.9381315643999999,
          0.937302377
         ]
        },
        {
         "error_y": {
          "array": [
           0.09501218282596359,
           0.094163729239457,
           0.09469602500358437,
           0.09500360676942328,
           0.09499527705499336,
           0.09319585547062197,
           0.09303927518363231,
           0.09182514545761841,
           0.0940424200230107,
           0.091304651365874,
           0.09585798795183807,
           0.09178436259214157,
           0.09177776209708526,
           0.0917691924268892,
           0.09176705600410401,
           0.09201321241803506,
           0.09201116705850167,
           0.09200828964724234,
           0.09149650189200777
          ],
          "type": "data",
          "visible": true
         },
         "mode": "lines+markers",
         "name": "Projecting",
         "type": "scatter",
         "x": [
          0.7612301985,
          0.7621558270000002,
          0.7636780234,
          0.7651866627,
          0.7673841468000001,
          0.7689329,
          0.7699407501,
          0.7721319864,
          0.7743612084000001,
          0.7747893194,
          0.7771706326000001,
          0.7786179526000001,
          0.779698557,
          0.7823692026,
          0.7835992648,
          0.7854861035,
          0.7858121262,
          0.7880026021,
          0.7900230656
         ],
         "y": [
          0.8926368160000001,
          0.9084577115,
          0.8935433940999999,
          0.8939414039999999,
          0.8984521836000001,
          0.9113543395000001,
          0.9028966278999999,
          0.9019679381,
          0.8975124378000002,
          0.8966058596000002,
          0.8941735763999998,
          0.8973797677999998,
          0.8990381426999999,
          0.9003869542,
          0.9003537866,
          0.8973244885999998,
          0.8971918188000002,
          0.8976561637000001,
          0.9085019348
         ]
        },
        {
         "error_y": {
          "array": [
           0.06826645569015621,
           0.03779012230296707,
           0.0342553346220219,
           0.03360814936072221,
           0.02339607202279304,
           0.03773327864721721,
           0.023395104013747,
           0.023258464037143486,
           0.02273179408808591,
           0.023452330284306485,
           0.02342374038805871,
           0.023141844181097406,
           0.023031727551479912,
           0.023383314223931317,
           0.022773174819111744,
           0.02292787022284054,
           0.02256277419558572,
           0.029852006703527785,
           0.03166361061531501,
           0.032074618988345745,
           0.03355579949953083,
           0.03242411776341388,
           0.030703865116461285,
           0.034140688344047675,
           0.034113539348739265,
           0.0250771612830123,
           0.029205158178934328,
           0.029170801609804148,
           0.03252985730198807,
           0.03251075493736932,
           0.027807123097852854,
           0.024103670355223657,
           0.021298172227751083
          ],
          "type": "data",
          "visible": true
         },
         "mode": "lines+markers",
         "name": "Reweighing",
         "type": "scatter",
         "x": [
          0.7832160476000001,
          0.7850137832,
          0.7876042291000002,
          0.7896080685000002,
          0.7917015609999999,
          0.7930617163000002,
          0.7944797684,
          0.7952106125999999,
          0.8012122989999998,
          0.8016518866,
          0.8036234838,
          0.8059461990000001,
          0.8079841652,
          0.8085291523999999,
          0.8110291126,
          0.8112221657,
          0.8143519626,
          0.8152109837000001,
          0.8175895052,
          0.8185880445,
          0.8206467552,
          0.8222323858999999,
          0.8238995789999999,
          0.8252813344,
          0.8267805091,
          0.8287420687000001,
          0.8301668036999998,
          0.8317184743999999,
          0.8335584733999999,
          0.8339694078000001,
          0.8363436932999999,
          0.8370898264000001,
          0.8384495215
         ],
         "y": [
          1,
          1,
          0.8931564399000003,
          0.9077501381000002,
          0.8538529574,
          0.9510889993999999,
          0.8638695412,
          0.8644223326999999,
          0.8502377003000001,
          0.8450193475999999,
          0.8612935323,
          0.8937866226000001,
          0.9032393588,
          0.8927363184999999,
          0.8898286346000001,
          0.8898839137,
          0.8510337204,
          0.8073631841,
          0.8019016030999999,
          0.8034825871000001,
          0.8009065783,
          0.8007739082,
          0.799270315,
          0.7960751796000001,
          0.7964621338,
          0.8020232171,
          0.8044886676999999,
          0.8068988390000001,
          0.8096406853,
          0.8106357103,
          0.8289110005,
          0.8298396906000001,
          0.8704367053999998
         ]
        }
       ],
       "layout": {
        "font": {
         "family": "CMU Serif"
        },
        "legend": {
         "font": {
          "size": 20
         }
        },
        "margin": {
         "b": 90,
         "l": 100,
         "r": 10,
         "t": 10
        },
        "plot_bgcolor": "rgba(0,0,0,0)",
        "template": {
         "data": {
          "bar": [
           {
            "error_x": {
             "color": "#2a3f5f"
            },
            "error_y": {
             "color": "#2a3f5f"
            },
            "marker": {
             "line": {
              "color": "#E5ECF6",
              "width": 0.5
             }
            },
            "type": "bar"
           }
          ],
          "barpolar": [
           {
            "marker": {
             "line": {
              "color": "#E5ECF6",
              "width": 0.5
             }
            },
            "type": "barpolar"
           }
          ],
          "carpet": [
           {
            "aaxis": {
             "endlinecolor": "#2a3f5f",
             "gridcolor": "white",
             "linecolor": "white",
             "minorgridcolor": "white",
             "startlinecolor": "#2a3f5f"
            },
            "baxis": {
             "endlinecolor": "#2a3f5f",
             "gridcolor": "white",
             "linecolor": "white",
             "minorgridcolor": "white",
             "startlinecolor": "#2a3f5f"
            },
            "type": "carpet"
           }
          ],
          "choropleth": [
           {
            "colorbar": {
             "outlinewidth": 0,
             "ticks": ""
            },
            "type": "choropleth"
           }
          ],
          "contour": [
           {
            "colorbar": {
             "outlinewidth": 0,
             "ticks": ""
            },
            "colorscale": [
             [
              0,
              "#0d0887"
             ],
             [
              0.1111111111111111,
              "#46039f"
             ],
             [
              0.2222222222222222,
              "#7201a8"
             ],
             [
              0.3333333333333333,
              "#9c179e"
             ],
             [
              0.4444444444444444,
              "#bd3786"
             ],
             [
              0.5555555555555556,
              "#d8576b"
             ],
             [
              0.6666666666666666,
              "#ed7953"
             ],
             [
              0.7777777777777778,
              "#fb9f3a"
             ],
             [
              0.8888888888888888,
              "#fdca26"
             ],
             [
              1,
              "#f0f921"
             ]
            ],
            "type": "contour"
           }
          ],
          "contourcarpet": [
           {
            "colorbar": {
             "outlinewidth": 0,
             "ticks": ""
            },
            "type": "contourcarpet"
           }
          ],
          "heatmap": [
           {
            "colorbar": {
             "outlinewidth": 0,
             "ticks": ""
            },
            "colorscale": [
             [
              0,
              "#0d0887"
             ],
             [
              0.1111111111111111,
              "#46039f"
             ],
             [
              0.2222222222222222,
              "#7201a8"
             ],
             [
              0.3333333333333333,
              "#9c179e"
             ],
             [
              0.4444444444444444,
              "#bd3786"
             ],
             [
              0.5555555555555556,
              "#d8576b"
             ],
             [
              0.6666666666666666,
              "#ed7953"
             ],
             [
              0.7777777777777778,
              "#fb9f3a"
             ],
             [
              0.8888888888888888,
              "#fdca26"
             ],
             [
              1,
              "#f0f921"
             ]
            ],
            "type": "heatmap"
           }
          ],
          "heatmapgl": [
           {
            "colorbar": {
             "outlinewidth": 0,
             "ticks": ""
            },
            "colorscale": [
             [
              0,
              "#0d0887"
             ],
             [
              0.1111111111111111,
              "#46039f"
             ],
             [
              0.2222222222222222,
              "#7201a8"
             ],
             [
              0.3333333333333333,
              "#9c179e"
             ],
             [
              0.4444444444444444,
              "#bd3786"
             ],
             [
              0.5555555555555556,
              "#d8576b"
             ],
             [
              0.6666666666666666,
              "#ed7953"
             ],
             [
              0.7777777777777778,
              "#fb9f3a"
             ],
             [
              0.8888888888888888,
              "#fdca26"
             ],
             [
              1,
              "#f0f921"
             ]
            ],
            "type": "heatmapgl"
           }
          ],
          "histogram": [
           {
            "marker": {
             "colorbar": {
              "outlinewidth": 0,
              "ticks": ""
             }
            },
            "type": "histogram"
           }
          ],
          "histogram2d": [
           {
            "colorbar": {
             "outlinewidth": 0,
             "ticks": ""
            },
            "colorscale": [
             [
              0,
              "#0d0887"
             ],
             [
              0.1111111111111111,
              "#46039f"
             ],
             [
              0.2222222222222222,
              "#7201a8"
             ],
             [
              0.3333333333333333,
              "#9c179e"
             ],
             [
              0.4444444444444444,
              "#bd3786"
             ],
             [
              0.5555555555555556,
              "#d8576b"
             ],
             [
              0.6666666666666666,
              "#ed7953"
             ],
             [
              0.7777777777777778,
              "#fb9f3a"
             ],
             [
              0.8888888888888888,
              "#fdca26"
             ],
             [
              1,
              "#f0f921"
             ]
            ],
            "type": "histogram2d"
           }
          ],
          "histogram2dcontour": [
           {
            "colorbar": {
             "outlinewidth": 0,
             "ticks": ""
            },
            "colorscale": [
             [
              0,
              "#0d0887"
             ],
             [
              0.1111111111111111,
              "#46039f"
             ],
             [
              0.2222222222222222,
              "#7201a8"
             ],
             [
              0.3333333333333333,
              "#9c179e"
             ],
             [
              0.4444444444444444,
              "#bd3786"
             ],
             [
              0.5555555555555556,
              "#d8576b"
             ],
             [
              0.6666666666666666,
              "#ed7953"
             ],
             [
              0.7777777777777778,
              "#fb9f3a"
             ],
             [
              0.8888888888888888,
              "#fdca26"
             ],
             [
              1,
              "#f0f921"
             ]
            ],
            "type": "histogram2dcontour"
           }
          ],
          "mesh3d": [
           {
            "colorbar": {
             "outlinewidth": 0,
             "ticks": ""
            },
            "type": "mesh3d"
           }
          ],
          "parcoords": [
           {
            "line": {
             "colorbar": {
              "outlinewidth": 0,
              "ticks": ""
             }
            },
            "type": "parcoords"
           }
          ],
          "pie": [
           {
            "automargin": true,
            "type": "pie"
           }
          ],
          "scatter": [
           {
            "marker": {
             "colorbar": {
              "outlinewidth": 0,
              "ticks": ""
             }
            },
            "type": "scatter"
           }
          ],
          "scatter3d": [
           {
            "line": {
             "colorbar": {
              "outlinewidth": 0,
              "ticks": ""
             }
            },
            "marker": {
             "colorbar": {
              "outlinewidth": 0,
              "ticks": ""
             }
            },
            "type": "scatter3d"
           }
          ],
          "scattercarpet": [
           {
            "marker": {
             "colorbar": {
              "outlinewidth": 0,
              "ticks": ""
             }
            },
            "type": "scattercarpet"
           }
          ],
          "scattergeo": [
           {
            "marker": {
             "colorbar": {
              "outlinewidth": 0,
              "ticks": ""
             }
            },
            "type": "scattergeo"
           }
          ],
          "scattergl": [
           {
            "marker": {
             "colorbar": {
              "outlinewidth": 0,
              "ticks": ""
             }
            },
            "type": "scattergl"
           }
          ],
          "scattermapbox": [
           {
            "marker": {
             "colorbar": {
              "outlinewidth": 0,
              "ticks": ""
             }
            },
            "type": "scattermapbox"
           }
          ],
          "scatterpolar": [
           {
            "marker": {
             "colorbar": {
              "outlinewidth": 0,
              "ticks": ""
             }
            },
            "type": "scatterpolar"
           }
          ],
          "scatterpolargl": [
           {
            "marker": {
             "colorbar": {
              "outlinewidth": 0,
              "ticks": ""
             }
            },
            "type": "scatterpolargl"
           }
          ],
          "scatterternary": [
           {
            "marker": {
             "colorbar": {
              "outlinewidth": 0,
              "ticks": ""
             }
            },
            "type": "scatterternary"
           }
          ],
          "surface": [
           {
            "colorbar": {
             "outlinewidth": 0,
             "ticks": ""
            },
            "colorscale": [
             [
              0,
              "#0d0887"
             ],
             [
              0.1111111111111111,
              "#46039f"
             ],
             [
              0.2222222222222222,
              "#7201a8"
             ],
             [
              0.3333333333333333,
              "#9c179e"
             ],
             [
              0.4444444444444444,
              "#bd3786"
             ],
             [
              0.5555555555555556,
              "#d8576b"
             ],
             [
              0.6666666666666666,
              "#ed7953"
             ],
             [
              0.7777777777777778,
              "#fb9f3a"
             ],
             [
              0.8888888888888888,
              "#fdca26"
             ],
             [
              1,
              "#f0f921"
             ]
            ],
            "type": "surface"
           }
          ],
          "table": [
           {
            "cells": {
             "fill": {
              "color": "#EBF0F8"
             },
             "line": {
              "color": "white"
             }
            },
            "header": {
             "fill": {
              "color": "#C8D4E3"
             },
             "line": {
              "color": "white"
             }
            },
            "type": "table"
           }
          ]
         },
         "layout": {
          "annotationdefaults": {
           "arrowcolor": "#2a3f5f",
           "arrowhead": 0,
           "arrowwidth": 1
          },
          "coloraxis": {
           "colorbar": {
            "outlinewidth": 0,
            "ticks": ""
           }
          },
          "colorscale": {
           "diverging": [
            [
             0,
             "#8e0152"
            ],
            [
             0.1,
             "#c51b7d"
            ],
            [
             0.2,
             "#de77ae"
            ],
            [
             0.3,
             "#f1b6da"
            ],
            [
             0.4,
             "#fde0ef"
            ],
            [
             0.5,
             "#f7f7f7"
            ],
            [
             0.6,
             "#e6f5d0"
            ],
            [
             0.7,
             "#b8e186"
            ],
            [
             0.8,
             "#7fbc41"
            ],
            [
             0.9,
             "#4d9221"
            ],
            [
             1,
             "#276419"
            ]
           ],
           "sequential": [
            [
             0,
             "#0d0887"
            ],
            [
             0.1111111111111111,
             "#46039f"
            ],
            [
             0.2222222222222222,
             "#7201a8"
            ],
            [
             0.3333333333333333,
             "#9c179e"
            ],
            [
             0.4444444444444444,
             "#bd3786"
            ],
            [
             0.5555555555555556,
             "#d8576b"
            ],
            [
             0.6666666666666666,
             "#ed7953"
            ],
            [
             0.7777777777777778,
             "#fb9f3a"
            ],
            [
             0.8888888888888888,
             "#fdca26"
            ],
            [
             1,
             "#f0f921"
            ]
           ],
           "sequentialminus": [
            [
             0,
             "#0d0887"
            ],
            [
             0.1111111111111111,
             "#46039f"
            ],
            [
             0.2222222222222222,
             "#7201a8"
            ],
            [
             0.3333333333333333,
             "#9c179e"
            ],
            [
             0.4444444444444444,
             "#bd3786"
            ],
            [
             0.5555555555555556,
             "#d8576b"
            ],
            [
             0.6666666666666666,
             "#ed7953"
            ],
            [
             0.7777777777777778,
             "#fb9f3a"
            ],
            [
             0.8888888888888888,
             "#fdca26"
            ],
            [
             1,
             "#f0f921"
            ]
           ]
          },
          "colorway": [
           "#636efa",
           "#EF553B",
           "#00cc96",
           "#ab63fa",
           "#FFA15A",
           "#19d3f3",
           "#FF6692",
           "#B6E880",
           "#FF97FF",
           "#FECB52"
          ],
          "font": {
           "color": "#2a3f5f"
          },
          "geo": {
           "bgcolor": "white",
           "lakecolor": "white",
           "landcolor": "#E5ECF6",
           "showlakes": true,
           "showland": true,
           "subunitcolor": "white"
          },
          "hoverlabel": {
           "align": "left"
          },
          "hovermode": "closest",
          "mapbox": {
           "style": "light"
          },
          "paper_bgcolor": "white",
          "plot_bgcolor": "#E5ECF6",
          "polar": {
           "angularaxis": {
            "gridcolor": "white",
            "linecolor": "white",
            "ticks": ""
           },
           "bgcolor": "#E5ECF6",
           "radialaxis": {
            "gridcolor": "white",
            "linecolor": "white",
            "ticks": ""
           }
          },
          "scene": {
           "xaxis": {
            "backgroundcolor": "#E5ECF6",
            "gridcolor": "white",
            "gridwidth": 2,
            "linecolor": "white",
            "showbackground": true,
            "ticks": "",
            "zerolinecolor": "white"
           },
           "yaxis": {
            "backgroundcolor": "#E5ECF6",
            "gridcolor": "white",
            "gridwidth": 2,
            "linecolor": "white",
            "showbackground": true,
            "ticks": "",
            "zerolinecolor": "white"
           },
           "zaxis": {
            "backgroundcolor": "#E5ECF6",
            "gridcolor": "white",
            "gridwidth": 2,
            "linecolor": "white",
            "showbackground": true,
            "ticks": "",
            "zerolinecolor": "white"
           }
          },
          "shapedefaults": {
           "line": {
            "color": "#2a3f5f"
           }
          },
          "ternary": {
           "aaxis": {
            "gridcolor": "white",
            "linecolor": "white",
            "ticks": ""
           },
           "baxis": {
            "gridcolor": "white",
            "linecolor": "white",
            "ticks": ""
           },
           "bgcolor": "#E5ECF6",
           "caxis": {
            "gridcolor": "white",
            "linecolor": "white",
            "ticks": ""
           }
          },
          "title": {
           "x": 0.05
          },
          "xaxis": {
           "automargin": true,
           "gridcolor": "white",
           "linecolor": "white",
           "ticks": "",
           "title": {
            "standoff": 15
           },
           "zerolinecolor": "white",
           "zerolinewidth": 2
          },
          "yaxis": {
           "automargin": true,
           "gridcolor": "white",
           "linecolor": "white",
           "ticks": "",
           "title": {
            "standoff": 15
           },
           "zerolinecolor": "white",
           "zerolinewidth": 2
          }
         }
        },
        "xaxis": {
         "linecolor": "black",
         "mirror": "ticks",
         "showgrid": false,
         "showline": true,
         "tickfont": {
          "color": "#000",
          "size": 24
         },
         "ticks": "inside",
         "title": {
          "font": {
           "color": "#000",
           "size": 30
          },
          "text": "Balanced accuracy"
         }
        },
        "yaxis": {
         "linecolor": "black",
         "mirror": "ticks",
         "range": [
          0.74,
          1
         ],
         "showgrid": false,
         "showline": true,
         "tickfont": {
          "color": "#000",
          "size": 24
         },
         "ticks": "inside",
         "title": {
          "font": {
           "color": "#000",
           "size": 30
          },
          "text": "Spouse consistency"
         }
        }
       }
      },
      "text/html": [
       "<div>\n",
       "        \n",
       "        \n",
       "            <div id=\"88b1a7d7-9891-4d99-94f5-99155e8a32a7\" class=\"plotly-graph-div\" style=\"height:525px; width:100%;\"></div>\n",
       "            <script type=\"text/javascript\">\n",
       "                require([\"plotly\"], function(Plotly) {\n",
       "                    window.PLOTLYENV=window.PLOTLYENV || {};\n",
       "                    \n",
       "                if (document.getElementById(\"88b1a7d7-9891-4d99-94f5-99155e8a32a7\")) {\n",
       "                    Plotly.newPlot(\n",
       "                        '88b1a7d7-9891-4d99-94f5-99155e8a32a7',\n",
       "                        [{\"error_y\": {\"array\": [0.008723476622081812, 0.006265841188585715, 0.0073232817939174275, 0.005983931996624972, 0.008116341209574364, 0.0058603135183639505, 0.005399242621269694, 0.006496543528227337, 0.0063391591168269, 0.006404570746859667, 0.007473781800467804, 0.008312952630701406, 0.0074770632228831286, 0.011423713175961171, 0.009833876982367653, 0.012817306503443001, 0.012710172290598369, 0.012777508570982409, 0.013674221018505085, 0.013965328541288112, 0.012100533623533123, 0.007452479471568742, 0.008258213217576383, 0.00898033807887253, 0.008205632264675715, 0.00764516689762756, 0.004598003953073793, 0.005785480939133888, 0.004889178875565089, 0.004494933455768149, 0.005464360403231364, 0.007635966219035342, 0.007870516107915185, 0.005827339043841791, 0.004756692306459431, 0.004353877210728613, 0.005442363990668633, 0.005209174307938576, 0.005568073397212454, 0.01650637598217938, 0.020717171110085503, 0.09804943270505594, 0.003160591583721481, 0.0034826624438478735], \"type\": \"data\", \"visible\": true}, \"mode\": \"lines+markers\", \"name\": \"BuDRO\", \"type\": \"scatter\", \"x\": [0.7611364543437957, 0.762351256608963, 0.7644367516040802, 0.7653329849243165, 0.7667766213417053, 0.7681868314743042, 0.7698619663715363, 0.7713833212852478, 0.7738978624343872, 0.7745274484157563, 0.7770072519779205, 0.7779230952262879, 0.7792281210422516, 0.7817656457424164, 0.7826495051383973, 0.7847714185714721, 0.7866697013378143, 0.787325656414032, 0.7888583958148956, 0.790455549955368, 0.7922355711460114, 0.7937016189098358, 0.795713996887207, 0.7968607485294342, 0.7985685586929321, 0.8001257896423339, 0.8017854213714599, 0.8032113909721375, 0.8061273276805878, 0.8064040184020996, 0.8083501160144806, 0.8100662648677825, 0.8113751709461212, 0.8130085408687592, 0.8147403061389923, 0.8161279380321502, 0.8176447808742523, 0.8192354798316955, 0.8208355724811554, 0.8226534843444824, 0.8243743658065796, 0.8261255919933319, 0.827710872888565, 0.8288456916809082], \"y\": [0.9452404737472534, 0.9423217296600341, 0.9415478110313416, 0.9417468249797821, 0.9418684363365173, 0.9553233921527863, 0.9599999964237214, 0.9600995004177093, 0.9584632456302643, 0.9586843550205231, 0.9579104423522949, 0.9570370376110077, 0.9496185719966889, 0.9540298521518707, 0.9469762325286866, 0.9427086710929871, 0.9496959626674653, 0.9488888919353485, 0.9451851963996887, 0.9423327744007111, 0.9421558797359466, 0.9431730151176453, 0.9455389738082886, 0.9416915476322174, 0.9409618556499482, 0.9401879489421845, 0.9508568286895752, 0.9535655081272125, 0.9420232236385345, 0.941757881641388, 0.9415809810161591, 0.9400663375854492, 0.9400331616401673, 0.9474626898765564, 0.9472747385501862, 0.9463128864765167, 0.9407739102840423, 0.9446434378623962, 0.9421227216720581, 0.9421558916568756, 0.9459812045097351, 0.9504919707775116, 0.9842454314231872, 0.9775456011295318]}, {\"error_y\": {\"array\": [0.026226285091937328, 0.026523524355156095, 0.027228145698020196, 0.02639146248069649, 0.026465320599407077, 0.02622041202266541, 0.026536752409408126, 0.026816675407845797, 0.02685731895827654, 0.026971174694628272, 0.02693837818953281, 0.027257895380665937, 0.02754906751437687, 0.02738220204989244, 0.026650811946479308, 0.026292024893198956, 0.026334143576110688, 0.026165198641610078, 0.02659162890966457, 0.026169620943277922, 0.023550124346406884, 0.023579657539086942, 0.023503117119108623, 0.024023516407921656, 0.023170156221253964, 0.02943886407495588, 0.029079550908951, 0.028184245517319923, 0.027176914702858764, 0.02718009095006737], \"type\": \"data\", \"visible\": true}, \"mode\": \"lines+markers\", \"name\": \"Vanilla GBDT\", \"type\": \"scatter\", \"x\": [0.797566896, 0.7994596380999999, 0.8010738324, 0.8037213142999999, 0.8059358986000001, 0.8074886347, 0.8091486205, 0.8105828105999999, 0.8123785230999999, 0.8124602025999998, 0.8150330020999998, 0.8171851734999999, 0.8185743258000002, 0.818993807, 0.821889731, 0.8235649788, 0.8244117634, 0.8266876499999999, 0.8281859630999999, 0.8299560288000001, 0.8313515633999999, 0.8320700253, 0.8333528726000001, 0.8350011985999999, 0.8372322041, 0.8388698495, 0.8397796664999999, 0.8416392355, 0.8443436371, 0.8445372686999999], \"y\": [1.0, 1.0, 1.0, 1.0, 1.0, 1.0, 1.0, 0.9999778884000001, 1.0, 1.0, 0.9981094527, 1.0, 1.0, 0.9999557766999999, 0.9907462686999999, 0.9899613043999999, 0.9881370924999999, 0.9785295744000001, 0.9764400221999999, 0.9685461581, 0.9113764509000001, 0.9127363183999998, 0.9141072416000002, 0.9231066887999999, 0.9283692649999999, 0.9271641790999998, 0.9234604754, 0.9291873964, 0.9381315643999999, 0.937302377]}, {\"error_y\": {\"array\": [0.09501218282596359, 0.094163729239457, 0.09469602500358437, 0.09500360676942328, 0.09499527705499336, 0.09319585547062197, 0.09303927518363231, 0.09182514545761841, 0.0940424200230107, 0.091304651365874, 0.09585798795183807, 0.09178436259214157, 0.09177776209708526, 0.0917691924268892, 0.09176705600410401, 0.09201321241803506, 0.09201116705850167, 0.09200828964724234, 0.09149650189200777], \"type\": \"data\", \"visible\": true}, \"mode\": \"lines+markers\", \"name\": \"Projecting\", \"type\": \"scatter\", \"x\": [0.7612301985, 0.7621558270000002, 0.7636780234, 0.7651866627, 0.7673841468000001, 0.7689329, 0.7699407501, 0.7721319864, 0.7743612084000001, 0.7747893194, 0.7771706326000001, 0.7786179526000001, 0.779698557, 0.7823692026, 0.7835992648, 0.7854861035, 0.7858121262, 0.7880026021, 0.7900230656], \"y\": [0.8926368160000001, 0.9084577115, 0.8935433940999999, 0.8939414039999999, 0.8984521836000001, 0.9113543395000001, 0.9028966278999999, 0.9019679381, 0.8975124378000002, 0.8966058596000002, 0.8941735763999998, 0.8973797677999998, 0.8990381426999999, 0.9003869542, 0.9003537866, 0.8973244885999998, 0.8971918188000002, 0.8976561637000001, 0.9085019348]}, {\"error_y\": {\"array\": [0.06826645569015621, 0.03779012230296707, 0.0342553346220219, 0.03360814936072221, 0.02339607202279304, 0.03773327864721721, 0.023395104013747, 0.023258464037143486, 0.02273179408808591, 0.023452330284306485, 0.02342374038805871, 0.023141844181097406, 0.023031727551479912, 0.023383314223931317, 0.022773174819111744, 0.02292787022284054, 0.02256277419558572, 0.029852006703527785, 0.03166361061531501, 0.032074618988345745, 0.03355579949953083, 0.03242411776341388, 0.030703865116461285, 0.034140688344047675, 0.034113539348739265, 0.0250771612830123, 0.029205158178934328, 0.029170801609804148, 0.03252985730198807, 0.03251075493736932, 0.027807123097852854, 0.024103670355223657, 0.021298172227751083], \"type\": \"data\", \"visible\": true}, \"mode\": \"lines+markers\", \"name\": \"Reweighing\", \"type\": \"scatter\", \"x\": [0.7832160476000001, 0.7850137832, 0.7876042291000002, 0.7896080685000002, 0.7917015609999999, 0.7930617163000002, 0.7944797684, 0.7952106125999999, 0.8012122989999998, 0.8016518866, 0.8036234838, 0.8059461990000001, 0.8079841652, 0.8085291523999999, 0.8110291126, 0.8112221657, 0.8143519626, 0.8152109837000001, 0.8175895052, 0.8185880445, 0.8206467552, 0.8222323858999999, 0.8238995789999999, 0.8252813344, 0.8267805091, 0.8287420687000001, 0.8301668036999998, 0.8317184743999999, 0.8335584733999999, 0.8339694078000001, 0.8363436932999999, 0.8370898264000001, 0.8384495215], \"y\": [1.0, 1.0, 0.8931564399000003, 0.9077501381000002, 0.8538529574, 0.9510889993999999, 0.8638695412, 0.8644223326999999, 0.8502377003000001, 0.8450193475999999, 0.8612935323, 0.8937866226000001, 0.9032393588, 0.8927363184999999, 0.8898286346000001, 0.8898839137, 0.8510337204, 0.8073631841, 0.8019016030999999, 0.8034825871000001, 0.8009065783, 0.8007739082, 0.799270315, 0.7960751796000001, 0.7964621338, 0.8020232171, 0.8044886676999999, 0.8068988390000001, 0.8096406853, 0.8106357103, 0.8289110005, 0.8298396906000001, 0.8704367053999998]}],\n",
       "                        {\"font\": {\"family\": \"CMU Serif\"}, \"legend\": {\"font\": {\"size\": 20}}, \"margin\": {\"b\": 90, \"l\": 100, \"r\": 10, \"t\": 10}, \"plot_bgcolor\": \"rgba(0,0,0,0)\", \"template\": {\"data\": {\"bar\": [{\"error_x\": {\"color\": \"#2a3f5f\"}, \"error_y\": {\"color\": \"#2a3f5f\"}, \"marker\": {\"line\": {\"color\": \"#E5ECF6\", \"width\": 0.5}}, \"type\": \"bar\"}], \"barpolar\": [{\"marker\": {\"line\": {\"color\": \"#E5ECF6\", \"width\": 0.5}}, \"type\": \"barpolar\"}], \"carpet\": [{\"aaxis\": {\"endlinecolor\": \"#2a3f5f\", \"gridcolor\": \"white\", \"linecolor\": \"white\", \"minorgridcolor\": \"white\", \"startlinecolor\": \"#2a3f5f\"}, \"baxis\": {\"endlinecolor\": \"#2a3f5f\", \"gridcolor\": \"white\", \"linecolor\": \"white\", \"minorgridcolor\": \"white\", \"startlinecolor\": \"#2a3f5f\"}, \"type\": \"carpet\"}], \"choropleth\": [{\"colorbar\": {\"outlinewidth\": 0, \"ticks\": \"\"}, \"type\": \"choropleth\"}], \"contour\": [{\"colorbar\": {\"outlinewidth\": 0, \"ticks\": \"\"}, \"colorscale\": [[0.0, \"#0d0887\"], [0.1111111111111111, \"#46039f\"], [0.2222222222222222, \"#7201a8\"], [0.3333333333333333, \"#9c179e\"], [0.4444444444444444, \"#bd3786\"], [0.5555555555555556, \"#d8576b\"], [0.6666666666666666, \"#ed7953\"], [0.7777777777777778, \"#fb9f3a\"], [0.8888888888888888, \"#fdca26\"], [1.0, \"#f0f921\"]], \"type\": \"contour\"}], \"contourcarpet\": [{\"colorbar\": {\"outlinewidth\": 0, \"ticks\": \"\"}, \"type\": \"contourcarpet\"}], \"heatmap\": [{\"colorbar\": {\"outlinewidth\": 0, \"ticks\": \"\"}, \"colorscale\": [[0.0, \"#0d0887\"], [0.1111111111111111, \"#46039f\"], [0.2222222222222222, \"#7201a8\"], [0.3333333333333333, \"#9c179e\"], [0.4444444444444444, \"#bd3786\"], [0.5555555555555556, \"#d8576b\"], [0.6666666666666666, \"#ed7953\"], [0.7777777777777778, \"#fb9f3a\"], [0.8888888888888888, \"#fdca26\"], [1.0, \"#f0f921\"]], \"type\": \"heatmap\"}], \"heatmapgl\": [{\"colorbar\": {\"outlinewidth\": 0, \"ticks\": \"\"}, \"colorscale\": [[0.0, \"#0d0887\"], [0.1111111111111111, \"#46039f\"], [0.2222222222222222, \"#7201a8\"], [0.3333333333333333, \"#9c179e\"], [0.4444444444444444, \"#bd3786\"], [0.5555555555555556, \"#d8576b\"], [0.6666666666666666, \"#ed7953\"], [0.7777777777777778, \"#fb9f3a\"], [0.8888888888888888, \"#fdca26\"], [1.0, \"#f0f921\"]], \"type\": \"heatmapgl\"}], \"histogram\": [{\"marker\": {\"colorbar\": {\"outlinewidth\": 0, \"ticks\": \"\"}}, \"type\": \"histogram\"}], \"histogram2d\": [{\"colorbar\": {\"outlinewidth\": 0, \"ticks\": \"\"}, \"colorscale\": [[0.0, \"#0d0887\"], [0.1111111111111111, \"#46039f\"], [0.2222222222222222, \"#7201a8\"], [0.3333333333333333, \"#9c179e\"], [0.4444444444444444, \"#bd3786\"], [0.5555555555555556, \"#d8576b\"], [0.6666666666666666, \"#ed7953\"], [0.7777777777777778, \"#fb9f3a\"], [0.8888888888888888, \"#fdca26\"], [1.0, \"#f0f921\"]], \"type\": \"histogram2d\"}], \"histogram2dcontour\": [{\"colorbar\": {\"outlinewidth\": 0, \"ticks\": \"\"}, \"colorscale\": [[0.0, \"#0d0887\"], [0.1111111111111111, \"#46039f\"], [0.2222222222222222, \"#7201a8\"], [0.3333333333333333, \"#9c179e\"], [0.4444444444444444, \"#bd3786\"], [0.5555555555555556, \"#d8576b\"], [0.6666666666666666, \"#ed7953\"], [0.7777777777777778, \"#fb9f3a\"], [0.8888888888888888, \"#fdca26\"], [1.0, \"#f0f921\"]], \"type\": \"histogram2dcontour\"}], \"mesh3d\": [{\"colorbar\": {\"outlinewidth\": 0, \"ticks\": \"\"}, \"type\": \"mesh3d\"}], \"parcoords\": [{\"line\": {\"colorbar\": {\"outlinewidth\": 0, \"ticks\": \"\"}}, \"type\": \"parcoords\"}], \"pie\": [{\"automargin\": true, \"type\": \"pie\"}], \"scatter\": [{\"marker\": {\"colorbar\": {\"outlinewidth\": 0, \"ticks\": \"\"}}, \"type\": \"scatter\"}], \"scatter3d\": [{\"line\": {\"colorbar\": {\"outlinewidth\": 0, \"ticks\": \"\"}}, \"marker\": {\"colorbar\": {\"outlinewidth\": 0, \"ticks\": \"\"}}, \"type\": \"scatter3d\"}], \"scattercarpet\": [{\"marker\": {\"colorbar\": {\"outlinewidth\": 0, \"ticks\": \"\"}}, \"type\": \"scattercarpet\"}], \"scattergeo\": [{\"marker\": {\"colorbar\": {\"outlinewidth\": 0, \"ticks\": \"\"}}, \"type\": \"scattergeo\"}], \"scattergl\": [{\"marker\": {\"colorbar\": {\"outlinewidth\": 0, \"ticks\": \"\"}}, \"type\": \"scattergl\"}], \"scattermapbox\": [{\"marker\": {\"colorbar\": {\"outlinewidth\": 0, \"ticks\": \"\"}}, \"type\": \"scattermapbox\"}], \"scatterpolar\": [{\"marker\": {\"colorbar\": {\"outlinewidth\": 0, \"ticks\": \"\"}}, \"type\": \"scatterpolar\"}], \"scatterpolargl\": [{\"marker\": {\"colorbar\": {\"outlinewidth\": 0, \"ticks\": \"\"}}, \"type\": \"scatterpolargl\"}], \"scatterternary\": [{\"marker\": {\"colorbar\": {\"outlinewidth\": 0, \"ticks\": \"\"}}, \"type\": \"scatterternary\"}], \"surface\": [{\"colorbar\": {\"outlinewidth\": 0, \"ticks\": \"\"}, \"colorscale\": [[0.0, \"#0d0887\"], [0.1111111111111111, \"#46039f\"], [0.2222222222222222, \"#7201a8\"], [0.3333333333333333, \"#9c179e\"], [0.4444444444444444, \"#bd3786\"], [0.5555555555555556, \"#d8576b\"], [0.6666666666666666, \"#ed7953\"], [0.7777777777777778, \"#fb9f3a\"], [0.8888888888888888, \"#fdca26\"], [1.0, \"#f0f921\"]], \"type\": \"surface\"}], \"table\": [{\"cells\": {\"fill\": {\"color\": \"#EBF0F8\"}, \"line\": {\"color\": \"white\"}}, \"header\": {\"fill\": {\"color\": \"#C8D4E3\"}, \"line\": {\"color\": \"white\"}}, \"type\": \"table\"}]}, \"layout\": {\"annotationdefaults\": {\"arrowcolor\": \"#2a3f5f\", \"arrowhead\": 0, \"arrowwidth\": 1}, \"coloraxis\": {\"colorbar\": {\"outlinewidth\": 0, \"ticks\": \"\"}}, \"colorscale\": {\"diverging\": [[0, \"#8e0152\"], [0.1, \"#c51b7d\"], [0.2, \"#de77ae\"], [0.3, \"#f1b6da\"], [0.4, \"#fde0ef\"], [0.5, \"#f7f7f7\"], [0.6, \"#e6f5d0\"], [0.7, \"#b8e186\"], [0.8, \"#7fbc41\"], [0.9, \"#4d9221\"], [1, \"#276419\"]], \"sequential\": [[0.0, \"#0d0887\"], [0.1111111111111111, \"#46039f\"], [0.2222222222222222, \"#7201a8\"], [0.3333333333333333, \"#9c179e\"], [0.4444444444444444, \"#bd3786\"], [0.5555555555555556, \"#d8576b\"], [0.6666666666666666, \"#ed7953\"], [0.7777777777777778, \"#fb9f3a\"], [0.8888888888888888, \"#fdca26\"], [1.0, \"#f0f921\"]], \"sequentialminus\": [[0.0, \"#0d0887\"], [0.1111111111111111, \"#46039f\"], [0.2222222222222222, \"#7201a8\"], [0.3333333333333333, \"#9c179e\"], [0.4444444444444444, \"#bd3786\"], [0.5555555555555556, \"#d8576b\"], [0.6666666666666666, \"#ed7953\"], [0.7777777777777778, \"#fb9f3a\"], [0.8888888888888888, \"#fdca26\"], [1.0, \"#f0f921\"]]}, \"colorway\": [\"#636efa\", \"#EF553B\", \"#00cc96\", \"#ab63fa\", \"#FFA15A\", \"#19d3f3\", \"#FF6692\", \"#B6E880\", \"#FF97FF\", \"#FECB52\"], \"font\": {\"color\": \"#2a3f5f\"}, \"geo\": {\"bgcolor\": \"white\", \"lakecolor\": \"white\", \"landcolor\": \"#E5ECF6\", \"showlakes\": true, \"showland\": true, \"subunitcolor\": \"white\"}, \"hoverlabel\": {\"align\": \"left\"}, \"hovermode\": \"closest\", \"mapbox\": {\"style\": \"light\"}, \"paper_bgcolor\": \"white\", \"plot_bgcolor\": \"#E5ECF6\", \"polar\": {\"angularaxis\": {\"gridcolor\": \"white\", \"linecolor\": \"white\", \"ticks\": \"\"}, \"bgcolor\": \"#E5ECF6\", \"radialaxis\": {\"gridcolor\": \"white\", \"linecolor\": \"white\", \"ticks\": \"\"}}, \"scene\": {\"xaxis\": {\"backgroundcolor\": \"#E5ECF6\", \"gridcolor\": \"white\", \"gridwidth\": 2, \"linecolor\": \"white\", \"showbackground\": true, \"ticks\": \"\", \"zerolinecolor\": \"white\"}, \"yaxis\": {\"backgroundcolor\": \"#E5ECF6\", \"gridcolor\": \"white\", \"gridwidth\": 2, \"linecolor\": \"white\", \"showbackground\": true, \"ticks\": \"\", \"zerolinecolor\": \"white\"}, \"zaxis\": {\"backgroundcolor\": \"#E5ECF6\", \"gridcolor\": \"white\", \"gridwidth\": 2, \"linecolor\": \"white\", \"showbackground\": true, \"ticks\": \"\", \"zerolinecolor\": \"white\"}}, \"shapedefaults\": {\"line\": {\"color\": \"#2a3f5f\"}}, \"ternary\": {\"aaxis\": {\"gridcolor\": \"white\", \"linecolor\": \"white\", \"ticks\": \"\"}, \"baxis\": {\"gridcolor\": \"white\", \"linecolor\": \"white\", \"ticks\": \"\"}, \"bgcolor\": \"#E5ECF6\", \"caxis\": {\"gridcolor\": \"white\", \"linecolor\": \"white\", \"ticks\": \"\"}}, \"title\": {\"x\": 0.05}, \"xaxis\": {\"automargin\": true, \"gridcolor\": \"white\", \"linecolor\": \"white\", \"ticks\": \"\", \"title\": {\"standoff\": 15}, \"zerolinecolor\": \"white\", \"zerolinewidth\": 2}, \"yaxis\": {\"automargin\": true, \"gridcolor\": \"white\", \"linecolor\": \"white\", \"ticks\": \"\", \"title\": {\"standoff\": 15}, \"zerolinecolor\": \"white\", \"zerolinewidth\": 2}}}, \"xaxis\": {\"linecolor\": \"black\", \"mirror\": \"ticks\", \"showgrid\": false, \"showline\": true, \"tickfont\": {\"color\": \"#000\", \"size\": 24}, \"ticks\": \"inside\", \"title\": {\"font\": {\"color\": \"#000\", \"size\": 30}, \"text\": \"Balanced accuracy\"}}, \"yaxis\": {\"linecolor\": \"black\", \"mirror\": \"ticks\", \"range\": [0.74, 1.0], \"showgrid\": false, \"showline\": true, \"tickfont\": {\"color\": \"#000\", \"size\": 24}, \"ticks\": \"inside\", \"title\": {\"font\": {\"color\": \"#000\", \"size\": 30}, \"text\": \"Spouse consistency\"}}},\n",
       "                        {\"responsive\": true}\n",
       "                    ).then(function(){\n",
       "                            \n",
       "var gd = document.getElementById('88b1a7d7-9891-4d99-94f5-99155e8a32a7');\n",
       "var x = new MutationObserver(function (mutations, observer) {{\n",
       "        var display = window.getComputedStyle(gd).display;\n",
       "        if (!display || display === 'none') {{\n",
       "            console.log([gd, 'removed!']);\n",
       "            Plotly.purge(gd);\n",
       "            observer.disconnect();\n",
       "        }}\n",
       "}});\n",
       "\n",
       "// Listen for the removal of the full notebook cells\n",
       "var notebookContainer = gd.closest('#notebook-container');\n",
       "if (notebookContainer) {{\n",
       "    x.observe(notebookContainer, {childList: true});\n",
       "}}\n",
       "\n",
       "// Listen for the clearing of the current output cell\n",
       "var outputEl = gd.closest('.output');\n",
       "if (outputEl) {{\n",
       "    x.observe(outputEl, {childList: true});\n",
       "}}\n",
       "\n",
       "                        })\n",
       "                };\n",
       "                });\n",
       "            </script>\n",
       "        </div>"
      ]
     },
     "metadata": {},
     "output_type": "display_data"
    }
   ],
   "source": [
    "iplot(go.Figure(data=[plotTraces[0], allvan[0], allproj[0], allrw[0]], layout=layout))"
   ]
  },
  {
   "cell_type": "markdown",
   "metadata": {},
   "source": [
    "How to find the appropriate hyperparameters corresponding to one of the points in the graphs"
   ]
  },
  {
   "cell_type": "code",
   "execution_count": 107,
   "metadata": {},
   "outputs": [
    {
     "data": {
      "text/plain": [
       "31"
      ]
     },
     "execution_count": 107,
     "metadata": {},
     "output_type": "execute_result"
    }
   ],
   "source": [
    "np.argmin(np.abs(xaccs - .8097))"
   ]
  },
  {
   "cell_type": "code",
   "execution_count": 117,
   "metadata": {},
   "outputs": [
    {
     "data": {
      "text/plain": [
       "0.8200081944465637"
      ]
     },
     "execution_count": 117,
     "metadata": {},
     "output_type": "execute_result"
    }
   ],
   "source": [
    "xaccs[37]"
   ]
  },
  {
   "cell_type": "code",
   "execution_count": 118,
   "metadata": {},
   "outputs": [
    {
     "data": {
      "text/plain": [
       "162.0"
      ]
     },
     "execution_count": 118,
     "metadata": {},
     "output_type": "execute_result"
    }
   ],
   "source": [
    "plotparms[:,2][37][-1]"
   ]
  },
  {
   "cell_type": "code",
   "execution_count": 119,
   "metadata": {},
   "outputs": [],
   "source": [
    "fname = []\n",
    "for i, (n, v) in enumerate(zip(names, plotparms[:,2][37])):\n",
    "    if i == 1 or i==7: v = int(v)\n",
    "    fname.append(':'.join([n, str(v)]))"
   ]
  },
  {
   "cell_type": "code",
   "execution_count": 120,
   "metadata": {},
   "outputs": [
    {
     "data": {
      "text/plain": [
       "['eps:0.3',\n",
       " 'depth:14',\n",
       " 'eta:0.005',\n",
       " 'weight:1.0',\n",
       " 'lamb:1e-06',\n",
       " 'pos:0.0',\n",
       " 'init:0.1',\n",
       " 'epoch:200',\n",
       " 'momentum:0.9',\n",
       " 'lr:0.001']"
      ]
     },
     "execution_count": 120,
     "metadata": {},
     "output_type": "execute_result"
    }
   ],
   "source": [
    "fname"
   ]
  },
  {
   "cell_type": "code",
   "execution_count": 335,
   "metadata": {},
   "outputs": [
    {
     "data": {
      "text/plain": [
       "['eps',\n",
       " 'depth',\n",
       " 'eta',\n",
       " 'weight',\n",
       " 'lamb',\n",
       " 'pos',\n",
       " 'init',\n",
       " 'epoch',\n",
       " 'momentum',\n",
       " 'lr']"
      ]
     },
     "execution_count": 335,
     "metadata": {},
     "output_type": "execute_result"
    }
   ],
   "source": [
    "names"
   ]
  },
  {
   "cell_type": "code",
   "execution_count": 432,
   "metadata": {},
   "outputs": [],
   "source": [
    "layout = go.Layout(\n",
    "    #colorway = [colorMap[meth] for meth in ['rankCorr'] + meths],\n",
    "    font = dict(\n",
    "            family='CMU Serif'\n",
    "    ),\n",
    "    showlegend=False,\n",
    "    xaxis=dict(\n",
    "        title='Balanced accuracy',\n",
    "        showgrid=False,\n",
    "        ticks='inside',\n",
    "        showline=True,\n",
    "        linecolor='black',\n",
    "        mirror='ticks',\n",
    "        #range=[10,170],\n",
    "        #range=[0,420],\n",
    "        titlefont=dict(\n",
    "            #family='Computer Modern',\n",
    "            size=30,\n",
    "            color='#000'\n",
    "        ),\n",
    "        tickfont=dict(\n",
    "            size=24,\n",
    "            color='#000'\n",
    "        )\n",
    "    ),\n",
    "    yaxis=dict(\n",
    "        title='Gap size',\n",
    "        showgrid=False,\n",
    "        ticks='inside',\n",
    "        showline=True,\n",
    "        linecolor='black',\n",
    "        mirror='ticks',\n",
    "        #range=[0.03,0.16], # rfc zoom\n",
    "        #range=[0.04,0.16], # ncc zoom\n",
    "        #range=[0.74,1.00], # SCONS\n",
    "        #tick0=0.77, # rfc mcc tics\n",
    "        #dtick=0.02,\n",
    "        titlefont=dict(\n",
    "            #family='Computer Modern',\n",
    "            size=30,\n",
    "            color='#000'\n",
    "        ),\n",
    "        tickfont=dict(\n",
    "            size=24,\n",
    "            color='#000'\n",
    "        )\n",
    "    ),\n",
    "    legend=dict(\n",
    "        #x=0,\n",
    "        #y=1,\n",
    "        #traceorder='normal',\n",
    "        font=dict(\n",
    "            #family='Computer Modern',\n",
    "            size=20,\n",
    "            color='#000'\n",
    "        ),\n",
    "        #bgcolor='#E2E2E2',\n",
    "        #bordercolor='#FFFFFF',\n",
    "        #borderwidth=2\n",
    "    ),\n",
    "    margin=go.layout.Margin(\n",
    "        l=100,\n",
    "        r=10,\n",
    "        b=90,\n",
    "        t=10,\n",
    "        #pad=4\n",
    "    ),\n",
    "    plot_bgcolor='rgba(0,0,0,0)'\n",
    ")"
   ]
  },
  {
   "cell_type": "code",
   "execution_count": null,
   "metadata": {},
   "outputs": [],
   "source": []
  }
 ],
 "metadata": {
  "kernelspec": {
   "display_name": "py37fair",
   "language": "python",
   "name": "fair"
  },
  "language_info": {
   "codemirror_mode": {
    "name": "ipython",
    "version": 3
   },
   "file_extension": ".py",
   "mimetype": "text/x-python",
   "name": "python",
   "nbconvert_exporter": "python",
   "pygments_lexer": "ipython3",
   "version": "3.7.5"
  }
 },
 "nbformat": 4,
 "nbformat_minor": 2
}
