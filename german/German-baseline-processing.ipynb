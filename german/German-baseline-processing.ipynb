{
 "cells": [
  {
   "cell_type": "code",
   "execution_count": 1,
   "metadata": {},
   "outputs": [],
   "source": [
    "import numpy as np\n",
    "from itertools import product"
   ]
  },
  {
   "cell_type": "markdown",
   "metadata": {},
   "source": [
    "This notebook is used to determine data about the optimal hyperparameters for vanilla boosting and projecting on the German credit data set.  Submit jobs using `submit_baseline.py` and `submit_fair.py` to collect the required data (hyperparameter grids can be found in the associated scripts).\n",
    "\n",
    "Here we process those data to find the optimal hyperparameters.  Then, using the function `collect_xgb_fairness_data` in `german_proc.py` we collected all the fairness information from ten new seeds using these optimal hyperparameters (in a shell).  Those files are called things like `fairness-metrics.npz`. \n",
    "\n",
    "We then process those `npz` files to produce the data that is found in the table in the main text of the BuDRO paper.  All the stuff at the bottom is old, and corresponds to playing with a different fair distance on German.\n",
    "\n",
    "\n",
    "\n",
    "Add paths to your collected data here.  "
   ]
  },
  {
   "cell_type": "code",
   "execution_count": 2,
   "metadata": {},
   "outputs": [],
   "source": [
    "bpath = 'PATHS'\n",
    "bbpath = 'TO BASELINE DATA'\n",
    "ppath = 'PATHS'\n",
    "bppath = 'TO PROJECTING DATA'"
   ]
  },
  {
   "cell_type": "code",
   "execution_count": 81,
   "metadata": {},
   "outputs": [],
   "source": [
    "# SET THIS FOR PROJECT OR BASELINE\n",
    "path = bbpath"
   ]
  },
  {
   "cell_type": "code",
   "execution_count": 4,
   "metadata": {},
   "outputs": [],
   "source": [
    "# for baseline\n",
    "lambda_grid = [0.1, 10, 100, 250, 500, 750, 1000, \n",
    "            1250, 1500, 1750, 2000, 2500] #12\n",
    "\n",
    "depth_grid = [4,7,10,13] #4\n",
    "eta_grid = [0.005, 0.01, 0.05, 0.1, 0.3, 0.5] #6\n",
    "weight_grid = [0.01, 0.1, 1, 2, 5] #5\n",
    "\n",
    "pos_grid = [0.0]  #1\n",
    "n_iter = 1000"
   ]
  },
  {
   "cell_type": "code",
   "execution_count": 82,
   "metadata": {},
   "outputs": [],
   "source": [
    "# For project\n",
    "lambda_grid = [0.1, 10, 100, 250, 500, 1000, 1500, 2000] #8\n",
    "\n",
    "depth_grid = [4,7,10] #3\n",
    "eta_grid = [0.05, 0.1, 0.3, 0.5] #4\n",
    "weight_grid = [0.01, 0.1, 1, 2, 5] #5\n",
    "\n",
    "pos_grid = [0.0]  #1\n",
    "n_iter = 1000"
   ]
  },
  {
   "cell_type": "code",
   "execution_count": 83,
   "metadata": {},
   "outputs": [],
   "source": [
    "seeds = np.load(\"german-seeds.npz\")['seeds']"
   ]
  },
  {
   "cell_type": "markdown",
   "metadata": {},
   "source": [
    "Find step with best maximum of averages of test balacc across all parameter selections.\n",
    "\n",
    "This should be a lower bound on most actual CV values, I think.  Anyways, it's a pretty good way to measure accuracy in a fair way."
   ]
  },
  {
   "cell_type": "code",
   "execution_count": 85,
   "metadata": {},
   "outputs": [
    {
     "data": {
      "text/plain": [
       "array([56499, 87062, 69956, 18074, 35277])"
      ]
     },
     "execution_count": 85,
     "metadata": {},
     "output_type": "execute_result"
    }
   ],
   "source": [
    "seeds[:5]"
   ]
  },
  {
   "cell_type": "code",
   "execution_count": 86,
   "metadata": {},
   "outputs": [
    {
     "name": "stdout",
     "output_type": "stream",
     "text": [
      "CPU times: user 28 s, sys: 1.45 s, total: 29.4 s\n",
      "Wall time: 4min 44s\n"
     ]
    }
   ],
   "source": [
    "%%time\n",
    "hypers = [depth_grid, eta_grid, weight_grid, lambda_grid, pos_grid]\n",
    "names = ['depth', 'eta', 'weight', 'lamb', 'pos']\n",
    "\n",
    "names += ['seed']\n",
    "\n",
    "# test seeds\n",
    "tseeds = seeds\n",
    "\n",
    "# number of boosting steps in each run\n",
    "n_steps = 1000\n",
    "\n",
    "max_average = 0\n",
    "max_step = 0\n",
    "best_params = dict()\n",
    "\n",
    "# some sort of parity check\n",
    "num_files_processed = 0\n",
    "\n",
    "for pack in product(*hypers):\n",
    "    pack_aves = np.zeros(n_steps)\n",
    "    for seed in tseeds:\n",
    "        \n",
    "        # load data from current seed and current param selection\n",
    "        res = dict()\n",
    "\n",
    "        values = list(pack)\n",
    "        values.append(seed)\n",
    "\n",
    "        exp_descriptor = []\n",
    "        for n, v in zip(names, values):\n",
    "            exp_descriptor.append(':'.join([n,str(v)]))\n",
    "\n",
    "        exp_name = '_'.join(exp_descriptor)\n",
    "        #print(exp_name)\n",
    "\n",
    "        current = np.loadtxt(path + exp_name)\n",
    "        pack_aves += current[:,3]\n",
    "        \n",
    "        num_files_processed += 1\n",
    "    \n",
    "    pack_aves = pack_aves/tseeds.shape[0]\n",
    "    current_max_step= np.argmax(pack_aves)\n",
    "    current_max_average = pack_aves[current_max_step]\n",
    "    \n",
    "    if current_max_average > max_average:\n",
    "        max_average = current_max_average\n",
    "        max_step = current_max_step\n",
    "        best_params = pack\n",
    "    \n",
    "        "
   ]
  },
  {
   "cell_type": "code",
   "execution_count": 87,
   "metadata": {},
   "outputs": [
    {
     "data": {
      "text/plain": [
       "4800"
      ]
     },
     "execution_count": 87,
     "metadata": {},
     "output_type": "execute_result"
    }
   ],
   "source": [
    "num_files_processed"
   ]
  },
  {
   "cell_type": "markdown",
   "metadata": {},
   "source": [
    "### Vanilla without agebin"
   ]
  },
  {
   "cell_type": "code",
   "execution_count": 88,
   "metadata": {},
   "outputs": [
    {
     "data": {
      "text/plain": [
       "0.7233335"
      ]
     },
     "execution_count": 88,
     "metadata": {},
     "output_type": "execute_result"
    }
   ],
   "source": [
    "max_average"
   ]
  },
  {
   "cell_type": "code",
   "execution_count": 89,
   "metadata": {},
   "outputs": [
    {
     "data": {
      "text/plain": [
       "(10, 0.5, 2, 1000, 0.0)"
      ]
     },
     "execution_count": 89,
     "metadata": {},
     "output_type": "execute_result"
    }
   ],
   "source": [
    "best_params"
   ]
  },
  {
   "cell_type": "code",
   "execution_count": 90,
   "metadata": {},
   "outputs": [
    {
     "data": {
      "text/plain": [
       "105"
      ]
     },
     "execution_count": 90,
     "metadata": {},
     "output_type": "execute_result"
    }
   ],
   "source": [
    "max_step"
   ]
  },
  {
   "cell_type": "markdown",
   "metadata": {},
   "source": [
    "### Vanilla including agebin"
   ]
  },
  {
   "cell_type": "code",
   "execution_count": 78,
   "metadata": {},
   "outputs": [
    {
     "data": {
      "text/plain": [
       "0.7233335"
      ]
     },
     "execution_count": 78,
     "metadata": {},
     "output_type": "execute_result"
    }
   ],
   "source": [
    "max_average"
   ]
  },
  {
   "cell_type": "code",
   "execution_count": 79,
   "metadata": {},
   "outputs": [
    {
     "data": {
      "text/plain": [
       "(10, 0.5, 2, 1000, 0.0)"
      ]
     },
     "execution_count": 79,
     "metadata": {},
     "output_type": "execute_result"
    }
   ],
   "source": [
    "best_params"
   ]
  },
  {
   "cell_type": "code",
   "execution_count": 80,
   "metadata": {},
   "outputs": [
    {
     "data": {
      "text/plain": [
       "105"
      ]
     },
     "execution_count": 80,
     "metadata": {},
     "output_type": "execute_result"
    }
   ],
   "source": [
    "max_step"
   ]
  },
  {
   "cell_type": "markdown",
   "metadata": {},
   "source": [
    "Run the function `collect_xgb_fairness_data` (found in `german_proc.py`) with the optimal parameters to make these npz files"
   ]
  },
  {
   "cell_type": "code",
   "execution_count": 3,
   "metadata": {},
   "outputs": [],
   "source": [
    "stuff = np.load('fairness-metrics.npz')\n",
    "bin_stuff = np.load('fairness-metrics-agebin.npz')"
   ]
  },
  {
   "cell_type": "code",
   "execution_count": 4,
   "metadata": {},
   "outputs": [
    {
     "name": "stdout",
     "output_type": "stream",
     "text": [
      "finfo\n",
      "consinfo\n"
     ]
    }
   ],
   "source": [
    "for thing in stuff: print(thing)"
   ]
  },
  {
   "cell_type": "code",
   "execution_count": 13,
   "metadata": {},
   "outputs": [
    {
     "data": {
      "text/plain": [
       "array([0.02095914, 0.0397562 , 0.01850568, 0.0709734 , 0.15164638,\n",
       "       0.04000149, 0.03284115, 0.1090465 , 0.15924682, 0.08411454,\n",
       "       0.06286552, 0.09528521, 0.06143636, 0.05967943, 0.05515644,\n",
       "       0.0289074 , 0.03967105, 0.04107026, 0.07118135, 0.08618137,\n",
       "       0.07058435])"
      ]
     },
     "execution_count": 13,
     "metadata": {},
     "output_type": "execute_result"
    }
   ],
   "source": [
    "np.std(stuff['finfo'], axis=0)[ fcolnames.index(quant) ]"
   ]
  },
  {
   "cell_type": "code",
   "execution_count": 92,
   "metadata": {},
   "outputs": [
    {
     "data": {
      "text/plain": [
       "array([0.745     , 0.70166667, 0.72333333, 0.81267288, 0.49050912,\n",
       "       0.6740715 , 0.78286864, 0.24078228, 0.31006255, 0.21548045,\n",
       "       0.13860138, 0.28575532, 0.72530657, 0.72221505, 0.68818484,\n",
       "       0.75511239, 0.0788494 , 0.10293774, 0.03500954, 0.03712174,\n",
       "       0.06468702])"
      ]
     },
     "execution_count": 92,
     "metadata": {},
     "output_type": "execute_result"
    }
   ],
   "source": [
    "stuff['finfo'].mean(axis=0)"
   ]
  },
  {
   "cell_type": "code",
   "execution_count": 11,
   "metadata": {},
   "outputs": [
    {
     "data": {
      "text/plain": [
       "0.31006254910417663"
      ]
     },
     "execution_count": 11,
     "metadata": {},
     "output_type": "execute_result"
    }
   ],
   "source": [
    "quant = 'age-gap-MAX'\n",
    "stuff['finfo'].mean(axis=0)[ fcolnames.index(quant) ]"
   ]
  },
  {
   "cell_type": "code",
   "execution_count": 14,
   "metadata": {},
   "outputs": [
    {
     "data": {
      "text/plain": [
       "0.022135943621178638"
      ]
     },
     "execution_count": 14,
     "metadata": {},
     "output_type": "execute_result"
    }
   ],
   "source": [
    "np.std(stuff['consinfo'])"
   ]
  },
  {
   "cell_type": "code",
   "execution_count": 98,
   "metadata": {},
   "outputs": [
    {
     "data": {
      "text/plain": [
       "0.9200000000000002"
      ]
     },
     "execution_count": 98,
     "metadata": {},
     "output_type": "execute_result"
    }
   ],
   "source": [
    "stuff['consinfo'].mean()"
   ]
  },
  {
   "cell_type": "code",
   "execution_count": 103,
   "metadata": {},
   "outputs": [
    {
     "data": {
      "text/plain": [
       "array([0.745     , 0.70166667, 0.72333333, 0.81267288, 0.49050912,\n",
       "       0.6740715 , 0.78286864, 0.24078228, 0.31006255, 0.21548045,\n",
       "       0.13860138, 0.28575532, 0.72530657, 0.72221505, 0.68818484,\n",
       "       0.75511239, 0.0788494 , 0.10293774, 0.03500954, 0.03712174,\n",
       "       0.06468702])"
      ]
     },
     "execution_count": 103,
     "metadata": {},
     "output_type": "execute_result"
    }
   ],
   "source": [
    "bin_stuff['finfo'].mean(axis=0)"
   ]
  },
  {
   "cell_type": "code",
   "execution_count": 128,
   "metadata": {},
   "outputs": [
    {
     "data": {
      "text/plain": [
       "0.07884940330037588"
      ]
     },
     "execution_count": 128,
     "metadata": {},
     "output_type": "execute_result"
    }
   ],
   "source": [
    "quant = 'sex-gap-RMS'\n",
    "bin_stuff['finfo'].mean(axis=0)[ fcolnames.index(quant) ]"
   ]
  },
  {
   "cell_type": "code",
   "execution_count": 106,
   "metadata": {},
   "outputs": [
    {
     "data": {
      "text/plain": [
       "array([0.92, 1.  ])"
      ]
     },
     "execution_count": 106,
     "metadata": {},
     "output_type": "execute_result"
    }
   ],
   "source": [
    "bin_stuff['consinfo'].mean(axis=0)"
   ]
  },
  {
   "cell_type": "markdown",
   "metadata": {},
   "source": [
    "### Project without agebin"
   ]
  },
  {
   "cell_type": "code",
   "execution_count": 70,
   "metadata": {},
   "outputs": [
    {
     "data": {
      "text/plain": [
       "0.6984522999999999"
      ]
     },
     "execution_count": 70,
     "metadata": {},
     "output_type": "execute_result"
    }
   ],
   "source": [
    "max_average"
   ]
  },
  {
   "cell_type": "code",
   "execution_count": 71,
   "metadata": {},
   "outputs": [
    {
     "data": {
      "text/plain": [
       "(7, 0.5, 5, 2000, 0.0)"
      ]
     },
     "execution_count": 71,
     "metadata": {},
     "output_type": "execute_result"
    }
   ],
   "source": [
    "best_params"
   ]
  },
  {
   "cell_type": "code",
   "execution_count": 72,
   "metadata": {},
   "outputs": [
    {
     "data": {
      "text/plain": [
       "111"
      ]
     },
     "execution_count": 72,
     "metadata": {},
     "output_type": "execute_result"
    }
   ],
   "source": [
    "max_step"
   ]
  },
  {
   "cell_type": "markdown",
   "metadata": {},
   "source": [
    "### Project including agebin"
   ]
  },
  {
   "cell_type": "code",
   "execution_count": 52,
   "metadata": {},
   "outputs": [
    {
     "data": {
      "text/plain": [
       "0.7001191000000001"
      ]
     },
     "execution_count": 52,
     "metadata": {},
     "output_type": "execute_result"
    }
   ],
   "source": [
    "max_average"
   ]
  },
  {
   "cell_type": "code",
   "execution_count": 53,
   "metadata": {},
   "outputs": [
    {
     "data": {
      "text/plain": [
       "(4, 0.5, 2, 1000, 0.0)"
      ]
     },
     "execution_count": 53,
     "metadata": {},
     "output_type": "execute_result"
    }
   ],
   "source": [
    "best_params"
   ]
  },
  {
   "cell_type": "code",
   "execution_count": 54,
   "metadata": {},
   "outputs": [
    {
     "data": {
      "text/plain": [
       "128"
      ]
     },
     "execution_count": 54,
     "metadata": {},
     "output_type": "execute_result"
    }
   ],
   "source": [
    "max_step"
   ]
  },
  {
   "cell_type": "markdown",
   "metadata": {},
   "source": [
    "## Project "
   ]
  },
  {
   "cell_type": "code",
   "execution_count": 16,
   "metadata": {},
   "outputs": [],
   "source": [
    "proj_stuff = np.load('fairness-metrics-project.npz')\n",
    "bin_proj_stuff = np.load('fairness-metrics-agebin-project.npz')"
   ]
  },
  {
   "cell_type": "code",
   "execution_count": 17,
   "metadata": {},
   "outputs": [
    {
     "name": "stdout",
     "output_type": "stream",
     "text": [
      "finfo\n",
      "consinfo\n"
     ]
    }
   ],
   "source": [
    "for name in proj_stuff: print(name)"
   ]
  },
  {
   "cell_type": "code",
   "execution_count": 15,
   "metadata": {},
   "outputs": [],
   "source": [
    "fcolnames = [\n",
    " 'p0',\n",
    " 'p1',\n",
    " 'balanced',\n",
    " 'age-TPR-prot',\n",
    " 'age-TNR-prot',\n",
    " 'age-TPR-priv',\n",
    " 'age-TNR-priv',\n",
    " 'age-gap-RMS',\n",
    " 'age-gap-MAX',\n",
    " 'age-ave-odds-diff',\n",
    " 'age-eq-opp-diff',\n",
    " 'age-stat-parity',\n",
    " 'sex-TPR-prot',\n",
    " 'sex-TNR-prot',\n",
    " 'sex-TPR-priv',\n",
    " 'sex-TNR-priv',\n",
    " 'sex-gap-RMS',\n",
    " 'sex-gap-MAX',\n",
    " 'sex-ave-odds-diff',\n",
    " 'sex-eq-opp-diff',\n",
    " 'sex-stat-parity',\n",
    "]\n",
    "\n",
    "consnames = [\n",
    "    'status-cons',\n",
    "    'age bin cons'\n",
    "]"
   ]
  },
  {
   "cell_type": "code",
   "execution_count": 21,
   "metadata": {},
   "outputs": [
    {
     "data": {
      "text/plain": [
       "array([0.02889107, 0.05580223, 0.0235585 , 0.08348402, 0.07473133,\n",
       "       0.06191372, 0.03672258, 0.06425389, 0.08648318, 0.05440983,\n",
       "       0.09484856, 0.06318125, 0.09626979, 0.04321556, 0.0634305 ,\n",
       "       0.03452309, 0.05030082, 0.06504226, 0.074437  , 0.11272148,\n",
       "       0.0693004 ])"
      ]
     },
     "execution_count": 21,
     "metadata": {},
     "output_type": "execute_result"
    }
   ],
   "source": [
    "np.std(proj_stuff['finfo'], axis=0)"
   ]
  },
  {
   "cell_type": "code",
   "execution_count": 18,
   "metadata": {},
   "outputs": [
    {
     "data": {
      "text/plain": [
       "array([0.70857143, 0.68833333, 0.69845238, 0.74228827, 0.56620356,\n",
       "       0.67448625, 0.72942463, 0.14396456, 0.18793748, 0.11551154,\n",
       "       0.06780202, 0.1733528 , 0.7056817 , 0.68971673, 0.67703943,\n",
       "       0.71615381, 0.07708957, 0.10087642, 0.02753968, 0.02864227,\n",
       "       0.05481401])"
      ]
     },
     "execution_count": 18,
     "metadata": {},
     "output_type": "execute_result"
    }
   ],
   "source": [
    "proj_stuff['finfo'].mean(axis=0)"
   ]
  },
  {
   "cell_type": "code",
   "execution_count": 119,
   "metadata": {},
   "outputs": [
    {
     "data": {
      "text/plain": [
       "0.14396456233448296"
      ]
     },
     "execution_count": 119,
     "metadata": {},
     "output_type": "execute_result"
    }
   ],
   "source": [
    "quant = 'age-gap-RMS'\n",
    "proj_stuff['finfo'].mean(axis=0)[ fcolnames.index(quant) ]"
   ]
  },
  {
   "cell_type": "code",
   "execution_count": 22,
   "metadata": {},
   "outputs": [
    {
     "data": {
      "text/plain": [
       "0.028722813232690134"
      ]
     },
     "execution_count": 22,
     "metadata": {},
     "output_type": "execute_result"
    }
   ],
   "source": [
    "np.std(proj_stuff['consinfo']*800/200)"
   ]
  },
  {
   "cell_type": "code",
   "execution_count": 73,
   "metadata": {},
   "outputs": [
    {
     "data": {
      "text/plain": [
       "0.96"
      ]
     },
     "execution_count": 73,
     "metadata": {},
     "output_type": "execute_result"
    }
   ],
   "source": [
    "proj_stuff['consinfo'].mean()*800/200"
   ]
  },
  {
   "cell_type": "code",
   "execution_count": 60,
   "metadata": {},
   "outputs": [
    {
     "data": {
      "text/plain": [
       "array([0.72857143, 0.67166667, 0.70011905, 0.80433955, 0.48985853,\n",
       "       0.63931054, 0.76489484, 0.23933503, 0.27719621, 0.22003266,\n",
       "       0.16502901, 0.2787748 , 0.73536478, 0.67795176, 0.63521444,\n",
       "       0.74970527, 0.10700295, 0.12889258, 0.08595192, 0.10015034,\n",
       "       0.10809416])"
      ]
     },
     "execution_count": 60,
     "metadata": {},
     "output_type": "execute_result"
    }
   ],
   "source": [
    "bin_proj_stuff['finfo'].mean(axis=0)"
   ]
  },
  {
   "cell_type": "code",
   "execution_count": 124,
   "metadata": {},
   "outputs": [
    {
     "data": {
      "text/plain": [
       "0.7001190476190476"
      ]
     },
     "execution_count": 124,
     "metadata": {},
     "output_type": "execute_result"
    }
   ],
   "source": [
    "quant = 'balanced'\n",
    "bin_proj_stuff['finfo'].mean(axis=0)[ fcolnames.index(quant) ]"
   ]
  },
  {
   "cell_type": "code",
   "execution_count": 66,
   "metadata": {},
   "outputs": [
    {
     "data": {
      "text/plain": [
       "array([0.9255, 0.9825])"
      ]
     },
     "execution_count": 66,
     "metadata": {},
     "output_type": "execute_result"
    }
   ],
   "source": [
    "bin_proj_stuff['consinfo'].mean(axis=0)"
   ]
  },
  {
   "cell_type": "markdown",
   "metadata": {},
   "source": [
    "## Old stuff using a different fair distance on German"
   ]
  },
  {
   "cell_type": "markdown",
   "metadata": {},
   "source": [
    "## Baseline"
   ]
  },
  {
   "cell_type": "markdown",
   "metadata": {},
   "source": [
    "First five seeds"
   ]
  },
  {
   "cell_type": "code",
   "execution_count": 43,
   "metadata": {},
   "outputs": [
    {
     "data": {
      "text/plain": [
       "0.7228572"
      ]
     },
     "execution_count": 43,
     "metadata": {},
     "output_type": "execute_result"
    }
   ],
   "source": [
    "max_average"
   ]
  },
  {
   "cell_type": "code",
   "execution_count": 44,
   "metadata": {},
   "outputs": [
    {
     "data": {
      "text/plain": [
       "(10, 0.5, 5, 750, 0.0)"
      ]
     },
     "execution_count": 44,
     "metadata": {},
     "output_type": "execute_result"
    }
   ],
   "source": [
    "best_params"
   ]
  },
  {
   "cell_type": "markdown",
   "metadata": {},
   "source": [
    "The above works when `tseeds = [seeds[0]]`.  So that's nice.\n",
    "\n",
    "Obviously no guarantees when I up the number of seeds"
   ]
  },
  {
   "cell_type": "code",
   "execution_count": 21,
   "metadata": {},
   "outputs": [
    {
     "data": {
      "text/plain": [
       "0.767857"
      ]
     },
     "execution_count": 21,
     "metadata": {},
     "output_type": "execute_result"
    }
   ],
   "source": [
    "max_average"
   ]
  },
  {
   "cell_type": "code",
   "execution_count": 22,
   "metadata": {},
   "outputs": [
    {
     "data": {
      "text/plain": [
       "37"
      ]
     },
     "execution_count": 22,
     "metadata": {},
     "output_type": "execute_result"
    }
   ],
   "source": [
    "max_step"
   ]
  },
  {
   "cell_type": "code",
   "execution_count": 23,
   "metadata": {},
   "outputs": [
    {
     "data": {
      "text/plain": [
       "(13, 0.3, 2, 0.1, 0.0)"
      ]
     },
     "execution_count": 23,
     "metadata": {},
     "output_type": "execute_result"
    }
   ],
   "source": [
    "best_params"
   ]
  },
  {
   "cell_type": "markdown",
   "metadata": {},
   "source": [
    "Here is what the computation spits out for the first 3 seeds.  It takes 2 minutes only."
   ]
  },
  {
   "cell_type": "code",
   "execution_count": 25,
   "metadata": {},
   "outputs": [
    {
     "data": {
      "text/plain": [
       "0.7373016666666667"
      ]
     },
     "execution_count": 25,
     "metadata": {},
     "output_type": "execute_result"
    }
   ],
   "source": [
    "max_average"
   ]
  },
  {
   "cell_type": "code",
   "execution_count": 26,
   "metadata": {},
   "outputs": [
    {
     "data": {
      "text/plain": [
       "315"
      ]
     },
     "execution_count": 26,
     "metadata": {},
     "output_type": "execute_result"
    }
   ],
   "source": [
    "max_step"
   ]
  },
  {
   "cell_type": "code",
   "execution_count": 27,
   "metadata": {},
   "outputs": [
    {
     "data": {
      "text/plain": [
       "(7, 0.5, 1, 500, 0.0)"
      ]
     },
     "execution_count": 27,
     "metadata": {},
     "output_type": "execute_result"
    }
   ],
   "source": [
    "best_params"
   ]
  },
  {
   "cell_type": "markdown",
   "metadata": {},
   "source": [
    "The final results for all seeds"
   ]
  },
  {
   "cell_type": "code",
   "execution_count": 30,
   "metadata": {},
   "outputs": [
    {
     "data": {
      "text/plain": [
       "0.7229761"
      ]
     },
     "execution_count": 30,
     "metadata": {},
     "output_type": "execute_result"
    }
   ],
   "source": [
    "max_average"
   ]
  },
  {
   "cell_type": "code",
   "execution_count": 31,
   "metadata": {},
   "outputs": [
    {
     "data": {
      "text/plain": [
       "503"
      ]
     },
     "execution_count": 31,
     "metadata": {},
     "output_type": "execute_result"
    }
   ],
   "source": [
    "max_step"
   ]
  },
  {
   "cell_type": "code",
   "execution_count": 32,
   "metadata": {},
   "outputs": [
    {
     "data": {
      "text/plain": [
       "(7, 0.3, 0.01, 1750, 0.0)"
      ]
     },
     "execution_count": 32,
     "metadata": {},
     "output_type": "execute_result"
    }
   ],
   "source": [
    "best_params"
   ]
  },
  {
   "cell_type": "code",
   "execution_count": 122,
   "metadata": {},
   "outputs": [],
   "source": [
    "maxine = []"
   ]
  },
  {
   "cell_type": "code",
   "execution_count": 194,
   "metadata": {},
   "outputs": [
    {
     "data": {
      "text/plain": [
       "10"
      ]
     },
     "execution_count": 194,
     "metadata": {},
     "output_type": "execute_result"
    }
   ],
   "source": [
    "len(maxine)"
   ]
  },
  {
   "cell_type": "code",
   "execution_count": 190,
   "metadata": {},
   "outputs": [
    {
     "name": "stdout",
     "output_type": "stream",
     "text": [
      "CPU times: user 7.63 s, sys: 194 ms, total: 7.82 s\n",
      "Wall time: 9.76 s\n"
     ]
    }
   ],
   "source": [
    "%%time\n",
    "seed = seeds[0]\n",
    "hypers = [depth_grid, eta_grid, weight_grid, lambda_grid, pos_grid]\n",
    "names = ['depth', 'eta', 'weight', 'lamb', 'pos']\n",
    "\n",
    "names += ['seed']\n",
    "\n",
    "# where did we get the best?\n",
    "# where else did we come close?\n",
    "overall_max = 0\n",
    "params_max = None\n",
    "steps_max = None\n",
    "steps_near_max = None\n",
    "\n",
    "tol = 10**-8\n",
    "buff = 0.005\n",
    "\n",
    "for pack in product(*hypers):\n",
    "\n",
    "    res = dict()\n",
    "\n",
    "    values = list(pack)\n",
    "    values.append(seed)\n",
    "\n",
    "    exp_descriptor = []\n",
    "    for n, v in zip(names, values):\n",
    "        exp_descriptor.append(':'.join([n,str(v)]))\n",
    "        \n",
    "    exp_name = '_'.join(exp_descriptor)\n",
    "    #print(exp_name)\n",
    "        \n",
    "    current = np.loadtxt(path + exp_name)\n",
    "    max_step = np.argmax(current[:,3])\n",
    "\n",
    "    if current[max_step,3] > overall_max:\n",
    "        overall_max = current[max_step, 3]\n",
    "        params_max = exp_descriptor\n",
    "        \n",
    "        steps_max = np.where(current[:,3] > overall_max - tol)[0]\n",
    "        steps_near_max = np.where(current[:,3] > overall_max - buff)\n",
    "    "
   ]
  },
  {
   "cell_type": "code",
   "execution_count": 173,
   "metadata": {},
   "outputs": [],
   "source": [
    "maxine.append(overall_max)"
   ]
  },
  {
   "cell_type": "code",
   "execution_count": 174,
   "metadata": {},
   "outputs": [
    {
     "data": {
      "text/plain": [
       "0.772619"
      ]
     },
     "execution_count": 174,
     "metadata": {},
     "output_type": "execute_result"
    }
   ],
   "source": [
    "overall_max"
   ]
  },
  {
   "cell_type": "markdown",
   "metadata": {},
   "source": [
    "Seed 9"
   ]
  },
  {
   "cell_type": "code",
   "execution_count": 175,
   "metadata": {},
   "outputs": [
    {
     "data": {
      "text/plain": [
       "array([410])"
      ]
     },
     "execution_count": 175,
     "metadata": {},
     "output_type": "execute_result"
    }
   ],
   "source": [
    "steps_max"
   ]
  },
  {
   "cell_type": "code",
   "execution_count": 176,
   "metadata": {},
   "outputs": [
    {
     "data": {
      "text/plain": [
       "(array([407, 410]),)"
      ]
     },
     "execution_count": 176,
     "metadata": {},
     "output_type": "execute_result"
    }
   ],
   "source": [
    "steps_near_max"
   ]
  },
  {
   "cell_type": "code",
   "execution_count": 177,
   "metadata": {},
   "outputs": [
    {
     "data": {
      "text/plain": [
       "['depth:7', 'eta:0.3', 'weight:1', 'lamb:1250', 'pos:0.0', 'seed:17049']"
      ]
     },
     "execution_count": 177,
     "metadata": {},
     "output_type": "execute_result"
    }
   ],
   "source": [
    "params_max"
   ]
  },
  {
   "cell_type": "markdown",
   "metadata": {},
   "source": [
    "Seed 8"
   ]
  },
  {
   "cell_type": "code",
   "execution_count": 169,
   "metadata": {},
   "outputs": [
    {
     "data": {
      "text/plain": [
       "array([190, 198])"
      ]
     },
     "execution_count": 169,
     "metadata": {},
     "output_type": "execute_result"
    }
   ],
   "source": [
    "steps_max"
   ]
  },
  {
   "cell_type": "code",
   "execution_count": 170,
   "metadata": {},
   "outputs": [
    {
     "data": {
      "text/plain": [
       "(array([189, 190, 193, 194, 196, 198]),)"
      ]
     },
     "execution_count": 170,
     "metadata": {},
     "output_type": "execute_result"
    }
   ],
   "source": [
    "steps_near_max"
   ]
  },
  {
   "cell_type": "code",
   "execution_count": 171,
   "metadata": {},
   "outputs": [
    {
     "data": {
      "text/plain": [
       "['depth:4', 'eta:0.5', 'weight:5', 'lamb:1250', 'pos:0.0', 'seed:91582']"
      ]
     },
     "execution_count": 171,
     "metadata": {},
     "output_type": "execute_result"
    }
   ],
   "source": [
    "params_max"
   ]
  },
  {
   "cell_type": "markdown",
   "metadata": {},
   "source": [
    "Seed 7"
   ]
  },
  {
   "cell_type": "code",
   "execution_count": 196,
   "metadata": {},
   "outputs": [
    {
     "data": {
      "text/plain": [
       "0.75119"
      ]
     },
     "execution_count": 196,
     "metadata": {},
     "output_type": "execute_result"
    }
   ],
   "source": [
    "maxine[7]"
   ]
  },
  {
   "cell_type": "code",
   "execution_count": 163,
   "metadata": {},
   "outputs": [
    {
     "data": {
      "text/plain": [
       "array([771, 772, 795, 796, 797, 799, 800, 801, 803, 804, 805, 806, 807,\n",
       "       808, 810, 812, 813, 814, 815, 816, 817, 818, 819, 820, 821, 822,\n",
       "       823, 824, 825, 826, 827, 828, 829, 830, 831, 832, 833, 834, 835,\n",
       "       836, 838, 841, 842, 844, 845, 846, 847, 848, 849, 850, 851, 853,\n",
       "       854, 855, 856, 858, 859, 860, 861, 862, 864, 865, 866, 867, 868,\n",
       "       869, 870, 871, 872, 873, 874, 875, 876, 877, 878, 879, 880, 881,\n",
       "       882, 883, 884, 885, 886, 887, 888, 889, 890, 891, 892, 893, 894,\n",
       "       895, 896, 897, 899, 900])"
      ]
     },
     "execution_count": 163,
     "metadata": {},
     "output_type": "execute_result"
    }
   ],
   "source": [
    "steps_max"
   ]
  },
  {
   "cell_type": "code",
   "execution_count": 164,
   "metadata": {},
   "outputs": [
    {
     "data": {
      "text/plain": [
       "(array([684, 694, 695, 719, 720, 721, 722, 723, 724, 726, 733, 734, 735,\n",
       "        736, 737, 738, 739, 740, 741, 742, 743, 744, 745, 746, 747, 748,\n",
       "        749, 750, 751, 752, 753, 754, 756, 757, 759, 760, 761, 768, 771,\n",
       "        772, 773, 774, 775, 776, 780, 781, 782, 784, 785, 786, 787, 790,\n",
       "        791, 792, 793, 794, 795, 796, 797, 798, 799, 800, 801, 802, 803,\n",
       "        804, 805, 806, 807, 808, 810, 812, 813, 814, 815, 816, 817, 818,\n",
       "        819, 820, 821, 822, 823, 824, 825, 826, 827, 828, 829, 830, 831,\n",
       "        832, 833, 834, 835, 836, 838, 841, 842, 844, 845, 846, 847, 848,\n",
       "        849, 850, 851, 853, 854, 855, 856, 858, 859, 860, 861, 862, 864,\n",
       "        865, 866, 867, 868, 869, 870, 871, 872, 873, 874, 875, 876, 877,\n",
       "        878, 879, 880, 881, 882, 883, 884, 885, 886, 887, 888, 889, 890,\n",
       "        891, 892, 893, 894, 895, 896, 897, 899, 900]),)"
      ]
     },
     "execution_count": 164,
     "metadata": {},
     "output_type": "execute_result"
    }
   ],
   "source": [
    "steps_near_max"
   ]
  },
  {
   "cell_type": "code",
   "execution_count": 165,
   "metadata": {},
   "outputs": [
    {
     "data": {
      "text/plain": [
       "['depth:13', 'eta:0.5', 'weight:5', 'lamb:10', 'pos:0.0', 'seed:53039']"
      ]
     },
     "execution_count": 165,
     "metadata": {},
     "output_type": "execute_result"
    }
   ],
   "source": [
    "params_max"
   ]
  },
  {
   "cell_type": "markdown",
   "metadata": {},
   "source": [
    "Seed 6"
   ]
  },
  {
   "cell_type": "code",
   "execution_count": 157,
   "metadata": {},
   "outputs": [
    {
     "data": {
      "text/plain": [
       "array([126, 127])"
      ]
     },
     "execution_count": 157,
     "metadata": {},
     "output_type": "execute_result"
    }
   ],
   "source": [
    "steps_max"
   ]
  },
  {
   "cell_type": "code",
   "execution_count": 158,
   "metadata": {},
   "outputs": [
    {
     "data": {
      "text/plain": [
       "(array([126, 127, 128, 129]),)"
      ]
     },
     "execution_count": 158,
     "metadata": {},
     "output_type": "execute_result"
    }
   ],
   "source": [
    "steps_near_max"
   ]
  },
  {
   "cell_type": "code",
   "execution_count": 159,
   "metadata": {},
   "outputs": [
    {
     "data": {
      "text/plain": [
       "['depth:4', 'eta:0.5', 'weight:0.01', 'lamb:0.1', 'pos:0.0', 'seed:96481']"
      ]
     },
     "execution_count": 159,
     "metadata": {},
     "output_type": "execute_result"
    }
   ],
   "source": [
    "params_max"
   ]
  },
  {
   "cell_type": "markdown",
   "metadata": {},
   "source": [
    "Seed 5"
   ]
  },
  {
   "cell_type": "code",
   "execution_count": 150,
   "metadata": {},
   "outputs": [
    {
     "data": {
      "text/plain": [
       "array([29, 31, 32])"
      ]
     },
     "execution_count": 150,
     "metadata": {},
     "output_type": "execute_result"
    }
   ],
   "source": [
    "steps_max"
   ]
  },
  {
   "cell_type": "code",
   "execution_count": 151,
   "metadata": {},
   "outputs": [
    {
     "data": {
      "text/plain": [
       "(array([28, 29, 31, 32, 36, 38, 39, 40, 42, 43, 46]),)"
      ]
     },
     "execution_count": 151,
     "metadata": {},
     "output_type": "execute_result"
    }
   ],
   "source": [
    "steps_near_max"
   ]
  },
  {
   "cell_type": "code",
   "execution_count": 152,
   "metadata": {},
   "outputs": [
    {
     "data": {
      "text/plain": [
       "['depth:10', 'eta:0.05', 'weight:1', 'lamb:0.1', 'pos:0.0', 'seed:54753']"
      ]
     },
     "execution_count": 152,
     "metadata": {},
     "output_type": "execute_result"
    }
   ],
   "source": [
    "params_max"
   ]
  },
  {
   "cell_type": "markdown",
   "metadata": {},
   "source": [
    "Seed 4"
   ]
  },
  {
   "cell_type": "code",
   "execution_count": 142,
   "metadata": {},
   "outputs": [
    {
     "data": {
      "text/plain": [
       "array([145, 148, 149])"
      ]
     },
     "execution_count": 142,
     "metadata": {},
     "output_type": "execute_result"
    }
   ],
   "source": [
    "steps_max"
   ]
  },
  {
   "cell_type": "code",
   "execution_count": 143,
   "metadata": {},
   "outputs": [
    {
     "data": {
      "text/plain": [
       "(array([144, 145, 146, 147, 148, 149, 150, 151, 152, 153, 154]),)"
      ]
     },
     "execution_count": 143,
     "metadata": {},
     "output_type": "execute_result"
    }
   ],
   "source": [
    "steps_near_max"
   ]
  },
  {
   "cell_type": "code",
   "execution_count": 146,
   "metadata": {},
   "outputs": [
    {
     "data": {
      "text/plain": [
       "['depth:4', 'eta:0.1', 'weight:5', 'lamb:0.1', 'pos:0.0', 'seed:35277']"
      ]
     },
     "execution_count": 146,
     "metadata": {},
     "output_type": "execute_result"
    }
   ],
   "source": [
    "params_max"
   ]
  },
  {
   "cell_type": "markdown",
   "metadata": {},
   "source": [
    "Seed 3"
   ]
  },
  {
   "cell_type": "code",
   "execution_count": 198,
   "metadata": {},
   "outputs": [
    {
     "data": {
      "text/plain": [
       "0.738095"
      ]
     },
     "execution_count": 198,
     "metadata": {},
     "output_type": "execute_result"
    }
   ],
   "source": [
    "maxine[3]"
   ]
  },
  {
   "cell_type": "code",
   "execution_count": 179,
   "metadata": {},
   "outputs": [
    {
     "data": {
      "text/plain": [
       "array([196, 197])"
      ]
     },
     "execution_count": 179,
     "metadata": {},
     "output_type": "execute_result"
    }
   ],
   "source": [
    "steps_max"
   ]
  },
  {
   "cell_type": "code",
   "execution_count": 180,
   "metadata": {},
   "outputs": [
    {
     "data": {
      "text/plain": [
       "(array([196, 197, 198, 199, 200]),)"
      ]
     },
     "execution_count": 180,
     "metadata": {},
     "output_type": "execute_result"
    }
   ],
   "source": [
    "steps_near_max"
   ]
  },
  {
   "cell_type": "code",
   "execution_count": 181,
   "metadata": {},
   "outputs": [
    {
     "data": {
      "text/plain": [
       "['depth:4', 'eta:0.5', 'weight:5', 'lamb:100', 'pos:0.0', 'seed:18074']"
      ]
     },
     "execution_count": 181,
     "metadata": {},
     "output_type": "execute_result"
    }
   ],
   "source": [
    "params_max"
   ]
  },
  {
   "cell_type": "markdown",
   "metadata": {},
   "source": [
    "Seed 2"
   ]
  },
  {
   "cell_type": "code",
   "execution_count": 183,
   "metadata": {},
   "outputs": [
    {
     "data": {
      "text/plain": [
       "array([53])"
      ]
     },
     "execution_count": 183,
     "metadata": {},
     "output_type": "execute_result"
    }
   ],
   "source": [
    "steps_max"
   ]
  },
  {
   "cell_type": "code",
   "execution_count": 184,
   "metadata": {},
   "outputs": [
    {
     "data": {
      "text/plain": [
       "(array([53, 54, 55]),)"
      ]
     },
     "execution_count": 184,
     "metadata": {},
     "output_type": "execute_result"
    }
   ],
   "source": [
    "steps_near_max"
   ]
  },
  {
   "cell_type": "code",
   "execution_count": 185,
   "metadata": {},
   "outputs": [
    {
     "data": {
      "text/plain": [
       "['depth:4', 'eta:0.5', 'weight:1', 'lamb:10', 'pos:0.0', 'seed:69956']"
      ]
     },
     "execution_count": 185,
     "metadata": {},
     "output_type": "execute_result"
    }
   ],
   "source": [
    "params_max"
   ]
  },
  {
   "cell_type": "markdown",
   "metadata": {},
   "source": [
    "Seed 1"
   ]
  },
  {
   "cell_type": "code",
   "execution_count": 187,
   "metadata": {},
   "outputs": [
    {
     "data": {
      "text/plain": [
       "array([233, 235, 239, 240, 241, 242, 250, 251, 252, 253, 254, 255, 256,\n",
       "       257, 258, 259, 260, 261, 262, 266, 267, 268, 269])"
      ]
     },
     "execution_count": 187,
     "metadata": {},
     "output_type": "execute_result"
    }
   ],
   "source": [
    "steps_max"
   ]
  },
  {
   "cell_type": "code",
   "execution_count": 188,
   "metadata": {},
   "outputs": [
    {
     "data": {
      "text/plain": [
       "(array([229, 230, 233, 235, 236, 237, 238, 239, 240, 241, 242, 243, 244,\n",
       "        245, 246, 247, 248, 249, 250, 251, 252, 253, 254, 255, 256, 257,\n",
       "        258, 259, 260, 261, 262, 263, 264, 265, 266, 267, 268, 269, 271,\n",
       "        280, 281, 284, 285, 286, 287, 290, 291, 292, 300, 301, 302, 303]),)"
      ]
     },
     "execution_count": 188,
     "metadata": {},
     "output_type": "execute_result"
    }
   ],
   "source": [
    "steps_near_max"
   ]
  },
  {
   "cell_type": "code",
   "execution_count": 189,
   "metadata": {},
   "outputs": [
    {
     "data": {
      "text/plain": [
       "['depth:10', 'eta:0.5', 'weight:5', 'lamb:500', 'pos:0.0', 'seed:87062']"
      ]
     },
     "execution_count": 189,
     "metadata": {},
     "output_type": "execute_result"
    }
   ],
   "source": [
    "params_max"
   ]
  },
  {
   "cell_type": "markdown",
   "metadata": {},
   "source": [
    "Seed 0"
   ]
  },
  {
   "cell_type": "code",
   "execution_count": 191,
   "metadata": {},
   "outputs": [
    {
     "data": {
      "text/plain": [
       "array([37])"
      ]
     },
     "execution_count": 191,
     "metadata": {},
     "output_type": "execute_result"
    }
   ],
   "source": [
    "steps_max"
   ]
  },
  {
   "cell_type": "code",
   "execution_count": 192,
   "metadata": {},
   "outputs": [
    {
     "data": {
      "text/plain": [
       "(array([35, 37, 65]),)"
      ]
     },
     "execution_count": 192,
     "metadata": {},
     "output_type": "execute_result"
    }
   ],
   "source": [
    "steps_near_max"
   ]
  },
  {
   "cell_type": "code",
   "execution_count": 193,
   "metadata": {},
   "outputs": [
    {
     "data": {
      "text/plain": [
       "['depth:13', 'eta:0.3', 'weight:2', 'lamb:0.1', 'pos:0.0', 'seed:56499']"
      ]
     },
     "execution_count": 193,
     "metadata": {},
     "output_type": "execute_result"
    }
   ],
   "source": [
    "params_max"
   ]
  },
  {
   "cell_type": "code",
   "execution_count": 92,
   "metadata": {},
   "outputs": [],
   "source": [
    "# Find other parameter sets that got near to the max to look for patterns\n",
    "params_near_max = []\n",
    "steps_near_max = []\n",
    "\n",
    "tol = 0.01785\n",
    "\n",
    "for pack in product(*hypers):\n",
    "\n",
    "    res = dict()\n",
    "\n",
    "    values = list(pack)\n",
    "    values.append(seed)\n",
    "\n",
    "    exp_descriptor = []\n",
    "    for n, v in zip(names, values):\n",
    "        exp_descriptor.append(':'.join([n,str(v)]))\n",
    "        \n",
    "    exp_name = '_'.join(exp_descriptor)\n",
    "    #print(exp_name)\n",
    "        \n",
    "    current = np.loadtxt(path + exp_name)\n",
    "    max_step = np.argmax(current[:,3])\n",
    "\n",
    "    if current[max_step,3] > overall_max - tol:\n",
    "        params_near_max.append(exp_descriptor)\n",
    "        steps_near_max.append( np.where(current[:,3] > overall_max - tol)[0].shape[0] )\n",
    "        "
   ]
  },
  {
   "cell_type": "markdown",
   "metadata": {},
   "source": [
    "## Seed 56499\n",
    "Doesn't really follow the patterns of the other seeds, though we still see best performance with high lr,\n",
    "higher weight, and lower lambda"
   ]
  },
  {
   "cell_type": "code",
   "execution_count": 66,
   "metadata": {},
   "outputs": [
    {
     "data": {
      "text/plain": [
       "0.767857"
      ]
     },
     "execution_count": 66,
     "metadata": {},
     "output_type": "execute_result"
    }
   ],
   "source": [
    "overall_max"
   ]
  },
  {
   "cell_type": "code",
   "execution_count": 67,
   "metadata": {},
   "outputs": [
    {
     "data": {
      "text/plain": [
       "array([37])"
      ]
     },
     "execution_count": 67,
     "metadata": {},
     "output_type": "execute_result"
    }
   ],
   "source": [
    "steps_max"
   ]
  },
  {
   "cell_type": "code",
   "execution_count": 68,
   "metadata": {},
   "outputs": [
    {
     "data": {
      "text/plain": [
       "(array([35, 37, 65]),)"
      ]
     },
     "execution_count": 68,
     "metadata": {},
     "output_type": "execute_result"
    }
   ],
   "source": [
    "steps_near_max"
   ]
  },
  {
   "cell_type": "code",
   "execution_count": 69,
   "metadata": {},
   "outputs": [
    {
     "data": {
      "text/plain": [
       "['depth:13', 'eta:0.3', 'weight:2', 'lamb:0.1', 'pos:0.0', 'seed:56499']"
      ]
     },
     "execution_count": 69,
     "metadata": {},
     "output_type": "execute_result"
    }
   ],
   "source": [
    "params_max"
   ]
  },
  {
   "cell_type": "markdown",
   "metadata": {},
   "source": [
    "tol = 0.01785.  Looking for more than 75% - would definitely catch these"
   ]
  },
  {
   "cell_type": "code",
   "execution_count": 93,
   "metadata": {},
   "outputs": [
    {
     "data": {
      "text/plain": [
       "9"
      ]
     },
     "execution_count": 93,
     "metadata": {},
     "output_type": "execute_result"
    }
   ],
   "source": [
    "len(params_near_max)"
   ]
  },
  {
   "cell_type": "code",
   "execution_count": 94,
   "metadata": {},
   "outputs": [
    {
     "data": {
      "text/plain": [
       "[6, 68, 4, 1, 31, 102, 22, 1, 21]"
      ]
     },
     "execution_count": 94,
     "metadata": {},
     "output_type": "execute_result"
    }
   ],
   "source": [
    "steps_near_max"
   ]
  },
  {
   "cell_type": "code",
   "execution_count": 95,
   "metadata": {},
   "outputs": [
    {
     "data": {
      "text/plain": [
       "[['depth:7', 'eta:0.01', 'weight:0.01', 'lamb:10', 'pos:0.0', 'seed:56499'],\n",
       " ['depth:7', 'eta:0.01', 'weight:0.1', 'lamb:10', 'pos:0.0', 'seed:56499'],\n",
       " ['depth:7', 'eta:0.3', 'weight:1', 'lamb:2500', 'pos:0.0', 'seed:56499'],\n",
       " ['depth:7', 'eta:0.3', 'weight:2', 'lamb:0.1', 'pos:0.0', 'seed:56499'],\n",
       " ['depth:10', 'eta:0.005', 'weight:5', 'lamb:0.1', 'pos:0.0', 'seed:56499'],\n",
       " ['depth:10', 'eta:0.01', 'weight:5', 'lamb:0.1', 'pos:0.0', 'seed:56499'],\n",
       " ['depth:10', 'eta:0.5', 'weight:5', 'lamb:0.1', 'pos:0.0', 'seed:56499'],\n",
       " ['depth:13', 'eta:0.05', 'weight:2', 'lamb:0.1', 'pos:0.0', 'seed:56499'],\n",
       " ['depth:13', 'eta:0.3', 'weight:2', 'lamb:0.1', 'pos:0.0', 'seed:56499']]"
      ]
     },
     "execution_count": 95,
     "metadata": {},
     "output_type": "execute_result"
    }
   ],
   "source": [
    "params_near_max"
   ]
  },
  {
   "cell_type": "markdown",
   "metadata": {},
   "source": [
    "tol = 0.015 - might catch these.  Potentially write out more?"
   ]
  },
  {
   "cell_type": "code",
   "execution_count": 89,
   "metadata": {},
   "outputs": [
    {
     "data": {
      "text/plain": [
       "2"
      ]
     },
     "execution_count": 89,
     "metadata": {},
     "output_type": "execute_result"
    }
   ],
   "source": [
    "len(params_near_max)"
   ]
  },
  {
   "cell_type": "code",
   "execution_count": 90,
   "metadata": {},
   "outputs": [
    {
     "data": {
      "text/plain": [
       "[16, 8]"
      ]
     },
     "execution_count": 90,
     "metadata": {},
     "output_type": "execute_result"
    }
   ],
   "source": [
    "steps_near_max"
   ]
  },
  {
   "cell_type": "markdown",
   "metadata": {},
   "source": [
    "tol = 0.01- would probably not catch these.  Potentially write out more?"
   ]
  },
  {
   "cell_type": "code",
   "execution_count": 82,
   "metadata": {},
   "outputs": [
    {
     "data": {
      "text/plain": [
       "2"
      ]
     },
     "execution_count": 82,
     "metadata": {},
     "output_type": "execute_result"
    }
   ],
   "source": [
    "len(params_near_max)"
   ]
  },
  {
   "cell_type": "code",
   "execution_count": 83,
   "metadata": {},
   "outputs": [
    {
     "data": {
      "text/plain": [
       "[['depth:10', 'eta:0.5', 'weight:5', 'lamb:0.1', 'pos:0.0', 'seed:56499'],\n",
       " ['depth:13', 'eta:0.3', 'weight:2', 'lamb:0.1', 'pos:0.0', 'seed:56499']]"
      ]
     },
     "execution_count": 83,
     "metadata": {},
     "output_type": "execute_result"
    }
   ],
   "source": [
    "params_near_max"
   ]
  },
  {
   "cell_type": "code",
   "execution_count": 84,
   "metadata": {},
   "outputs": [
    {
     "data": {
      "text/plain": [
       "[4, 4]"
      ]
     },
     "execution_count": 84,
     "metadata": {},
     "output_type": "execute_result"
    }
   ],
   "source": [
    "steps_near_max"
   ]
  },
  {
   "cell_type": "markdown",
   "metadata": {},
   "source": [
    "## Seed 18074"
   ]
  },
  {
   "cell_type": "code",
   "execution_count": 57,
   "metadata": {},
   "outputs": [
    {
     "data": {
      "text/plain": [
       "0.738095"
      ]
     },
     "execution_count": 57,
     "metadata": {},
     "output_type": "execute_result"
    }
   ],
   "source": [
    "overall_max"
   ]
  },
  {
   "cell_type": "code",
   "execution_count": 58,
   "metadata": {},
   "outputs": [
    {
     "data": {
      "text/plain": [
       "array([196, 197])"
      ]
     },
     "execution_count": 58,
     "metadata": {},
     "output_type": "execute_result"
    }
   ],
   "source": [
    "steps_max"
   ]
  },
  {
   "cell_type": "code",
   "execution_count": 59,
   "metadata": {},
   "outputs": [
    {
     "data": {
      "text/plain": [
       "(array([196, 197, 198, 199, 200]),)"
      ]
     },
     "execution_count": 59,
     "metadata": {},
     "output_type": "execute_result"
    }
   ],
   "source": [
    "steps_near_max"
   ]
  },
  {
   "cell_type": "code",
   "execution_count": 60,
   "metadata": {},
   "outputs": [
    {
     "data": {
      "text/plain": [
       "['depth:4', 'eta:0.5', 'weight:5', 'lamb:100', 'pos:0.0', 'seed:18074']"
      ]
     },
     "execution_count": 60,
     "metadata": {},
     "output_type": "execute_result"
    }
   ],
   "source": [
    "params_max"
   ]
  },
  {
   "cell_type": "markdown",
   "metadata": {},
   "source": [
    "tol = 0.01"
   ]
  },
  {
   "cell_type": "code",
   "execution_count": 62,
   "metadata": {},
   "outputs": [
    {
     "data": {
      "text/plain": [
       "4"
      ]
     },
     "execution_count": 62,
     "metadata": {},
     "output_type": "execute_result"
    }
   ],
   "source": [
    "len(params_near_max)"
   ]
  },
  {
   "cell_type": "code",
   "execution_count": 63,
   "metadata": {},
   "outputs": [
    {
     "data": {
      "text/plain": [
       "[['depth:4', 'eta:0.5', 'weight:5', 'lamb:100', 'pos:0.0', 'seed:18074'],\n",
       " ['depth:7', 'eta:0.1', 'weight:5', 'lamb:250', 'pos:0.0', 'seed:18074'],\n",
       " ['depth:7', 'eta:0.5', 'weight:5', 'lamb:750', 'pos:0.0', 'seed:18074'],\n",
       " ['depth:13', 'eta:0.5', 'weight:5', 'lamb:750', 'pos:0.0', 'seed:18074']]"
      ]
     },
     "execution_count": 63,
     "metadata": {},
     "output_type": "execute_result"
    }
   ],
   "source": [
    "params_near_max"
   ]
  },
  {
   "cell_type": "code",
   "execution_count": 64,
   "metadata": {},
   "outputs": [
    {
     "data": {
      "text/plain": [
       "[12, 58, 23, 188]"
      ]
     },
     "execution_count": 64,
     "metadata": {},
     "output_type": "execute_result"
    }
   ],
   "source": [
    "steps_near_max"
   ]
  },
  {
   "cell_type": "markdown",
   "metadata": {},
   "source": [
    "## Seed 69956"
   ]
  },
  {
   "cell_type": "code",
   "execution_count": 39,
   "metadata": {},
   "outputs": [
    {
     "data": {
      "text/plain": [
       "0.752381"
      ]
     },
     "execution_count": 39,
     "metadata": {},
     "output_type": "execute_result"
    }
   ],
   "source": [
    "overall_max"
   ]
  },
  {
   "cell_type": "code",
   "execution_count": 41,
   "metadata": {},
   "outputs": [
    {
     "data": {
      "text/plain": [
       "array([53])"
      ]
     },
     "execution_count": 41,
     "metadata": {},
     "output_type": "execute_result"
    }
   ],
   "source": [
    "steps_max"
   ]
  },
  {
   "cell_type": "code",
   "execution_count": 42,
   "metadata": {},
   "outputs": [
    {
     "data": {
      "text/plain": [
       "(array([53, 54, 55]),)"
      ]
     },
     "execution_count": 42,
     "metadata": {},
     "output_type": "execute_result"
    }
   ],
   "source": [
    "steps_near_max"
   ]
  },
  {
   "cell_type": "markdown",
   "metadata": {},
   "source": [
    "This is over 0.75 on seed 87062"
   ]
  },
  {
   "cell_type": "code",
   "execution_count": 40,
   "metadata": {},
   "outputs": [
    {
     "data": {
      "text/plain": [
       "['depth:4', 'eta:0.5', 'weight:1', 'lamb:10', 'pos:0.0', 'seed:69956']"
      ]
     },
     "execution_count": 40,
     "metadata": {},
     "output_type": "execute_result"
    }
   ],
   "source": [
    "params_max"
   ]
  },
  {
   "cell_type": "markdown",
   "metadata": {},
   "source": [
    "tol = 0.01"
   ]
  },
  {
   "cell_type": "code",
   "execution_count": 53,
   "metadata": {},
   "outputs": [
    {
     "data": {
      "text/plain": [
       "4"
      ]
     },
     "execution_count": 53,
     "metadata": {},
     "output_type": "execute_result"
    }
   ],
   "source": [
    "len(params_near_max)"
   ]
  },
  {
   "cell_type": "code",
   "execution_count": 54,
   "metadata": {},
   "outputs": [
    {
     "data": {
      "text/plain": [
       "[['depth:4', 'eta:0.3', 'weight:2', 'lamb:10', 'pos:0.0', 'seed:69956'],\n",
       " ['depth:4', 'eta:0.5', 'weight:1', 'lamb:10', 'pos:0.0', 'seed:69956'],\n",
       " ['depth:7', 'eta:0.5', 'weight:1', 'lamb:250', 'pos:0.0', 'seed:69956'],\n",
       " ['depth:13', 'eta:0.5', 'weight:5', 'lamb:10', 'pos:0.0', 'seed:69956']]"
      ]
     },
     "execution_count": 54,
     "metadata": {},
     "output_type": "execute_result"
    }
   ],
   "source": [
    "params_near_max"
   ]
  },
  {
   "cell_type": "code",
   "execution_count": 55,
   "metadata": {},
   "outputs": [
    {
     "data": {
      "text/plain": [
       "[16, 3, 42, 2]"
      ]
     },
     "execution_count": 55,
     "metadata": {},
     "output_type": "execute_result"
    }
   ],
   "source": [
    "steps_near_max"
   ]
  },
  {
   "cell_type": "markdown",
   "metadata": {},
   "source": [
    "## Seed 87062"
   ]
  },
  {
   "cell_type": "code",
   "execution_count": 20,
   "metadata": {},
   "outputs": [
    {
     "data": {
      "text/plain": [
       "0.761905"
      ]
     },
     "execution_count": 20,
     "metadata": {},
     "output_type": "execute_result"
    }
   ],
   "source": [
    "overall_max"
   ]
  },
  {
   "cell_type": "code",
   "execution_count": 21,
   "metadata": {},
   "outputs": [
    {
     "data": {
      "text/plain": [
       "array([233, 235, 239, 240, 241, 242, 250, 251, 252, 253, 254, 255, 256,\n",
       "       257, 258, 259, 260, 261, 262, 266, 267, 268, 269])"
      ]
     },
     "execution_count": 21,
     "metadata": {},
     "output_type": "execute_result"
    }
   ],
   "source": [
    "steps_max"
   ]
  },
  {
   "cell_type": "code",
   "execution_count": 22,
   "metadata": {},
   "outputs": [
    {
     "data": {
      "text/plain": [
       "(array([229, 230, 233, 235, 236, 237, 238, 239, 240, 241, 242, 243, 244,\n",
       "        245, 246, 247, 248, 249, 250, 251, 252, 253, 254, 255, 256, 257,\n",
       "        258, 259, 260, 261, 262, 263, 264, 265, 266, 267, 268, 269, 271,\n",
       "        280, 281, 284, 285, 286, 287, 290, 291, 292, 300, 301, 302, 303]),)"
      ]
     },
     "execution_count": 22,
     "metadata": {},
     "output_type": "execute_result"
    }
   ],
   "source": [
    "steps_near_max"
   ]
  },
  {
   "cell_type": "code",
   "execution_count": 18,
   "metadata": {},
   "outputs": [
    {
     "data": {
      "text/plain": [
       "['depth:10', 'eta:0.5', 'weight:5', 'lamb:500', 'pos:0.0', 'seed:87062']"
      ]
     },
     "execution_count": 18,
     "metadata": {},
     "output_type": "execute_result"
    }
   ],
   "source": [
    "params_max"
   ]
  },
  {
   "cell_type": "markdown",
   "metadata": {},
   "source": [
    "tol = 0.0055"
   ]
  },
  {
   "cell_type": "code",
   "execution_count": 36,
   "metadata": {},
   "outputs": [
    {
     "data": {
      "text/plain": [
       "29"
      ]
     },
     "execution_count": 36,
     "metadata": {},
     "output_type": "execute_result"
    }
   ],
   "source": [
    "len(params_near_max)"
   ]
  },
  {
   "cell_type": "code",
   "execution_count": 37,
   "metadata": {},
   "outputs": [
    {
     "data": {
      "text/plain": [
       "[['depth:4', 'eta:0.5', 'weight:0.01', 'lamb:1500', 'pos:0.0', 'seed:87062'],\n",
       " ['depth:4', 'eta:0.5', 'weight:0.1', 'lamb:10', 'pos:0.0', 'seed:87062'],\n",
       " ['depth:4', 'eta:0.5', 'weight:0.1', 'lamb:1500', 'pos:0.0', 'seed:87062'],\n",
       " ['depth:4', 'eta:0.5', 'weight:1', 'lamb:1250', 'pos:0.0', 'seed:87062'],\n",
       " ['depth:4', 'eta:0.5', 'weight:2', 'lamb:100', 'pos:0.0', 'seed:87062'],\n",
       " ['depth:4', 'eta:0.5', 'weight:5', 'lamb:250', 'pos:0.0', 'seed:87062'],\n",
       " ['depth:4', 'eta:0.5', 'weight:5', 'lamb:500', 'pos:0.0', 'seed:87062'],\n",
       " ['depth:4', 'eta:0.5', 'weight:5', 'lamb:1750', 'pos:0.0', 'seed:87062'],\n",
       " ['depth:4', 'eta:0.5', 'weight:5', 'lamb:2000', 'pos:0.0', 'seed:87062'],\n",
       " ['depth:7', 'eta:0.1', 'weight:2', 'lamb:100', 'pos:0.0', 'seed:87062'],\n",
       " ['depth:7', 'eta:0.1', 'weight:5', 'lamb:250', 'pos:0.0', 'seed:87062'],\n",
       " ['depth:7', 'eta:0.5', 'weight:0.01', 'lamb:100', 'pos:0.0', 'seed:87062'],\n",
       " ['depth:7', 'eta:0.5', 'weight:0.1', 'lamb:100', 'pos:0.0', 'seed:87062'],\n",
       " ['depth:7', 'eta:0.5', 'weight:1', 'lamb:500', 'pos:0.0', 'seed:87062'],\n",
       " ['depth:7', 'eta:0.5', 'weight:2', 'lamb:100', 'pos:0.0', 'seed:87062'],\n",
       " ['depth:7', 'eta:0.5', 'weight:5', 'lamb:750', 'pos:0.0', 'seed:87062'],\n",
       " ['depth:10', 'eta:0.1', 'weight:2', 'lamb:100', 'pos:0.0', 'seed:87062'],\n",
       " ['depth:10', 'eta:0.1', 'weight:5', 'lamb:250', 'pos:0.0', 'seed:87062'],\n",
       " ['depth:10', 'eta:0.5', 'weight:2', 'lamb:250', 'pos:0.0', 'seed:87062'],\n",
       " ['depth:10', 'eta:0.5', 'weight:2', 'lamb:750', 'pos:0.0', 'seed:87062'],\n",
       " ['depth:10', 'eta:0.5', 'weight:5', 'lamb:100', 'pos:0.0', 'seed:87062'],\n",
       " ['depth:10', 'eta:0.5', 'weight:5', 'lamb:500', 'pos:0.0', 'seed:87062'],\n",
       " ['depth:10', 'eta:0.5', 'weight:5', 'lamb:750', 'pos:0.0', 'seed:87062'],\n",
       " ['depth:10', 'eta:0.5', 'weight:5', 'lamb:1000', 'pos:0.0', 'seed:87062'],\n",
       " ['depth:13', 'eta:0.3', 'weight:5', 'lamb:500', 'pos:0.0', 'seed:87062'],\n",
       " ['depth:13', 'eta:0.3', 'weight:5', 'lamb:750', 'pos:0.0', 'seed:87062'],\n",
       " ['depth:13', 'eta:0.5', 'weight:5', 'lamb:500', 'pos:0.0', 'seed:87062'],\n",
       " ['depth:13', 'eta:0.5', 'weight:5', 'lamb:750', 'pos:0.0', 'seed:87062'],\n",
       " ['depth:13', 'eta:0.5', 'weight:5', 'lamb:1000', 'pos:0.0', 'seed:87062']]"
      ]
     },
     "execution_count": 37,
     "metadata": {},
     "output_type": "execute_result"
    }
   ],
   "source": [
    "params_near_max"
   ]
  },
  {
   "cell_type": "markdown",
   "metadata": {},
   "source": [
    "tol = 0.0075"
   ]
  },
  {
   "cell_type": "code",
   "execution_count": 31,
   "metadata": {},
   "outputs": [
    {
     "data": {
      "text/plain": [
       "43"
      ]
     },
     "execution_count": 31,
     "metadata": {},
     "output_type": "execute_result"
    }
   ],
   "source": [
    "len(params_near_max)"
   ]
  },
  {
   "cell_type": "code",
   "execution_count": 32,
   "metadata": {},
   "outputs": [
    {
     "data": {
      "text/plain": [
       "[['depth:4', 'eta:0.05', 'weight:0.1', 'lamb:0.1', 'pos:0.0', 'seed:87062'],\n",
       " ['depth:4', 'eta:0.3', 'weight:5', 'lamb:100', 'pos:0.0', 'seed:87062'],\n",
       " ['depth:4', 'eta:0.3', 'weight:5', 'lamb:750', 'pos:0.0', 'seed:87062'],\n",
       " ['depth:4', 'eta:0.5', 'weight:0.01', 'lamb:100', 'pos:0.0', 'seed:87062'],\n",
       " ['depth:4', 'eta:0.5', 'weight:0.01', 'lamb:1500', 'pos:0.0', 'seed:87062'],\n",
       " ['depth:4', 'eta:0.5', 'weight:0.1', 'lamb:10', 'pos:0.0', 'seed:87062'],\n",
       " ['depth:4', 'eta:0.5', 'weight:0.1', 'lamb:100', 'pos:0.0', 'seed:87062'],\n",
       " ['depth:4', 'eta:0.5', 'weight:0.1', 'lamb:1500', 'pos:0.0', 'seed:87062'],\n",
       " ['depth:4', 'eta:0.5', 'weight:1', 'lamb:500', 'pos:0.0', 'seed:87062'],\n",
       " ['depth:4', 'eta:0.5', 'weight:1', 'lamb:1250', 'pos:0.0', 'seed:87062'],\n",
       " ['depth:4', 'eta:0.5', 'weight:2', 'lamb:100', 'pos:0.0', 'seed:87062'],\n",
       " ['depth:4', 'eta:0.5', 'weight:2', 'lamb:750', 'pos:0.0', 'seed:87062'],\n",
       " ['depth:4', 'eta:0.5', 'weight:5', 'lamb:250', 'pos:0.0', 'seed:87062'],\n",
       " ['depth:4', 'eta:0.5', 'weight:5', 'lamb:500', 'pos:0.0', 'seed:87062'],\n",
       " ['depth:4', 'eta:0.5', 'weight:5', 'lamb:1000', 'pos:0.0', 'seed:87062'],\n",
       " ['depth:4', 'eta:0.5', 'weight:5', 'lamb:1500', 'pos:0.0', 'seed:87062'],\n",
       " ['depth:4', 'eta:0.5', 'weight:5', 'lamb:1750', 'pos:0.0', 'seed:87062'],\n",
       " ['depth:4', 'eta:0.5', 'weight:5', 'lamb:2000', 'pos:0.0', 'seed:87062'],\n",
       " ['depth:7', 'eta:0.1', 'weight:2', 'lamb:100', 'pos:0.0', 'seed:87062'],\n",
       " ['depth:7', 'eta:0.1', 'weight:5', 'lamb:250', 'pos:0.0', 'seed:87062'],\n",
       " ['depth:7', 'eta:0.5', 'weight:0.01', 'lamb:100', 'pos:0.0', 'seed:87062'],\n",
       " ['depth:7', 'eta:0.5', 'weight:0.1', 'lamb:100', 'pos:0.0', 'seed:87062'],\n",
       " ['depth:7', 'eta:0.5', 'weight:1', 'lamb:100', 'pos:0.0', 'seed:87062'],\n",
       " ['depth:7', 'eta:0.5', 'weight:1', 'lamb:500', 'pos:0.0', 'seed:87062'],\n",
       " ['depth:7', 'eta:0.5', 'weight:2', 'lamb:100', 'pos:0.0', 'seed:87062'],\n",
       " ['depth:7', 'eta:0.5', 'weight:5', 'lamb:250', 'pos:0.0', 'seed:87062'],\n",
       " ['depth:7', 'eta:0.5', 'weight:5', 'lamb:750', 'pos:0.0', 'seed:87062'],\n",
       " ['depth:10', 'eta:0.1', 'weight:2', 'lamb:100', 'pos:0.0', 'seed:87062'],\n",
       " ['depth:10', 'eta:0.1', 'weight:5', 'lamb:250', 'pos:0.0', 'seed:87062'],\n",
       " ['depth:10', 'eta:0.5', 'weight:2', 'lamb:250', 'pos:0.0', 'seed:87062'],\n",
       " ['depth:10', 'eta:0.5', 'weight:2', 'lamb:750', 'pos:0.0', 'seed:87062'],\n",
       " ['depth:10', 'eta:0.5', 'weight:5', 'lamb:100', 'pos:0.0', 'seed:87062'],\n",
       " ['depth:10', 'eta:0.5', 'weight:5', 'lamb:500', 'pos:0.0', 'seed:87062'],\n",
       " ['depth:10', 'eta:0.5', 'weight:5', 'lamb:750', 'pos:0.0', 'seed:87062'],\n",
       " ['depth:10', 'eta:0.5', 'weight:5', 'lamb:1000', 'pos:0.0', 'seed:87062'],\n",
       " ['depth:13', 'eta:0.3', 'weight:5', 'lamb:0.1', 'pos:0.0', 'seed:87062'],\n",
       " ['depth:13', 'eta:0.3', 'weight:5', 'lamb:100', 'pos:0.0', 'seed:87062'],\n",
       " ['depth:13', 'eta:0.3', 'weight:5', 'lamb:500', 'pos:0.0', 'seed:87062'],\n",
       " ['depth:13', 'eta:0.3', 'weight:5', 'lamb:750', 'pos:0.0', 'seed:87062'],\n",
       " ['depth:13', 'eta:0.5', 'weight:5', 'lamb:100', 'pos:0.0', 'seed:87062'],\n",
       " ['depth:13', 'eta:0.5', 'weight:5', 'lamb:500', 'pos:0.0', 'seed:87062'],\n",
       " ['depth:13', 'eta:0.5', 'weight:5', 'lamb:750', 'pos:0.0', 'seed:87062'],\n",
       " ['depth:13', 'eta:0.5', 'weight:5', 'lamb:1000', 'pos:0.0', 'seed:87062']]"
      ]
     },
     "execution_count": 32,
     "metadata": {},
     "output_type": "execute_result"
    }
   ],
   "source": [
    "params_near_max"
   ]
  },
  {
   "cell_type": "markdown",
   "metadata": {},
   "source": [
    "tol = 0.01"
   ]
  },
  {
   "cell_type": "code",
   "execution_count": 27,
   "metadata": {},
   "outputs": [
    {
     "data": {
      "text/plain": [
       "75"
      ]
     },
     "execution_count": 27,
     "metadata": {},
     "output_type": "execute_result"
    }
   ],
   "source": [
    "len(params_near_max)"
   ]
  },
  {
   "cell_type": "code",
   "execution_count": 28,
   "metadata": {},
   "outputs": [
    {
     "data": {
      "text/plain": [
       "[['depth:4', 'eta:0.05', 'weight:0.01', 'lamb:0.1', 'pos:0.0', 'seed:87062'],\n",
       " ['depth:4', 'eta:0.05', 'weight:0.1', 'lamb:0.1', 'pos:0.0', 'seed:87062'],\n",
       " ['depth:4', 'eta:0.3', 'weight:0.01', 'lamb:100', 'pos:0.0', 'seed:87062'],\n",
       " ['depth:4', 'eta:0.3', 'weight:0.1', 'lamb:100', 'pos:0.0', 'seed:87062'],\n",
       " ['depth:4', 'eta:0.3', 'weight:5', 'lamb:100', 'pos:0.0', 'seed:87062'],\n",
       " ['depth:4', 'eta:0.3', 'weight:5', 'lamb:250', 'pos:0.0', 'seed:87062'],\n",
       " ['depth:4', 'eta:0.3', 'weight:5', 'lamb:750', 'pos:0.0', 'seed:87062'],\n",
       " ['depth:4', 'eta:0.3', 'weight:5', 'lamb:1000', 'pos:0.0', 'seed:87062'],\n",
       " ['depth:4', 'eta:0.3', 'weight:5', 'lamb:1500', 'pos:0.0', 'seed:87062'],\n",
       " ['depth:4', 'eta:0.5', 'weight:0.01', 'lamb:10', 'pos:0.0', 'seed:87062'],\n",
       " ['depth:4', 'eta:0.5', 'weight:0.01', 'lamb:100', 'pos:0.0', 'seed:87062'],\n",
       " ['depth:4', 'eta:0.5', 'weight:0.01', 'lamb:500', 'pos:0.0', 'seed:87062'],\n",
       " ['depth:4', 'eta:0.5', 'weight:0.01', 'lamb:1500', 'pos:0.0', 'seed:87062'],\n",
       " ['depth:4', 'eta:0.5', 'weight:0.1', 'lamb:10', 'pos:0.0', 'seed:87062'],\n",
       " ['depth:4', 'eta:0.5', 'weight:0.1', 'lamb:100', 'pos:0.0', 'seed:87062'],\n",
       " ['depth:4', 'eta:0.5', 'weight:0.1', 'lamb:500', 'pos:0.0', 'seed:87062'],\n",
       " ['depth:4', 'eta:0.5', 'weight:0.1', 'lamb:1500', 'pos:0.0', 'seed:87062'],\n",
       " ['depth:4', 'eta:0.5', 'weight:1', 'lamb:10', 'pos:0.0', 'seed:87062'],\n",
       " ['depth:4', 'eta:0.5', 'weight:1', 'lamb:500', 'pos:0.0', 'seed:87062'],\n",
       " ['depth:4', 'eta:0.5', 'weight:1', 'lamb:1000', 'pos:0.0', 'seed:87062'],\n",
       " ['depth:4', 'eta:0.5', 'weight:1', 'lamb:1250', 'pos:0.0', 'seed:87062'],\n",
       " ['depth:4', 'eta:0.5', 'weight:2', 'lamb:100', 'pos:0.0', 'seed:87062'],\n",
       " ['depth:4', 'eta:0.5', 'weight:2', 'lamb:500', 'pos:0.0', 'seed:87062'],\n",
       " ['depth:4', 'eta:0.5', 'weight:2', 'lamb:750', 'pos:0.0', 'seed:87062'],\n",
       " ['depth:4', 'eta:0.5', 'weight:2', 'lamb:1000', 'pos:0.0', 'seed:87062'],\n",
       " ['depth:4', 'eta:0.5', 'weight:5', 'lamb:250', 'pos:0.0', 'seed:87062'],\n",
       " ['depth:4', 'eta:0.5', 'weight:5', 'lamb:500', 'pos:0.0', 'seed:87062'],\n",
       " ['depth:4', 'eta:0.5', 'weight:5', 'lamb:1000', 'pos:0.0', 'seed:87062'],\n",
       " ['depth:4', 'eta:0.5', 'weight:5', 'lamb:1500', 'pos:0.0', 'seed:87062'],\n",
       " ['depth:4', 'eta:0.5', 'weight:5', 'lamb:1750', 'pos:0.0', 'seed:87062'],\n",
       " ['depth:4', 'eta:0.5', 'weight:5', 'lamb:2000', 'pos:0.0', 'seed:87062'],\n",
       " ['depth:7', 'eta:0.1', 'weight:2', 'lamb:100', 'pos:0.0', 'seed:87062'],\n",
       " ['depth:7', 'eta:0.1', 'weight:5', 'lamb:250', 'pos:0.0', 'seed:87062'],\n",
       " ['depth:7', 'eta:0.3', 'weight:2', 'lamb:100', 'pos:0.0', 'seed:87062'],\n",
       " ['depth:7', 'eta:0.5', 'weight:0.01', 'lamb:100', 'pos:0.0', 'seed:87062'],\n",
       " ['depth:7', 'eta:0.5', 'weight:0.1', 'lamb:100', 'pos:0.0', 'seed:87062'],\n",
       " ['depth:7', 'eta:0.5', 'weight:1', 'lamb:100', 'pos:0.0', 'seed:87062'],\n",
       " ['depth:7', 'eta:0.5', 'weight:1', 'lamb:500', 'pos:0.0', 'seed:87062'],\n",
       " ['depth:7', 'eta:0.5', 'weight:2', 'lamb:100', 'pos:0.0', 'seed:87062'],\n",
       " ['depth:7', 'eta:0.5', 'weight:2', 'lamb:250', 'pos:0.0', 'seed:87062'],\n",
       " ['depth:7', 'eta:0.5', 'weight:5', 'lamb:250', 'pos:0.0', 'seed:87062'],\n",
       " ['depth:7', 'eta:0.5', 'weight:5', 'lamb:750', 'pos:0.0', 'seed:87062'],\n",
       " ['depth:10', 'eta:0.1', 'weight:2', 'lamb:100', 'pos:0.0', 'seed:87062'],\n",
       " ['depth:10', 'eta:0.1', 'weight:5', 'lamb:250', 'pos:0.0', 'seed:87062'],\n",
       " ['depth:10', 'eta:0.3', 'weight:2', 'lamb:1000', 'pos:0.0', 'seed:87062'],\n",
       " ['depth:10', 'eta:0.3', 'weight:2', 'lamb:2000', 'pos:0.0', 'seed:87062'],\n",
       " ['depth:10', 'eta:0.3', 'weight:5', 'lamb:100', 'pos:0.0', 'seed:87062'],\n",
       " ['depth:10', 'eta:0.3', 'weight:5', 'lamb:250', 'pos:0.0', 'seed:87062'],\n",
       " ['depth:10', 'eta:0.3', 'weight:5', 'lamb:500', 'pos:0.0', 'seed:87062'],\n",
       " ['depth:10', 'eta:0.3', 'weight:5', 'lamb:750', 'pos:0.0', 'seed:87062'],\n",
       " ['depth:10', 'eta:0.5', 'weight:2', 'lamb:100', 'pos:0.0', 'seed:87062'],\n",
       " ['depth:10', 'eta:0.5', 'weight:2', 'lamb:250', 'pos:0.0', 'seed:87062'],\n",
       " ['depth:10', 'eta:0.5', 'weight:2', 'lamb:750', 'pos:0.0', 'seed:87062'],\n",
       " ['depth:10', 'eta:0.5', 'weight:2', 'lamb:1000', 'pos:0.0', 'seed:87062'],\n",
       " ['depth:10', 'eta:0.5', 'weight:2', 'lamb:1250', 'pos:0.0', 'seed:87062'],\n",
       " ['depth:10', 'eta:0.5', 'weight:2', 'lamb:1500', 'pos:0.0', 'seed:87062'],\n",
       " ['depth:10', 'eta:0.5', 'weight:2', 'lamb:2500', 'pos:0.0', 'seed:87062'],\n",
       " ['depth:10', 'eta:0.5', 'weight:5', 'lamb:100', 'pos:0.0', 'seed:87062'],\n",
       " ['depth:10', 'eta:0.5', 'weight:5', 'lamb:500', 'pos:0.0', 'seed:87062'],\n",
       " ['depth:10', 'eta:0.5', 'weight:5', 'lamb:750', 'pos:0.0', 'seed:87062'],\n",
       " ['depth:10', 'eta:0.5', 'weight:5', 'lamb:1000', 'pos:0.0', 'seed:87062'],\n",
       " ['depth:10', 'eta:0.5', 'weight:5', 'lamb:1500', 'pos:0.0', 'seed:87062'],\n",
       " ['depth:13', 'eta:0.3', 'weight:2', 'lamb:1500', 'pos:0.0', 'seed:87062'],\n",
       " ['depth:13', 'eta:0.3', 'weight:5', 'lamb:0.1', 'pos:0.0', 'seed:87062'],\n",
       " ['depth:13', 'eta:0.3', 'weight:5', 'lamb:100', 'pos:0.0', 'seed:87062'],\n",
       " ['depth:13', 'eta:0.3', 'weight:5', 'lamb:500', 'pos:0.0', 'seed:87062'],\n",
       " ['depth:13', 'eta:0.3', 'weight:5', 'lamb:750', 'pos:0.0', 'seed:87062'],\n",
       " ['depth:13', 'eta:0.5', 'weight:2', 'lamb:250', 'pos:0.0', 'seed:87062'],\n",
       " ['depth:13', 'eta:0.5', 'weight:2', 'lamb:750', 'pos:0.0', 'seed:87062'],\n",
       " ['depth:13', 'eta:0.5', 'weight:2', 'lamb:1500', 'pos:0.0', 'seed:87062'],\n",
       " ['depth:13', 'eta:0.5', 'weight:2', 'lamb:2000', 'pos:0.0', 'seed:87062'],\n",
       " ['depth:13', 'eta:0.5', 'weight:5', 'lamb:100', 'pos:0.0', 'seed:87062'],\n",
       " ['depth:13', 'eta:0.5', 'weight:5', 'lamb:500', 'pos:0.0', 'seed:87062'],\n",
       " ['depth:13', 'eta:0.5', 'weight:5', 'lamb:750', 'pos:0.0', 'seed:87062'],\n",
       " ['depth:13', 'eta:0.5', 'weight:5', 'lamb:1000', 'pos:0.0', 'seed:87062']]"
      ]
     },
     "execution_count": 28,
     "metadata": {},
     "output_type": "execute_result"
    }
   ],
   "source": [
    "params_near_max"
   ]
  },
  {
   "cell_type": "markdown",
   "metadata": {},
   "source": [
    "Seed 87072:\n",
    "For higher depths, we also want higher eta, higher weight, lower lamb.  Depth 4, high lr also seems a good place to look"
   ]
  },
  {
   "cell_type": "markdown",
   "metadata": {},
   "source": [
    "Other seeds: \n",
    "Depth 4, High LR, High weight, Lower lambda seems to be the sweet spot"
   ]
  },
  {
   "cell_type": "markdown",
   "metadata": {},
   "source": [
    "SenSR baseline, copied in"
   ]
  },
  {
   "cell_type": "code",
   "execution_count": 208,
   "metadata": {},
   "outputs": [],
   "source": [
    "balacc = np.array([\n",
    "    0.6714285714285715,\n",
    "    0.6523809523809524,\n",
    "    0.6571428571428571,\n",
    "    0.6464285714285715,\n",
    "    0.6857142857142857,\n",
    "    0.6869047619047619,\n",
    "    0.6726190476190477,\n",
    "    0.6726190476190477,\n",
    "    0.7095238095238094\n",
    "    \n",
    "])\n",
    "\n",
    "grms = np.array([\n",
    "    0.04024344361776888,\n",
    "    0.06936229430483305,\n",
    "    0.03634642110103115,\n",
    "    0.06871806348059763,\n",
    "    0.09493117482434614,\n",
    "    0.09671310523831388,\n",
    "    0.04265681665704136,\n",
    "    0.03903317120818163,\n",
    "    0.116760379648778,\n",
    "    \n",
    "])\n",
    "\n",
    "gmax = np.array([\n",
    "    0.04355812122802427,\n",
    "    0.09808612440191383,\n",
    "    0.038510911424903704,\n",
    "    0.08843537414965985,\n",
    "    0.10101010101010105,\n",
    "    0.12899896800825583,\n",
    "    0.04999999999999999,\n",
    "    0.050000000000000044,\n",
    "    0.15999999999999998,\n",
    "    \n",
    "])\n",
    "\n",
    "arms = np.array([\n",
    "    0.07036315904001197,\n",
    "    0.08173221118917225,\n",
    "    0.06338688321732534,\n",
    "    0.10887331417526766,\n",
    "    0.14683870657704515,\n",
    "    0.17804758066488988,\n",
    "    0.1490751918689064,\n",
    "    0.06773813731813924,\n",
    "    0.12494998999599802,\n",
    "    \n",
    "])\n",
    "\n",
    "amax = np.array([\n",
    "    0.07936507936507942,\n",
    "    0.11384335154826963,\n",
    "    0.07499999999999996,\n",
    "    0.11190817790530849,\n",
    "    0.20766129032258063,\n",
    "    0.2185792349726775,\n",
    "    0.1898527004909984,\n",
    "    0.09166666666666667,\n",
    "    0.16000000000000003\n",
    "    \n",
    "])\n"
   ]
  },
  {
   "cell_type": "code",
   "execution_count": 209,
   "metadata": {},
   "outputs": [
    {
     "data": {
      "text/plain": [
       "0.6727513227513228"
      ]
     },
     "execution_count": 209,
     "metadata": {},
     "output_type": "execute_result"
    }
   ],
   "source": [
    "balacc.mean()"
   ]
  },
  {
   "cell_type": "code",
   "execution_count": 210,
   "metadata": {},
   "outputs": [
    {
     "data": {
      "text/plain": [
       "0.06719609667565464"
      ]
     },
     "execution_count": 210,
     "metadata": {},
     "output_type": "execute_result"
    }
   ],
   "source": [
    "grms.mean()"
   ]
  },
  {
   "cell_type": "code",
   "execution_count": 211,
   "metadata": {},
   "outputs": [
    {
     "data": {
      "text/plain": [
       "0.08428884446920651"
      ]
     },
     "execution_count": 211,
     "metadata": {},
     "output_type": "execute_result"
    }
   ],
   "source": [
    "gmax.mean()"
   ]
  },
  {
   "cell_type": "code",
   "execution_count": 212,
   "metadata": {},
   "outputs": [
    {
     "data": {
      "text/plain": [
       "0.11011168600519511"
      ]
     },
     "execution_count": 212,
     "metadata": {},
     "output_type": "execute_result"
    }
   ],
   "source": [
    "arms.mean()"
   ]
  },
  {
   "cell_type": "code",
   "execution_count": 213,
   "metadata": {},
   "outputs": [
    {
     "data": {
      "text/plain": [
       "0.1386529445857312"
      ]
     },
     "execution_count": 213,
     "metadata": {},
     "output_type": "execute_result"
    }
   ],
   "source": [
    "amax.mean()"
   ]
  },
  {
   "cell_type": "code",
   "execution_count": 206,
   "metadata": {},
   "outputs": [
    {
     "data": {
      "text/plain": [
       "[0.767857,\n",
       " 0.761905,\n",
       " 0.752381,\n",
       " 0.738095,\n",
       " 0.754762,\n",
       " 0.786905,\n",
       " 0.758333,\n",
       " 0.75119,\n",
       " 0.79881,\n",
       " 0.772619]"
      ]
     },
     "execution_count": 206,
     "metadata": {},
     "output_type": "execute_result"
    }
   ],
   "source": [
    "maxine"
   ]
  },
  {
   "cell_type": "code",
   "execution_count": 207,
   "metadata": {},
   "outputs": [
    {
     "data": {
      "text/plain": [
       "0.7642857000000001"
      ]
     },
     "execution_count": 207,
     "metadata": {},
     "output_type": "execute_result"
    }
   ],
   "source": [
    "np.array(maxine).mean()"
   ]
  },
  {
   "cell_type": "code",
   "execution_count": 200,
   "metadata": {},
   "outputs": [],
   "source": [
    "bgrms = np.array([\n",
    "    0.16111469369973225,\n",
    "    0.1292026000688584,\n",
    "    0.06363576197939921,\n",
    "    0.07193163694745597,\n",
    "    0.1319938271401391,\n",
    "    0.02701424835315153,\n",
    "    0.04438171013663089,\n",
    "    0.0355097667998917,\n",
    "    0.027663079407949268,\n",
    "    0.048309458255831696\n",
    "])\n",
    "\n",
    "bgmax = np.array([\n",
    "    0.19780219780219788,\n",
    "    0.16028708133971292,\n",
    "    0.07830551989730417,\n",
    "    0.09890109890109888,\n",
    "    0.13468013468013468,\n",
    "    0.031100478468899517,\n",
    "    0.050000000000000044,\n",
    "    0.050000000000000044,\n",
    "    0.03741496598639449,\n",
    "    0.0581365828890581\n",
    "])\n",
    "\n",
    "barms = np.array([\n",
    "    0.043989904698973015,\n",
    "    0.1341382583460648,\n",
    "    0.17786729645211602,\n",
    "    0.25559895598702725,\n",
    "    0.1086228172207549,\n",
    "    0.030629151228209077,\n",
    "    0.0412641275062117,\n",
    "    0.20924035653802373,\n",
    "    0.15103807466993213,\n",
    "    0.0321720586625656\n",
    "])\n",
    "\n",
    "bamax = np.array([\n",
    "    0.05350152240104389,\n",
    "    0.16120218579234968,\n",
    "    0.20785597381342058,\n",
    "    0.27643784786641923,\n",
    "    0.11290322580645162,\n",
    "    0.041666666666666685,\n",
    "    0.05833333333333335,\n",
    "    0.292962356792144,\n",
    "    0.19999999999999996,\n",
    "    0.03830645161290325\n",
    "])"
   ]
  },
  {
   "cell_type": "code",
   "execution_count": 201,
   "metadata": {},
   "outputs": [
    {
     "data": {
      "text/plain": [
       "0.1184561001309878"
      ]
     },
     "execution_count": 201,
     "metadata": {},
     "output_type": "execute_result"
    }
   ],
   "source": [
    "barms.mean()"
   ]
  },
  {
   "cell_type": "code",
   "execution_count": 202,
   "metadata": {},
   "outputs": [
    {
     "data": {
      "text/plain": [
       "0.14431695640847322"
      ]
     },
     "execution_count": 202,
     "metadata": {},
     "output_type": "execute_result"
    }
   ],
   "source": [
    "bamax.mean()"
   ]
  },
  {
   "cell_type": "code",
   "execution_count": 204,
   "metadata": {},
   "outputs": [
    {
     "data": {
      "text/plain": [
       "0.074075678278904"
      ]
     },
     "execution_count": 204,
     "metadata": {},
     "output_type": "execute_result"
    }
   ],
   "source": [
    "bgrms.mean()"
   ]
  },
  {
   "cell_type": "code",
   "execution_count": 205,
   "metadata": {},
   "outputs": [
    {
     "data": {
      "text/plain": [
       "0.08966280599648006"
      ]
     },
     "execution_count": 205,
     "metadata": {},
     "output_type": "execute_result"
    }
   ],
   "source": [
    "bgmax.mean()"
   ]
  },
  {
   "cell_type": "markdown",
   "metadata": {},
   "source": [
    "German NN baseline, as trained by SenSR.train_nn, more notes found in txt doc"
   ]
  },
  {
   "cell_type": "code",
   "execution_count": 4,
   "metadata": {},
   "outputs": [],
   "source": [
    "nnacc = np.array([\n",
    "    0.719047619047619,\n",
    "    0.6785714285714286,\n",
    "    0.7226190476190477,\n",
    "    0.6273809523809524,\n",
    "    0.6928571428571428,\n",
    "    0.6869047619047619,\n",
    "    0.6535714285714286,\n",
    "    0.65,\n",
    "    0.7535714285714286,\n",
    "    0.6607142857142858\n",
    "])\n",
    "\n",
    "ngrms = np.array([\n",
    "    0.06856688977380215,\n",
    "    0.20342798336660847,\n",
    "    0.12524805845628068,\n",
    "    0.09915704645861391,\n",
    "    0.007536566148202717,\n",
    "    0.19521280831137455,\n",
    "    0.08854172458359469,\n",
    "    0.017367534976511747,\n",
    "    0.07737777522071354,\n",
    "    0.027754100177395494\n",
    "])\n",
    "\n",
    "ngmax = np.array([\n",
    "    0.07692307692307698,\n",
    "    0.2870813397129187,\n",
    "    0.17586649550706035,\n",
    "    0.13919413919413925,\n",
    "    0.010101010101010166,\n",
    "    0.20123839009287925,\n",
    "    0.10027100271002709,\n",
    "    0.024561403508772006,\n",
    "    0.08571428571428574,\n",
    "    0.038588474232038594\n",
    "])\n",
    "\n",
    "narms = np.array([\n",
    "    0.12310212127690572,\n",
    "    0.06439952469822834,\n",
    "    0.10607233065206029,\n",
    "    0.0947921774625083,\n",
    "    0.1707835705801741,\n",
    "    0.2239355298655755,\n",
    "    0.10999351197257783,\n",
    "    0.042542621165714514,\n",
    "    0.22553947671207258,\n",
    "    0.10424056472898473\n",
    "])\n",
    "\n",
    "namax = np.array([\n",
    "    0.15876468029578072,\n",
    "    0.09107468123861562,\n",
    "    0.15000000000000002,\n",
    "    0.13151602104256332,\n",
    "    0.23790322580645162,\n",
    "    0.22916666666666663,\n",
    "    0.14729950900163669,\n",
    "    0.05833333333333324,\n",
    "    0.29999999999999993,\n",
    "    0.11292962356792147\n",
    "])"
   ]
  },
  {
   "cell_type": "code",
   "execution_count": 3,
   "metadata": {},
   "outputs": [],
   "source": [
    "import numpy as np"
   ]
  },
  {
   "cell_type": "code",
   "execution_count": 33,
   "metadata": {},
   "outputs": [
    {
     "data": {
      "text/plain": [
       "0.6880952380952381"
      ]
     },
     "execution_count": 33,
     "metadata": {},
     "output_type": "execute_result"
    }
   ],
   "source": [
    "nnacc[:5].mean()"
   ]
  },
  {
   "cell_type": "code",
   "execution_count": 34,
   "metadata": {},
   "outputs": [
    {
     "data": {
      "text/plain": [
       "0.10078730884070157"
      ]
     },
     "execution_count": 34,
     "metadata": {},
     "output_type": "execute_result"
    }
   ],
   "source": [
    "ngrms[:5].mean()"
   ]
  },
  {
   "cell_type": "code",
   "execution_count": 35,
   "metadata": {},
   "outputs": [
    {
     "data": {
      "text/plain": [
       "0.1378332122876411"
      ]
     },
     "execution_count": 35,
     "metadata": {},
     "output_type": "execute_result"
    }
   ],
   "source": [
    "ngmax[:5].mean()"
   ]
  },
  {
   "cell_type": "code",
   "execution_count": 36,
   "metadata": {},
   "outputs": [
    {
     "data": {
      "text/plain": [
       "0.11182994493397533"
      ]
     },
     "execution_count": 36,
     "metadata": {},
     "output_type": "execute_result"
    }
   ],
   "source": [
    "narms[:5].mean()"
   ]
  },
  {
   "cell_type": "code",
   "execution_count": 37,
   "metadata": {},
   "outputs": [
    {
     "data": {
      "text/plain": [
       "0.15385172167668226"
      ]
     },
     "execution_count": 37,
     "metadata": {},
     "output_type": "execute_result"
    }
   ],
   "source": [
    "namax[:5].mean()"
   ]
  },
  {
   "cell_type": "markdown",
   "metadata": {},
   "source": [
    "And here are the baseline CV gap values"
   ]
  },
  {
   "cell_type": "code",
   "execution_count": 46,
   "metadata": {},
   "outputs": [],
   "source": [
    "cgrms = np.array([\n",
    "    0.12467182055088183, \n",
    "0.04688653137954779,\n",
    "0.10982658487409028, \n",
    "0.08668406714146641, \n",
    "0.022609698444608077, \n",
    "0.1485449233233704, \n",
    "0.10907291454968232, \n",
    "0.10638795567939911, \n",
    "0.017699890699629857, \n",
    "0.0705102072754589,\n",
    "])\n",
    "\n",
    "cgmax = np.array([\n",
    "    0.1501831501831501,\n",
    "    0.05023923444976086,\n",
    "    0.15296092064253175,\n",
    "    0.1208791208791209,\n",
    "    0.030303030303030387,\n",
    "    0.1866028708133971,\n",
    "    0.15000000000000002,\n",
    "    0.1499999999999999,\n",
    "    0.02285714285714291,\n",
    "    0.07793856308707792,\n",
    "])\n",
    "\n",
    "carms = np.array([\n",
    "    0.10999670374063727, \n",
    "0.1948046445527366, \n",
    "0.17509974076319232, \n",
    "0.2165599978542021, \n",
    "0.1731277233949882, \n",
    "0.12225464143383527, \n",
    "0.13334889237035719, \n",
    "0.22414529930666846, \n",
    "0.033354160160315866, \n",
    "0.072652991728215, \n",
    "])\n",
    "\n",
    "camax = np.array([\n",
    "    0.1287516311439757,\n",
    "    0.20856102003642984,\n",
    "    0.24166666666666659,\n",
    "    0.2266857962697274,\n",
    "    0.24395161290322576,\n",
    "    0.1612021857923498,\n",
    "    0.18333333333333335,\n",
    "    0.3142389525368249,\n",
    "    0.040000000000000036,\n",
    "    0.10147299509001628,\n",
    "])"
   ]
  },
  {
   "cell_type": "code",
   "execution_count": 47,
   "metadata": {},
   "outputs": [
    {
     "data": {
      "text/plain": [
       "0.0842894593918135"
      ]
     },
     "execution_count": 47,
     "metadata": {},
     "output_type": "execute_result"
    }
   ],
   "source": [
    "cgrms.mean()"
   ]
  },
  {
   "cell_type": "code",
   "execution_count": 48,
   "metadata": {},
   "outputs": [
    {
     "data": {
      "text/plain": [
       "0.10919640332152118"
      ]
     },
     "execution_count": 48,
     "metadata": {},
     "output_type": "execute_result"
    }
   ],
   "source": [
    "cgmax.mean()"
   ]
  },
  {
   "cell_type": "code",
   "execution_count": 49,
   "metadata": {},
   "outputs": [
    {
     "data": {
      "text/plain": [
       "0.14553447953051485"
      ]
     },
     "execution_count": 49,
     "metadata": {},
     "output_type": "execute_result"
    }
   ],
   "source": [
    "carms.mean()"
   ]
  },
  {
   "cell_type": "code",
   "execution_count": 50,
   "metadata": {},
   "outputs": [
    {
     "data": {
      "text/plain": [
       "0.18498641937725496"
      ]
     },
     "execution_count": 50,
     "metadata": {},
     "output_type": "execute_result"
    }
   ],
   "source": [
    "camax.mean()"
   ]
  },
  {
   "cell_type": "code",
   "execution_count": null,
   "metadata": {},
   "outputs": [],
   "source": []
  }
 ],
 "metadata": {
  "kernelspec": {
   "display_name": "py37fair",
   "language": "python",
   "name": "fair"
  },
  "language_info": {
   "codemirror_mode": {
    "name": "ipython",
    "version": 3
   },
   "file_extension": ".py",
   "mimetype": "text/x-python",
   "name": "python",
   "nbconvert_exporter": "python",
   "pygments_lexer": "ipython3",
   "version": "3.7.5"
  }
 },
 "nbformat": 4,
 "nbformat_minor": 2
}
